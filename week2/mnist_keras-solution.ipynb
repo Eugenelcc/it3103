{
  "nbformat": 4,
  "nbformat_minor": 0,
  "metadata": {
    "accelerator": "GPU",
    "colab": {
      "name": "mnist_keras.ipynb",
      "provenance": [],
      "collapsed_sections": [],
      "include_colab_link": true
    },
    "kernelspec": {
      "name": "python3",
      "display_name": "Python 3"
    },
    "language_info": {
      "name": "python"
    }
  },
  "cells": [
    {
      "cell_type": "markdown",
      "metadata": {
        "id": "view-in-github",
        "colab_type": "text"
      },
      "source": [
        "<a href=\"https://colab.research.google.com/github/nyp-sit/it3103-tutors/blob/main/week2/mnist_keras-solution.ipynb\" target=\"_parent\"><img src=\"https://colab.research.google.com/assets/colab-badge.svg\" alt=\"Open In Colab\"/></a>"
      ]
    },
    {
      "cell_type": "markdown",
      "metadata": {
        "id": "jYysdyb-CaWM"
      },
      "source": [
        "# Lab Exercise 2: Hello World Deep Learning Model"
      ]
    },
    {
      "cell_type": "markdown",
      "metadata": {
        "id": "FbVhjPpzn6BM"
      },
      "source": [
        "This guide trains a neural network model to classify images of clothing, like sneakers and shirts. It's okay if you don't understand all the details; this is a fast-paced overview of a complete TensorFlow program with the details explained as you go.\n",
        "\n",
        "This guide uses [tf.keras](https://www.tensorflow.org/guide/keras), a high-level API to build and train models in TensorFlow."
      ]
    },
    {
      "cell_type": "code",
      "metadata": {
        "id": "dzLKpmZICaWN",
        "outputId": "27651f18-9116-408b-fae4-e8362bafa26b",
        "colab": {
          "base_uri": "https://localhost:8080/"
        }
      },
      "source": [
        "# TensorFlow and tf.keras\n",
        "import tensorflow as tf\n",
        "import tensorflow_datasets as tfds\n",
        "\n",
        "# Helper libraries\n",
        "import numpy as np\n",
        "import matplotlib.pyplot as plt\n",
        "\n",
        "print(tf.__version__)"
      ],
      "execution_count": 1,
      "outputs": [
        {
          "output_type": "stream",
          "name": "stdout",
          "text": [
            "2.6.0\n"
          ]
        }
      ]
    },
    {
      "cell_type": "markdown",
      "metadata": {
        "id": "yR0EdgrLCaWR"
      },
      "source": [
        "## Import the Fashion MNIST dataset"
      ]
    },
    {
      "cell_type": "markdown",
      "metadata": {
        "id": "DLdCchMdCaWQ"
      },
      "source": [
        "This guide uses the [Fashion MNIST](https://github.com/zalandoresearch/fashion-mnist) dataset which contains 70,000 grayscale images in 10 categories. The images show individual articles of clothing at low resolution (28 by 28 pixels), as seen here:\n",
        "\n",
        "<table>\n",
        "  <tr><td>\n",
        "    <img src=\"https://tensorflow.org/images/fashion-mnist-sprite.png\"\n",
        "         alt=\"Fashion MNIST sprite\"  width=\"600\">\n",
        "  </td></tr>\n",
        "  <tr><td align=\"center\">\n",
        "    <b>Figure 1.</b> <a href=\"https://github.com/zalandoresearch/fashion-mnist\">Fashion-MNIST samples</a> (by Zalando, MIT License).<br/>&nbsp;\n",
        "  </td></tr>\n",
        "</table>\n",
        "\n",
        "\n",
        "Here, 60,000 images are used to train the network and 10,000 images to evaluate how accurately the network learned to classify images. You can access the Fashion MNIST directly from TensorFlow. Import and load the Fashion MNIST data directly from TensorFlow:"
      ]
    },
    {
      "cell_type": "code",
      "metadata": {
        "id": "7MqDQO0KCaWS",
        "outputId": "194b935f-caaf-4b72-8297-04686e2adff3",
        "colab": {
          "base_uri": "https://localhost:8080/"
        }
      },
      "source": [
        "fashion_mnist = tf.keras.datasets.fashion_mnist\n",
        "\n",
        "(train_images, train_labels), (test_images, test_labels) = fashion_mnist.load_data()"
      ],
      "execution_count": 2,
      "outputs": [
        {
          "output_type": "stream",
          "name": "stdout",
          "text": [
            "Downloading data from https://storage.googleapis.com/tensorflow/tf-keras-datasets/train-labels-idx1-ubyte.gz\n",
            "32768/29515 [=================================] - 0s 0us/step\n",
            "40960/29515 [=========================================] - 0s 0us/step\n",
            "Downloading data from https://storage.googleapis.com/tensorflow/tf-keras-datasets/train-images-idx3-ubyte.gz\n",
            "26427392/26421880 [==============================] - 0s 0us/step\n",
            "26435584/26421880 [==============================] - 0s 0us/step\n",
            "Downloading data from https://storage.googleapis.com/tensorflow/tf-keras-datasets/t10k-labels-idx1-ubyte.gz\n",
            "16384/5148 [===============================================================================================] - 0s 0us/step\n",
            "Downloading data from https://storage.googleapis.com/tensorflow/tf-keras-datasets/t10k-images-idx3-ubyte.gz\n",
            "4423680/4422102 [==============================] - 0s 0us/step\n",
            "4431872/4422102 [==============================] - 0s 0us/step\n"
          ]
        }
      ]
    },
    {
      "cell_type": "markdown",
      "metadata": {
        "id": "t9FDsUlxCaWW"
      },
      "source": [
        "Loading the dataset returns four NumPy arrays:\n",
        "\n",
        "* The `train_images` and `train_labels` arrays are the *training set*—the data the model uses to learn.\n",
        "* The model is tested against the *test set*, the `test_images`, and `test_labels` arrays.\n",
        "\n",
        "The images are 28x28 NumPy arrays, with pixel values ranging from 0 to 255. The *labels* are an array of integers, ranging from 0 to 9. These correspond to the *class* of clothing the image represents:\n",
        "\n",
        "<table>\n",
        "  <tr>\n",
        "    <th>Label</th>\n",
        "    <th>Class</th>\n",
        "  </tr>\n",
        "  <tr>\n",
        "    <td>0</td>\n",
        "    <td>T-shirt/top</td>\n",
        "  </tr>\n",
        "  <tr>\n",
        "    <td>1</td>\n",
        "    <td>Trouser</td>\n",
        "  </tr>\n",
        "    <tr>\n",
        "    <td>2</td>\n",
        "    <td>Pullover</td>\n",
        "  </tr>\n",
        "    <tr>\n",
        "    <td>3</td>\n",
        "    <td>Dress</td>\n",
        "  </tr>\n",
        "    <tr>\n",
        "    <td>4</td>\n",
        "    <td>Coat</td>\n",
        "  </tr>\n",
        "    <tr>\n",
        "    <td>5</td>\n",
        "    <td>Sandal</td>\n",
        "  </tr>\n",
        "    <tr>\n",
        "    <td>6</td>\n",
        "    <td>Shirt</td>\n",
        "  </tr>\n",
        "    <tr>\n",
        "    <td>7</td>\n",
        "    <td>Sneaker</td>\n",
        "  </tr>\n",
        "    <tr>\n",
        "    <td>8</td>\n",
        "    <td>Bag</td>\n",
        "  </tr>\n",
        "    <tr>\n",
        "    <td>9</td>\n",
        "    <td>Ankle boot</td>\n",
        "  </tr>\n",
        "</table>\n",
        "\n",
        "Each image is mapped to a single label. Since the *class names* are not included with the dataset, store them here to use later when plotting the images:"
      ]
    },
    {
      "cell_type": "code",
      "metadata": {
        "id": "IjnLH5S2CaWx"
      },
      "source": [
        "class_names = ['T-shirt/top', 'Trouser', 'Pullover', 'Dress', 'Coat',\n",
        "               'Sandal', 'Shirt', 'Sneaker', 'Bag', 'Ankle boot']"
      ],
      "execution_count": 3,
      "outputs": []
    },
    {
      "cell_type": "markdown",
      "metadata": {
        "id": "Brm0b_KACaWX"
      },
      "source": [
        "## Explore the data\n",
        "\n",
        "Let's explore the format of the dataset before training the model. The following shows there are 60,000 images in the training set, with each image represented as 28 x 28 pixels:"
      ]
    },
    {
      "cell_type": "code",
      "metadata": {
        "id": "zW5k_xz1CaWX",
        "outputId": "74d2115b-446b-47af-cfbd-783242be72bd",
        "colab": {
          "base_uri": "https://localhost:8080/"
        }
      },
      "source": [
        "train_images.shape"
      ],
      "execution_count": 4,
      "outputs": [
        {
          "output_type": "execute_result",
          "data": {
            "text/plain": [
              "(60000, 28, 28)"
            ]
          },
          "metadata": {},
          "execution_count": 4
        }
      ]
    },
    {
      "cell_type": "markdown",
      "metadata": {
        "id": "cIAcvQqMCaWf"
      },
      "source": [
        "Likewise, there are 60,000 labels in the training set:"
      ]
    },
    {
      "cell_type": "code",
      "metadata": {
        "id": "TRFYHB2mCaWb",
        "outputId": "47cc0485-d2b9-43f9-f03e-eefaea9e9f7f",
        "colab": {
          "base_uri": "https://localhost:8080/"
        }
      },
      "source": [
        "len(train_labels)"
      ],
      "execution_count": 5,
      "outputs": [
        {
          "output_type": "execute_result",
          "data": {
            "text/plain": [
              "60000"
            ]
          },
          "metadata": {},
          "execution_count": 5
        }
      ]
    },
    {
      "cell_type": "markdown",
      "metadata": {
        "id": "YSlYxFuRCaWk"
      },
      "source": [
        "Let's just print out the values of the labels for the first 20 samples. We can see that each label is an integer between 0 and 9. We can also see that the training samples are already randomly shuffled, so we don't need to shuffle them. It is always a good practice to shuffle your training data (in most cases) to enable your ML model to learn correctly."
      ]
    },
    {
      "cell_type": "code",
      "metadata": {
        "id": "XKnCTHz4CaWg",
        "outputId": "89e33112-5510-4d5e-c4f4-d12d94a26940",
        "colab": {
          "base_uri": "https://localhost:8080/"
        }
      },
      "source": [
        "train_labels[:20]"
      ],
      "execution_count": 6,
      "outputs": [
        {
          "output_type": "execute_result",
          "data": {
            "text/plain": [
              "array([9, 0, 0, 3, 0, 2, 7, 2, 5, 5, 0, 9, 5, 5, 7, 9, 1, 0, 6, 4],\n",
              "      dtype=uint8)"
            ]
          },
          "metadata": {},
          "execution_count": 6
        }
      ]
    },
    {
      "cell_type": "markdown",
      "metadata": {
        "id": "TMPI88iZpO2T"
      },
      "source": [
        "There are 10,000 images in the test set. Again, each image is represented as 28 x 28 pixels:"
      ]
    },
    {
      "cell_type": "code",
      "metadata": {
        "id": "2KFnYlcwCaWl",
        "outputId": "4f3a25d0-1eb0-4e38-9cc4-56c6493dfd65",
        "colab": {
          "base_uri": "https://localhost:8080/"
        }
      },
      "source": [
        "test_images.shape"
      ],
      "execution_count": 7,
      "outputs": [
        {
          "output_type": "execute_result",
          "data": {
            "text/plain": [
              "(10000, 28, 28)"
            ]
          },
          "metadata": {},
          "execution_count": 7
        }
      ]
    },
    {
      "cell_type": "markdown",
      "metadata": {
        "id": "rd0A0Iu0CaWq"
      },
      "source": [
        "And the test set contains 10,000 images labels:"
      ]
    },
    {
      "cell_type": "code",
      "metadata": {
        "id": "iJmPr5-ACaWn",
        "outputId": "d0165cd8-ac07-4fde-8bf2-93f898457301",
        "colab": {
          "base_uri": "https://localhost:8080/"
        }
      },
      "source": [
        "len(test_labels)"
      ],
      "execution_count": 8,
      "outputs": [
        {
          "output_type": "execute_result",
          "data": {
            "text/plain": [
              "10000"
            ]
          },
          "metadata": {},
          "execution_count": 8
        }
      ]
    },
    {
      "cell_type": "markdown",
      "metadata": {
        "id": "-EHUfRXSaSdw"
      },
      "source": [
        "we further split the training data into train and validation set"
      ]
    },
    {
      "cell_type": "code",
      "metadata": {
        "id": "AeqTRyqnaMcP",
        "outputId": "ef368761-dcda-4044-8ca8-a0ade15e41e9",
        "colab": {
          "base_uri": "https://localhost:8080/"
        }
      },
      "source": [
        "orig_train_images, orig_train_labels = train_images.copy(), train_labels.copy()\n",
        "train_images, train_labels = orig_train_images[:50000], orig_train_labels[:50000]\n",
        "val_images, val_labels = orig_train_images[50000:], orig_train_labels[50000:]\n",
        "print(len(train_images), len(val_images))"
      ],
      "execution_count": 9,
      "outputs": [
        {
          "output_type": "stream",
          "name": "stdout",
          "text": [
            "50000 10000\n"
          ]
        }
      ]
    },
    {
      "cell_type": "markdown",
      "metadata": {
        "id": "ES6uQoLKCaWr"
      },
      "source": [
        "## Preprocess the data\n",
        "\n",
        "The data must be preprocessed before training the network. If you inspect the first image in the training set, you will see that the pixel values fall in the range of 0 to 255:"
      ]
    },
    {
      "cell_type": "code",
      "metadata": {
        "id": "m4VEw8Ud9Quh",
        "outputId": "2f789557-6d9e-4e6e-a8c0-1450cfff5d46",
        "colab": {
          "base_uri": "https://localhost:8080/",
          "height": 265
        }
      },
      "source": [
        "plt.figure()\n",
        "plt.imshow(train_images[0])\n",
        "plt.colorbar()\n",
        "plt.grid(False)\n",
        "plt.show()"
      ],
      "execution_count": 10,
      "outputs": [
        {
          "output_type": "display_data",
          "data": {
            "image/png": "[encoded data removed]",
            "text/plain": [
              "<Figure size 432x288 with 2 Axes>"
            ]
          },
          "metadata": {
            "needs_background": "light"
          }
        }
      ]
    },
    {
      "cell_type": "markdown",
      "metadata": {
        "id": "Wz7l27Lz9S1P"
      },
      "source": [
        "Scale these values to a range of 0 to 1 before feeding them to the neural network model. To do so, divide the values by 255. It's important that the *training set* and the *testing set* be preprocessed in the same way:"
      ]
    },
    {
      "cell_type": "code",
      "metadata": {
        "id": "bW5WzIPlCaWv"
      },
      "source": [
        "train_images = train_images / 255.0\n",
        "\n",
        "test_images = test_images / 255.0\n",
        "\n",
        "val_images = val_images / 255.0"
      ],
      "execution_count": 11,
      "outputs": []
    },
    {
      "cell_type": "markdown",
      "metadata": {
        "id": "Ee638AlnCaWz"
      },
      "source": [
        "To verify that the data is in the correct format and that you're ready to build and train the network, let's display the first 25 images from the *training set* and display the class name below each image."
      ]
    },
    {
      "cell_type": "code",
      "metadata": {
        "id": "oZTImqg_CaW1",
        "outputId": "50f3dd57-1a7c-464a-e2f8-e4707f4534ab",
        "colab": {
          "base_uri": "https://localhost:8080/",
          "height": 589
        }
      },
      "source": [
        "plt.figure(figsize=(10,10))\n",
        "for i in range(25):\n",
        "    plt.subplot(5,5,i+1)\n",
        "    plt.xticks([])  # pass empty array will remove the xticks\n",
        "    plt.yticks([])  # pass empty array will remove the yticks\n",
        "    plt.grid(False)\n",
        "    plt.imshow(train_images[i],cmap=plt.cm.binary)\n",
        "    plt.xlabel(class_names[train_labels[i]])\n",
        "plt.show()"
      ],
      "execution_count": 12,
      "outputs": [
        {
          "output_type": "display_data",
          "data": {
            "image/png": "[encoded data removed]",
            "text/plain": [
              "<Figure size 720x720 with 25 Axes>"
            ]
          },
          "metadata": {}
        }
      ]
    },
    {
      "cell_type": "markdown",
      "metadata": {
        "id": "59veuiEZCaW4"
      },
      "source": [
        "## Build the model\n",
        "\n",
        "Building the neural network requires configuring the layers of the model, then compiling the model."
      ]
    },
    {
      "cell_type": "markdown",
      "metadata": {
        "id": "Gxg1XGm0eOBy"
      },
      "source": [
        "### Set up the layers\n",
        "\n",
        "The basic building block of a neural network is the *layer*. Layers extract representations from the data fed into them. Hopefully, these representations are meaningful for the problem at hand.\n",
        "\n",
        "Most of deep learning consists of chaining together simple layers. For our simple model, we can use the Sequential model to chain multiple layers together. \n",
        "\n",
        "Most layers, such as `tf.keras.layers.Dense`, have parameters that are learned during training.\n",
        "\n",
        "**Exercise 1**\n",
        "\n",
        "Write the code to construct a neural network that consists of the following:\n",
        "\n",
        "- The first layer in this network, `tf.keras.layers.Flatten`, transforms the format of the images from a two-dimensional array (of 28 by 28 pixels) to a one-dimensional array (of 28 * 28 = 784 pixels). Think of this layer as unstacking rows of pixels in the image and lining them up. This layer has no parameters to learn; it only reformats the data.\n",
        "\n",
        "- After the pixels are flattened, the network consists of a sequence of two `tf.keras.layers.Dense` layers. These are densely connected, or fully connected, neural layers. The first `Dense` layer has 128 nodes (or neurons). The second (and last) layer returns a logits array with length of 10. Each node contains a probability score that indicates how likely is the current image belongs to one of the 10 classes. We will use a softmax function to ensure the probability adds up to 1.0.\n",
        "\n",
        "- Use appropriate activation function for each layer\n",
        "\n",
        "Print the model summary using Keras API.\n",
        "\n",
        "<details>\n",
        "<summary>Click here for answer</summary>\n",
        "\n",
        "```\n",
        "from tensorflow.keras.layers import Flatten, Dense\n",
        "from tensorflow.keras.models import Sequential\n",
        "\n",
        "model = Sequential()\n",
        "model.add(Flatten(input_shape=(28,28)))\n",
        "model.add(Dense(128, activation='relu'))\n",
        "model.add(Dense(10, activation='softmax'))\n",
        "\n",
        "model.summary()\n",
        "```\n",
        "</details>"
      ]
    },
    {
      "cell_type": "code",
      "metadata": {
        "id": "j9SOgvjkr4OE",
        "outputId": "e86ae326-2bdc-4032-8c1d-30925961bab9",
        "colab": {
          "base_uri": "https://localhost:8080/"
        }
      },
      "source": [
        "## TODO: Complete the code below to build the model ##\n",
        "\n",
        "from tensorflow.keras.layers import Flatten, Dense\n",
        "from tensorflow.keras.models import Sequential\n",
        "\n",
        "model = Sequential()\n",
        "model.add(Flatten(input_shape=(28,28)))\n",
        "model.add(Dense(128, activation='relu'))\n",
        "model.add(Dense(10, activation='softmax'))\n",
        "\n",
        "model.summary()\n",
        "\n"
      ],
      "execution_count": 13,
      "outputs": [
        {
          "output_type": "stream",
          "name": "stdout",
          "text": [
            "Model: \"sequential\"\n",
            "_________________________________________________________________\n",
            "Layer (type)                 Output Shape              Param #   \n",
            "=================================================================\n",
            "flatten (Flatten)            (None, 784)               0         \n",
            "_________________________________________________________________\n",
            "dense (Dense)                (None, 128)               100480    \n",
            "_________________________________________________________________\n",
            "dense_1 (Dense)              (None, 10)                1290      \n",
            "=================================================================\n",
            "Total params: 101,770\n",
            "Trainable params: 101,770\n",
            "Non-trainable params: 0\n",
            "_________________________________________________________________\n"
          ]
        }
      ]
    },
    {
      "cell_type": "markdown",
      "metadata": {
        "id": "gut8A_7rCaW6"
      },
      "source": [
        "\n",
        "### Compile the model\n",
        "\n",
        "Before the model is ready for training, it needs a few more settings. These are added during the model's *compile* step:\n",
        "\n",
        "* *Loss function* —This measures how accurate the model is during training. You want to minimize this function to \"steer\" the model in the right direction.\n",
        "* *Optimizer* —This is how the model is updated based on the data it sees and its loss function. In our case, we will just use Adam. \n",
        "* *Metrics* —Used to monitor the training and testing steps. In our case, we want to monitor *accuracy*, the fraction of the images that are correctly classified. \n",
        "\n",
        "\n",
        "**Exercise 2:**\n",
        "\n",
        "Write the code to compile the model with  appropriate loss function suitable for our problem. \n",
        "\n",
        "*Hint:* You need to know how you encode your target labels.\n",
        "\n",
        "<details><summary>Click here for answer</summary>\n",
        "\n",
        "```\n",
        "model.compile(optimizer='adam', loss='sparse_categorical_crossentropy', metrics=['accuracy'])\n",
        "```\n",
        "</details>\n"
      ]
    },
    {
      "cell_type": "code",
      "metadata": {
        "id": "Lhan11blCaW7"
      },
      "source": [
        "### Write your code here to compile the model \n",
        "\n",
        "model.compile(optimizer='adam', loss='sparse_categorical_crossentropy', metrics=['accuracy'])"
      ],
      "execution_count": 14,
      "outputs": []
    },
    {
      "cell_type": "markdown",
      "metadata": {
        "id": "qKF6uW-BCaW-"
      },
      "source": [
        "## Train the model\n",
        "\n",
        "Training the neural network model requires the following steps:\n",
        "\n",
        "1. Feed the training data to the model. In this example, the training data is in the `train_images` and `train_labels` arrays.\n",
        "2. The model learns to associate images and labels.\n",
        "3. You ask the model to make predictions about a test set—in this example, the `test_images` array.\n",
        "4. Verify that the predictions match the labels from the `test_labels` array.\n"
      ]
    },
    {
      "cell_type": "markdown",
      "metadata": {
        "id": "Z4P4zIV7E28Z"
      },
      "source": [
        "### Feed the model with training data\n",
        "\n",
        "To start training,  call the `model.fit` method—so called because it \"fits\" the model to the training data. \n",
        "\n",
        "Let's also make use of the Tensorboard callback to visualize the training progress."
      ]
    },
    {
      "cell_type": "code",
      "metadata": {
        "id": "sJtHeQ-gf_hi"
      },
      "source": [
        "#define the tensorboard callback \n",
        "import os\n",
        "\n",
        "root_logdir = os.path.join(os.curdir, \"tb_logs\")\n",
        "\n",
        "def get_run_logdir():    # use a new directory for each run\n",
        "\timport time\n",
        "\trun_id = time.strftime(\"run_%Y_%m_%d-%H_%M_%S\")\n",
        "\treturn os.path.join(root_logdir, run_id)\n",
        "\n",
        "run_logdir = get_run_logdir()\n",
        "\n",
        "tb_callback = tf.keras.callbacks.TensorBoard(run_logdir)"
      ],
      "execution_count": 15,
      "outputs": []
    },
    {
      "cell_type": "code",
      "metadata": {
        "id": "xvwvpA64CaW_",
        "outputId": "3bb3c03d-1fb9-4a94-8648-6e94340f7977",
        "colab": {
          "base_uri": "https://localhost:8080/"
        }
      },
      "source": [
        "model.fit(train_images, \n",
        "                    train_labels, \n",
        "                    validation_data = (val_images, val_labels), \n",
        "                    epochs=30,\n",
        "                    callbacks=[tb_callback])"
      ],
      "execution_count": 16,
      "outputs": [
        {
          "output_type": "stream",
          "name": "stdout",
          "text": [
            "Epoch 1/30\n",
            "1563/1563 [==============================] - 8s 4ms/step - loss: 0.5142 - accuracy: 0.8201 - val_loss: 0.4240 - val_accuracy: 0.8481\n",
            "Epoch 2/30\n",
            "1563/1563 [==============================] - 5s 3ms/step - loss: 0.3856 - accuracy: 0.8615 - val_loss: 0.3895 - val_accuracy: 0.8566\n",
            "Epoch 3/30\n",
            "1563/1563 [==============================] - 5s 3ms/step - loss: 0.3452 - accuracy: 0.8735 - val_loss: 0.3600 - val_accuracy: 0.8720\n",
            "Epoch 4/30\n",
            "1563/1563 [==============================] - 5s 3ms/step - loss: 0.3198 - accuracy: 0.8829 - val_loss: 0.3572 - val_accuracy: 0.8689\n",
            "Epoch 5/30\n",
            "1563/1563 [==============================] - 5s 3ms/step - loss: 0.2998 - accuracy: 0.8901 - val_loss: 0.3580 - val_accuracy: 0.8672\n",
            "Epoch 6/30\n",
            "1563/1563 [==============================] - 5s 3ms/step - loss: 0.2863 - accuracy: 0.8946 - val_loss: 0.3412 - val_accuracy: 0.8790\n",
            "Epoch 7/30\n",
            "1563/1563 [==============================] - 5s 3ms/step - loss: 0.2719 - accuracy: 0.8992 - val_loss: 0.3277 - val_accuracy: 0.8818\n",
            "Epoch 8/30\n",
            "1563/1563 [==============================] - 5s 3ms/step - loss: 0.2589 - accuracy: 0.9046 - val_loss: 0.3277 - val_accuracy: 0.8819\n",
            "Epoch 9/30\n",
            "1563/1563 [==============================] - 5s 3ms/step - loss: 0.2496 - accuracy: 0.9080 - val_loss: 0.3325 - val_accuracy: 0.8820\n",
            "Epoch 10/30\n",
            "1563/1563 [==============================] - 6s 4ms/step - loss: 0.2407 - accuracy: 0.9104 - val_loss: 0.3163 - val_accuracy: 0.8856\n",
            "Epoch 11/30\n",
            "1563/1563 [==============================] - 5s 3ms/step - loss: 0.2312 - accuracy: 0.9151 - val_loss: 0.3340 - val_accuracy: 0.8809\n",
            "Epoch 12/30\n",
            "1563/1563 [==============================] - 5s 3ms/step - loss: 0.2248 - accuracy: 0.9163 - val_loss: 0.3139 - val_accuracy: 0.8892\n",
            "Epoch 13/30\n",
            "1563/1563 [==============================] - 5s 3ms/step - loss: 0.2164 - accuracy: 0.9197 - val_loss: 0.3401 - val_accuracy: 0.8840\n",
            "Epoch 14/30\n",
            "1563/1563 [==============================] - 5s 3ms/step - loss: 0.2102 - accuracy: 0.9230 - val_loss: 0.3315 - val_accuracy: 0.8884\n",
            "Epoch 15/30\n",
            "1563/1563 [==============================] - 5s 3ms/step - loss: 0.2060 - accuracy: 0.9220 - val_loss: 0.3188 - val_accuracy: 0.8908\n",
            "Epoch 16/30\n",
            "1563/1563 [==============================] - 5s 3ms/step - loss: 0.2000 - accuracy: 0.9260 - val_loss: 0.3234 - val_accuracy: 0.8875\n",
            "Epoch 17/30\n",
            "1563/1563 [==============================] - 5s 3ms/step - loss: 0.1936 - accuracy: 0.9276 - val_loss: 0.3536 - val_accuracy: 0.8835\n",
            "Epoch 18/30\n",
            "1563/1563 [==============================] - 5s 3ms/step - loss: 0.1892 - accuracy: 0.9288 - val_loss: 0.3551 - val_accuracy: 0.8853\n",
            "Epoch 19/30\n",
            "1563/1563 [==============================] - 5s 4ms/step - loss: 0.1838 - accuracy: 0.9309 - val_loss: 0.3448 - val_accuracy: 0.8859\n",
            "Epoch 20/30\n",
            "1563/1563 [==============================] - 5s 4ms/step - loss: 0.1778 - accuracy: 0.9333 - val_loss: 0.3398 - val_accuracy: 0.8917\n",
            "Epoch 21/30\n",
            "1563/1563 [==============================] - 5s 3ms/step - loss: 0.1718 - accuracy: 0.9359 - val_loss: 0.3343 - val_accuracy: 0.8925\n",
            "Epoch 22/30\n",
            "1563/1563 [==============================] - 5s 3ms/step - loss: 0.1709 - accuracy: 0.9366 - val_loss: 0.3627 - val_accuracy: 0.8867\n",
            "Epoch 23/30\n",
            "1563/1563 [==============================] - 5s 3ms/step - loss: 0.1664 - accuracy: 0.9379 - val_loss: 0.3764 - val_accuracy: 0.8880\n",
            "Epoch 24/30\n",
            "1563/1563 [==============================] - 5s 3ms/step - loss: 0.1602 - accuracy: 0.9399 - val_loss: 0.3600 - val_accuracy: 0.8923\n",
            "Epoch 25/30\n",
            "1563/1563 [==============================] - 5s 3ms/step - loss: 0.1580 - accuracy: 0.9412 - val_loss: 0.3652 - val_accuracy: 0.8852\n",
            "Epoch 26/30\n",
            "1563/1563 [==============================] - 5s 3ms/step - loss: 0.1534 - accuracy: 0.9411 - val_loss: 0.3677 - val_accuracy: 0.8893\n",
            "Epoch 27/30\n",
            "1563/1563 [==============================] - 5s 3ms/step - loss: 0.1500 - accuracy: 0.9435 - val_loss: 0.3809 - val_accuracy: 0.8830\n",
            "Epoch 28/30\n",
            "1563/1563 [==============================] - 5s 3ms/step - loss: 0.1472 - accuracy: 0.9449 - val_loss: 0.3551 - val_accuracy: 0.8910\n",
            "Epoch 29/30\n",
            "1563/1563 [==============================] - 5s 3ms/step - loss: 0.1425 - accuracy: 0.9465 - val_loss: 0.3861 - val_accuracy: 0.8882\n",
            "Epoch 30/30\n",
            "1563/1563 [==============================] - 5s 3ms/step - loss: 0.1396 - accuracy: 0.9482 - val_loss: 0.3724 - val_accuracy: 0.8907\n"
          ]
        },
        {
          "output_type": "execute_result",
          "data": {
            "text/plain": [
              "<keras.callbacks.History at 0x7f31f0638d50>"
            ]
          },
          "metadata": {},
          "execution_count": 16
        }
      ]
    },
    {
      "cell_type": "code",
      "metadata": {
        "id": "0dS80foscXtU"
      },
      "source": [
        "%load_ext tensorboard\n",
        "%tensorboard --logdir tb_logs"
      ],
      "execution_count": null,
      "outputs": []
    },
    {
      "cell_type": "markdown",
      "metadata": {
        "id": "W3ZVOhugCaXA"
      },
      "source": [
        "As the model trains, the loss and accuracy metrics are displayed. This model reaches an accuracy of about 0.94 (or 94%) on the training data."
      ]
    },
    {
      "cell_type": "markdown",
      "metadata": {
        "id": "c9yi-ekz07MU"
      },
      "source": [
        "**Exercise 3:** \n",
        "\n",
        "- What is the accuracy achieved by validation data? \n",
        "- Is there any overfitting?\n",
        "\n",
        "<details><summary>Click here for answer</summary>\n",
        "\n",
        "The validation accuracy should be around 0.89. Yes, there is overfitting (0.94 vs 0.89)\n"
      ]
    },
    {
      "cell_type": "markdown",
      "metadata": {
        "id": "wCpr6DGyE28h"
      },
      "source": [
        "### Evaluate accuracy on Test samples\n",
        "\n",
        "Next, compare how the model performs on the test dataset:"
      ]
    },
    {
      "cell_type": "code",
      "metadata": {
        "id": "VflXLEeECaXC",
        "outputId": "c0b47b51-c9d5-4c56-8635-186d4b4c4d0c",
        "colab": {
          "base_uri": "https://localhost:8080/"
        }
      },
      "source": [
        "test_loss, test_acc = model.evaluate(test_images,  test_labels, verbose=2)\n",
        "\n",
        "print('\\nTest accuracy:', test_acc)"
      ],
      "execution_count": 17,
      "outputs": [
        {
          "output_type": "stream",
          "name": "stdout",
          "text": [
            "313/313 - 1s - loss: 0.4127 - accuracy: 0.8803\n",
            "\n",
            "Test accuracy: 0.880299985408783\n"
          ]
        }
      ]
    },
    {
      "cell_type": "markdown",
      "metadata": {
        "id": "yWfgsmVXCaXG"
      },
      "source": [
        "It turns out that the accuracy on the test dataset (and also validation dataset) is a little less than the accuracy on the training dataset. This gap between training accuracy and test accuracy represents *overfitting*. Overfitting happens when a machine learning model performs worse on new, previously unseen inputs than it does on the training data. An overfitted model \"memorizes\" the noise and details in the training dataset to a point where it negatively impacts the performance of the model on the new data. "
      ]
    },
    {
      "cell_type": "markdown",
      "metadata": {
        "id": "v-PyD1SYE28q"
      },
      "source": [
        "### Make predictions\n",
        "\n",
        "With the model trained, you can use it to make predictions about some images.\n",
        "The model's linear outputs, [logits](https://developers.google.com/machine-learning/glossary#logits). Attach a softmax layer to convert the logits to probabilities, which are easier to interpret. "
      ]
    },
    {
      "cell_type": "code",
      "metadata": {
        "id": "Gl91RPhdCaXI"
      },
      "source": [
        "preds = model.predict(test_images)"
      ],
      "execution_count": 18,
      "outputs": []
    },
    {
      "cell_type": "markdown",
      "metadata": {
        "id": "x9Kk1voUCaXJ"
      },
      "source": [
        "Here, the model has predicted the label for each image in the testing set. Let's take a look at the first prediction:"
      ]
    },
    {
      "cell_type": "code",
      "metadata": {
        "id": "3DmJEUinCaXK",
        "outputId": "79ad0b30-69d9-4805-db5d-b7cdcdc82b4f",
        "colab": {
          "base_uri": "https://localhost:8080/"
        }
      },
      "source": [
        "print(preds[0])"
      ],
      "execution_count": 19,
      "outputs": [
        {
          "output_type": "stream",
          "name": "stdout",
          "text": [
            "[3.09375978e-16 1.06330554e-16 2.10022931e-16 8.50095871e-16\n",
            " 2.47936285e-15 2.33922060e-06 4.08296921e-12 1.46832597e-03\n",
            " 1.13791314e-13 9.98529315e-01]\n"
          ]
        }
      ]
    },
    {
      "cell_type": "markdown",
      "metadata": {
        "id": "9kzNt0GL1sAi"
      },
      "source": [
        "You will notice that the prediction is not a single label that tell you what is the clothing object. Instead you get an array of 10 numbers. They represent the model's \"confidence\" that the image corresponds to each of the 10 different articles of clothing. You can see which label has the highest confidence value.\n",
        "\n",
        "\n",
        "You can use [``np.argmax()``](https://numpy.org/doc/stable/reference/generated/numpy.argmax.html) to find the index of the probabilities with the maximum value (maximum confidence)."
      ]
    },
    {
      "cell_type": "code",
      "metadata": {
        "id": "qsqenuPnCaXO"
      },
      "source": [
        "np.argmax(preds[0])"
      ],
      "execution_count": null,
      "outputs": []
    },
    {
      "cell_type": "markdown",
      "metadata": {
        "id": "E51yS7iCCaXO"
      },
      "source": [
        "So, the model is most confident that this image is an ankle boot, or `class_names[9]`. Examining the test label shows that this classification is correct:"
      ]
    },
    {
      "cell_type": "code",
      "metadata": {
        "id": "Sd7Pgsu6CaXP",
        "outputId": "bd93ea12-1484-476d-9c67-378986ef7062",
        "colab": {
          "base_uri": "https://localhost:8080/"
        }
      },
      "source": [
        "test_labels[0]"
      ],
      "execution_count": 20,
      "outputs": [
        {
          "output_type": "execute_result",
          "data": {
            "text/plain": [
              "9"
            ]
          },
          "metadata": {},
          "execution_count": 20
        }
      ]
    },
    {
      "cell_type": "markdown",
      "metadata": {
        "id": "ygh2yYC972ne"
      },
      "source": [
        "Here we define some utility function to help us plot the full set of 10 class predictions."
      ]
    },
    {
      "cell_type": "code",
      "metadata": {
        "id": "DvYmmrpIy6Y1"
      },
      "source": [
        "def plot_image(i, predictions_array, true_label, img):\n",
        "  true_label, img = true_label[i], img[i]\n",
        "  plt.grid(False)\n",
        "  plt.xticks([])\n",
        "  plt.yticks([])\n",
        "\n",
        "  plt.imshow(img, cmap=plt.cm.binary)\n",
        "\n",
        "  predicted_label = np.argmax(predictions_array)\n",
        "  if predicted_label == true_label:\n",
        "    color = 'blue'\n",
        "  else:\n",
        "    color = 'red'\n",
        "\n",
        "  plt.xlabel(\"{} {:2.0f}% ({})\".format(class_names[predicted_label],\n",
        "                                100*np.max(predictions_array),\n",
        "                                class_names[true_label]),\n",
        "                                color=color)\n",
        "\n",
        "def plot_value_array(i, predictions_array, true_label):\n",
        "  true_label = true_label[i]\n",
        "  plt.grid(False)\n",
        "  plt.xticks(range(10))\n",
        "  plt.yticks([])\n",
        "  thisplot = plt.bar(range(10), predictions_array, color=\"#777777\")\n",
        "  plt.ylim([0, 1])\n",
        "  predicted_label = np.argmax(predictions_array)\n",
        "\n",
        "  thisplot[predicted_label].set_color('red')\n",
        "  thisplot[true_label].set_color('blue')"
      ],
      "execution_count": 21,
      "outputs": []
    },
    {
      "cell_type": "markdown",
      "metadata": {
        "id": "Zh9yABaME29S"
      },
      "source": [
        "### Verify predictions\n",
        "\n",
        "With the model trained, you can use it to make predictions about some images."
      ]
    },
    {
      "cell_type": "markdown",
      "metadata": {
        "id": "d4Ov9OFDMmOD"
      },
      "source": [
        "Let's look at the 0th image, predictions, and prediction array. Correct prediction labels are blue and incorrect prediction labels are red. The number gives the percentage (out of 100) for the predicted label."
      ]
    },
    {
      "cell_type": "code",
      "metadata": {
        "id": "HV5jw-5HwSmO",
        "outputId": "06465d08-8924-4dc0-dc24-45d4b2f7c77a",
        "colab": {
          "base_uri": "https://localhost:8080/",
          "height": 211
        }
      },
      "source": [
        "i = 0   # choose image 0\n",
        "plt.figure(figsize=(6,3))\n",
        "plt.subplot(1,2,1)\n",
        "plot_image(i, preds[i], test_labels, test_images)\n",
        "plt.subplot(1,2,2)\n",
        "plot_value_array(i, preds[i],  test_labels)\n",
        "plt.show()"
      ],
      "execution_count": 22,
      "outputs": [
        {
          "output_type": "display_data",
          "data": {
            "image/png": "[encoded data removed]",
            "text/plain": [
              "<Figure size 432x216 with 2 Axes>"
            ]
          },
          "metadata": {
            "needs_background": "light"
          }
        }
      ]
    },
    {
      "cell_type": "code",
      "metadata": {
        "id": "Ko-uzOufSCSe",
        "outputId": "c6d174a5-ca13-4a9c-9b3a-26dd5956610c",
        "colab": {
          "base_uri": "https://localhost:8080/",
          "height": 211
        }
      },
      "source": [
        "i = 12\n",
        "plt.figure(figsize=(6,3))\n",
        "plt.subplot(1,2,1)\n",
        "plot_image(i, preds[i], test_labels, test_images)\n",
        "plt.subplot(1,2,2)\n",
        "plot_value_array(i, preds[i],  test_labels)\n",
        "plt.show()"
      ],
      "execution_count": 23,
      "outputs": [
        {
          "output_type": "display_data",
          "data": {
            "image/png": "[encoded data removed]",
            "text/plain": [
              "<Figure size 432x216 with 2 Axes>"
            ]
          },
          "metadata": {
            "needs_background": "light"
          }
        }
      ]
    },
    {
      "cell_type": "markdown",
      "metadata": {
        "id": "kgdvGD52CaXR"
      },
      "source": [
        "Let's plot several images with their predictions. Note that the model can be wrong even when very confident."
      ]
    },
    {
      "cell_type": "code",
      "metadata": {
        "id": "hQlnbqaw2Qu_",
        "outputId": "8cfa7fa7-daca-4cd6-9f5f-11645e5d9279",
        "colab": {
          "base_uri": "https://localhost:8080/",
          "height": 729
        }
      },
      "source": [
        "# Plot the first X test images, their predicted labels, and the true labels.\n",
        "# Color correct predictions in blue and incorrect predictions in red.\n",
        "num_rows = 5\n",
        "num_cols = 3\n",
        "num_images = num_rows*num_cols\n",
        "plt.figure(figsize=(2*2*num_cols, 2*num_rows))\n",
        "for i in range(num_images):\n",
        "  plt.subplot(num_rows, 2*num_cols, 2*i+1)\n",
        "  plot_image(i, preds[i], test_labels, test_images)\n",
        "  plt.subplot(num_rows, 2*num_cols, 2*i+2)\n",
        "  plot_value_array(i, preds[i], test_labels)\n",
        "plt.tight_layout()\n",
        "plt.show()"
      ],
      "execution_count": 24,
      "outputs": [
        {
          "output_type": "display_data",
          "data": {
            "image/png": "[encoded data removed]",
            "text/plain": [
              "<Figure size 864x720 with 30 Axes>"
            ]
          },
          "metadata": {
            "needs_background": "light"
          }
        }
      ]
    },
    {
      "cell_type": "markdown",
      "metadata": {
        "id": "e4Sw445Z4Dxq"
      },
      "source": [
        "## Save the model \n",
        "\n",
        "We will now save our model which can be used for inference later on. In this example we will use the SavedModel format, which includes the weights and the model definition.\n",
        "\n"
      ]
    },
    {
      "cell_type": "code",
      "metadata": {
        "id": "H6dmqHRJ4M0o",
        "outputId": "547a446c-df32-4417-f351-9fd2da0ef2c9",
        "colab": {
          "base_uri": "https://localhost:8080/"
        }
      },
      "source": [
        "model.save('fmnist_model')"
      ],
      "execution_count": 25,
      "outputs": [
        {
          "output_type": "stream",
          "name": "stdout",
          "text": [
            "INFO:tensorflow:Assets written to: fmnist_model/assets\n"
          ]
        }
      ]
    },
    {
      "cell_type": "markdown",
      "metadata": {
        "id": "R32zteKHCaXT"
      },
      "source": [
        "## Using the trained model for inference\n",
        "\n",
        "We will now use our saved model to to make a prediction about a single image.\n",
        "\n",
        "We will need to first load our trained model from the SavedModel.\n"
      ]
    },
    {
      "cell_type": "code",
      "metadata": {
        "id": "yRJ7JU7JCaXT"
      },
      "source": [
        "saved_model = tf.keras.models.load_model('fmnist_model')\n"
      ],
      "execution_count": 26,
      "outputs": []
    },
    {
      "cell_type": "code",
      "metadata": {
        "id": "0d2Jgkepj1Ey",
        "outputId": "5ad036e5-875c-4e49-ae49-5211083192d2",
        "colab": {
          "base_uri": "https://localhost:8080/"
        }
      },
      "source": [
        "# Grab an image from the test dataset.\n",
        "img = test_images[1]\n",
        "\n",
        "print(img.shape)"
      ],
      "execution_count": 27,
      "outputs": [
        {
          "output_type": "stream",
          "name": "stdout",
          "text": [
            "(28, 28)\n"
          ]
        }
      ]
    },
    {
      "cell_type": "code",
      "metadata": {
        "id": "aiRrC7sOWMSe",
        "outputId": "609b59c5-4929-48d8-f203-517c34356a75",
        "colab": {
          "base_uri": "https://localhost:8080/",
          "height": 283
        }
      },
      "source": [
        "plt.imshow(img)"
      ],
      "execution_count": 28,
      "outputs": [
        {
          "output_type": "execute_result",
          "data": {
            "text/plain": [
              "<matplotlib.image.AxesImage at 0x7f3201147750>"
            ]
          },
          "metadata": {},
          "execution_count": 28
        },
        {
          "output_type": "display_data",
          "data": {
            "image/png": "[encoded data removed]",
            "text/plain": [
              "<Figure size 432x288 with 1 Axes>"
            ]
          },
          "metadata": {
            "needs_background": "light"
          }
        }
      ]
    },
    {
      "cell_type": "markdown",
      "metadata": {
        "id": "vz3bVp21CaXV"
      },
      "source": [
        "`tf.keras` models are optimized to make predictions on a *batch*, or collection, of examples at once. Accordingly, even though you're using a single image, you need to add it to a list:"
      ]
    },
    {
      "cell_type": "code",
      "metadata": {
        "id": "lDFh5yF_CaXW",
        "outputId": "4416f5fb-3910-4e45-d5d4-eea44cb66150",
        "colab": {
          "base_uri": "https://localhost:8080/"
        }
      },
      "source": [
        "# Add the image to a batch where it's the only member.\n",
        "img = (np.expand_dims(img,0))\n",
        "\n",
        "print(img.shape)"
      ],
      "execution_count": 29,
      "outputs": [
        {
          "output_type": "stream",
          "name": "stdout",
          "text": [
            "(1, 28, 28)\n"
          ]
        }
      ]
    },
    {
      "cell_type": "markdown",
      "metadata": {
        "id": "EQ5wLTkcCaXY"
      },
      "source": [
        "Now predict the correct label for this image:"
      ]
    },
    {
      "cell_type": "code",
      "metadata": {
        "id": "o_rzNSdrCaXY",
        "outputId": "a02c7f99-b215-431f-bf49-f5f409171f02",
        "colab": {
          "base_uri": "https://localhost:8080/"
        }
      },
      "source": [
        "preds_single = saved_model.predict(img)\n",
        "\n",
        "print(preds_single)"
      ],
      "execution_count": 30,
      "outputs": [
        {
          "output_type": "stream",
          "name": "stdout",
          "text": [
            "[[1.4163196e-04 4.7986298e-18 9.9905747e-01 2.2173742e-10 7.9980178e-04\n",
            "  6.0002768e-13 1.1822423e-06 1.4645772e-18 7.6038949e-12 2.2805668e-15]]\n"
          ]
        }
      ]
    },
    {
      "cell_type": "code",
      "metadata": {
        "id": "6Ai-cpLjO-3A",
        "outputId": "9aaab3fb-6ee2-4874-a0af-2d953e4d8155",
        "colab": {
          "base_uri": "https://localhost:8080/",
          "height": 300
        }
      },
      "source": [
        "plot_value_array(1, preds_single[0], test_labels)\n",
        "_ = plt.xticks(range(10), class_names, rotation=45)"
      ],
      "execution_count": 31,
      "outputs": [
        {
          "output_type": "display_data",
          "data": {
            "image/png": "[encoded data removed]",
            "text/plain": [
              "<Figure size 432x288 with 1 Axes>"
            ]
          },
          "metadata": {
            "needs_background": "light"
          }
        }
      ]
    },
    {
      "cell_type": "markdown",
      "metadata": {
        "id": "cU1Y2OAMCaXb"
      },
      "source": [
        "`tf.keras.Model.predict` returns a list of lists—one list for each image in the batch of data. Grab the predictions for our (only) image in the batch:"
      ]
    },
    {
      "cell_type": "code",
      "metadata": {
        "id": "2tRmdq_8CaXb",
        "outputId": "9d89ce8e-be4a-479d-ed8c-15d1646d3079",
        "colab": {
          "base_uri": "https://localhost:8080/"
        }
      },
      "source": [
        "np.argmax(preds_single[0])"
      ],
      "execution_count": 32,
      "outputs": [
        {
          "output_type": "execute_result",
          "data": {
            "text/plain": [
              "2"
            ]
          },
          "metadata": {},
          "execution_count": 32
        }
      ]
    },
    {
      "cell_type": "markdown",
      "metadata": {
        "id": "YFc2HbEVCaXd"
      },
      "source": [
        "And the model predicts a label as expected."
      ]
    },
    {
      "cell_type": "markdown",
      "metadata": {
        "id": "IAjFPrJfW70t"
      },
      "source": [
        "**Exercise 4:**\n",
        "\n",
        "Let's now look at the layers in your model. Increase the neurons (width) and number of layers (depth). What different results do you get for train and validation loss and accuracy, Why do you think that's the case?\n",
        "\n",
        "<details><summary>Click here for answer</summary>\n",
        "\n",
        "The following is just one possible config. Here we increase the number of neurons per layer and increases the number of hidden layers. \n",
        "\n",
        "Normally, with larger capacity, the training loss will decrease and training accuracy will generally improve. However, this does not seem to be the case. Our training loss/accuracy and validation loss/accuracy are almost  the same as before. Once possible explanation is that our we did not train the network long enough.. if we train further, our loss may further improve.. You can try that, if time permits. Or it maybe our network is not large enough.. Try to increase it further\n",
        "\n",
        "```\n",
        "model = Sequential()\n",
        "model.add(Flatten(input_shape=(28,28)))\n",
        "model.add(Dense(256, activation='relu'))\n",
        "model.add(Dense(256, activation='relu'))\n",
        "model.add(Dense(128, activation='relu'))\n",
        "model.add(Dense(128, activation='relu'))\n",
        "model.add(Dense(64, activation='relu'))\n",
        "model.add(Dense(10, activation='softmax'))\n",
        "\n",
        "model.compile(optimizer='adam', loss='sparse_categorical_crossentropy', metrics=['accuracy'])\n",
        "\n",
        "model.fit(train_images, train_labels, \n",
        "          validation_data=(val_images, val_labels),\n",
        "          epochs=30)\n",
        "```\n",
        "\n",
        "</details>\n"
      ]
    },
    {
      "cell_type": "code",
      "metadata": {
        "id": "-9VqupsBmGWy",
        "outputId": "0c6a9d42-c76d-4748-a667-0e3834eecd23",
        "colab": {
          "base_uri": "https://localhost:8080/"
        }
      },
      "source": [
        "### TODO:  Write the code to construct a new model with different width and depth and train the model. \n",
        "\n",
        "model = Sequential()\n",
        "model.add(Flatten(input_shape=(28,28)))\n",
        "model.add(Dense(256, activation='relu'))\n",
        "model.add(Dense(256, activation='relu'))\n",
        "model.add(Dense(128, activation='relu'))\n",
        "model.add(Dense(128, activation='relu'))\n",
        "model.add(Dense(64, activation='relu'))\n",
        "model.add(Dense(10, activation='softmax'))\n",
        "\n",
        "model.compile(optimizer='adam', loss='sparse_categorical_crossentropy', metrics=['accuracy'])\n",
        "\n",
        "model.fit(train_images, train_labels, \n",
        "          validation_data=(val_images, val_labels),\n",
        "          epochs=30)\n",
        "\n",
        "## Evaluate the model\n",
        "\n",
        "test_loss, test_acc = model.evaluate(test_images,  test_labels, verbose=2)\n"
      ],
      "execution_count": 33,
      "outputs": [
        {
          "output_type": "stream",
          "name": "stdout",
          "text": [
            "Epoch 1/30\n",
            "1563/1563 [==============================] - 8s 5ms/step - loss: 0.5147 - accuracy: 0.8142 - val_loss: 0.4520 - val_accuracy: 0.8370\n",
            "Epoch 2/30\n",
            "1563/1563 [==============================] - 7s 4ms/step - loss: 0.3846 - accuracy: 0.8612 - val_loss: 0.3651 - val_accuracy: 0.8680\n",
            "Epoch 3/30\n",
            "1563/1563 [==============================] - 7s 5ms/step - loss: 0.3446 - accuracy: 0.8750 - val_loss: 0.3535 - val_accuracy: 0.8713\n",
            "Epoch 4/30\n",
            "1563/1563 [==============================] - 7s 4ms/step - loss: 0.3210 - accuracy: 0.8829 - val_loss: 0.3714 - val_accuracy: 0.8691\n",
            "Epoch 5/30\n",
            "1563/1563 [==============================] - 6s 4ms/step - loss: 0.3032 - accuracy: 0.8888 - val_loss: 0.3306 - val_accuracy: 0.8827\n",
            "Epoch 6/30\n",
            "1563/1563 [==============================] - 6s 4ms/step - loss: 0.2901 - accuracy: 0.8924 - val_loss: 0.3528 - val_accuracy: 0.8715\n",
            "Epoch 7/30\n",
            "1563/1563 [==============================] - 6s 4ms/step - loss: 0.2755 - accuracy: 0.8973 - val_loss: 0.3253 - val_accuracy: 0.8868\n",
            "Epoch 8/30\n",
            "1563/1563 [==============================] - 7s 5ms/step - loss: 0.2621 - accuracy: 0.9021 - val_loss: 0.3319 - val_accuracy: 0.8823\n",
            "Epoch 9/30\n",
            "1563/1563 [==============================] - 6s 4ms/step - loss: 0.2535 - accuracy: 0.9046 - val_loss: 0.3298 - val_accuracy: 0.8861\n",
            "Epoch 10/30\n",
            "1563/1563 [==============================] - 7s 4ms/step - loss: 0.2433 - accuracy: 0.9087 - val_loss: 0.3268 - val_accuracy: 0.8883\n",
            "Epoch 11/30\n",
            "1563/1563 [==============================] - 7s 5ms/step - loss: 0.2341 - accuracy: 0.9123 - val_loss: 0.3066 - val_accuracy: 0.8922\n",
            "Epoch 12/30\n",
            "1563/1563 [==============================] - 7s 5ms/step - loss: 0.2260 - accuracy: 0.9155 - val_loss: 0.3368 - val_accuracy: 0.8807\n",
            "Epoch 13/30\n",
            "1563/1563 [==============================] - 7s 5ms/step - loss: 0.2215 - accuracy: 0.9160 - val_loss: 0.3362 - val_accuracy: 0.8874\n",
            "Epoch 14/30\n",
            "1563/1563 [==============================] - 6s 4ms/step - loss: 0.2116 - accuracy: 0.9194 - val_loss: 0.3273 - val_accuracy: 0.8907\n",
            "Epoch 15/30\n",
            "1563/1563 [==============================] - 6s 4ms/step - loss: 0.2086 - accuracy: 0.9207 - val_loss: 0.3659 - val_accuracy: 0.8861\n",
            "Epoch 16/30\n",
            "1563/1563 [==============================] - 6s 4ms/step - loss: 0.2004 - accuracy: 0.9246 - val_loss: 0.3495 - val_accuracy: 0.8882\n",
            "Epoch 17/30\n",
            "1563/1563 [==============================] - 6s 4ms/step - loss: 0.1954 - accuracy: 0.9260 - val_loss: 0.3447 - val_accuracy: 0.8911\n",
            "Epoch 18/30\n",
            "1563/1563 [==============================] - 7s 5ms/step - loss: 0.1921 - accuracy: 0.9277 - val_loss: 0.3961 - val_accuracy: 0.8773\n",
            "Epoch 19/30\n",
            "1563/1563 [==============================] - 7s 4ms/step - loss: 0.1870 - accuracy: 0.9293 - val_loss: 0.3648 - val_accuracy: 0.8892\n",
            "Epoch 20/30\n",
            "1563/1563 [==============================] - 7s 5ms/step - loss: 0.1763 - accuracy: 0.9339 - val_loss: 0.3751 - val_accuracy: 0.8875\n",
            "Epoch 21/30\n",
            "1563/1563 [==============================] - 7s 5ms/step - loss: 0.1763 - accuracy: 0.9330 - val_loss: 0.3659 - val_accuracy: 0.8896\n",
            "Epoch 22/30\n",
            "1563/1563 [==============================] - 7s 4ms/step - loss: 0.1667 - accuracy: 0.9365 - val_loss: 0.3864 - val_accuracy: 0.8912\n",
            "Epoch 23/30\n",
            "1563/1563 [==============================] - 7s 4ms/step - loss: 0.1672 - accuracy: 0.9370 - val_loss: 0.3796 - val_accuracy: 0.8871\n",
            "Epoch 24/30\n",
            "1563/1563 [==============================] - 7s 4ms/step - loss: 0.1604 - accuracy: 0.9389 - val_loss: 0.3911 - val_accuracy: 0.8889\n",
            "Epoch 25/30\n",
            "1563/1563 [==============================] - 7s 5ms/step - loss: 0.1576 - accuracy: 0.9406 - val_loss: 0.3991 - val_accuracy: 0.8925\n",
            "Epoch 26/30\n",
            "1563/1563 [==============================] - 7s 4ms/step - loss: 0.1568 - accuracy: 0.9411 - val_loss: 0.4096 - val_accuracy: 0.8865\n",
            "Epoch 27/30\n",
            "1563/1563 [==============================] - 7s 5ms/step - loss: 0.1537 - accuracy: 0.9417 - val_loss: 0.4562 - val_accuracy: 0.8849\n",
            "Epoch 28/30\n",
            "1563/1563 [==============================] - 6s 4ms/step - loss: 0.1481 - accuracy: 0.9432 - val_loss: 0.4042 - val_accuracy: 0.8945\n",
            "Epoch 29/30\n",
            "1563/1563 [==============================] - 6s 4ms/step - loss: 0.1474 - accuracy: 0.9434 - val_loss: 0.4762 - val_accuracy: 0.8896\n",
            "Epoch 30/30\n",
            "1563/1563 [==============================] - 7s 5ms/step - loss: 0.1460 - accuracy: 0.9453 - val_loss: 0.4224 - val_accuracy: 0.8887\n",
            "313/313 - 1s - loss: 0.4766 - accuracy: 0.8890\n"
          ]
        }
      ]
    },
    {
      "cell_type": "markdown",
      "metadata": {
        "id": "PLTcfuE0pBrT"
      },
      "source": [
        "**Exercise 5**\n",
        "\n",
        "Add in Dropout layer after each Dense layer and retrain the network. Observe what happens. \n",
        "\n",
        "<details><summary>Click here for answer</summary>\n",
        "\n",
        "The following is just one possible config. With Dropout, we can see that our validation and training loss/accuracy are tracking each other more closely: 0.88 vs 0.88. In other words, we have reduced the overfitting.  You can try to train further to see if both training and validation accuracy continue to improve in tandem.\n",
        "\n",
        "```\n",
        "from tensorflow.keras.layers import Dropout \n",
        "\n",
        "model = Sequential()\n",
        "model.add(Flatten(input_shape=(28,28)))\n",
        "model.add(Dense(256, activation='relu'))\n",
        "model.add(Dropout(0.3))\n",
        "model.add(Dense(256, activation='relu'))\n",
        "model.add(Dropout(0.3))\n",
        "model.add(Dense(128, activation='relu'))\n",
        "model.add(Dropout(0.3))\n",
        "model.add(Dense(128, activation='relu'))\n",
        "model.add(Dropout(0.3))\n",
        "model.add(Dense(64, activation='relu'))\n",
        "model.add(Dropout(0.3))\n",
        "model.add(Dense(10, activation='softmax'))\n",
        "\n",
        "model.compile(optimizer='adam', loss='sparse_categorical_crossentropy', metrics=['accuracy'])\n",
        "\n",
        "model.fit(train_images, train_labels, \n",
        "          validation_data=(val_images, val_labels),\n",
        "          epochs=30)\n",
        "```\n"
      ]
    },
    {
      "cell_type": "code",
      "metadata": {
        "id": "5uRpQmHKtzhC",
        "outputId": "940333cc-5a3b-47cb-9217-0ef8184ffd33",
        "colab": {
          "base_uri": "https://localhost:8080/"
        }
      },
      "source": [
        "## Define and train the model with additional Dropout layer after each Dense Layer\n",
        "from tensorflow.keras.layers import Dropout \n",
        "\n",
        "model = Sequential()\n",
        "model.add(Flatten(input_shape=(28,28)))\n",
        "model.add(Dense(256, activation='relu'))\n",
        "model.add(Dropout(0.3))\n",
        "model.add(Dense(256, activation='relu'))\n",
        "model.add(Dropout(0.3))\n",
        "model.add(Dense(128, activation='relu'))\n",
        "model.add(Dropout(0.3))\n",
        "model.add(Dense(128, activation='relu'))\n",
        "model.add(Dropout(0.3))\n",
        "model.add(Dense(64, activation='relu'))\n",
        "model.add(Dropout(0.3))\n",
        "model.add(Dense(10, activation='softmax'))\n",
        "\n",
        "model.compile(optimizer='adam', loss='sparse_categorical_crossentropy', metrics=['accuracy'])\n",
        "\n",
        "model.fit(train_images, train_labels, \n",
        "          validation_data=(val_images, val_labels),\n",
        "          epochs=30)"
      ],
      "execution_count": 34,
      "outputs": [
        {
          "output_type": "stream",
          "name": "stdout",
          "text": [
            "Epoch 1/30\n",
            "1563/1563 [==============================] - 8s 5ms/step - loss: 0.7952 - accuracy: 0.7112 - val_loss: 0.5343 - val_accuracy: 0.8010\n",
            "Epoch 2/30\n",
            "1563/1563 [==============================] - 7s 5ms/step - loss: 0.5406 - accuracy: 0.8148 - val_loss: 0.4273 - val_accuracy: 0.8445\n",
            "Epoch 3/30\n",
            "1563/1563 [==============================] - 7s 5ms/step - loss: 0.4899 - accuracy: 0.8330 - val_loss: 0.4291 - val_accuracy: 0.8555\n",
            "Epoch 4/30\n",
            "1563/1563 [==============================] - 7s 5ms/step - loss: 0.4662 - accuracy: 0.8382 - val_loss: 0.4198 - val_accuracy: 0.8503\n",
            "Epoch 5/30\n",
            "1563/1563 [==============================] - 8s 5ms/step - loss: 0.4464 - accuracy: 0.8464 - val_loss: 0.3984 - val_accuracy: 0.8633\n",
            "Epoch 6/30\n",
            "1563/1563 [==============================] - 7s 5ms/step - loss: 0.4342 - accuracy: 0.8492 - val_loss: 0.3835 - val_accuracy: 0.8625\n",
            "Epoch 7/30\n",
            "1563/1563 [==============================] - 7s 5ms/step - loss: 0.4200 - accuracy: 0.8562 - val_loss: 0.3849 - val_accuracy: 0.8638\n",
            "Epoch 8/30\n",
            "1563/1563 [==============================] - 7s 5ms/step - loss: 0.4131 - accuracy: 0.8560 - val_loss: 0.3683 - val_accuracy: 0.8707\n",
            "Epoch 9/30\n",
            "1563/1563 [==============================] - 8s 5ms/step - loss: 0.4027 - accuracy: 0.8586 - val_loss: 0.3645 - val_accuracy: 0.8655\n",
            "Epoch 10/30\n",
            "1563/1563 [==============================] - 7s 5ms/step - loss: 0.3929 - accuracy: 0.8634 - val_loss: 0.3724 - val_accuracy: 0.8686\n",
            "Epoch 11/30\n",
            "1563/1563 [==============================] - 7s 4ms/step - loss: 0.3880 - accuracy: 0.8650 - val_loss: 0.3534 - val_accuracy: 0.8741\n",
            "Epoch 12/30\n",
            "1563/1563 [==============================] - 8s 5ms/step - loss: 0.3837 - accuracy: 0.8664 - val_loss: 0.3684 - val_accuracy: 0.8716\n",
            "Epoch 13/30\n",
            "1563/1563 [==============================] - 7s 4ms/step - loss: 0.3831 - accuracy: 0.8672 - val_loss: 0.3523 - val_accuracy: 0.8713\n",
            "Epoch 14/30\n",
            "1563/1563 [==============================] - 8s 5ms/step - loss: 0.3762 - accuracy: 0.8686 - val_loss: 0.3722 - val_accuracy: 0.8745\n",
            "Epoch 15/30\n",
            "1563/1563 [==============================] - 7s 4ms/step - loss: 0.3730 - accuracy: 0.8703 - val_loss: 0.3574 - val_accuracy: 0.8759\n",
            "Epoch 16/30\n",
            "1563/1563 [==============================] - 8s 5ms/step - loss: 0.3676 - accuracy: 0.8722 - val_loss: 0.3512 - val_accuracy: 0.8760\n",
            "Epoch 17/30\n",
            "1563/1563 [==============================] - 7s 5ms/step - loss: 0.3639 - accuracy: 0.8721 - val_loss: 0.3487 - val_accuracy: 0.8806\n",
            "Epoch 18/30\n",
            "1563/1563 [==============================] - 8s 5ms/step - loss: 0.3613 - accuracy: 0.8739 - val_loss: 0.3518 - val_accuracy: 0.8787\n",
            "Epoch 19/30\n",
            "1563/1563 [==============================] - 8s 5ms/step - loss: 0.3552 - accuracy: 0.8742 - val_loss: 0.3516 - val_accuracy: 0.8769\n",
            "Epoch 20/30\n",
            "1563/1563 [==============================] - 8s 5ms/step - loss: 0.3561 - accuracy: 0.8767 - val_loss: 0.3464 - val_accuracy: 0.8775\n",
            "Epoch 21/30\n",
            "1563/1563 [==============================] - 8s 5ms/step - loss: 0.3530 - accuracy: 0.8759 - val_loss: 0.3625 - val_accuracy: 0.8734\n",
            "Epoch 22/30\n",
            "1563/1563 [==============================] - 7s 5ms/step - loss: 0.3496 - accuracy: 0.8773 - val_loss: 0.3587 - val_accuracy: 0.8772\n",
            "Epoch 23/30\n",
            "1563/1563 [==============================] - 7s 5ms/step - loss: 0.3442 - accuracy: 0.8817 - val_loss: 0.3396 - val_accuracy: 0.8843\n",
            "Epoch 24/30\n",
            "1563/1563 [==============================] - 8s 5ms/step - loss: 0.3426 - accuracy: 0.8811 - val_loss: 0.3682 - val_accuracy: 0.8757\n",
            "Epoch 25/30\n",
            "1563/1563 [==============================] - 7s 5ms/step - loss: 0.3428 - accuracy: 0.8819 - val_loss: 0.3510 - val_accuracy: 0.8737\n",
            "Epoch 26/30\n",
            "1563/1563 [==============================] - 7s 5ms/step - loss: 0.3454 - accuracy: 0.8804 - val_loss: 0.3472 - val_accuracy: 0.8789\n",
            "Epoch 27/30\n",
            "1563/1563 [==============================] - 7s 5ms/step - loss: 0.3381 - accuracy: 0.8815 - val_loss: 0.3490 - val_accuracy: 0.8761\n",
            "Epoch 28/30\n",
            "1563/1563 [==============================] - 7s 5ms/step - loss: 0.3403 - accuracy: 0.8815 - val_loss: 0.3373 - val_accuracy: 0.8769\n",
            "Epoch 29/30\n",
            "1563/1563 [==============================] - 7s 5ms/step - loss: 0.3329 - accuracy: 0.8829 - val_loss: 0.3365 - val_accuracy: 0.8848\n",
            "Epoch 30/30\n",
            "1563/1563 [==============================] - 7s 5ms/step - loss: 0.3347 - accuracy: 0.8830 - val_loss: 0.3516 - val_accuracy: 0.8827\n"
          ]
        },
        {
          "output_type": "execute_result",
          "data": {
            "text/plain": [
              "<keras.callbacks.History at 0x7f31878a8850>"
            ]
          },
          "metadata": {},
          "execution_count": 34
        }
      ]
    },
    {
      "cell_type": "markdown",
      "metadata": {
        "id": "QfTbNYUJXrN5"
      },
      "source": [
        "**Exercise 6:**\n",
        "\n",
        "Modify the code to stop training early when there is no more improvement (for 5 epochs) in the validation accuracy, and restore the weights to the best model.\n",
        "\n",
        "See the documentation on [EarlyStopping callback](https://www.tensorflow.org/api_docs/python/tf/keras/callbacks/EarlyStopping) \n",
        "\n",
        "\n",
        "<details><summary>Click her for answer</summary>\n",
        "\n",
        "```\n",
        "earlystop_callback = tf.keras.callbacks.EarlyStopping(\n",
        "    monitor='val_accuracy', patience=5, verbose=0,\n",
        "    mode='auto', restore_best_weights=True\n",
        ")\n",
        "\n",
        "model = Sequential()\n",
        "model.add(Flatten(input_shape=(28,28)))\n",
        "model.add(Dense(128, activation='relu'))\n",
        "model.add(Dense(10, activation='softmax'))\n",
        "\n",
        "model.compile(optimizer='adam', \n",
        "              loss='sparse_categorical_crossentropy', \n",
        "              metrics=['accuracy'])\n",
        "\n",
        "model.fit(train_images, train_labels, \n",
        "          validation_data=(val_images, val_labels),\n",
        "          epochs=30,\n",
        "          callbacks=[earlystop_callback])\n",
        "```\n",
        "</details>"
      ]
    },
    {
      "cell_type": "code",
      "metadata": {
        "id": "cdFdQ9FDXsK1"
      },
      "source": [
        "### TODO: Write the code here to implement early stopping ### \n",
        "\n",
        "earlystop_callback = tf.keras.callbacks.EarlyStopping(\n",
        "    monitor='val_accuracy', patience=5, verbose=0,\n",
        "    mode='auto', restore_best_weights=True\n",
        ")\n",
        "\n",
        "model = Sequential()\n",
        "model.add(Flatten(input_shape=(28,28)))\n",
        "model.add(Dense(128, activation='relu'))\n",
        "model.add(Dense(10, activation='softmax'))\n",
        "\n",
        "model.compile(optimizer='adam', \n",
        "              loss='sparse_categorical_crossentropy', \n",
        "              metrics=['accuracy'])\n",
        "\n",
        "model.fit(train_images, train_labels, \n",
        "          validation_data=(val_images, val_labels),\n",
        "          epochs=30,\n",
        "          callbacks=[earlystop_callback])"
      ],
      "execution_count": null,
      "outputs": []
    }
  ]
}