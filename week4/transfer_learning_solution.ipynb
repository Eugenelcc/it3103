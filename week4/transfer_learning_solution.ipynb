{
  "nbformat": 4,
  "nbformat_minor": 0,
  "metadata": {
    "kernelspec": {
      "display_name": "Python 3",
      "language": "python",
      "name": "python3"
    },
    "language_info": {
      "codemirror_mode": {
        "name": "ipython",
        "version": 3
      },
      "file_extension": ".py",
      "mimetype": "text/x-python",
      "name": "python",
      "nbconvert_exporter": "python",
      "pygments_lexer": "ipython3",
      "version": "3.7.6"
    },
    "colab": {
      "name": "transfer_learning.ipynb",
      "provenance": [],
      "toc_visible": true,
      "include_colab_link": true
    },
    "accelerator": "GPU"
  },
  "cells": [
    {
      "cell_type": "markdown",
      "metadata": {
        "id": "view-in-github",
        "colab_type": "text"
      },
      "source": [
        "<a href=\"https://colab.research.google.com/github/nyp-sit/it3103/blob/main/week4/transfer_learning_solution.ipynb\" target=\"_parent\"><img src=\"https://colab.research.google.com/assets/colab-badge.svg\" alt=\"Open In Colab\"/></a>"
      ]
    },
    {
      "cell_type": "markdown",
      "metadata": {
        "id": "k2oSQ958QQhb"
      },
      "source": [
        "# Lab Exercise: Transfer Learning\n",
        "\n",
        "\n",
        "A common and highly effective approach to deep learning on small image datasets is to leverage a pre-trained network. A pre-trained network \n",
        "is simply a saved network previously trained on a large dataset, typically on a large-scale image classification task. If this original \n",
        "dataset is large enough and general enough, then the spatial feature hierarchy learned by the pre-trained network can effectively act as a \n",
        "generic model of our visual world, and hence its features can prove useful for many different computer vision problems, even though these \n",
        "new problems might involve completely different classes from those of the original task. For instance, one might train a network on \n",
        "ImageNet (where classes are mostly animals and everyday objects) and then re-purpose this trained network for something as remote as \n",
        "identifying furniture items in images. Such portability of learned features across different problems is a key advantage of deep learning \n",
        "compared to many older shallow learning approaches, and it makes deep learning very effective for small-data problems.\n",
        "\n",
        "In our case, we will consider a large convnet trained on the ImageNet dataset (1.4 million labeled images and 1000 different classes). \n",
        "ImageNet contains many animal classes, including different species of cats and dogs, and we can thus expect to perform very well on our cat \n",
        "vs. dog classification problem.\n",
        "\n",
        "We will use the VGG16 architecture. Although it is a bit of an older model, far from the current state of the art and somewhat heavier than many other recent \n",
        "models, we chose it because its architecture is similar to what you are already familiar with, and easy to understand without introducing \n",
        "any new concepts. \n",
        "\n",
        "There are two ways to leverage a pre-trained network: *feature extraction* and *fine-tuning*. We will cover both of them. Let's start with \n",
        "feature extraction."
      ]
    },
    {
      "cell_type": "markdown",
      "metadata": {
        "id": "QpiN3OQFQQhc"
      },
      "source": [
        "## Feature extraction\n",
        "\n",
        "Feature extraction consists of using the representations learned by a previous network to extract interesting features from new samples. \n",
        "These features are then run through a new classifier, which is trained from scratch.\n",
        "\n",
        "As we saw previously, convnets used for image classification comprise two parts: they start with a series of pooling and convolution \n",
        "layers, and they end with a densely-connected classifier. The first part is called the \"convolutional base\" of the model. In the case of \n",
        "convnets, \"feature extraction\" will simply consist of taking the convolutional base of a previously-trained network, running the new data \n",
        "through it, and training a new classifier on top of the output.\n",
        "\n",
        "![swapping FC classifiers](https://nyp-aicourse.s3-ap-southeast-1.amazonaws.com/resources/it3103/swapping_fc_classifier.png)\n",
        "\n",
        "Why only reuse the convolutional base? Could we reuse the densely-connected classifier as well? In general, it should be avoided. The \n",
        "reason is simply that the representations learned by the convolutional base are likely to be more generic and therefore more reusable: the \n",
        "feature maps of a convnet are presence maps of generic concepts over a picture, which is likely to be useful regardless of the computer \n",
        "vision problem at hand. On the other end, the representations learned by the classifier will necessarily be very specific to the set of \n",
        "classes that the model was trained on -- they will only contain information about the presence probability of this or that class in the \n",
        "entire picture. Additionally, representations found in densely-connected layers no longer contain any information about _where_ objects are \n",
        "located in the input image: these layers get rid of the notion of space, whereas the object location is still described by convolutional \n",
        "feature maps. For problems where object location matters, densely-connected features would be largely useless.\n",
        "\n",
        "Note that the level of generality (and therefore reusability) of the representations extracted by specific convolution layers depends on \n",
        "the depth of the layer in the model. Layers that come earlier in the model extract local, highly generic feature maps (such as visual \n",
        "edges, colors, and textures), while layers higher-up extract more abstract concepts (such as \"cat ear\" or \"dog eye\"). So if your new \n",
        "dataset differs a lot from the dataset that the original model was trained on, you may be better off using only the first few layers of the \n",
        "model to do feature extraction, rather than using the entire convolutional base.\n",
        "\n",
        "In our case, since the ImageNet class set did contain multiple dog and cat classes, it is likely that it would be beneficial to reuse the \n",
        "information contained in the densely-connected layers of the original model. However, we will chose not to, in order to cover the more \n",
        "general case where the class set of the new problem does not overlap with the class set of the original model."
      ]
    },
    {
      "cell_type": "markdown",
      "metadata": {
        "id": "pmWCyvfgQQhd"
      },
      "source": [
        "Let's put this in practice by using the convolutional base of the VGG16 network, trained on ImageNet, to extract interesting features from \n",
        "our cat and dog images, and then training a cat vs. dog classifier on top of these features.\n",
        "\n",
        "The VGG16 model, among others, comes pre-packaged with Keras. You can import it from the `keras.applications` module. Here's the list of \n",
        "image classification models (all pre-trained on the ImageNet dataset) that are available as part of `keras.applications`:\n",
        "\n",
        "* Xception\n",
        "* InceptionV3\n",
        "* ResNet50\n",
        "* VGG16\n",
        "* VGG19\n",
        "* MobileNet\n",
        "\n",
        "Let's instantiate a pretrained VGG16 model to use as our convolutional base. "
      ]
    },
    {
      "cell_type": "code",
      "metadata": {
        "jupyter": {
          "outputs_hidden": true
        },
        "id": "TthMIdL2QQhd",
        "outputId": "2e4f5f85-8069-47ac-9e44-b173ac468c14",
        "colab": {
          "base_uri": "https://localhost:8080/"
        }
      },
      "source": [
        "import tensorflow as tf\n",
        "from tensorflow.keras.applications import VGG16\n",
        "from tensorflow.keras.applications import vgg16\n",
        "\n",
        "conv_base = VGG16(weights='imagenet',\n",
        "                  include_top=False,\n",
        "                  input_shape=(150, 150, 3))\n",
        "\n",
        "preprocess_input_fn = vgg16.preprocess_input"
      ],
      "execution_count": 3,
      "outputs": [
        {
          "output_type": "stream",
          "text": [
            "Downloading data from https://storage.googleapis.com/tensorflow/keras-applications/vgg16/vgg16_weights_tf_dim_ordering_tf_kernels_notop.h5\n",
            "58892288/58889256 [==============================] - 0s 0us/step\n"
          ],
          "name": "stdout"
        }
      ]
    },
    {
      "cell_type": "markdown",
      "metadata": {
        "id": "mwio7gksQQhe"
      },
      "source": [
        "We passed three arguments to the constructor:\n",
        "\n",
        "* `weights`, to specify which weight checkpoint to initialize the model from\n",
        "* `include_top`, which refers to including or not the densely-connected classifier on top of the network. By default, this \n",
        "densely-connected classifier would correspond to the 1000 classes from ImageNet. Since we intend to use our own densely-connected \n",
        "classifier (with only two classes, cat and dog), we don't need to include it.\n",
        "* `input_shape`, the shape of the image tensors that we will feed to the network. This argument is purely optional: if we don't pass it, \n",
        "then the network will be able to process inputs of any size.\n",
        "\n",
        "Here's the detail of the architecture of the VGG16 convolutional base: it's very similar to the simple convnets that you are already \n",
        "familiar with."
      ]
    },
    {
      "cell_type": "code",
      "metadata": {
        "id": "v4xuc2NHQQhe"
      },
      "source": [
        "conv_base.summary()"
      ],
      "execution_count": null,
      "outputs": []
    },
    {
      "cell_type": "markdown",
      "metadata": {
        "id": "I1267BR9vIr-"
      },
      "source": [
        "Each pretrained model has model-specific pre-processing function to pre-process images (e.g. change the color channel orders, scale/normalize the pixel values),  before going through the convnet for prediction. So it is important that we use this model-specific pre-processing function to pre-process images before using the convnet for feature extraction. \n",
        "\n",
        "Here we retrieve the preprocess_input function for VGG16 to be used later."
      ]
    },
    {
      "cell_type": "code",
      "metadata": {
        "id": "-q3v56Y9mn9N"
      },
      "source": [
        "from tensorflow.keras.applications import vgg16\n",
        "preprocess_input_fn = vgg16.preprocess_input"
      ],
      "execution_count": null,
      "outputs": []
    },
    {
      "cell_type": "markdown",
      "metadata": {
        "id": "ibLJ0-zQQQhe"
      },
      "source": [
        "The final feature map has shape `(4, 4, 512)`. This is the output we will use to feed to a Dense network for classification. \n",
        "\n",
        "Here is what we need to do:\n",
        "* Running the convolutional base over our dataset, recording its output to a Numpy array \n",
        "* Save the numpy array (which is our features) to disk.\n",
        "* Feed the numpy array to a \n",
        "standalone densely-connected classifier. \n",
        "\n",
        "This solution is very fast and \n",
        "cheap to run, because it only requires running the convolutional base once for every input image, and the convolutional base is by far the \n",
        "most expensive part of the pipeline. \n",
        "\n",
        "We will start by simply running instances of the previously-introduced `ImageDataGenerator` to extract images as Numpy arrays as well as \n",
        "their labels. We will extract features from these images simply by calling the `predict` method of the `conv_base` model.\n",
        "\n",
        "**Note** \n",
        "\n",
        "It is important that we don't scale the images ourselves (e.g. by using the ``ImageDataGenerator(rescale=1./255)``), but instead use the model-specific preprocess-input function."
      ]
    },
    {
      "cell_type": "code",
      "metadata": {
        "id": "A0GwfzmiQkX5",
        "outputId": "b92043e9-d0c9-411c-c025-6afeebd335b6",
        "colab": {
          "base_uri": "https://localhost:8080/"
        }
      },
      "source": [
        "import os\n",
        "\n",
        "dataset_URL = 'https://nyp-aicourse.s3-ap-southeast-1.amazonaws.com/datasets/cats_and_dogs_filtered.zip'\n",
        "path_to_zip = tf.keras.utils.get_file('cats_and_dogs.zip', origin=dataset_URL, extract=True, cache_dir='.')\n",
        "print(path_to_zip)\n",
        "base_dir = os.path.join(os.path.dirname(path_to_zip), 'cats_and_dogs_filtered')\n",
        "\n"
      ],
      "execution_count": 4,
      "outputs": [
        {
          "output_type": "stream",
          "text": [
            "Downloading data from https://nyp-aicourse.s3-ap-southeast-1.amazonaws.com/datasets/cats_and_dogs_filtered.zip\n",
            "68608000/68606236 [==============================] - 7s 0us/step\n",
            "./datasets/cats_and_dogs.zip\n"
          ],
          "name": "stdout"
        }
      ]
    },
    {
      "cell_type": "code",
      "metadata": {
        "id": "dH5YiSSRQQhf"
      },
      "source": [
        "import os\n",
        "import numpy as np\n",
        "from tensorflow.keras.preprocessing.image import ImageDataGenerator\n",
        "\n",
        "train_dir = os.path.join(base_dir, 'train')\n",
        "validation_dir = os.path.join(base_dir, 'validation')\n",
        "\n",
        "datagen = ImageDataGenerator()\n",
        "batch_size = 20\n",
        "\n",
        "def extract_features(preprocess_input_fn, directory, sample_count):\n",
        "    features = np.zeros(shape=(sample_count, 4, 4, 512))\n",
        "    labels = np.zeros(shape=(sample_count))\n",
        "    generator = datagen.flow_from_directory(\n",
        "        directory,\n",
        "        target_size=(150, 150),\n",
        "        batch_size=batch_size,\n",
        "        class_mode='binary')\n",
        "    i = 0\n",
        "    for inputs_batch, labels_batch in generator:\n",
        "        preprocessed_inputs_bath = preprocess_input_fn(inputs_batch)\n",
        "        features_batch = conv_base.predict(preprocessed_inputs_bath)\n",
        "        features[i * batch_size : (i + 1) * batch_size] = features_batch\n",
        "        labels[i * batch_size : (i + 1) * batch_size] = labels_batch\n",
        "        i += 1\n",
        "        if i * batch_size >= sample_count:\n",
        "            # Note that since generators yield data indefinitely in a loop,\n",
        "            # we must `break` after every image has been seen once.\n",
        "            break\n",
        "    return features, labels\n",
        "\n",
        "# We will use the preprocess_input_fn() to pre-process images in the extract_features()\n",
        "train_features, train_labels = extract_features(preprocess_fn, train_dir, 2000)\n",
        "validation_features, validation_labels = extract_features(preprocess_fn, validation_dir, 1000)"
      ],
      "execution_count": null,
      "outputs": []
    },
    {
      "cell_type": "markdown",
      "metadata": {
        "id": "xIEVggfKQQhg"
      },
      "source": [
        "The extracted features are currently of shape `(samples, 4, 4, 512)`. We will save these numpy arrays to disks."
      ]
    },
    {
      "cell_type": "code",
      "metadata": {
        "collapsed": true,
        "jupyter": {
          "outputs_hidden": true
        },
        "id": "PhMhGdjMQQhg"
      },
      "source": [
        "np.save(\"train_features.npy\", train_features)\n",
        "np.save(\"train_labels.npy\", train_labels)\n",
        "np.save(\"validation_features.npy\", validation_features)\n",
        "np.save(\"validation_labels.npy\", validation_labels)"
      ],
      "execution_count": null,
      "outputs": []
    },
    {
      "cell_type": "code",
      "metadata": {
        "id": "ldpql7yD25Ti"
      },
      "source": [
        "train_features.shape"
      ],
      "execution_count": null,
      "outputs": []
    },
    {
      "cell_type": "markdown",
      "metadata": {
        "id": "RYqLPrsfQQhg"
      },
      "source": [
        "At this point, we can define our densely-connected classifier (note the use of dropout for regularization), and train it on the data and \n",
        "labels that we just recorded. \n",
        "\n",
        "As the Dense layer only accepts 1D array, we cannot directly feed the features extracted from convolutional base (which is of 2D shape) to the Dense layer. We can use Flatten layer to flatten the 2D to 1D. Alternatively, we can use GlobalAveragePooling2D. Recall that GlobalAveragePooling summarize each feature map into a single a average number, we effectively convert the a 2D feature maps into 1D array. "
      ]
    },
    {
      "cell_type": "code",
      "metadata": {
        "id": "7lyxtkc8QQhg"
      },
      "source": [
        "from tensorflow.keras import models\n",
        "from tensorflow.keras import layers\n",
        "from tensorflow.keras import optimizers\n",
        "\n",
        "\n",
        "model_top = models.Sequential()\n",
        "model_top.add(layers.GlobalAveragePooling2D())\n",
        "model_top.add(layers.Dense(256, activation='relu', input_dim=4 * 4 * 512))\n",
        "model_top.add(layers.Dropout(0.5))\n",
        "model_top.add(layers.Dense(1, activation='sigmoid'))\n",
        "\n",
        "model_top.compile(optimizer=optimizers.RMSprop(lr=2e-5),\n",
        "              loss='binary_crossentropy',\n",
        "              metrics=['acc'])\n",
        "\n"
      ],
      "execution_count": null,
      "outputs": []
    },
    {
      "cell_type": "code",
      "metadata": {
        "id": "z0F63IgRzk7t"
      },
      "source": [
        "# we will now load the extracted features from the files we save to earlier \n",
        "X_train = np.load('train_features.npy')\n",
        "y_train = np.load('train_labels.npy')\n",
        "X_validation = np.load('validation_features.npy')\n",
        "y_validation = np.load('validation_labels.npy')\n",
        "\n",
        "\n",
        "# We create a directory to store the event logs required by Tensorboard\n",
        "root_logdir = os.path.join(os.curdir, \"tb_logs\")\n",
        "\n",
        "def get_run_logdir():    # use a new directory for each run\n",
        "\timport time\n",
        "\trun_id = time.strftime(\"run_%Y_%m_%d-%H_%M_%S\")\n",
        "\treturn os.path.join(root_logdir, run_id)\n",
        "\n",
        "run_logdir = get_run_logdir()\n",
        "\n",
        "tb_callback = tf.keras.callbacks.TensorBoard(run_logdir)\n",
        "\n",
        "history = model_top.fit(X_train, y_train,\n",
        "                    epochs=100,\n",
        "                    batch_size=20,\n",
        "                    validation_data=(X_validation, y_validation),\n",
        "                    callbacks=[tb_callback])"
      ],
      "execution_count": null,
      "outputs": []
    },
    {
      "cell_type": "markdown",
      "metadata": {
        "id": "XValpPZNQQhh"
      },
      "source": [
        "Training is very fast, since we only have to deal with two `Dense` layers -- an epoch takes less than one second even on CPU.\n",
        "\n",
        "Let's take a look at the loss and accuracy curves during training:"
      ]
    },
    {
      "cell_type": "code",
      "metadata": {
        "id": "BWDXisE9zRGE"
      },
      "source": [
        "%load_ext tensorboard\n",
        "%tensorboard --logdir tb_logs"
      ],
      "execution_count": null,
      "outputs": []
    },
    {
      "cell_type": "markdown",
      "metadata": {
        "id": "7nfP6h5gQQhh"
      },
      "source": [
        "\n",
        "We reach a validation accuracy of about 97%, much better than what we could achieve in the previous exercise with our small model trained from scratch. "
      ]
    },
    {
      "cell_type": "markdown",
      "metadata": {
        "id": "y2yFHD1avU20"
      },
      "source": [
        "## Prepare the model for deployment\n",
        "\n",
        "We cannot just use our `model_top` for image classification, as it takes pre-extracted features as input, not image. We need to stick back our convolutional base and use an input layer of appropriate shape. This is what we are going to do below."
      ]
    },
    {
      "cell_type": "code",
      "metadata": {
        "id": "OAjKuSfUvLbX"
      },
      "source": [
        "from tensorflow.keras import Model\n",
        "\n",
        "inputs = layers.Input(shape=(150, 150, 3))\n",
        "x = preprocess_input_fn(inputs)\n",
        "x = conv_base(x)\n",
        "top_outputs = model_top(x)\n",
        "model_final = Model(inputs=[inputs], outputs=[top_outputs])\n",
        "model_final.compile(loss=\"binary_crossentropy\", optimizer=optimizers.RMSprop(lr=2e-5), metrics=['acc'])\n",
        "model_final.summary()\n",
        "model_final.save(\"final_model\")"
      ],
      "execution_count": null,
      "outputs": []
    },
    {
      "cell_type": "markdown",
      "metadata": {
        "id": "teQ_a4VfzmYj"
      },
      "source": [
        "Ok, now we are ready to test with our own image. Upload your favourite cat and dog images and see your model in action."
      ]
    },
    {
      "cell_type": "code",
      "metadata": {
        "id": "uubZlbPM0TWt"
      },
      "source": [
        "from google.colab import files\n",
        "\n",
        "uploaded = files.upload()\n",
        "\n",
        "for filename in uploaded.keys():\n",
        "    print('User uploaded file \"{name}\" with length {length} bytes'.format(\n",
        "        name=filename, length=len(uploaded[filename])))"
      ],
      "execution_count": null,
      "outputs": []
    },
    {
      "cell_type": "code",
      "metadata": {
        "id": "nIPv30Sj4i1P"
      },
      "source": [
        "img = tf.keras.preprocessing.image.load_img(\n",
        "    filename, target_size=(150, 150)\n",
        ")\n",
        "\n",
        "# we convert the image to numpy array\n",
        "img_array = tf.keras.preprocessing.image.img_to_array(img)\n",
        "\n",
        "# Although we only have single image, however our model expected data in batches\n",
        "# so we will need to add in the batch axis too\n",
        "img_array = tf.expand_dims(img_array, 0) # Create a batch\n",
        "\n",
        "# we load the model saved earlier and do the inference \n",
        "model = tf.keras.models.load_model('final_model')\n",
        "predictions = model(img_array)\n",
        "if predictions[0] > 0.5: \n",
        "    print('It is a dog')\n",
        "else:\n",
        "    print('It is a cat')"
      ],
      "execution_count": null,
      "outputs": []
    },
    {
      "cell_type": "markdown",
      "metadata": {
        "id": "ZFuWZ9YpQQhk"
      },
      "source": [
        "## Fine-tuning\n",
        "\n",
        "Another widely used technique is _fine-tuning_. \n",
        "Fine-tuning consists in unfreezing a few of the top layers \n",
        "of a frozen model base used for feature extraction, and jointly training both the newly added part of the model (in our case, the \n",
        "fully-connected classifier) and these top layers. This is called \"fine-tuning\" because it slightly adjusts the more abstract \n",
        "representations of the model being reused, in order to make them more relevant for the problem at hand.\n",
        "\n",
        "![fine-tuning VGG16](https://nyp-aicourse.s3-ap-southeast-1.amazonaws.com/resources/it3103/vgg16_fine_tuning.png)"
      ]
    },
    {
      "cell_type": "markdown",
      "metadata": {
        "id": "SBCvJWSYQQhk"
      },
      "source": [
        "We have stated before that it was necessary to freeze the convolution base of VGG16 in order to be able to train a randomly initialized \n",
        "classifier on top. For the same reason, it is only possible to fine-tune the top layers of the convolutional base once the classifier on \n",
        "top has already been trained. If the classified wasn't already trained, then the error signal propagating through the network during \n",
        "training would be too large, and the representations previously learned by the layers being fine-tuned would be destroyed. Thus the steps \n",
        "for fine-tuning a network are as follow:\n",
        "\n",
        "* 1) Add your custom network on top of an already trained base network.\n",
        "* 2) Freeze the base network.\n",
        "* 3) Train the part you added.\n",
        "* 4) Unfreeze some layers in the base network.\n",
        "* 5) Jointly train both these layers and the part you added.\n",
        "\n",
        "\n",
        "As a reminder, this is what our convolutional base looks like. Note that the trainable weights are 14,714,688 (around 14 millions)."
      ]
    },
    {
      "cell_type": "code",
      "metadata": {
        "id": "Caa2GVnCQQhk"
      },
      "source": [
        "conv_base = VGG16(weights='imagenet',\n",
        "                  include_top=False,\n",
        "                  input_shape=(150, 150, 3))\n",
        "conv_base.summary()"
      ],
      "execution_count": null,
      "outputs": []
    },
    {
      "cell_type": "markdown",
      "metadata": {
        "id": "1tDk0bNLQQhk"
      },
      "source": [
        "\n",
        "We will fine-tune the last 3 convolutional layers, which means that all layers up until `block4_pool` should be frozen, and the layers \n",
        "`block5_conv1`, `block5_conv2` and `block5_conv3` should be trainable.\n",
        "\n",
        "Why not fine-tune more layers? Why not fine-tune the entire convolutional base? We could. However, we need to consider that:\n",
        "\n",
        "* Earlier layers in the convolutional base encode more generic, reusable features, while layers higher up encode more specialized features. It is \n",
        "more useful to fine-tune the more specialized features, as these are the ones that need to be repurposed on our new problem. There would \n",
        "be fast-decreasing returns in fine-tuning lower layers.\n",
        "* The more parameters we are training, the more we are at risk of overfitting. The convolutional base has 15M parameters, so it would be \n",
        "risky to attempt to train it on our small dataset.\n",
        "\n",
        "Thus, in our situation, it is a good strategy to only fine-tune the top 2 to 3 layers in the convolutional base.\n",
        "\n",
        "Let's set this up, we will unfreeze our `conv_base`, \n",
        "and then freeze individual layers inside of it, except the last 3 layers. \n",
        "\n",
        "Do a model ``summary()`` and you will see now that the number of trainable weights are now 7,079,424 (around 7 millions), much less than previously, because all the layers are frozen except the last 3 layers."
      ]
    },
    {
      "cell_type": "code",
      "metadata": {
        "collapsed": true,
        "jupyter": {
          "outputs_hidden": true
        },
        "id": "Ji6LvCk0QQhk"
      },
      "source": [
        "conv_base.trainable = True\n",
        "\n",
        "set_trainable = False\n",
        "for layer in conv_base.layers:\n",
        "    if layer.name == 'block5_conv1':\n",
        "        set_trainable = True\n",
        "    if set_trainable:\n",
        "        layer.trainable = True\n",
        "    else:\n",
        "        layer.trainable = False\n",
        "\n",
        "conv_base.summary()"
      ],
      "execution_count": null,
      "outputs": []
    },
    {
      "cell_type": "markdown",
      "metadata": {
        "id": "7GXqJ5FB0K88"
      },
      "source": [
        "As explained earlier, we also need our model-specific input preprocessing function."
      ]
    },
    {
      "cell_type": "code",
      "metadata": {
        "id": "U1D7awK_0I0W"
      },
      "source": [
        "preprocess_input_fn = vgg16.preprocess_input"
      ],
      "execution_count": null,
      "outputs": []
    },
    {
      "cell_type": "markdown",
      "metadata": {
        "id": "mNyjmcyr06Rj"
      },
      "source": [
        "We will now setup our data pipeline for images as before using ImageDataGenerator."
      ]
    },
    {
      "cell_type": "code",
      "metadata": {
        "id": "SdcVzX9904PE"
      },
      "source": [
        "from keras.preprocessing.image import ImageDataGenerator\n",
        "\n",
        "train_datagen = ImageDataGenerator()\n",
        "\n",
        "test_datagen = ImageDataGenerator()\n",
        "\n",
        "train_generator = train_datagen.flow_from_directory(\n",
        "        train_dir,\n",
        "        target_size=(150, 150),\n",
        "        batch_size=20,\n",
        "        class_mode='binary')\n",
        "\n",
        "validation_generator = test_datagen.flow_from_directory(\n",
        "        validation_dir,\n",
        "        target_size=(150, 150),\n",
        "        batch_size=20,\n",
        "        class_mode='binary')\n"
      ],
      "execution_count": null,
      "outputs": []
    },
    {
      "cell_type": "markdown",
      "metadata": {
        "id": "GfVcfK3oQQhk"
      },
      "source": [
        "Now we can start fine-tuning our network. We will do this with the RMSprop optimizer, using a very low learning rate. The reason for using \n",
        "a low learning rate is that we want to limit the magnitude of the modifications we make to the representations of the 3 layers that we are \n",
        "fine-tuning. Updates that are too large may harm these representations.\n",
        "\n",
        "Now let's proceed with fine-tuning."
      ]
    },
    {
      "cell_type": "code",
      "metadata": {
        "id": "AmeW_akKQQhl"
      },
      "source": [
        "inputs = layers.Input(shape=(150, 150, 3))\n",
        "x = preprocess_input_fn(inputs)\n",
        "x = conv_base(x)\n",
        "x = layers.GlobalAveragePooling2D()(x)\n",
        "x = layers.Dense(256, activation='relu')(x)\n",
        "x = layers.Dropout(0.5)(x)\n",
        "outputs = layers.Dense(1, activation='sigmoid')(x)\n",
        "model_finetune = Model(inputs=[inputs], outputs=[outputs])\n",
        "\n",
        "model_finetune.compile(loss='binary_crossentropy',\n",
        "              optimizer=optimizers.RMSprop(lr=1e-5),\n",
        "              metrics=['acc'])\n",
        "\n",
        "root_logdir = os.path.join(os.curdir, \"tb_logs\")\n",
        "\n",
        "def get_run_logdir():    # use a new directory for each run\n",
        "\timport time\n",
        "\trun_id = time.strftime(\"run_%Y_%m_%d-%H_%M_%S\")\n",
        "\treturn os.path.join(root_logdir, run_id)\n",
        "\n",
        "run_logdir = get_run_logdir()\n",
        "\n",
        "tb_callback = tf.keras.callbacks.TensorBoard(run_logdir)\n",
        "\n",
        "history = model_finetune.fit(\n",
        "      train_generator,\n",
        "      steps_per_epoch=100,\n",
        "      epochs=35,\n",
        "      validation_data=validation_generator,\n",
        "      validation_steps=50,\n",
        "      callbacks=[tb_callback])"
      ],
      "execution_count": null,
      "outputs": []
    },
    {
      "cell_type": "markdown",
      "metadata": {
        "id": "p8RcXyMOQQhl"
      },
      "source": [
        "Let's visualize our loss and accuracy using Tensorboard. "
      ]
    },
    {
      "cell_type": "code",
      "metadata": {
        "id": "GNC8HmE23j65"
      },
      "source": [
        "%tensorboard --logdir tb_logs"
      ],
      "execution_count": null,
      "outputs": []
    },
    {
      "cell_type": "markdown",
      "metadata": {
        "id": "YT5uLRsyQQhl"
      },
      "source": [
        "\n",
        "With fine-tuning, we are able to achieve a validation accuracy of around 96%"
      ]
    },
    {
      "cell_type": "markdown",
      "metadata": {
        "id": "e9whU7HsQQhm"
      },
      "source": [
        "**Exercise 1:**\n",
        "\n",
        "Is there any overfitting? If there is, what can you do to reduce overfitting? \n",
        "\n",
        "*Type your answer here*\n",
        "\n",
        "\n",
        "Modify the codes to reduce overfitting (if there is). You can write your codes in the code cell below.\n"
      ]
    },
    {
      "cell_type": "code",
      "metadata": {
        "id": "OsDMcW0LDZDF"
      },
      "source": [
        "## TODO: Write your code here ###\n",
        "\n",
        "## refer to exercise 2, instead of changing the number of layers to freeze, you can try use less neurons for dense layer, or increase Dropout to larger than 0.5\n"
      ],
      "execution_count": 2,
      "outputs": []
    },
    {
      "cell_type": "markdown",
      "metadata": {
        "id": "emERJEh55T62"
      },
      "source": [
        "**Exercise 2:**\n",
        "\n",
        "Modify the code to fine-tune less layers (e.g. 2 or 1 layers). What happen to the overfitting and the accuracy?\n",
        "\n",
        "*Type your answer here*\n",
        "\n",
        "You can write your codes in the code cell below."
      ]
    },
    {
      "cell_type": "code",
      "metadata": {
        "id": "YPZ1QjbR4NTY"
      },
      "source": [
        "## TODO: Write your code here ###\n",
        "conv_base = VGG16(weights='imagenet',\n",
        "                  include_top=False,\n",
        "                  input_shape=(150, 150, 3))\n",
        "\n",
        "preprocess_input_fn = vgg16.preprocess_input"
      ],
      "execution_count": 5,
      "outputs": []
    },
    {
      "cell_type": "code",
      "metadata": {
        "id": "LRGqV977YaJO",
        "outputId": "6be54882-fed6-4127-869f-449b171da594",
        "colab": {
          "base_uri": "https://localhost:8080/"
        }
      },
      "source": [
        "conv_base.trainable = True\n",
        "\n",
        "set_trainable = False\n",
        "for layer in conv_base.layers:\n",
        "    if layer.name == 'block5_conv3':\n",
        "        set_trainable = True\n",
        "    if set_trainable:\n",
        "        layer.trainable = True\n",
        "    else:\n",
        "        layer.trainable = False\n",
        "\n",
        "conv_base.summary()"
      ],
      "execution_count": 6,
      "outputs": [
        {
          "output_type": "stream",
          "text": [
            "Model: \"vgg16\"\n",
            "_________________________________________________________________\n",
            "Layer (type)                 Output Shape              Param #   \n",
            "=================================================================\n",
            "input_2 (InputLayer)         [(None, 150, 150, 3)]     0         \n",
            "_________________________________________________________________\n",
            "block1_conv1 (Conv2D)        (None, 150, 150, 64)      1792      \n",
            "_________________________________________________________________\n",
            "block1_conv2 (Conv2D)        (None, 150, 150, 64)      36928     \n",
            "_________________________________________________________________\n",
            "block1_pool (MaxPooling2D)   (None, 75, 75, 64)        0         \n",
            "_________________________________________________________________\n",
            "block2_conv1 (Conv2D)        (None, 75, 75, 128)       73856     \n",
            "_________________________________________________________________\n",
            "block2_conv2 (Conv2D)        (None, 75, 75, 128)       147584    \n",
            "_________________________________________________________________\n",
            "block2_pool (MaxPooling2D)   (None, 37, 37, 128)       0         \n",
            "_________________________________________________________________\n",
            "block3_conv1 (Conv2D)        (None, 37, 37, 256)       295168    \n",
            "_________________________________________________________________\n",
            "block3_conv2 (Conv2D)        (None, 37, 37, 256)       590080    \n",
            "_________________________________________________________________\n",
            "block3_conv3 (Conv2D)        (None, 37, 37, 256)       590080    \n",
            "_________________________________________________________________\n",
            "block3_pool (MaxPooling2D)   (None, 18, 18, 256)       0         \n",
            "_________________________________________________________________\n",
            "block4_conv1 (Conv2D)        (None, 18, 18, 512)       1180160   \n",
            "_________________________________________________________________\n",
            "block4_conv2 (Conv2D)        (None, 18, 18, 512)       2359808   \n",
            "_________________________________________________________________\n",
            "block4_conv3 (Conv2D)        (None, 18, 18, 512)       2359808   \n",
            "_________________________________________________________________\n",
            "block4_pool (MaxPooling2D)   (None, 9, 9, 512)         0         \n",
            "_________________________________________________________________\n",
            "block5_conv1 (Conv2D)        (None, 9, 9, 512)         2359808   \n",
            "_________________________________________________________________\n",
            "block5_conv2 (Conv2D)        (None, 9, 9, 512)         2359808   \n",
            "_________________________________________________________________\n",
            "block5_conv3 (Conv2D)        (None, 9, 9, 512)         2359808   \n",
            "_________________________________________________________________\n",
            "block5_pool (MaxPooling2D)   (None, 4, 4, 512)         0         \n",
            "=================================================================\n",
            "Total params: 14,714,688\n",
            "Trainable params: 2,359,808\n",
            "Non-trainable params: 12,354,880\n",
            "_________________________________________________________________\n"
          ],
          "name": "stdout"
        }
      ]
    },
    {
      "cell_type": "code",
      "metadata": {
        "id": "nSivWGDfZz26"
      },
      "source": [
        "import os\n",
        "import numpy as np\n",
        "from tensorflow.keras.preprocessing.image import ImageDataGenerator\n",
        "from tensorflow.keras import layers, Model, optimizers"
      ],
      "execution_count": 14,
      "outputs": []
    },
    {
      "cell_type": "code",
      "metadata": {
        "id": "EZ0a1KXPY3Bh",
        "outputId": "84e698d9-242c-4797-ed60-b78d3e2830ad",
        "colab": {
          "base_uri": "https://localhost:8080/"
        }
      },
      "source": [
        "train_dir = os.path.join(base_dir, 'train')\n",
        "validation_dir = os.path.join(base_dir, 'validation')\n",
        "\n",
        "train_datagen = ImageDataGenerator()\n",
        "\n",
        "test_datagen = ImageDataGenerator()\n",
        "\n",
        "train_generator = train_datagen.flow_from_directory(\n",
        "        train_dir,\n",
        "        target_size=(150, 150),\n",
        "        batch_size=20,\n",
        "        class_mode='binary')\n",
        "\n",
        "validation_generator = test_datagen.flow_from_directory(\n",
        "        validation_dir,\n",
        "        target_size=(150, 150),\n",
        "        batch_size=20,\n",
        "        class_mode='binary')"
      ],
      "execution_count": 12,
      "outputs": [
        {
          "output_type": "stream",
          "text": [
            "Found 2000 images belonging to 2 classes.\n",
            "Found 1000 images belonging to 2 classes.\n"
          ],
          "name": "stdout"
        }
      ]
    },
    {
      "cell_type": "code",
      "metadata": {
        "id": "tJettJ6DY3-i",
        "outputId": "973264dc-4091-46e7-fc79-7d09cac3cccb",
        "colab": {
          "base_uri": "https://localhost:8080/"
        }
      },
      "source": [
        "inputs = layers.Input(shape=(150, 150, 3))\n",
        "x = preprocess_input_fn(inputs)\n",
        "x = conv_base(x)\n",
        "x = layers.GlobalAveragePooling2D()(x)\n",
        "x = layers.Dense(256, activation='relu')(x)\n",
        "x = layers.Dropout(0.5)(x)\n",
        "outputs = layers.Dense(1, activation='sigmoid')(x)\n",
        "model_finetune2 = Model(inputs=[inputs], outputs=[outputs])\n",
        "\n",
        "model_finetune2.compile(loss='binary_crossentropy',\n",
        "              optimizer=optimizers.RMSprop(lr=1e-5),\n",
        "              metrics=['acc'])\n",
        "\n",
        "root_logdir = os.path.join(os.curdir, \"tb_logs\")\n",
        "\n",
        "def get_run_logdir():    # use a new directory for each run\n",
        "\timport time\n",
        "\trun_id = time.strftime(\"run_%Y_%m_%d-%H_%M_%S\")\n",
        "\treturn os.path.join(root_logdir, run_id)\n",
        "\n",
        "run_logdir = get_run_logdir()\n",
        "\n",
        "tb_callback = tf.keras.callbacks.TensorBoard(run_logdir)\n",
        "\n",
        "history = model_finetune2.fit(\n",
        "      train_generator,\n",
        "      steps_per_epoch=100,\n",
        "      epochs=35,\n",
        "      validation_data=validation_generator,\n",
        "      validation_steps=50,\n",
        "      callbacks=[tb_callback])"
      ],
      "execution_count": 15,
      "outputs": [
        {
          "output_type": "stream",
          "text": [
            "Epoch 1/35\n",
            "100/100 [==============================] - 46s 117ms/step - loss: 3.3277 - acc: 0.6454 - val_loss: 0.4829 - val_acc: 0.8920\n",
            "Epoch 2/35\n",
            "100/100 [==============================] - 11s 105ms/step - loss: 1.0684 - acc: 0.8438 - val_loss: 0.2842 - val_acc: 0.9280\n",
            "Epoch 3/35\n",
            "100/100 [==============================] - 11s 108ms/step - loss: 0.6605 - acc: 0.8895 - val_loss: 0.2320 - val_acc: 0.9440\n",
            "Epoch 4/35\n",
            "100/100 [==============================] - 11s 109ms/step - loss: 0.6128 - acc: 0.9086 - val_loss: 0.2115 - val_acc: 0.9460\n",
            "Epoch 5/35\n",
            "100/100 [==============================] - 11s 108ms/step - loss: 0.3301 - acc: 0.9353 - val_loss: 0.2099 - val_acc: 0.9460\n",
            "Epoch 6/35\n",
            "100/100 [==============================] - 11s 110ms/step - loss: 0.2647 - acc: 0.9454 - val_loss: 0.1951 - val_acc: 0.9530\n",
            "Epoch 7/35\n",
            "100/100 [==============================] - 11s 108ms/step - loss: 0.2984 - acc: 0.9413 - val_loss: 0.1994 - val_acc: 0.9510\n",
            "Epoch 8/35\n",
            "100/100 [==============================] - 11s 106ms/step - loss: 0.2304 - acc: 0.9520 - val_loss: 0.1927 - val_acc: 0.9560\n",
            "Epoch 9/35\n",
            "100/100 [==============================] - 10s 105ms/step - loss: 0.2260 - acc: 0.9574 - val_loss: 0.1879 - val_acc: 0.9540\n",
            "Epoch 10/35\n",
            "100/100 [==============================] - 11s 105ms/step - loss: 0.1282 - acc: 0.9704 - val_loss: 0.1901 - val_acc: 0.9530\n",
            "Epoch 11/35\n",
            "100/100 [==============================] - 11s 107ms/step - loss: 0.1313 - acc: 0.9656 - val_loss: 0.1786 - val_acc: 0.9540\n",
            "Epoch 12/35\n",
            "100/100 [==============================] - 11s 107ms/step - loss: 0.1147 - acc: 0.9640 - val_loss: 0.1761 - val_acc: 0.9590\n",
            "Epoch 13/35\n",
            "100/100 [==============================] - 11s 105ms/step - loss: 0.1198 - acc: 0.9747 - val_loss: 0.1710 - val_acc: 0.9560\n",
            "Epoch 14/35\n",
            "100/100 [==============================] - 11s 107ms/step - loss: 0.1101 - acc: 0.9708 - val_loss: 0.1858 - val_acc: 0.9570\n",
            "Epoch 15/35\n",
            "100/100 [==============================] - 11s 106ms/step - loss: 0.1065 - acc: 0.9820 - val_loss: 0.1803 - val_acc: 0.9570\n",
            "Epoch 16/35\n",
            "100/100 [==============================] - 11s 107ms/step - loss: 0.0763 - acc: 0.9776 - val_loss: 0.1793 - val_acc: 0.9580\n",
            "Epoch 17/35\n",
            "100/100 [==============================] - 11s 107ms/step - loss: 0.0690 - acc: 0.9782 - val_loss: 0.1717 - val_acc: 0.9600\n",
            "Epoch 18/35\n",
            "100/100 [==============================] - 11s 106ms/step - loss: 0.0372 - acc: 0.9890 - val_loss: 0.1767 - val_acc: 0.9600\n",
            "Epoch 19/35\n",
            "100/100 [==============================] - 10s 105ms/step - loss: 0.0961 - acc: 0.9834 - val_loss: 0.1789 - val_acc: 0.9630\n",
            "Epoch 20/35\n",
            "100/100 [==============================] - 11s 106ms/step - loss: 0.0895 - acc: 0.9799 - val_loss: 0.1884 - val_acc: 0.9620\n",
            "Epoch 21/35\n",
            "100/100 [==============================] - 11s 106ms/step - loss: 0.0453 - acc: 0.9833 - val_loss: 0.1702 - val_acc: 0.9590\n",
            "Epoch 22/35\n",
            "100/100 [==============================] - 11s 106ms/step - loss: 0.0481 - acc: 0.9876 - val_loss: 0.1692 - val_acc: 0.9600\n",
            "Epoch 23/35\n",
            "100/100 [==============================] - 11s 106ms/step - loss: 0.0318 - acc: 0.9886 - val_loss: 0.1744 - val_acc: 0.9630\n",
            "Epoch 24/35\n",
            "100/100 [==============================] - 11s 106ms/step - loss: 0.0234 - acc: 0.9935 - val_loss: 0.1758 - val_acc: 0.9610\n",
            "Epoch 25/35\n",
            "100/100 [==============================] - 11s 106ms/step - loss: 0.0270 - acc: 0.9911 - val_loss: 0.1725 - val_acc: 0.9660\n",
            "Epoch 26/35\n",
            "100/100 [==============================] - 11s 106ms/step - loss: 0.0170 - acc: 0.9953 - val_loss: 0.1725 - val_acc: 0.9610\n",
            "Epoch 27/35\n",
            "100/100 [==============================] - 11s 106ms/step - loss: 0.0234 - acc: 0.9926 - val_loss: 0.1709 - val_acc: 0.9610\n",
            "Epoch 28/35\n",
            "100/100 [==============================] - 10s 105ms/step - loss: 0.0305 - acc: 0.9904 - val_loss: 0.1817 - val_acc: 0.9620\n",
            "Epoch 29/35\n",
            "100/100 [==============================] - 11s 106ms/step - loss: 0.0273 - acc: 0.9933 - val_loss: 0.1809 - val_acc: 0.9620\n",
            "Epoch 30/35\n",
            "100/100 [==============================] - 11s 106ms/step - loss: 0.0267 - acc: 0.9940 - val_loss: 0.1812 - val_acc: 0.9600\n",
            "Epoch 31/35\n",
            "100/100 [==============================] - 11s 106ms/step - loss: 0.0246 - acc: 0.9928 - val_loss: 0.1812 - val_acc: 0.9600\n",
            "Epoch 32/35\n",
            "100/100 [==============================] - 11s 106ms/step - loss: 0.0250 - acc: 0.9944 - val_loss: 0.1783 - val_acc: 0.9590\n",
            "Epoch 33/35\n",
            "100/100 [==============================] - 11s 106ms/step - loss: 0.0251 - acc: 0.9915 - val_loss: 0.1775 - val_acc: 0.9610\n",
            "Epoch 34/35\n",
            "100/100 [==============================] - 11s 105ms/step - loss: 0.0135 - acc: 0.9945 - val_loss: 0.1851 - val_acc: 0.9620\n",
            "Epoch 35/35\n",
            "100/100 [==============================] - 11s 106ms/step - loss: 0.0242 - acc: 0.9947 - val_loss: 0.1855 - val_acc: 0.9650\n"
          ],
          "name": "stdout"
        }
      ]
    },
    {
      "cell_type": "code",
      "metadata": {
        "id": "tSGsHoYFaCvO"
      },
      "source": [
        "%load_ext tensorboard\n",
        "%tensorboard --logdir tb_logs"
      ],
      "execution_count": null,
      "outputs": []
    },
    {
      "cell_type": "markdown",
      "metadata": {
        "id": "AX6Up3WZ0mAs"
      },
      "source": [
        "**Additional Exercises**\n",
        "\n",
        "Instead of VGG16, you may want to try using a more recent network architecture such as ResNet50 or MobileNet (which is good for mobile devices due to its small size).\n"
      ]
    }
  ]
}