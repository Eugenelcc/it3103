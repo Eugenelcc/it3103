{
  "nbformat": 4,
  "nbformat_minor": 0,
  "metadata": {
    "kernelspec": {
      "display_name": "Python 3",
      "language": "python",
      "name": "python3"
    },
    "language_info": {
      "codemirror_mode": {
        "name": "ipython",
        "version": 3
      },
      "file_extension": ".py",
      "mimetype": "text/x-python",
      "name": "python",
      "nbconvert_exporter": "python",
      "pygments_lexer": "ipython3",
      "version": "3.7.6"
    },
    "colab": {
      "name": "using-a-pretrained-convnet.ipynb",
      "provenance": [],
      "include_colab_link": true
    },
    "accelerator": "GPU"
  },
  "cells": [
    {
      "cell_type": "markdown",
      "metadata": {
        "id": "view-in-github",
        "colab_type": "text"
      },
      "source": [
        "<a href=\"https://colab.research.google.com/github/nyp-sit/it3103/blob/main/week4/using_a_pretrained_convnet.ipynb\" target=\"_parent\"><img src=\"https://colab.research.google.com/assets/colab-badge.svg\" alt=\"Open In Colab\"/></a>"
      ]
    },
    {
      "cell_type": "code",
      "metadata": {
        "colab": {
          "base_uri": "https://localhost:8080/",
          "height": 35
        },
        "id": "5CzbJ28oQQhV",
        "outputId": "b3329e11-740e-4eed-8163-0887204016a1"
      },
      "source": [
        "import tensorflow as tf\n",
        "tf.__version__"
      ],
      "execution_count": 1,
      "outputs": [
        {
          "output_type": "execute_result",
          "data": {
            "application/vnd.google.colaboratory.intrinsic+json": {
              "type": "string"
            },
            "text/plain": [
              "'2.4.1'"
            ]
          },
          "metadata": {
            "tags": []
          },
          "execution_count": 1
        }
      ]
    },
    {
      "cell_type": "markdown",
      "metadata": {
        "id": "k2oSQ958QQhb"
      },
      "source": [
        "# Using a pre-trained convnet\n",
        "\n",
        "This notebook contains the code sample found in Chapter 5, Section 3 of [Deep Learning with Python](https://www.manning.com/books/deep-learning-with-python?a_aid=keras&a_bid=76564dff). Note that the original text features far more content, in particular further explanations and figures: in this notebook, you will only find source code and related comments.\n",
        "\n",
        "----\n",
        "\n",
        "A common and highly effective approach to deep learning on small image datasets is to leverage a pre-trained network. A pre-trained network \n",
        "is simply a saved network previously trained on a large dataset, typically on a large-scale image classification task. If this original \n",
        "dataset is large enough and general enough, then the spatial feature hierarchy learned by the pre-trained network can effectively act as a \n",
        "generic model of our visual world, and hence its features can prove useful for many different computer vision problems, even though these \n",
        "new problems might involve completely different classes from those of the original task. For instance, one might train a network on \n",
        "ImageNet (where classes are mostly animals and everyday objects) and then re-purpose this trained network for something as remote as \n",
        "identifying furniture items in images. Such portability of learned features across different problems is a key advantage of deep learning \n",
        "compared to many older shallow learning approaches, and it makes deep learning very effective for small-data problems.\n",
        "\n",
        "In our case, we will consider a large convnet trained on the ImageNet dataset (1.4 million labeled images and 1000 different classes). \n",
        "ImageNet contains many animal classes, including different species of cats and dogs, and we can thus expect to perform very well on our cat \n",
        "vs. dog classification problem.\n",
        "\n",
        "We will use the VGG16 architecture, developed by Karen Simonyan and Andrew Zisserman in 2014, a simple and widely used convnet architecture \n",
        "for ImageNet. Although it is a bit of an older model, far from the current state of the art and somewhat heavier than many other recent \n",
        "models, we chose it because its architecture is similar to what you are already familiar with, and easy to understand without introducing \n",
        "any new concepts. This may be your first encounter with one of these cutesie model names -- VGG, ResNet, Inception, Inception-ResNet, \n",
        "Xception... you will get used to them, as they will come up frequently if you keep doing deep learning for computer vision.\n",
        "\n",
        "There are two ways to leverage a pre-trained network: *feature extraction* and *fine-tuning*. We will cover both of them. Let's start with \n",
        "feature extraction."
      ]
    },
    {
      "cell_type": "markdown",
      "metadata": {
        "id": "QpiN3OQFQQhc"
      },
      "source": [
        "## Feature extraction\n",
        "\n",
        "Feature extraction consists of using the representations learned by a previous network to extract interesting features from new samples. \n",
        "These features are then run through a new classifier, which is trained from scratch.\n",
        "\n",
        "As we saw previously, convnets used for image classification comprise two parts: they start with a series of pooling and convolution \n",
        "layers, and they end with a densely-connected classifier. The first part is called the \"convolutional base\" of the model. In the case of \n",
        "convnets, \"feature extraction\" will simply consist of taking the convolutional base of a previously-trained network, running the new data \n",
        "through it, and training a new classifier on top of the output.\n",
        "\n",
        "![swapping FC classifiers](https://s3.amazonaws.com/book.keras.io/img/ch5/swapping_fc_classifier.png)\n",
        "\n",
        "Why only reuse the convolutional base? Could we reuse the densely-connected classifier as well? In general, it should be avoided. The \n",
        "reason is simply that the representations learned by the convolutional base are likely to be more generic and therefore more reusable: the \n",
        "feature maps of a convnet are presence maps of generic concepts over a picture, which is likely to be useful regardless of the computer \n",
        "vision problem at hand. On the other end, the representations learned by the classifier will necessarily be very specific to the set of \n",
        "classes that the model was trained on -- they will only contain information about the presence probability of this or that class in the \n",
        "entire picture. Additionally, representations found in densely-connected layers no longer contain any information about _where_ objects are \n",
        "located in the input image: these layers get rid of the notion of space, whereas the object location is still described by convolutional \n",
        "feature maps. For problems where object location matters, densely-connected features would be largely useless.\n",
        "\n",
        "Note that the level of generality (and therefore reusability) of the representations extracted by specific convolution layers depends on \n",
        "the depth of the layer in the model. Layers that come earlier in the model extract local, highly generic feature maps (such as visual \n",
        "edges, colors, and textures), while layers higher-up extract more abstract concepts (such as \"cat ear\" or \"dog eye\"). So if your new \n",
        "dataset differs a lot from the dataset that the original model was trained on, you may be better off using only the first few layers of the \n",
        "model to do feature extraction, rather than using the entire convolutional base.\n",
        "\n",
        "In our case, since the ImageNet class set did contain multiple dog and cat classes, it is likely that it would be beneficial to reuse the \n",
        "information contained in the densely-connected layers of the original model. However, we will chose not to, in order to cover the more \n",
        "general case where the class set of the new problem does not overlap with the class set of the original model."
      ]
    },
    {
      "cell_type": "markdown",
      "metadata": {
        "id": "pmWCyvfgQQhd"
      },
      "source": [
        "Let's put this in practice by using the convolutional base of the VGG16 network, trained on ImageNet, to extract interesting features from \n",
        "our cat and dog images, and then training a cat vs. dog classifier on top of these features.\n",
        "\n",
        "The VGG16 model, among others, comes pre-packaged with Keras. You can import it from the `keras.applications` module. Here's the list of \n",
        "image classification models (all pre-trained on the ImageNet dataset) that are available as part of `keras.applications`:\n",
        "\n",
        "* Xception\n",
        "* InceptionV3\n",
        "* ResNet50\n",
        "* VGG16\n",
        "* VGG19\n",
        "* MobileNet\n",
        "\n",
        "Let's instantiate the VGG16 model:"
      ]
    },
    {
      "cell_type": "code",
      "metadata": {
        "collapsed": true,
        "jupyter": {
          "outputs_hidden": true
        },
        "colab": {
          "base_uri": "https://localhost:8080/"
        },
        "id": "TthMIdL2QQhd",
        "outputId": "c02248a0-b0fc-4b28-dd0a-caf1169c78c2"
      },
      "source": [
        "from tensorflow.keras.applications import VGG16\n",
        "\n",
        "conv_base = VGG16(weights='imagenet',\n",
        "                  include_top=False,\n",
        "                  input_shape=(150, 150, 3))"
      ],
      "execution_count": 2,
      "outputs": [
        {
          "output_type": "stream",
          "text": [
            "Downloading data from https://storage.googleapis.com/tensorflow/keras-applications/vgg16/vgg16_weights_tf_dim_ordering_tf_kernels_notop.h5\n",
            "58892288/58889256 [==============================] - 1s 0us/step\n"
          ],
          "name": "stdout"
        }
      ]
    },
    {
      "cell_type": "markdown",
      "metadata": {
        "id": "mwio7gksQQhe"
      },
      "source": [
        "We passed three arguments to the constructor:\n",
        "\n",
        "* `weights`, to specify which weight checkpoint to initialize the model from\n",
        "* `include_top`, which refers to including or not the densely-connected classifier on top of the network. By default, this \n",
        "densely-connected classifier would correspond to the 1000 classes from ImageNet. Since we intend to use our own densely-connected \n",
        "classifier (with only two classes, cat and dog), we don't need to include it.\n",
        "* `input_shape`, the shape of the image tensors that we will feed to the network. This argument is purely optional: if we don't pass it, \n",
        "then the network will be able to process inputs of any size.\n",
        "\n",
        "Here's the detail of the architecture of the VGG16 convolutional base: it's very similar to the simple convnets that you are already \n",
        "familiar with."
      ]
    },
    {
      "cell_type": "code",
      "metadata": {
        "colab": {
          "base_uri": "https://localhost:8080/"
        },
        "id": "v4xuc2NHQQhe",
        "outputId": "f98f2e72-541a-4ccf-d65d-bf4c9a7fe9e0"
      },
      "source": [
        "conv_base.summary()"
      ],
      "execution_count": 3,
      "outputs": [
        {
          "output_type": "stream",
          "text": [
            "Model: \"vgg16\"\n",
            "_________________________________________________________________\n",
            "Layer (type)                 Output Shape              Param #   \n",
            "=================================================================\n",
            "input_1 (InputLayer)         [(None, 150, 150, 3)]     0         \n",
            "_________________________________________________________________\n",
            "block1_conv1 (Conv2D)        (None, 150, 150, 64)      1792      \n",
            "_________________________________________________________________\n",
            "block1_conv2 (Conv2D)        (None, 150, 150, 64)      36928     \n",
            "_________________________________________________________________\n",
            "block1_pool (MaxPooling2D)   (None, 75, 75, 64)        0         \n",
            "_________________________________________________________________\n",
            "block2_conv1 (Conv2D)        (None, 75, 75, 128)       73856     \n",
            "_________________________________________________________________\n",
            "block2_conv2 (Conv2D)        (None, 75, 75, 128)       147584    \n",
            "_________________________________________________________________\n",
            "block2_pool (MaxPooling2D)   (None, 37, 37, 128)       0         \n",
            "_________________________________________________________________\n",
            "block3_conv1 (Conv2D)        (None, 37, 37, 256)       295168    \n",
            "_________________________________________________________________\n",
            "block3_conv2 (Conv2D)        (None, 37, 37, 256)       590080    \n",
            "_________________________________________________________________\n",
            "block3_conv3 (Conv2D)        (None, 37, 37, 256)       590080    \n",
            "_________________________________________________________________\n",
            "block3_pool (MaxPooling2D)   (None, 18, 18, 256)       0         \n",
            "_________________________________________________________________\n",
            "block4_conv1 (Conv2D)        (None, 18, 18, 512)       1180160   \n",
            "_________________________________________________________________\n",
            "block4_conv2 (Conv2D)        (None, 18, 18, 512)       2359808   \n",
            "_________________________________________________________________\n",
            "block4_conv3 (Conv2D)        (None, 18, 18, 512)       2359808   \n",
            "_________________________________________________________________\n",
            "block4_pool (MaxPooling2D)   (None, 9, 9, 512)         0         \n",
            "_________________________________________________________________\n",
            "block5_conv1 (Conv2D)        (None, 9, 9, 512)         2359808   \n",
            "_________________________________________________________________\n",
            "block5_conv2 (Conv2D)        (None, 9, 9, 512)         2359808   \n",
            "_________________________________________________________________\n",
            "block5_conv3 (Conv2D)        (None, 9, 9, 512)         2359808   \n",
            "_________________________________________________________________\n",
            "block5_pool (MaxPooling2D)   (None, 4, 4, 512)         0         \n",
            "=================================================================\n",
            "Total params: 14,714,688\n",
            "Trainable params: 14,714,688\n",
            "Non-trainable params: 0\n",
            "_________________________________________________________________\n"
          ],
          "name": "stdout"
        }
      ]
    },
    {
      "cell_type": "markdown",
      "metadata": {
        "id": "ibLJ0-zQQQhe"
      },
      "source": [
        "The final feature map has shape `(4, 4, 512)`. That's the feature on top of which we will stick a densely-connected classifier.\n",
        "\n",
        "At this point, there are two ways we could proceed: \n",
        "\n",
        "* Running the convolutional base over our dataset, recording its output to a Numpy array on disk, then using this data as input to a \n",
        "standalone densely-connected classifier similar to those you have seen in the first chapters of this book. This solution is very fast and \n",
        "cheap to run, because it only requires running the convolutional base once for every input image, and the convolutional base is by far the \n",
        "most expensive part of the pipeline. However, for the exact same reason, this technique would not allow us to leverage data augmentation at \n",
        "all.\n",
        "* Extending the model we have (`conv_base`) by adding `Dense` layers on top, and running the whole thing end-to-end on the input data. This \n",
        "allows us to use data augmentation, because every input image is going through the convolutional base every time it is seen by the model. \n",
        "However, for this same reason, this technique is far more expensive than the first one.\n",
        "\n",
        "We will cover both techniques. Let's walk through the code required to set-up the first one: recording the output of `conv_base` on our \n",
        "data and using these outputs as inputs to a new model.\n",
        "\n",
        "We will start by simply running instances of the previously-introduced `ImageDataGenerator` to extract images as Numpy arrays as well as \n",
        "their labels. We will extract features from these images simply by calling the `predict` method of the `conv_base` model."
      ]
    },
    {
      "cell_type": "code",
      "metadata": {
        "colab": {
          "base_uri": "https://localhost:8080/"
        },
        "id": "A0GwfzmiQkX5",
        "outputId": "f0fc505c-c17d-4c86-e2f1-101649ce2f6a"
      },
      "source": [
        "import os\n",
        "\n",
        "_URL = 'https://storage.googleapis.com/mledu-datasets/cats_and_dogs_filtered.zip'\n",
        "path_to_zip = tf.keras.utils.get_file('cats_and_dogs.zip', origin=_URL, extract=True, cache_dir='.')\n",
        "print(path_to_zip)\n",
        "base_dir = os.path.join(os.path.dirname(path_to_zip), 'cats_and_dogs_filtered')\n",
        "\n"
      ],
      "execution_count": 7,
      "outputs": [
        {
          "output_type": "stream",
          "text": [
            "./datasets/cats_and_dogs.zip\n"
          ],
          "name": "stdout"
        }
      ]
    },
    {
      "cell_type": "code",
      "metadata": {
        "colab": {
          "base_uri": "https://localhost:8080/"
        },
        "id": "dH5YiSSRQQhf",
        "outputId": "ed5c7a7c-83fb-4bd1-efcc-2abd134104bb"
      },
      "source": [
        "import os\n",
        "import numpy as np\n",
        "from tensorflow.keras.preprocessing.image import ImageDataGenerator\n",
        "\n",
        "#base_dir = '/Users/fchollet/Downloads/cats_and_dogs_small'\n",
        "\n",
        "train_dir = os.path.join(base_dir, 'train')\n",
        "validation_dir = os.path.join(base_dir, 'validation')\n",
        "#test_dir = os.path.join(base_dir, 'test')\n",
        "\n",
        "datagen = ImageDataGenerator(rescale=1./255)\n",
        "batch_size = 20\n",
        "\n",
        "def extract_features(directory, sample_count):\n",
        "    features = np.zeros(shape=(sample_count, 4, 4, 512))\n",
        "    labels = np.zeros(shape=(sample_count))\n",
        "    generator = datagen.flow_from_directory(\n",
        "        directory,\n",
        "        target_size=(150, 150),\n",
        "        batch_size=batch_size,\n",
        "        class_mode='binary')\n",
        "    i = 0\n",
        "    for inputs_batch, labels_batch in generator:\n",
        "        features_batch = conv_base.predict(inputs_batch)\n",
        "        features[i * batch_size : (i + 1) * batch_size] = features_batch\n",
        "        labels[i * batch_size : (i + 1) * batch_size] = labels_batch\n",
        "        i += 1\n",
        "        if i * batch_size >= sample_count:\n",
        "            # Note that since generators yield data indefinitely in a loop,\n",
        "            # we must `break` after every image has been seen once.\n",
        "            break\n",
        "    return features, labels\n",
        "\n",
        "train_features, train_labels = extract_features(train_dir, 2000)\n",
        "validation_features, validation_labels = extract_features(validation_dir, 1000)\n",
        "#test_features, test_labels = extract_features(test_dir, 1000)"
      ],
      "execution_count": 9,
      "outputs": [
        {
          "output_type": "stream",
          "text": [
            "Found 2000 images belonging to 2 classes.\n",
            "Found 1000 images belonging to 2 classes.\n"
          ],
          "name": "stdout"
        }
      ]
    },
    {
      "cell_type": "markdown",
      "metadata": {
        "id": "xIEVggfKQQhg"
      },
      "source": [
        "The extracted features are currently of shape `(samples, 4, 4, 512)`. We will feed them to a densely-connected classifier, so first we must \n",
        "flatten them to `(samples, 8192)`:"
      ]
    },
    {
      "cell_type": "code",
      "metadata": {
        "collapsed": true,
        "jupyter": {
          "outputs_hidden": true
        },
        "id": "PhMhGdjMQQhg"
      },
      "source": [
        "train_features = np.reshape(train_features, (2000, 4 * 4 * 512))\n",
        "validation_features = np.reshape(validation_features, (1000, 4 * 4 * 512))\n",
        "#test_features = np.reshape(test_features, (1000, 4 * 4 * 512))"
      ],
      "execution_count": 11,
      "outputs": []
    },
    {
      "cell_type": "markdown",
      "metadata": {
        "id": "RYqLPrsfQQhg"
      },
      "source": [
        "At this point, we can define our densely-connected classifier (note the use of dropout for regularization), and train it on the data and \n",
        "labels that we just recorded:"
      ]
    },
    {
      "cell_type": "code",
      "metadata": {
        "colab": {
          "base_uri": "https://localhost:8080/"
        },
        "id": "7lyxtkc8QQhg",
        "outputId": "0745eca2-a0c4-4140-c168-377d755748b2"
      },
      "source": [
        "from tensorflow.keras import models\n",
        "from tensorflow.keras import layers\n",
        "from tensorflow.keras import optimizers\n",
        "\n",
        "model = models.Sequential()\n",
        "model.add(layers.Dense(256, activation='relu', input_dim=4 * 4 * 512))\n",
        "model.add(layers.Dropout(0.5))\n",
        "model.add(layers.Dense(1, activation='sigmoid'))\n",
        "\n",
        "model.compile(optimizer=optimizers.RMSprop(lr=2e-5),\n",
        "              loss='binary_crossentropy',\n",
        "              metrics=['acc'])\n",
        "\n",
        "history = model.fit(train_features, train_labels,\n",
        "                    epochs=30,\n",
        "                    batch_size=20,\n",
        "                    validation_data=(validation_features, validation_labels))"
      ],
      "execution_count": 12,
      "outputs": [
        {
          "output_type": "stream",
          "text": [
            "Epoch 1/30\n",
            "100/100 [==============================] - 1s 5ms/step - loss: 0.6869 - acc: 0.5821 - val_loss: 0.4450 - val_acc: 0.8170\n",
            "Epoch 2/30\n",
            "100/100 [==============================] - 0s 4ms/step - loss: 0.4710 - acc: 0.7812 - val_loss: 0.3666 - val_acc: 0.8490\n",
            "Epoch 3/30\n",
            "100/100 [==============================] - 0s 4ms/step - loss: 0.3665 - acc: 0.8468 - val_loss: 0.3313 - val_acc: 0.8660\n",
            "Epoch 4/30\n",
            "100/100 [==============================] - 0s 4ms/step - loss: 0.3235 - acc: 0.8620 - val_loss: 0.3086 - val_acc: 0.8760\n",
            "Epoch 5/30\n",
            "100/100 [==============================] - 0s 4ms/step - loss: 0.2772 - acc: 0.8895 - val_loss: 0.2968 - val_acc: 0.8750\n",
            "Epoch 6/30\n",
            "100/100 [==============================] - 0s 4ms/step - loss: 0.2739 - acc: 0.8726 - val_loss: 0.2897 - val_acc: 0.8780\n",
            "Epoch 7/30\n",
            "100/100 [==============================] - 0s 3ms/step - loss: 0.2555 - acc: 0.8951 - val_loss: 0.2823 - val_acc: 0.8760\n",
            "Epoch 8/30\n",
            "100/100 [==============================] - 0s 4ms/step - loss: 0.2372 - acc: 0.9091 - val_loss: 0.2768 - val_acc: 0.8750\n",
            "Epoch 9/30\n",
            "100/100 [==============================] - 0s 4ms/step - loss: 0.2117 - acc: 0.9194 - val_loss: 0.2736 - val_acc: 0.8750\n",
            "Epoch 10/30\n",
            "100/100 [==============================] - 0s 4ms/step - loss: 0.2182 - acc: 0.9171 - val_loss: 0.2714 - val_acc: 0.8860\n",
            "Epoch 11/30\n",
            "100/100 [==============================] - 0s 4ms/step - loss: 0.2053 - acc: 0.9248 - val_loss: 0.2748 - val_acc: 0.8710\n",
            "Epoch 12/30\n",
            "100/100 [==============================] - 0s 3ms/step - loss: 0.1905 - acc: 0.9283 - val_loss: 0.2655 - val_acc: 0.8770\n",
            "Epoch 13/30\n",
            "100/100 [==============================] - 0s 3ms/step - loss: 0.1799 - acc: 0.9346 - val_loss: 0.2650 - val_acc: 0.8770\n",
            "Epoch 14/30\n",
            "100/100 [==============================] - 0s 3ms/step - loss: 0.1689 - acc: 0.9401 - val_loss: 0.2626 - val_acc: 0.8790\n",
            "Epoch 15/30\n",
            "100/100 [==============================] - 0s 3ms/step - loss: 0.1694 - acc: 0.9377 - val_loss: 0.2645 - val_acc: 0.8830\n",
            "Epoch 16/30\n",
            "100/100 [==============================] - 0s 3ms/step - loss: 0.1764 - acc: 0.9337 - val_loss: 0.2595 - val_acc: 0.8810\n",
            "Epoch 17/30\n",
            "100/100 [==============================] - 0s 4ms/step - loss: 0.1481 - acc: 0.9507 - val_loss: 0.2597 - val_acc: 0.8800\n",
            "Epoch 18/30\n",
            "100/100 [==============================] - 0s 3ms/step - loss: 0.1471 - acc: 0.9496 - val_loss: 0.2578 - val_acc: 0.8830\n",
            "Epoch 19/30\n",
            "100/100 [==============================] - 0s 3ms/step - loss: 0.1449 - acc: 0.9455 - val_loss: 0.2605 - val_acc: 0.8850\n",
            "Epoch 20/30\n",
            "100/100 [==============================] - 0s 3ms/step - loss: 0.1354 - acc: 0.9612 - val_loss: 0.2650 - val_acc: 0.8790\n",
            "Epoch 21/30\n",
            "100/100 [==============================] - 0s 3ms/step - loss: 0.1219 - acc: 0.9601 - val_loss: 0.2578 - val_acc: 0.8820\n",
            "Epoch 22/30\n",
            "100/100 [==============================] - 0s 3ms/step - loss: 0.1219 - acc: 0.9558 - val_loss: 0.2583 - val_acc: 0.8840\n",
            "Epoch 23/30\n",
            "100/100 [==============================] - 0s 4ms/step - loss: 0.1071 - acc: 0.9701 - val_loss: 0.2588 - val_acc: 0.8850\n",
            "Epoch 24/30\n",
            "100/100 [==============================] - 0s 4ms/step - loss: 0.1224 - acc: 0.9559 - val_loss: 0.2583 - val_acc: 0.8840\n",
            "Epoch 25/30\n",
            "100/100 [==============================] - 0s 3ms/step - loss: 0.1002 - acc: 0.9706 - val_loss: 0.2614 - val_acc: 0.8870\n",
            "Epoch 26/30\n",
            "100/100 [==============================] - 0s 3ms/step - loss: 0.1035 - acc: 0.9669 - val_loss: 0.2597 - val_acc: 0.8830\n",
            "Epoch 27/30\n",
            "100/100 [==============================] - 0s 3ms/step - loss: 0.1003 - acc: 0.9672 - val_loss: 0.2604 - val_acc: 0.8870\n",
            "Epoch 28/30\n",
            "100/100 [==============================] - 0s 4ms/step - loss: 0.0933 - acc: 0.9722 - val_loss: 0.2613 - val_acc: 0.8880\n",
            "Epoch 29/30\n",
            "100/100 [==============================] - 0s 3ms/step - loss: 0.0931 - acc: 0.9682 - val_loss: 0.2608 - val_acc: 0.8870\n",
            "Epoch 30/30\n",
            "100/100 [==============================] - 0s 3ms/step - loss: 0.0896 - acc: 0.9743 - val_loss: 0.2609 - val_acc: 0.8810\n"
          ],
          "name": "stdout"
        }
      ]
    },
    {
      "cell_type": "markdown",
      "metadata": {
        "id": "XValpPZNQQhh"
      },
      "source": [
        "Training is very fast, since we only have to deal with two `Dense` layers -- an epoch takes less than one second even on CPU.\n",
        "\n",
        "Let's take a look at the loss and accuracy curves during training:"
      ]
    },
    {
      "cell_type": "code",
      "metadata": {
        "colab": {
          "base_uri": "https://localhost:8080/",
          "height": 545
        },
        "id": "4oO9ZsdsQQhh",
        "outputId": "1e0cfd60-b5ca-43d9-b497-a3fdc36e324b"
      },
      "source": [
        "import matplotlib.pyplot as plt\n",
        "\n",
        "acc = history.history['acc']\n",
        "val_acc = history.history['val_acc']\n",
        "loss = history.history['loss']\n",
        "val_loss = history.history['val_loss']\n",
        "\n",
        "epochs = range(len(acc))\n",
        "\n",
        "plt.plot(epochs, acc, 'bo', label='Training acc')\n",
        "plt.plot(epochs, val_acc, 'b', label='Validation acc')\n",
        "plt.title('Training and validation accuracy')\n",
        "plt.legend()\n",
        "\n",
        "plt.figure()\n",
        "\n",
        "plt.plot(epochs, loss, 'bo', label='Training loss')\n",
        "plt.plot(epochs, val_loss, 'b', label='Validation loss')\n",
        "plt.title('Training and validation loss')\n",
        "plt.legend()\n",
        "\n",
        "plt.show()"
      ],
      "execution_count": 13,
      "outputs": [
        {
          "output_type": "display_data",
          "data": {
            "image/png": "[encoded data removed]",
            "text/plain": [
              "<Figure size 432x288 with 1 Axes>"
            ]
          },
          "metadata": {
            "tags": [],
            "needs_background": "light"
          }
        },
        {
          "output_type": "display_data",
          "data": {
            "image/png": "[encoded data removed]",
            "text/plain": [
              "<Figure size 432x288 with 1 Axes>"
            ]
          },
          "metadata": {
            "tags": [],
            "needs_background": "light"
          }
        }
      ]
    },
    {
      "cell_type": "markdown",
      "metadata": {
        "id": "7nfP6h5gQQhh"
      },
      "source": [
        "\n",
        "We reach a validation accuracy of about 90%, much better than what we could achieve in the previous section with our small model trained from \n",
        "scratch. However, our plots also indicate that we are overfitting almost from the start -- despite using dropout with a fairly large rate. \n",
        "This is because this technique does not leverage data augmentation, which is essential to preventing overfitting with small image datasets.\n",
        "\n",
        "Now, let's review the second technique we mentioned for doing feature extraction, which is much slower and more expensive, but which allows \n",
        "us to leverage data augmentation during training: extending the `conv_base` model and running it end-to-end on the inputs. Note that this \n",
        "technique is in fact so expensive that you should only attempt it if you have access to a GPU: it is absolutely intractable on CPU. If you \n",
        "cannot run your code on GPU, then the previous technique is the way to go.\n",
        "\n",
        "Because models behave just like layers, you can add a model (like our `conv_base`) to a `Sequential` model just like you would add a layer. \n",
        "So you can do the following:"
      ]
    },
    {
      "cell_type": "code",
      "metadata": {
        "collapsed": true,
        "jupyter": {
          "outputs_hidden": true
        },
        "id": "ssFYzDf6QQhh"
      },
      "source": [
        "from tensorflow.keras import models\n",
        "from tensorflow.keras import layers\n",
        "\n",
        "model = models.Sequential()\n",
        "model.add(conv_base)\n",
        "model.add(layers.Flatten())\n",
        "model.add(layers.Dense(256, activation='relu'))\n",
        "model.add(layers.Dense(1, activation='sigmoid'))"
      ],
      "execution_count": 14,
      "outputs": []
    },
    {
      "cell_type": "markdown",
      "metadata": {
        "id": "bqhz7sc_QQhh"
      },
      "source": [
        "This is what our model looks like now:"
      ]
    },
    {
      "cell_type": "code",
      "metadata": {
        "colab": {
          "base_uri": "https://localhost:8080/"
        },
        "id": "6WFKI2COQQhi",
        "outputId": "ed03dcea-b9cb-4e64-e55f-4aba04caffd1"
      },
      "source": [
        "model.summary()"
      ],
      "execution_count": 15,
      "outputs": [
        {
          "output_type": "stream",
          "text": [
            "Model: \"sequential_2\"\n",
            "_________________________________________________________________\n",
            "Layer (type)                 Output Shape              Param #   \n",
            "=================================================================\n",
            "vgg16 (Functional)           (None, 4, 4, 512)         14714688  \n",
            "_________________________________________________________________\n",
            "flatten (Flatten)            (None, 8192)              0         \n",
            "_________________________________________________________________\n",
            "dense_4 (Dense)              (None, 256)               2097408   \n",
            "_________________________________________________________________\n",
            "dense_5 (Dense)              (None, 1)                 257       \n",
            "=================================================================\n",
            "Total params: 16,812,353\n",
            "Trainable params: 16,812,353\n",
            "Non-trainable params: 0\n",
            "_________________________________________________________________\n"
          ],
          "name": "stdout"
        }
      ]
    },
    {
      "cell_type": "markdown",
      "metadata": {
        "id": "2CzReIaUQQhi"
      },
      "source": [
        "As you can see, the convolutional base of VGG16 has 14,714,688 parameters, which is very large. The classifier we are adding on top has 2 \n",
        "million parameters.\n",
        "\n",
        "Before we compile and train our model, a very important thing to do is to freeze the convolutional base. \"Freezing\" a layer or set of \n",
        "layers means preventing their weights from getting updated during training. If we don't do this, then the representations that were \n",
        "previously learned by the convolutional base would get modified during training. Since the `Dense` layers on top are randomly initialized, \n",
        "very large weight updates would be propagated through the network, effectively destroying the representations previously learned.\n",
        "\n",
        "In Keras, freezing a network is done by setting its `trainable` attribute to `False`:"
      ]
    },
    {
      "cell_type": "code",
      "metadata": {
        "colab": {
          "base_uri": "https://localhost:8080/"
        },
        "id": "eotNGYacQQhi",
        "outputId": "ba221022-f9ae-4954-e9bf-90d069d9377f"
      },
      "source": [
        "print('This is the number of trainable weights '\n",
        "      'before freezing the conv base:', len(model.trainable_weights))"
      ],
      "execution_count": 16,
      "outputs": [
        {
          "output_type": "stream",
          "text": [
            "This is the number of trainable weights before freezing the conv base: 30\n"
          ],
          "name": "stdout"
        }
      ]
    },
    {
      "cell_type": "code",
      "metadata": {
        "collapsed": true,
        "jupyter": {
          "outputs_hidden": true
        },
        "id": "sHly04oqQQhi"
      },
      "source": [
        "conv_base.trainable = False"
      ],
      "execution_count": 17,
      "outputs": []
    },
    {
      "cell_type": "code",
      "metadata": {
        "colab": {
          "base_uri": "https://localhost:8080/"
        },
        "id": "s0AxQTxLQQhi",
        "outputId": "8dc865bd-490e-439c-bf8a-9cf8fa8ad132"
      },
      "source": [
        "print('This is the number of trainable weights '\n",
        "      'after freezing the conv base:', len(model.trainable_weights))"
      ],
      "execution_count": 18,
      "outputs": [
        {
          "output_type": "stream",
          "text": [
            "This is the number of trainable weights after freezing the conv base: 4\n"
          ],
          "name": "stdout"
        }
      ]
    },
    {
      "cell_type": "markdown",
      "metadata": {
        "id": "ZKnEN4cmQQhj"
      },
      "source": [
        "With this setup, only the weights from the two `Dense` layers that we added will be trained. That's a total of four weight tensors: two per \n",
        "layer (the main weight matrix and the bias vector). Note that in order for these changes to take effect, we must first compile the model. \n",
        "If you ever modify weight trainability after compilation, you should then re-compile the model, or these changes would be ignored.\n",
        "\n",
        "Now we can start training our model, with the same data augmentation configuration that we used in our previous example:"
      ]
    },
    {
      "cell_type": "code",
      "metadata": {
        "colab": {
          "base_uri": "https://localhost:8080/"
        },
        "id": "XYWV8DsdQQhj",
        "outputId": "1de11002-a619-409e-b033-6e1b98de95db"
      },
      "source": [
        "from keras.preprocessing.image import ImageDataGenerator\n",
        "\n",
        "train_datagen = ImageDataGenerator(\n",
        "      rescale=1./255,\n",
        "      rotation_range=40,\n",
        "      width_shift_range=0.2,\n",
        "      height_shift_range=0.2,\n",
        "      shear_range=0.2,\n",
        "      zoom_range=0.2,\n",
        "      horizontal_flip=True,\n",
        "      fill_mode='nearest')\n",
        "\n",
        "# Note that the validation data should not be augmented!\n",
        "test_datagen = ImageDataGenerator(rescale=1./255)\n",
        "\n",
        "train_generator = train_datagen.flow_from_directory(\n",
        "        # This is the target directory\n",
        "        train_dir,\n",
        "        # All images will be resized to 150x150\n",
        "        target_size=(150, 150),\n",
        "        batch_size=20,\n",
        "        # Since we use binary_crossentropy loss, we need binary labels\n",
        "        class_mode='binary')\n",
        "\n",
        "validation_generator = test_datagen.flow_from_directory(\n",
        "        validation_dir,\n",
        "        target_size=(150, 150),\n",
        "        batch_size=20,\n",
        "        class_mode='binary')\n",
        "\n",
        "model.compile(loss='binary_crossentropy',\n",
        "              optimizer=optimizers.RMSprop(lr=2e-5),\n",
        "              metrics=['acc'])\n",
        "\n",
        "history = model.fit(\n",
        "      train_generator,\n",
        "      steps_per_epoch=100,\n",
        "      epochs=30,\n",
        "      validation_data=validation_generator,\n",
        "      validation_steps=50,\n",
        "      verbose=2)"
      ],
      "execution_count": 20,
      "outputs": [
        {
          "output_type": "stream",
          "text": [
            "Found 2000 images belonging to 2 classes.\n",
            "Found 1000 images belonging to 2 classes.\n",
            "Epoch 1/30\n",
            "100/100 - 19s - loss: 0.4684 - acc: 0.7850 - val_loss: 0.3591 - val_acc: 0.8550\n",
            "Epoch 2/30\n",
            "100/100 - 18s - loss: 0.4245 - acc: 0.8085 - val_loss: 0.3277 - val_acc: 0.8560\n",
            "Epoch 3/30\n",
            "100/100 - 18s - loss: 0.3923 - acc: 0.8315 - val_loss: 0.3095 - val_acc: 0.8710\n",
            "Epoch 4/30\n",
            "100/100 - 18s - loss: 0.3730 - acc: 0.8460 - val_loss: 0.2978 - val_acc: 0.8720\n",
            "Epoch 5/30\n",
            "100/100 - 18s - loss: 0.3646 - acc: 0.8385 - val_loss: 0.3052 - val_acc: 0.8660\n",
            "Epoch 6/30\n",
            "100/100 - 18s - loss: 0.3584 - acc: 0.8370 - val_loss: 0.2868 - val_acc: 0.8800\n",
            "Epoch 7/30\n",
            "100/100 - 18s - loss: 0.3447 - acc: 0.8525 - val_loss: 0.2855 - val_acc: 0.8740\n",
            "Epoch 8/30\n",
            "100/100 - 18s - loss: 0.3337 - acc: 0.8495 - val_loss: 0.2751 - val_acc: 0.8830\n",
            "Epoch 9/30\n",
            "100/100 - 18s - loss: 0.3425 - acc: 0.8450 - val_loss: 0.2966 - val_acc: 0.8680\n",
            "Epoch 10/30\n",
            "100/100 - 18s - loss: 0.3383 - acc: 0.8520 - val_loss: 0.2704 - val_acc: 0.8840\n",
            "Epoch 11/30\n",
            "100/100 - 18s - loss: 0.3177 - acc: 0.8680 - val_loss: 0.2665 - val_acc: 0.8840\n",
            "Epoch 12/30\n",
            "100/100 - 18s - loss: 0.3337 - acc: 0.8500 - val_loss: 0.2744 - val_acc: 0.8940\n",
            "Epoch 13/30\n",
            "100/100 - 18s - loss: 0.3152 - acc: 0.8560 - val_loss: 0.2666 - val_acc: 0.8830\n",
            "Epoch 14/30\n",
            "100/100 - 18s - loss: 0.3181 - acc: 0.8550 - val_loss: 0.2622 - val_acc: 0.8880\n",
            "Epoch 15/30\n",
            "100/100 - 18s - loss: 0.3165 - acc: 0.8620 - val_loss: 0.2564 - val_acc: 0.8860\n",
            "Epoch 16/30\n",
            "100/100 - 18s - loss: 0.3124 - acc: 0.8660 - val_loss: 0.2582 - val_acc: 0.8920\n",
            "Epoch 17/30\n",
            "100/100 - 18s - loss: 0.2968 - acc: 0.8720 - val_loss: 0.2789 - val_acc: 0.8850\n",
            "Epoch 18/30\n",
            "100/100 - 18s - loss: 0.2936 - acc: 0.8740 - val_loss: 0.2558 - val_acc: 0.8910\n",
            "Epoch 19/30\n",
            "100/100 - 18s - loss: 0.2864 - acc: 0.8730 - val_loss: 0.2779 - val_acc: 0.8880\n",
            "Epoch 20/30\n",
            "100/100 - 18s - loss: 0.2976 - acc: 0.8695 - val_loss: 0.2562 - val_acc: 0.8860\n",
            "Epoch 21/30\n",
            "100/100 - 18s - loss: 0.3054 - acc: 0.8740 - val_loss: 0.2528 - val_acc: 0.8930\n",
            "Epoch 22/30\n",
            "100/100 - 18s - loss: 0.2954 - acc: 0.8690 - val_loss: 0.2571 - val_acc: 0.8920\n",
            "Epoch 23/30\n",
            "100/100 - 18s - loss: 0.2919 - acc: 0.8710 - val_loss: 0.2605 - val_acc: 0.8970\n",
            "Epoch 24/30\n",
            "100/100 - 18s - loss: 0.2978 - acc: 0.8675 - val_loss: 0.2579 - val_acc: 0.8940\n",
            "Epoch 25/30\n",
            "100/100 - 18s - loss: 0.3056 - acc: 0.8690 - val_loss: 0.2543 - val_acc: 0.8960\n",
            "Epoch 26/30\n",
            "100/100 - 18s - loss: 0.2824 - acc: 0.8810 - val_loss: 0.2553 - val_acc: 0.8880\n",
            "Epoch 27/30\n",
            "100/100 - 18s - loss: 0.2875 - acc: 0.8775 - val_loss: 0.2533 - val_acc: 0.8910\n",
            "Epoch 28/30\n",
            "100/100 - 18s - loss: 0.2936 - acc: 0.8655 - val_loss: 0.2532 - val_acc: 0.8960\n",
            "Epoch 29/30\n",
            "100/100 - 18s - loss: 0.2805 - acc: 0.8745 - val_loss: 0.2650 - val_acc: 0.8970\n",
            "Epoch 30/30\n",
            "100/100 - 18s - loss: 0.2821 - acc: 0.8810 - val_loss: 0.2500 - val_acc: 0.8900\n"
          ],
          "name": "stdout"
        }
      ]
    },
    {
      "cell_type": "code",
      "metadata": {
        "collapsed": true,
        "jupyter": {
          "outputs_hidden": true
        },
        "id": "Xil2oKS3QQhj"
      },
      "source": [
        "model.save('cats_and_dogs_small_3.h5')"
      ],
      "execution_count": 21,
      "outputs": []
    },
    {
      "cell_type": "markdown",
      "metadata": {
        "id": "_RXA0wzhQQhj"
      },
      "source": [
        "Let's plot our results again:"
      ]
    },
    {
      "cell_type": "code",
      "metadata": {
        "colab": {
          "base_uri": "https://localhost:8080/",
          "height": 545
        },
        "id": "OUe8KFGmQQhj",
        "outputId": "25235336-22d4-4b20-f42e-d78b75ea2793"
      },
      "source": [
        "acc = history.history['acc']\n",
        "val_acc = history.history['val_acc']\n",
        "loss = history.history['loss']\n",
        "val_loss = history.history['val_loss']\n",
        "\n",
        "epochs = range(len(acc))\n",
        "\n",
        "plt.plot(epochs, acc, 'bo', label='Training acc')\n",
        "plt.plot(epochs, val_acc, 'b', label='Validation acc')\n",
        "plt.title('Training and validation accuracy')\n",
        "plt.legend()\n",
        "\n",
        "plt.figure()\n",
        "\n",
        "plt.plot(epochs, loss, 'bo', label='Training loss')\n",
        "plt.plot(epochs, val_loss, 'b', label='Validation loss')\n",
        "plt.title('Training and validation loss')\n",
        "plt.legend()\n",
        "\n",
        "plt.show()"
      ],
      "execution_count": 22,
      "outputs": [
        {
          "output_type": "display_data",
          "data": {
            "image/png": "[encoded data removed]",
            "text/plain": [
              "<Figure size 432x288 with 1 Axes>"
            ]
          },
          "metadata": {
            "tags": [],
            "needs_background": "light"
          }
        },
        {
          "output_type": "display_data",
          "data": {
            "image/png": "[encoded data removed]",
            "text/plain": [
              "<Figure size 432x288 with 1 Axes>"
            ]
          },
          "metadata": {
            "tags": [],
            "needs_background": "light"
          }
        }
      ]
    },
    {
      "cell_type": "markdown",
      "metadata": {
        "id": "BXhel9fvQQhk"
      },
      "source": [
        "As you can see, we reach a validation accuracy of about 96%. This is much better than our small convnet trained from scratch."
      ]
    },
    {
      "cell_type": "markdown",
      "metadata": {
        "id": "ZFuWZ9YpQQhk"
      },
      "source": [
        "## Fine-tuning\n",
        "\n",
        "Another widely used technique for model reuse, complementary to feature extraction, is _fine-tuning_. \n",
        "Fine-tuning consists in unfreezing a few of the top layers \n",
        "of a frozen model base used for feature extraction, and jointly training both the newly added part of the model (in our case, the \n",
        "fully-connected classifier) and these top layers. This is called \"fine-tuning\" because it slightly adjusts the more abstract \n",
        "representations of the model being reused, in order to make them more relevant for the problem at hand.\n",
        "\n",
        "![fine-tuning VGG16](https://s3.amazonaws.com/book.keras.io/img/ch5/vgg16_fine_tuning.png)"
      ]
    },
    {
      "cell_type": "markdown",
      "metadata": {
        "id": "SBCvJWSYQQhk"
      },
      "source": [
        "We have stated before that it was necessary to freeze the convolution base of VGG16 in order to be able to train a randomly initialized \n",
        "classifier on top. For the same reason, it is only possible to fine-tune the top layers of the convolutional base once the classifier on \n",
        "top has already been trained. If the classified wasn't already trained, then the error signal propagating through the network during \n",
        "training would be too large, and the representations previously learned by the layers being fine-tuned would be destroyed. Thus the steps \n",
        "for fine-tuning a network are as follow:\n",
        "\n",
        "* 1) Add your custom network on top of an already trained base network.\n",
        "* 2) Freeze the base network.\n",
        "* 3) Train the part you added.\n",
        "* 4) Unfreeze some layers in the base network.\n",
        "* 5) Jointly train both these layers and the part you added.\n",
        "\n",
        "We have already completed the first 3 steps when doing feature extraction. Let's proceed with the 4th step: we will unfreeze our `conv_base`, \n",
        "and then freeze individual layers inside of it.\n",
        "\n",
        "As a reminder, this is what our convolutional base looks like:"
      ]
    },
    {
      "cell_type": "code",
      "metadata": {
        "colab": {
          "base_uri": "https://localhost:8080/"
        },
        "id": "Caa2GVnCQQhk",
        "outputId": "09710386-9c8e-4655-da9c-f68bbd1ac192"
      },
      "source": [
        "conv_base.summary()"
      ],
      "execution_count": 23,
      "outputs": [
        {
          "output_type": "stream",
          "text": [
            "Model: \"vgg16\"\n",
            "_________________________________________________________________\n",
            "Layer (type)                 Output Shape              Param #   \n",
            "=================================================================\n",
            "input_1 (InputLayer)         [(None, 150, 150, 3)]     0         \n",
            "_________________________________________________________________\n",
            "block1_conv1 (Conv2D)        (None, 150, 150, 64)      1792      \n",
            "_________________________________________________________________\n",
            "block1_conv2 (Conv2D)        (None, 150, 150, 64)      36928     \n",
            "_________________________________________________________________\n",
            "block1_pool (MaxPooling2D)   (None, 75, 75, 64)        0         \n",
            "_________________________________________________________________\n",
            "block2_conv1 (Conv2D)        (None, 75, 75, 128)       73856     \n",
            "_________________________________________________________________\n",
            "block2_conv2 (Conv2D)        (None, 75, 75, 128)       147584    \n",
            "_________________________________________________________________\n",
            "block2_pool (MaxPooling2D)   (None, 37, 37, 128)       0         \n",
            "_________________________________________________________________\n",
            "block3_conv1 (Conv2D)        (None, 37, 37, 256)       295168    \n",
            "_________________________________________________________________\n",
            "block3_conv2 (Conv2D)        (None, 37, 37, 256)       590080    \n",
            "_________________________________________________________________\n",
            "block3_conv3 (Conv2D)        (None, 37, 37, 256)       590080    \n",
            "_________________________________________________________________\n",
            "block3_pool (MaxPooling2D)   (None, 18, 18, 256)       0         \n",
            "_________________________________________________________________\n",
            "block4_conv1 (Conv2D)        (None, 18, 18, 512)       1180160   \n",
            "_________________________________________________________________\n",
            "block4_conv2 (Conv2D)        (None, 18, 18, 512)       2359808   \n",
            "_________________________________________________________________\n",
            "block4_conv3 (Conv2D)        (None, 18, 18, 512)       2359808   \n",
            "_________________________________________________________________\n",
            "block4_pool (MaxPooling2D)   (None, 9, 9, 512)         0         \n",
            "_________________________________________________________________\n",
            "block5_conv1 (Conv2D)        (None, 9, 9, 512)         2359808   \n",
            "_________________________________________________________________\n",
            "block5_conv2 (Conv2D)        (None, 9, 9, 512)         2359808   \n",
            "_________________________________________________________________\n",
            "block5_conv3 (Conv2D)        (None, 9, 9, 512)         2359808   \n",
            "_________________________________________________________________\n",
            "block5_pool (MaxPooling2D)   (None, 4, 4, 512)         0         \n",
            "=================================================================\n",
            "Total params: 14,714,688\n",
            "Trainable params: 0\n",
            "Non-trainable params: 14,714,688\n",
            "_________________________________________________________________\n"
          ],
          "name": "stdout"
        }
      ]
    },
    {
      "cell_type": "markdown",
      "metadata": {
        "id": "1tDk0bNLQQhk"
      },
      "source": [
        "\n",
        "We will fine-tune the last 3 convolutional layers, which means that all layers up until `block4_pool` should be frozen, and the layers \n",
        "`block5_conv1`, `block5_conv2` and `block5_conv3` should be trainable.\n",
        "\n",
        "Why not fine-tune more layers? Why not fine-tune the entire convolutional base? We could. However, we need to consider that:\n",
        "\n",
        "* Earlier layers in the convolutional base encode more generic, reusable features, while layers higher up encode more specialized features. It is \n",
        "more useful to fine-tune the more specialized features, as these are the ones that need to be repurposed on our new problem. There would \n",
        "be fast-decreasing returns in fine-tuning lower layers.\n",
        "* The more parameters we are training, the more we are at risk of overfitting. The convolutional base has 15M parameters, so it would be \n",
        "risky to attempt to train it on our small dataset.\n",
        "\n",
        "Thus, in our situation, it is a good strategy to only fine-tune the top 2 to 3 layers in the convolutional base.\n",
        "\n",
        "Let's set this up, starting from where we left off in the previous example:"
      ]
    },
    {
      "cell_type": "code",
      "metadata": {
        "collapsed": true,
        "jupyter": {
          "outputs_hidden": true
        },
        "id": "Ji6LvCk0QQhk"
      },
      "source": [
        "conv_base.trainable = True\n",
        "\n",
        "set_trainable = False\n",
        "for layer in conv_base.layers:\n",
        "    if layer.name == 'block5_conv1':\n",
        "        set_trainable = True\n",
        "    if set_trainable:\n",
        "        layer.trainable = True\n",
        "    else:\n",
        "        layer.trainable = False"
      ],
      "execution_count": 24,
      "outputs": []
    },
    {
      "cell_type": "markdown",
      "metadata": {
        "id": "GfVcfK3oQQhk"
      },
      "source": [
        "Now we can start fine-tuning our network. We will do this with the RMSprop optimizer, using a very low learning rate. The reason for using \n",
        "a low learning rate is that we want to limit the magnitude of the modifications we make to the representations of the 3 layers that we are \n",
        "fine-tuning. Updates that are too large may harm these representations.\n",
        "\n",
        "Now let's proceed with fine-tuning:"
      ]
    },
    {
      "cell_type": "code",
      "metadata": {
        "colab": {
          "base_uri": "https://localhost:8080/"
        },
        "id": "AmeW_akKQQhl",
        "outputId": "c1ae84b2-a979-406b-d187-82c68f3b8923"
      },
      "source": [
        "model.compile(loss='binary_crossentropy',\n",
        "              optimizer=optimizers.RMSprop(lr=1e-5),\n",
        "              metrics=['acc'])\n",
        "\n",
        "history = model.fit_generator(\n",
        "      train_generator,\n",
        "      steps_per_epoch=100,\n",
        "      epochs=100,\n",
        "      validation_data=validation_generator,\n",
        "      validation_steps=50)"
      ],
      "execution_count": null,
      "outputs": [
        {
          "output_type": "stream",
          "text": [
            "/usr/local/lib/python3.7/dist-packages/tensorflow/python/keras/engine/training.py:1844: UserWarning: `Model.fit_generator` is deprecated and will be removed in a future version. Please use `Model.fit`, which supports generators.\n",
            "  warnings.warn('`Model.fit_generator` is deprecated and '\n"
          ],
          "name": "stderr"
        },
        {
          "output_type": "stream",
          "text": [
            "Epoch 1/100\n",
            "100/100 [==============================] - 20s 194ms/step - loss: 0.2811 - acc: 0.8811 - val_loss: 0.2612 - val_acc: 0.9020\n",
            "Epoch 2/100\n",
            "100/100 [==============================] - 19s 189ms/step - loss: 0.2955 - acc: 0.8705 - val_loss: 0.2367 - val_acc: 0.9110\n",
            "Epoch 3/100\n",
            "100/100 [==============================] - 19s 188ms/step - loss: 0.2492 - acc: 0.8956 - val_loss: 0.2222 - val_acc: 0.9220\n",
            "Epoch 4/100\n",
            "100/100 [==============================] - 19s 189ms/step - loss: 0.2212 - acc: 0.9020 - val_loss: 0.3180 - val_acc: 0.8920\n",
            "Epoch 5/100\n",
            "100/100 [==============================] - 19s 189ms/step - loss: 0.1992 - acc: 0.9267 - val_loss: 0.2152 - val_acc: 0.9280\n",
            "Epoch 6/100\n",
            "100/100 [==============================] - 19s 190ms/step - loss: 0.2194 - acc: 0.9125 - val_loss: 0.2613 - val_acc: 0.9150\n",
            "Epoch 7/100\n",
            "100/100 [==============================] - 19s 189ms/step - loss: 0.1650 - acc: 0.9323 - val_loss: 0.2028 - val_acc: 0.9340\n",
            "Epoch 8/100\n",
            "100/100 [==============================] - 19s 189ms/step - loss: 0.1825 - acc: 0.9159 - val_loss: 0.2447 - val_acc: 0.9220\n",
            "Epoch 9/100\n",
            "100/100 [==============================] - 19s 190ms/step - loss: 0.1452 - acc: 0.9396 - val_loss: 0.1986 - val_acc: 0.9390\n",
            "Epoch 10/100\n",
            "100/100 [==============================] - 19s 188ms/step - loss: 0.1540 - acc: 0.9412 - val_loss: 0.2184 - val_acc: 0.9340\n",
            "Epoch 11/100\n",
            "100/100 [==============================] - 19s 189ms/step - loss: 0.1368 - acc: 0.9445 - val_loss: 0.1848 - val_acc: 0.9380\n",
            "Epoch 12/100\n",
            "100/100 [==============================] - 19s 188ms/step - loss: 0.1336 - acc: 0.9415 - val_loss: 0.1989 - val_acc: 0.9320\n",
            "Epoch 13/100\n",
            "100/100 [==============================] - 19s 190ms/step - loss: 0.1305 - acc: 0.9528 - val_loss: 0.1823 - val_acc: 0.9420\n",
            "Epoch 14/100\n",
            "100/100 [==============================] - 19s 190ms/step - loss: 0.1453 - acc: 0.9420 - val_loss: 0.2386 - val_acc: 0.9260\n",
            "Epoch 15/100\n",
            "100/100 [==============================] - 19s 189ms/step - loss: 0.1215 - acc: 0.9513 - val_loss: 0.2064 - val_acc: 0.9380\n",
            "Epoch 16/100\n",
            "100/100 [==============================] - 19s 190ms/step - loss: 0.1127 - acc: 0.9576 - val_loss: 0.2201 - val_acc: 0.9370\n",
            "Epoch 17/100\n",
            "100/100 [==============================] - 19s 191ms/step - loss: 0.1019 - acc: 0.9574 - val_loss: 0.1972 - val_acc: 0.9450\n",
            "Epoch 18/100\n",
            "100/100 [==============================] - 19s 189ms/step - loss: 0.0941 - acc: 0.9661 - val_loss: 0.2362 - val_acc: 0.9350\n",
            "Epoch 19/100\n",
            "100/100 [==============================] - 19s 189ms/step - loss: 0.1170 - acc: 0.9567 - val_loss: 0.1824 - val_acc: 0.9430\n",
            "Epoch 20/100\n",
            "100/100 [==============================] - 19s 188ms/step - loss: 0.0911 - acc: 0.9664 - val_loss: 0.1985 - val_acc: 0.9420\n",
            "Epoch 21/100\n",
            "100/100 [==============================] - 19s 188ms/step - loss: 0.0987 - acc: 0.9624 - val_loss: 0.1920 - val_acc: 0.9430\n",
            "Epoch 22/100\n",
            "100/100 [==============================] - 19s 190ms/step - loss: 0.0873 - acc: 0.9675 - val_loss: 0.3940 - val_acc: 0.9120\n",
            "Epoch 23/100\n",
            "100/100 [==============================] - 19s 189ms/step - loss: 0.0979 - acc: 0.9579 - val_loss: 0.2619 - val_acc: 0.9330\n",
            "Epoch 24/100\n",
            "100/100 [==============================] - 19s 188ms/step - loss: 0.0701 - acc: 0.9731 - val_loss: 0.1948 - val_acc: 0.9420\n",
            "Epoch 25/100\n",
            "100/100 [==============================] - 19s 188ms/step - loss: 0.0775 - acc: 0.9695 - val_loss: 0.2438 - val_acc: 0.9340\n",
            "Epoch 26/100\n",
            "100/100 [==============================] - 19s 189ms/step - loss: 0.0862 - acc: 0.9634 - val_loss: 0.2365 - val_acc: 0.9430\n",
            "Epoch 27/100\n",
            "100/100 [==============================] - 19s 187ms/step - loss: 0.0562 - acc: 0.9806 - val_loss: 0.2919 - val_acc: 0.9300\n",
            "Epoch 28/100\n",
            "100/100 [==============================] - 19s 188ms/step - loss: 0.0616 - acc: 0.9759 - val_loss: 0.2121 - val_acc: 0.9420\n",
            "Epoch 29/100\n",
            "100/100 [==============================] - 19s 188ms/step - loss: 0.0613 - acc: 0.9749 - val_loss: 0.3660 - val_acc: 0.9160\n",
            "Epoch 30/100\n",
            "100/100 [==============================] - 19s 189ms/step - loss: 0.0675 - acc: 0.9747 - val_loss: 0.3051 - val_acc: 0.9300\n",
            "Epoch 31/100\n",
            "100/100 [==============================] - 19s 189ms/step - loss: 0.0686 - acc: 0.9759 - val_loss: 0.2222 - val_acc: 0.9380\n",
            "Epoch 32/100\n",
            "100/100 [==============================] - 19s 188ms/step - loss: 0.0792 - acc: 0.9724 - val_loss: 0.2048 - val_acc: 0.9360\n",
            "Epoch 33/100\n",
            "100/100 [==============================] - 19s 190ms/step - loss: 0.0614 - acc: 0.9780 - val_loss: 0.2496 - val_acc: 0.9360\n",
            "Epoch 34/100\n",
            "100/100 [==============================] - 19s 190ms/step - loss: 0.0703 - acc: 0.9730 - val_loss: 0.3669 - val_acc: 0.9210\n",
            "Epoch 35/100\n",
            "100/100 [==============================] - 19s 189ms/step - loss: 0.0868 - acc: 0.9674 - val_loss: 0.1958 - val_acc: 0.9490\n",
            "Epoch 36/100\n",
            "100/100 [==============================] - 19s 187ms/step - loss: 0.0593 - acc: 0.9808 - val_loss: 0.3958 - val_acc: 0.9160\n",
            "Epoch 37/100\n",
            "100/100 [==============================] - 19s 188ms/step - loss: 0.0512 - acc: 0.9826 - val_loss: 0.2083 - val_acc: 0.9470\n",
            "Epoch 38/100\n",
            "100/100 [==============================] - 19s 188ms/step - loss: 0.0359 - acc: 0.9875 - val_loss: 0.4724 - val_acc: 0.9000\n",
            "Epoch 39/100\n",
            "100/100 [==============================] - 19s 190ms/step - loss: 0.0596 - acc: 0.9734 - val_loss: 0.2311 - val_acc: 0.9350\n",
            "Epoch 40/100\n",
            "100/100 [==============================] - 19s 188ms/step - loss: 0.0373 - acc: 0.9891 - val_loss: 0.2253 - val_acc: 0.9480\n",
            "Epoch 41/100\n",
            "100/100 [==============================] - 19s 188ms/step - loss: 0.0533 - acc: 0.9811 - val_loss: 0.2111 - val_acc: 0.9460\n",
            "Epoch 42/100\n",
            "100/100 [==============================] - 19s 189ms/step - loss: 0.0324 - acc: 0.9917 - val_loss: 0.2860 - val_acc: 0.9310\n",
            "Epoch 43/100\n",
            "100/100 [==============================] - 19s 189ms/step - loss: 0.0394 - acc: 0.9831 - val_loss: 0.2658 - val_acc: 0.9400\n",
            "Epoch 44/100\n",
            "100/100 [==============================] - 19s 188ms/step - loss: 0.0488 - acc: 0.9795 - val_loss: 0.2255 - val_acc: 0.9430\n",
            "Epoch 45/100\n",
            "100/100 [==============================] - 19s 189ms/step - loss: 0.0435 - acc: 0.9851 - val_loss: 0.2290 - val_acc: 0.9450\n",
            "Epoch 46/100\n",
            "100/100 [==============================] - 19s 189ms/step - loss: 0.0427 - acc: 0.9859 - val_loss: 0.2944 - val_acc: 0.9330\n",
            "Epoch 47/100\n",
            "100/100 [==============================] - 19s 188ms/step - loss: 0.0430 - acc: 0.9864 - val_loss: 0.2855 - val_acc: 0.9370\n",
            "Epoch 48/100\n",
            "100/100 [==============================] - 19s 189ms/step - loss: 0.0411 - acc: 0.9848 - val_loss: 0.2386 - val_acc: 0.9480\n",
            "Epoch 49/100\n",
            "100/100 [==============================] - 19s 189ms/step - loss: 0.0306 - acc: 0.9916 - val_loss: 0.2069 - val_acc: 0.9470\n",
            "Epoch 50/100\n",
            "100/100 [==============================] - 19s 191ms/step - loss: 0.0341 - acc: 0.9879 - val_loss: 0.2722 - val_acc: 0.9410\n",
            "Epoch 51/100\n",
            "100/100 [==============================] - 19s 190ms/step - loss: 0.0304 - acc: 0.9882 - val_loss: 0.2424 - val_acc: 0.9480\n",
            "Epoch 52/100\n",
            "100/100 [==============================] - 19s 192ms/step - loss: 0.0380 - acc: 0.9884 - val_loss: 0.2874 - val_acc: 0.9290\n",
            "Epoch 53/100\n",
            "100/100 [==============================] - 19s 191ms/step - loss: 0.0438 - acc: 0.9846 - val_loss: 0.2164 - val_acc: 0.9490\n",
            "Epoch 54/100\n",
            "100/100 [==============================] - 19s 191ms/step - loss: 0.0332 - acc: 0.9879 - val_loss: 0.3829 - val_acc: 0.9250\n",
            "Epoch 55/100\n",
            "100/100 [==============================] - 19s 191ms/step - loss: 0.0438 - acc: 0.9839 - val_loss: 0.2317 - val_acc: 0.9430\n",
            "Epoch 56/100\n",
            "100/100 [==============================] - 19s 191ms/step - loss: 0.0566 - acc: 0.9833 - val_loss: 0.2165 - val_acc: 0.9520\n",
            "Epoch 57/100\n",
            "100/100 [==============================] - 19s 191ms/step - loss: 0.0556 - acc: 0.9803 - val_loss: 0.2101 - val_acc: 0.9520\n",
            "Epoch 58/100\n",
            "100/100 [==============================] - 19s 191ms/step - loss: 0.0341 - acc: 0.9874 - val_loss: 0.2781 - val_acc: 0.9430\n",
            "Epoch 59/100\n",
            "100/100 [==============================] - 19s 190ms/step - loss: 0.0265 - acc: 0.9924 - val_loss: 0.3562 - val_acc: 0.9300\n",
            "Epoch 60/100\n",
            "100/100 [==============================] - 19s 192ms/step - loss: 0.0331 - acc: 0.9854 - val_loss: 0.3109 - val_acc: 0.9390\n",
            "Epoch 61/100\n",
            "100/100 [==============================] - 19s 190ms/step - loss: 0.0333 - acc: 0.9881 - val_loss: 0.2651 - val_acc: 0.9410\n",
            "Epoch 62/100\n",
            "100/100 [==============================] - 19s 191ms/step - loss: 0.0228 - acc: 0.9914 - val_loss: 0.2439 - val_acc: 0.9520\n",
            "Epoch 63/100\n",
            "100/100 [==============================] - 19s 190ms/step - loss: 0.0240 - acc: 0.9913 - val_loss: 0.3716 - val_acc: 0.9360\n",
            "Epoch 64/100\n",
            "100/100 [==============================] - 19s 191ms/step - loss: 0.0270 - acc: 0.9900 - val_loss: 0.3141 - val_acc: 0.9370\n",
            "Epoch 65/100\n",
            "100/100 [==============================] - 19s 192ms/step - loss: 0.0265 - acc: 0.9932 - val_loss: 0.3088 - val_acc: 0.9390\n",
            "Epoch 66/100\n",
            "100/100 [==============================] - 19s 191ms/step - loss: 0.0320 - acc: 0.9890 - val_loss: 0.2780 - val_acc: 0.9400\n",
            "Epoch 67/100\n",
            "100/100 [==============================] - 19s 191ms/step - loss: 0.0465 - acc: 0.9848 - val_loss: 0.3062 - val_acc: 0.9400\n",
            "Epoch 68/100\n",
            "100/100 [==============================] - 19s 190ms/step - loss: 0.0220 - acc: 0.9927 - val_loss: 0.2513 - val_acc: 0.9480\n",
            "Epoch 69/100\n",
            "100/100 [==============================] - 19s 191ms/step - loss: 0.0257 - acc: 0.9896 - val_loss: 0.2983 - val_acc: 0.9400\n",
            "Epoch 70/100\n",
            "100/100 [==============================] - 19s 190ms/step - loss: 0.0272 - acc: 0.9897 - val_loss: 0.2752 - val_acc: 0.9440\n",
            "Epoch 71/100\n",
            "100/100 [==============================] - 19s 188ms/step - loss: 0.0210 - acc: 0.9913 - val_loss: 0.2395 - val_acc: 0.9420\n",
            "Epoch 72/100\n",
            "100/100 [==============================] - ETA: 0s - loss: 0.0252 - acc: 0.9904"
          ],
          "name": "stdout"
        }
      ]
    },
    {
      "cell_type": "code",
      "metadata": {
        "collapsed": true,
        "jupyter": {
          "outputs_hidden": true
        },
        "id": "9j2KB3xXQQhl"
      },
      "source": [
        "model.save('cats_and_dogs_small_4.h5')"
      ],
      "execution_count": null,
      "outputs": []
    },
    {
      "cell_type": "markdown",
      "metadata": {
        "id": "p8RcXyMOQQhl"
      },
      "source": [
        "Let's plot our results using the same plotting code as before:"
      ]
    },
    {
      "cell_type": "code",
      "metadata": {
        "id": "1M-eQpX3QQhl",
        "outputId": "b5dcde26-59c0-4227-d066-627d5a5603ca"
      },
      "source": [
        "acc = history.history['acc']\n",
        "val_acc = history.history['val_acc']\n",
        "loss = history.history['loss']\n",
        "val_loss = history.history['val_loss']\n",
        "\n",
        "epochs = range(len(acc))\n",
        "\n",
        "plt.plot(epochs, acc, 'bo', label='Training acc')\n",
        "plt.plot(epochs, val_acc, 'b', label='Validation acc')\n",
        "plt.title('Training and validation accuracy')\n",
        "plt.legend()\n",
        "\n",
        "plt.figure()\n",
        "\n",
        "plt.plot(epochs, loss, 'bo', label='Training loss')\n",
        "plt.plot(epochs, val_loss, 'b', label='Validation loss')\n",
        "plt.title('Training and validation loss')\n",
        "plt.legend()\n",
        "\n",
        "plt.show()"
      ],
      "execution_count": null,
      "outputs": [
        {
          "output_type": "display_data",
          "data": {
            "image/png": "[encoded data removed]",
            "text/plain": [
              "<matplotlib.figure.Figure at 0x7fd5442d3ef0>"
            ]
          },
          "metadata": {
            "tags": []
          }
        },
        {
          "output_type": "display_data",
          "data": {
            "image/png": "[encoded data removed]",
            "text/plain": [
              "<matplotlib.figure.Figure at 0x7fd53ce2a048>"
            ]
          },
          "metadata": {
            "tags": []
          }
        }
      ]
    },
    {
      "cell_type": "markdown",
      "metadata": {
        "id": "YT5uLRsyQQhl"
      },
      "source": [
        "\n",
        "These curves look very noisy. To make them more readable, we can smooth them by replacing every loss and accuracy with exponential moving \n",
        "averages of these quantities. Here's a trivial utility function to do this:"
      ]
    },
    {
      "cell_type": "code",
      "metadata": {
        "id": "ruE1hM4UQQhl",
        "outputId": "1ab35eaf-ec4b-42ab-b638-41cd7ce13d61"
      },
      "source": [
        "def smooth_curve(points, factor=0.8):\n",
        "  smoothed_points = []\n",
        "  for point in points:\n",
        "    if smoothed_points:\n",
        "      previous = smoothed_points[-1]\n",
        "      smoothed_points.append(previous * factor + point * (1 - factor))\n",
        "    else:\n",
        "      smoothed_points.append(point)\n",
        "  return smoothed_points\n",
        "\n",
        "plt.plot(epochs,\n",
        "         smooth_curve(acc), 'bo', label='Smoothed training acc')\n",
        "plt.plot(epochs,\n",
        "         smooth_curve(val_acc), 'b', label='Smoothed validation acc')\n",
        "plt.title('Training and validation accuracy')\n",
        "plt.legend()\n",
        "\n",
        "plt.figure()\n",
        "\n",
        "plt.plot(epochs,\n",
        "         smooth_curve(loss), 'bo', label='Smoothed training loss')\n",
        "plt.plot(epochs,\n",
        "         smooth_curve(val_loss), 'b', label='Smoothed validation loss')\n",
        "plt.title('Training and validation loss')\n",
        "plt.legend()\n",
        "\n",
        "plt.show()"
      ],
      "execution_count": null,
      "outputs": [
        {
          "output_type": "display_data",
          "data": {
            "image/png": "[encoded data removed]",
            "text/plain": [
              "<matplotlib.figure.Figure at 0x7fd53cc076d8>"
            ]
          },
          "metadata": {
            "tags": []
          }
        },
        {
          "output_type": "display_data",
          "data": {
            "image/png": "[encoded data removed]",
            "text/plain": [
              "<matplotlib.figure.Figure at 0x7fd53cbf15c0>"
            ]
          },
          "metadata": {
            "tags": []
          }
        }
      ]
    },
    {
      "cell_type": "markdown",
      "metadata": {
        "id": "e9whU7HsQQhm"
      },
      "source": [
        "\n",
        "These curves look much cleaner and more stable. We are seeing a nice 1% absolute improvement.\n",
        "\n",
        "Note that the loss curve does not show any real improvement (in fact, it is deteriorating). You may wonder, how could accuracy improve if the \n",
        "loss isn't decreasing? The answer is simple: what we display is an average of pointwise loss values, but what actually matters for accuracy \n",
        "is the distribution of the loss values, not their average, since accuracy is the result of a binary thresholding of the class probability \n",
        "predicted by the model. The model may still be improving even if this isn't reflected in the average loss.\n",
        "\n",
        "We can now finally evaluate this model on the test data:"
      ]
    },
    {
      "cell_type": "code",
      "metadata": {
        "id": "UNrctIeIQQhm",
        "outputId": "fed6c061-b0a7-46c9-f431-f888bb978889"
      },
      "source": [
        "test_generator = test_datagen.flow_from_directory(\n",
        "        test_dir,\n",
        "        target_size=(150, 150),\n",
        "        batch_size=20,\n",
        "        class_mode='binary')\n",
        "\n",
        "test_loss, test_acc = model.evaluate_generator(test_generator, steps=50)\n",
        "print('test acc:', test_acc)"
      ],
      "execution_count": null,
      "outputs": [
        {
          "output_type": "stream",
          "text": [
            "Found 1000 images belonging to 2 classes.\n",
            "test acc: 0.967999992371\n"
          ],
          "name": "stdout"
        }
      ]
    },
    {
      "cell_type": "markdown",
      "metadata": {
        "id": "y-DfKayLQQhm"
      },
      "source": [
        "\n",
        "Here we get a test accuracy of 97%. In the original Kaggle competition around this dataset, this would have been one of the top results. \n",
        "However, using modern deep learning techniques, we managed to reach this result using only a very small fraction of the training data \n",
        "available (about 10%). There is a huge difference between being able to train on 20,000 samples compared to 2,000 samples!"
      ]
    },
    {
      "cell_type": "markdown",
      "metadata": {
        "id": "gNOAFMgXQQhm"
      },
      "source": [
        "## Take-aways: using convnets with small datasets\n",
        "\n",
        "Here's what you should take away from the exercises of these past two sections:\n",
        "\n",
        "* Convnets are the best type of machine learning models for computer vision tasks. It is possible to train one from scratch even on a very \n",
        "small dataset, with decent results.\n",
        "* On a small dataset, overfitting will be the main issue. Data augmentation is a powerful way to fight overfitting when working with image \n",
        "data.\n",
        "* It is easy to reuse an existing convnet on a new dataset, via feature extraction. This is a very valuable technique for working with \n",
        "small image datasets.\n",
        "* As a complement to feature extraction, one may use fine-tuning, which adapts to a new problem some of the representations previously \n",
        "learned by an existing model. This pushes performance a bit further.\n",
        "\n",
        "Now you have a solid set of tools for dealing with image classification problems, in particular with small datasets."
      ]
    }
  ]
}