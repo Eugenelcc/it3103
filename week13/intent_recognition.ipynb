{
  "nbformat": 4,
  "nbformat_minor": 0,
  "metadata": {
    "accelerator": "GPU",
    "colab": {
      "name": "practical_4a_colab_intent_recognition.ipynb",
      "provenance": [],
      "collapsed_sections": [],
      "include_colab_link": true
    },
    "kernelspec": {
      "display_name": "Python 3",
      "language": "python",
      "name": "python3"
    },
    "language_info": {
      "codemirror_mode": {
        "name": "ipython",
        "version": 3
      },
      "file_extension": ".py",
      "mimetype": "text/x-python",
      "name": "python",
      "nbconvert_exporter": "python",
      "pygments_lexer": "ipython3",
      "version": "3.7.10"
    },
    "widgets": {
      "application/vnd.jupyter.widget-state+json": {
        "7fed6377e3734472af328a7692965bfc": {
          "model_module": "@jupyter-widgets/controls",
          "model_name": "HBoxModel",
          "state": {
            "_view_name": "HBoxView",
            "_dom_classes": [],
            "_model_name": "HBoxModel",
            "_view_module": "@jupyter-widgets/controls",
            "_model_module_version": "1.5.0",
            "_view_count": null,
            "_view_module_version": "1.5.0",
            "box_style": "",
            "layout": "IPY_MODEL_ca42de086edf423db6c27a1b188f9477",
            "_model_module": "@jupyter-widgets/controls",
            "children": [
              "IPY_MODEL_c4994d9ffb964070b1b1403bf6960a37",
              "IPY_MODEL_0efad205babd45cd92ea5febce483ab4"
            ]
          }
        },
        "ca42de086edf423db6c27a1b188f9477": {
          "model_module": "@jupyter-widgets/base",
          "model_name": "LayoutModel",
          "state": {
            "_view_name": "LayoutView",
            "grid_template_rows": null,
            "right": null,
            "justify_content": null,
            "_view_module": "@jupyter-widgets/base",
            "overflow": null,
            "_model_module_version": "1.2.0",
            "_view_count": null,
            "flex_flow": null,
            "width": null,
            "min_width": null,
            "border": null,
            "align_items": null,
            "bottom": null,
            "_model_module": "@jupyter-widgets/base",
            "top": null,
            "grid_column": null,
            "overflow_y": null,
            "overflow_x": null,
            "grid_auto_flow": null,
            "grid_area": null,
            "grid_template_columns": null,
            "flex": null,
            "_model_name": "LayoutModel",
            "justify_items": null,
            "grid_row": null,
            "max_height": null,
            "align_content": null,
            "visibility": null,
            "align_self": null,
            "height": null,
            "min_height": null,
            "padding": null,
            "grid_auto_rows": null,
            "grid_gap": null,
            "max_width": null,
            "order": null,
            "_view_module_version": "1.2.0",
            "grid_template_areas": null,
            "object_position": null,
            "object_fit": null,
            "grid_auto_columns": null,
            "margin": null,
            "display": null,
            "left": null
          }
        },
        "c4994d9ffb964070b1b1403bf6960a37": {
          "model_module": "@jupyter-widgets/controls",
          "model_name": "FloatProgressModel",
          "state": {
            "_view_name": "ProgressView",
            "style": "IPY_MODEL_f5ef6e86de014d61b886daf447dd28bb",
            "_dom_classes": [],
            "description": "Downloading: 100%",
            "_model_name": "FloatProgressModel",
            "bar_style": "success",
            "max": 231508,
            "_view_module": "@jupyter-widgets/controls",
            "_model_module_version": "1.5.0",
            "value": 231508,
            "_view_count": null,
            "_view_module_version": "1.5.0",
            "orientation": "horizontal",
            "min": 0,
            "description_tooltip": null,
            "_model_module": "@jupyter-widgets/controls",
            "layout": "IPY_MODEL_acec52715fb5460ca1cbb708024ab836"
          }
        },
        "0efad205babd45cd92ea5febce483ab4": {
          "model_module": "@jupyter-widgets/controls",
          "model_name": "HTMLModel",
          "state": {
            "_view_name": "HTMLView",
            "style": "IPY_MODEL_0dfc70ba23944c67865a6d10aafd009d",
            "_dom_classes": [],
            "description": "",
            "_model_name": "HTMLModel",
            "placeholder": "​",
            "_view_module": "@jupyter-widgets/controls",
            "_model_module_version": "1.5.0",
            "value": " 232k/232k [00:46&lt;00:00, 5.01kB/s]",
            "_view_count": null,
            "_view_module_version": "1.5.0",
            "description_tooltip": null,
            "_model_module": "@jupyter-widgets/controls",
            "layout": "IPY_MODEL_a58b29480747494389233b2c3d15e698"
          }
        },
        "f5ef6e86de014d61b886daf447dd28bb": {
          "model_module": "@jupyter-widgets/controls",
          "model_name": "ProgressStyleModel",
          "state": {
            "_view_name": "StyleView",
            "_model_name": "ProgressStyleModel",
            "description_width": "initial",
            "_view_module": "@jupyter-widgets/base",
            "_model_module_version": "1.5.0",
            "_view_count": null,
            "_view_module_version": "1.2.0",
            "bar_color": null,
            "_model_module": "@jupyter-widgets/controls"
          }
        },
        "acec52715fb5460ca1cbb708024ab836": {
          "model_module": "@jupyter-widgets/base",
          "model_name": "LayoutModel",
          "state": {
            "_view_name": "LayoutView",
            "grid_template_rows": null,
            "right": null,
            "justify_content": null,
            "_view_module": "@jupyter-widgets/base",
            "overflow": null,
            "_model_module_version": "1.2.0",
            "_view_count": null,
            "flex_flow": null,
            "width": null,
            "min_width": null,
            "border": null,
            "align_items": null,
            "bottom": null,
            "_model_module": "@jupyter-widgets/base",
            "top": null,
            "grid_column": null,
            "overflow_y": null,
            "overflow_x": null,
            "grid_auto_flow": null,
            "grid_area": null,
            "grid_template_columns": null,
            "flex": null,
            "_model_name": "LayoutModel",
            "justify_items": null,
            "grid_row": null,
            "max_height": null,
            "align_content": null,
            "visibility": null,
            "align_self": null,
            "height": null,
            "min_height": null,
            "padding": null,
            "grid_auto_rows": null,
            "grid_gap": null,
            "max_width": null,
            "order": null,
            "_view_module_version": "1.2.0",
            "grid_template_areas": null,
            "object_position": null,
            "object_fit": null,
            "grid_auto_columns": null,
            "margin": null,
            "display": null,
            "left": null
          }
        },
        "0dfc70ba23944c67865a6d10aafd009d": {
          "model_module": "@jupyter-widgets/controls",
          "model_name": "DescriptionStyleModel",
          "state": {
            "_view_name": "StyleView",
            "_model_name": "DescriptionStyleModel",
            "description_width": "",
            "_view_module": "@jupyter-widgets/base",
            "_model_module_version": "1.5.0",
            "_view_count": null,
            "_view_module_version": "1.2.0",
            "_model_module": "@jupyter-widgets/controls"
          }
        },
        "a58b29480747494389233b2c3d15e698": {
          "model_module": "@jupyter-widgets/base",
          "model_name": "LayoutModel",
          "state": {
            "_view_name": "LayoutView",
            "grid_template_rows": null,
            "right": null,
            "justify_content": null,
            "_view_module": "@jupyter-widgets/base",
            "overflow": null,
            "_model_module_version": "1.2.0",
            "_view_count": null,
            "flex_flow": null,
            "width": null,
            "min_width": null,
            "border": null,
            "align_items": null,
            "bottom": null,
            "_model_module": "@jupyter-widgets/base",
            "top": null,
            "grid_column": null,
            "overflow_y": null,
            "overflow_x": null,
            "grid_auto_flow": null,
            "grid_area": null,
            "grid_template_columns": null,
            "flex": null,
            "_model_name": "LayoutModel",
            "justify_items": null,
            "grid_row": null,
            "max_height": null,
            "align_content": null,
            "visibility": null,
            "align_self": null,
            "height": null,
            "min_height": null,
            "padding": null,
            "grid_auto_rows": null,
            "grid_gap": null,
            "max_width": null,
            "order": null,
            "_view_module_version": "1.2.0",
            "grid_template_areas": null,
            "object_position": null,
            "object_fit": null,
            "grid_auto_columns": null,
            "margin": null,
            "display": null,
            "left": null
          }
        },
        "3c050413917543d9810f7cbc2f11de08": {
          "model_module": "@jupyter-widgets/controls",
          "model_name": "HBoxModel",
          "state": {
            "_view_name": "HBoxView",
            "_dom_classes": [],
            "_model_name": "HBoxModel",
            "_view_module": "@jupyter-widgets/controls",
            "_model_module_version": "1.5.0",
            "_view_count": null,
            "_view_module_version": "1.5.0",
            "box_style": "",
            "layout": "IPY_MODEL_7608095f8f8141e6a442a78b50235de3",
            "_model_module": "@jupyter-widgets/controls",
            "children": [
              "IPY_MODEL_027de259651944078e8bdd87124c1f45",
              "IPY_MODEL_d246f44c9dfa42faa4150b0a97a21293"
            ]
          }
        },
        "7608095f8f8141e6a442a78b50235de3": {
          "model_module": "@jupyter-widgets/base",
          "model_name": "LayoutModel",
          "state": {
            "_view_name": "LayoutView",
            "grid_template_rows": null,
            "right": null,
            "justify_content": null,
            "_view_module": "@jupyter-widgets/base",
            "overflow": null,
            "_model_module_version": "1.2.0",
            "_view_count": null,
            "flex_flow": null,
            "width": null,
            "min_width": null,
            "border": null,
            "align_items": null,
            "bottom": null,
            "_model_module": "@jupyter-widgets/base",
            "top": null,
            "grid_column": null,
            "overflow_y": null,
            "overflow_x": null,
            "grid_auto_flow": null,
            "grid_area": null,
            "grid_template_columns": null,
            "flex": null,
            "_model_name": "LayoutModel",
            "justify_items": null,
            "grid_row": null,
            "max_height": null,
            "align_content": null,
            "visibility": null,
            "align_self": null,
            "height": null,
            "min_height": null,
            "padding": null,
            "grid_auto_rows": null,
            "grid_gap": null,
            "max_width": null,
            "order": null,
            "_view_module_version": "1.2.0",
            "grid_template_areas": null,
            "object_position": null,
            "object_fit": null,
            "grid_auto_columns": null,
            "margin": null,
            "display": null,
            "left": null
          }
        },
        "027de259651944078e8bdd87124c1f45": {
          "model_module": "@jupyter-widgets/controls",
          "model_name": "FloatProgressModel",
          "state": {
            "_view_name": "ProgressView",
            "style": "IPY_MODEL_9a42c33655f44207a31b8f502fcbafde",
            "_dom_classes": [],
            "description": "Downloading: 100%",
            "_model_name": "FloatProgressModel",
            "bar_style": "success",
            "max": 466062,
            "_view_module": "@jupyter-widgets/controls",
            "_model_module_version": "1.5.0",
            "value": 466062,
            "_view_count": null,
            "_view_module_version": "1.5.0",
            "orientation": "horizontal",
            "min": 0,
            "description_tooltip": null,
            "_model_module": "@jupyter-widgets/controls",
            "layout": "IPY_MODEL_1cf5cc3c8cae4c9eabe30d43bf2adcbe"
          }
        },
        "d246f44c9dfa42faa4150b0a97a21293": {
          "model_module": "@jupyter-widgets/controls",
          "model_name": "HTMLModel",
          "state": {
            "_view_name": "HTMLView",
            "style": "IPY_MODEL_c30d34d598ec43f0bf51f74e4f9cebe7",
            "_dom_classes": [],
            "description": "",
            "_model_name": "HTMLModel",
            "placeholder": "​",
            "_view_module": "@jupyter-widgets/controls",
            "_model_module_version": "1.5.0",
            "value": " 466k/466k [00:46&lt;00:00, 10.1kB/s]",
            "_view_count": null,
            "_view_module_version": "1.5.0",
            "description_tooltip": null,
            "_model_module": "@jupyter-widgets/controls",
            "layout": "IPY_MODEL_0b697cfb56fe4357b41faa995acf8418"
          }
        },
        "9a42c33655f44207a31b8f502fcbafde": {
          "model_module": "@jupyter-widgets/controls",
          "model_name": "ProgressStyleModel",
          "state": {
            "_view_name": "StyleView",
            "_model_name": "ProgressStyleModel",
            "description_width": "initial",
            "_view_module": "@jupyter-widgets/base",
            "_model_module_version": "1.5.0",
            "_view_count": null,
            "_view_module_version": "1.2.0",
            "bar_color": null,
            "_model_module": "@jupyter-widgets/controls"
          }
        },
        "1cf5cc3c8cae4c9eabe30d43bf2adcbe": {
          "model_module": "@jupyter-widgets/base",
          "model_name": "LayoutModel",
          "state": {
            "_view_name": "LayoutView",
            "grid_template_rows": null,
            "right": null,
            "justify_content": null,
            "_view_module": "@jupyter-widgets/base",
            "overflow": null,
            "_model_module_version": "1.2.0",
            "_view_count": null,
            "flex_flow": null,
            "width": null,
            "min_width": null,
            "border": null,
            "align_items": null,
            "bottom": null,
            "_model_module": "@jupyter-widgets/base",
            "top": null,
            "grid_column": null,
            "overflow_y": null,
            "overflow_x": null,
            "grid_auto_flow": null,
            "grid_area": null,
            "grid_template_columns": null,
            "flex": null,
            "_model_name": "LayoutModel",
            "justify_items": null,
            "grid_row": null,
            "max_height": null,
            "align_content": null,
            "visibility": null,
            "align_self": null,
            "height": null,
            "min_height": null,
            "padding": null,
            "grid_auto_rows": null,
            "grid_gap": null,
            "max_width": null,
            "order": null,
            "_view_module_version": "1.2.0",
            "grid_template_areas": null,
            "object_position": null,
            "object_fit": null,
            "grid_auto_columns": null,
            "margin": null,
            "display": null,
            "left": null
          }
        },
        "c30d34d598ec43f0bf51f74e4f9cebe7": {
          "model_module": "@jupyter-widgets/controls",
          "model_name": "DescriptionStyleModel",
          "state": {
            "_view_name": "StyleView",
            "_model_name": "DescriptionStyleModel",
            "description_width": "",
            "_view_module": "@jupyter-widgets/base",
            "_model_module_version": "1.5.0",
            "_view_count": null,
            "_view_module_version": "1.2.0",
            "_model_module": "@jupyter-widgets/controls"
          }
        },
        "0b697cfb56fe4357b41faa995acf8418": {
          "model_module": "@jupyter-widgets/base",
          "model_name": "LayoutModel",
          "state": {
            "_view_name": "LayoutView",
            "grid_template_rows": null,
            "right": null,
            "justify_content": null,
            "_view_module": "@jupyter-widgets/base",
            "overflow": null,
            "_model_module_version": "1.2.0",
            "_view_count": null,
            "flex_flow": null,
            "width": null,
            "min_width": null,
            "border": null,
            "align_items": null,
            "bottom": null,
            "_model_module": "@jupyter-widgets/base",
            "top": null,
            "grid_column": null,
            "overflow_y": null,
            "overflow_x": null,
            "grid_auto_flow": null,
            "grid_area": null,
            "grid_template_columns": null,
            "flex": null,
            "_model_name": "LayoutModel",
            "justify_items": null,
            "grid_row": null,
            "max_height": null,
            "align_content": null,
            "visibility": null,
            "align_self": null,
            "height": null,
            "min_height": null,
            "padding": null,
            "grid_auto_rows": null,
            "grid_gap": null,
            "max_width": null,
            "order": null,
            "_view_module_version": "1.2.0",
            "grid_template_areas": null,
            "object_position": null,
            "object_fit": null,
            "grid_auto_columns": null,
            "margin": null,
            "display": null,
            "left": null
          }
        },
        "3764ba9976d249b48aeb4ebc56671273": {
          "model_module": "@jupyter-widgets/controls",
          "model_name": "HBoxModel",
          "state": {
            "_view_name": "HBoxView",
            "_dom_classes": [],
            "_model_name": "HBoxModel",
            "_view_module": "@jupyter-widgets/controls",
            "_model_module_version": "1.5.0",
            "_view_count": null,
            "_view_module_version": "1.5.0",
            "box_style": "",
            "layout": "IPY_MODEL_93e174ab83b641df862445e5896bfa31",
            "_model_module": "@jupyter-widgets/controls",
            "children": [
              "IPY_MODEL_918748ecd4f94012b420f22a56fbed5e",
              "IPY_MODEL_836bc1a5327e45d181351d2db52580d6"
            ]
          }
        },
        "93e174ab83b641df862445e5896bfa31": {
          "model_module": "@jupyter-widgets/base",
          "model_name": "LayoutModel",
          "state": {
            "_view_name": "LayoutView",
            "grid_template_rows": null,
            "right": null,
            "justify_content": null,
            "_view_module": "@jupyter-widgets/base",
            "overflow": null,
            "_model_module_version": "1.2.0",
            "_view_count": null,
            "flex_flow": null,
            "width": null,
            "min_width": null,
            "border": null,
            "align_items": null,
            "bottom": null,
            "_model_module": "@jupyter-widgets/base",
            "top": null,
            "grid_column": null,
            "overflow_y": null,
            "overflow_x": null,
            "grid_auto_flow": null,
            "grid_area": null,
            "grid_template_columns": null,
            "flex": null,
            "_model_name": "LayoutModel",
            "justify_items": null,
            "grid_row": null,
            "max_height": null,
            "align_content": null,
            "visibility": null,
            "align_self": null,
            "height": null,
            "min_height": null,
            "padding": null,
            "grid_auto_rows": null,
            "grid_gap": null,
            "max_width": null,
            "order": null,
            "_view_module_version": "1.2.0",
            "grid_template_areas": null,
            "object_position": null,
            "object_fit": null,
            "grid_auto_columns": null,
            "margin": null,
            "display": null,
            "left": null
          }
        },
        "918748ecd4f94012b420f22a56fbed5e": {
          "model_module": "@jupyter-widgets/controls",
          "model_name": "FloatProgressModel",
          "state": {
            "_view_name": "ProgressView",
            "style": "IPY_MODEL_9818fca6140e4ed88be8ed07347afb3d",
            "_dom_classes": [],
            "description": "Downloading: 100%",
            "_model_name": "FloatProgressModel",
            "bar_style": "success",
            "max": 28,
            "_view_module": "@jupyter-widgets/controls",
            "_model_module_version": "1.5.0",
            "value": 28,
            "_view_count": null,
            "_view_module_version": "1.5.0",
            "orientation": "horizontal",
            "min": 0,
            "description_tooltip": null,
            "_model_module": "@jupyter-widgets/controls",
            "layout": "IPY_MODEL_5a155253e4664a56b063d8eea8167767"
          }
        },
        "836bc1a5327e45d181351d2db52580d6": {
          "model_module": "@jupyter-widgets/controls",
          "model_name": "HTMLModel",
          "state": {
            "_view_name": "HTMLView",
            "style": "IPY_MODEL_375e51deaac34137a05a13678d2514c3",
            "_dom_classes": [],
            "description": "",
            "_model_name": "HTMLModel",
            "placeholder": "​",
            "_view_module": "@jupyter-widgets/controls",
            "_model_module_version": "1.5.0",
            "value": " 28.0/28.0 [00:45&lt;00:00, 1.64s/B]",
            "_view_count": null,
            "_view_module_version": "1.5.0",
            "description_tooltip": null,
            "_model_module": "@jupyter-widgets/controls",
            "layout": "IPY_MODEL_d98adc0fd909498fa8a651bf5ec87c2a"
          }
        },
        "9818fca6140e4ed88be8ed07347afb3d": {
          "model_module": "@jupyter-widgets/controls",
          "model_name": "ProgressStyleModel",
          "state": {
            "_view_name": "StyleView",
            "_model_name": "ProgressStyleModel",
            "description_width": "initial",
            "_view_module": "@jupyter-widgets/base",
            "_model_module_version": "1.5.0",
            "_view_count": null,
            "_view_module_version": "1.2.0",
            "bar_color": null,
            "_model_module": "@jupyter-widgets/controls"
          }
        },
        "5a155253e4664a56b063d8eea8167767": {
          "model_module": "@jupyter-widgets/base",
          "model_name": "LayoutModel",
          "state": {
            "_view_name": "LayoutView",
            "grid_template_rows": null,
            "right": null,
            "justify_content": null,
            "_view_module": "@jupyter-widgets/base",
            "overflow": null,
            "_model_module_version": "1.2.0",
            "_view_count": null,
            "flex_flow": null,
            "width": null,
            "min_width": null,
            "border": null,
            "align_items": null,
            "bottom": null,
            "_model_module": "@jupyter-widgets/base",
            "top": null,
            "grid_column": null,
            "overflow_y": null,
            "overflow_x": null,
            "grid_auto_flow": null,
            "grid_area": null,
            "grid_template_columns": null,
            "flex": null,
            "_model_name": "LayoutModel",
            "justify_items": null,
            "grid_row": null,
            "max_height": null,
            "align_content": null,
            "visibility": null,
            "align_self": null,
            "height": null,
            "min_height": null,
            "padding": null,
            "grid_auto_rows": null,
            "grid_gap": null,
            "max_width": null,
            "order": null,
            "_view_module_version": "1.2.0",
            "grid_template_areas": null,
            "object_position": null,
            "object_fit": null,
            "grid_auto_columns": null,
            "margin": null,
            "display": null,
            "left": null
          }
        },
        "375e51deaac34137a05a13678d2514c3": {
          "model_module": "@jupyter-widgets/controls",
          "model_name": "DescriptionStyleModel",
          "state": {
            "_view_name": "StyleView",
            "_model_name": "DescriptionStyleModel",
            "description_width": "",
            "_view_module": "@jupyter-widgets/base",
            "_model_module_version": "1.5.0",
            "_view_count": null,
            "_view_module_version": "1.2.0",
            "_model_module": "@jupyter-widgets/controls"
          }
        },
        "d98adc0fd909498fa8a651bf5ec87c2a": {
          "model_module": "@jupyter-widgets/base",
          "model_name": "LayoutModel",
          "state": {
            "_view_name": "LayoutView",
            "grid_template_rows": null,
            "right": null,
            "justify_content": null,
            "_view_module": "@jupyter-widgets/base",
            "overflow": null,
            "_model_module_version": "1.2.0",
            "_view_count": null,
            "flex_flow": null,
            "width": null,
            "min_width": null,
            "border": null,
            "align_items": null,
            "bottom": null,
            "_model_module": "@jupyter-widgets/base",
            "top": null,
            "grid_column": null,
            "overflow_y": null,
            "overflow_x": null,
            "grid_auto_flow": null,
            "grid_area": null,
            "grid_template_columns": null,
            "flex": null,
            "_model_name": "LayoutModel",
            "justify_items": null,
            "grid_row": null,
            "max_height": null,
            "align_content": null,
            "visibility": null,
            "align_self": null,
            "height": null,
            "min_height": null,
            "padding": null,
            "grid_auto_rows": null,
            "grid_gap": null,
            "max_width": null,
            "order": null,
            "_view_module_version": "1.2.0",
            "grid_template_areas": null,
            "object_position": null,
            "object_fit": null,
            "grid_auto_columns": null,
            "margin": null,
            "display": null,
            "left": null
          }
        },
        "562720e64ecf4db7a2f697da4ed6f0fe": {
          "model_module": "@jupyter-widgets/controls",
          "model_name": "HBoxModel",
          "state": {
            "_view_name": "HBoxView",
            "_dom_classes": [],
            "_model_name": "HBoxModel",
            "_view_module": "@jupyter-widgets/controls",
            "_model_module_version": "1.5.0",
            "_view_count": null,
            "_view_module_version": "1.5.0",
            "box_style": "",
            "layout": "IPY_MODEL_886589c61c464dbe9fa435f4b8718a2c",
            "_model_module": "@jupyter-widgets/controls",
            "children": [
              "IPY_MODEL_0e10c7614a4c49719b47058c2ecead68",
              "IPY_MODEL_45495fbd407847fdb68d17917bd2565b"
            ]
          }
        },
        "886589c61c464dbe9fa435f4b8718a2c": {
          "model_module": "@jupyter-widgets/base",
          "model_name": "LayoutModel",
          "state": {
            "_view_name": "LayoutView",
            "grid_template_rows": null,
            "right": null,
            "justify_content": null,
            "_view_module": "@jupyter-widgets/base",
            "overflow": null,
            "_model_module_version": "1.2.0",
            "_view_count": null,
            "flex_flow": null,
            "width": null,
            "min_width": null,
            "border": null,
            "align_items": null,
            "bottom": null,
            "_model_module": "@jupyter-widgets/base",
            "top": null,
            "grid_column": null,
            "overflow_y": null,
            "overflow_x": null,
            "grid_auto_flow": null,
            "grid_area": null,
            "grid_template_columns": null,
            "flex": null,
            "_model_name": "LayoutModel",
            "justify_items": null,
            "grid_row": null,
            "max_height": null,
            "align_content": null,
            "visibility": null,
            "align_self": null,
            "height": null,
            "min_height": null,
            "padding": null,
            "grid_auto_rows": null,
            "grid_gap": null,
            "max_width": null,
            "order": null,
            "_view_module_version": "1.2.0",
            "grid_template_areas": null,
            "object_position": null,
            "object_fit": null,
            "grid_auto_columns": null,
            "margin": null,
            "display": null,
            "left": null
          }
        },
        "0e10c7614a4c49719b47058c2ecead68": {
          "model_module": "@jupyter-widgets/controls",
          "model_name": "FloatProgressModel",
          "state": {
            "_view_name": "ProgressView",
            "style": "IPY_MODEL_2fdec67827c94819a7fa15084ead9f98",
            "_dom_classes": [],
            "description": "Downloading: 100%",
            "_model_name": "FloatProgressModel",
            "bar_style": "success",
            "max": 442,
            "_view_module": "@jupyter-widgets/controls",
            "_model_module_version": "1.5.0",
            "value": 442,
            "_view_count": null,
            "_view_module_version": "1.5.0",
            "orientation": "horizontal",
            "min": 0,
            "description_tooltip": null,
            "_model_module": "@jupyter-widgets/controls",
            "layout": "IPY_MODEL_0db28d1b8171489a963789095750e4a5"
          }
        },
        "45495fbd407847fdb68d17917bd2565b": {
          "model_module": "@jupyter-widgets/controls",
          "model_name": "HTMLModel",
          "state": {
            "_view_name": "HTMLView",
            "style": "IPY_MODEL_e5065d611621457da0ab93302744da08",
            "_dom_classes": [],
            "description": "",
            "_model_name": "HTMLModel",
            "placeholder": "​",
            "_view_module": "@jupyter-widgets/controls",
            "_model_module_version": "1.5.0",
            "value": " 442/442 [00:00&lt;00:00, 2.15kB/s]",
            "_view_count": null,
            "_view_module_version": "1.5.0",
            "description_tooltip": null,
            "_model_module": "@jupyter-widgets/controls",
            "layout": "IPY_MODEL_9f3bde0cb3424134b45fed5116cb1eb7"
          }
        },
        "2fdec67827c94819a7fa15084ead9f98": {
          "model_module": "@jupyter-widgets/controls",
          "model_name": "ProgressStyleModel",
          "state": {
            "_view_name": "StyleView",
            "_model_name": "ProgressStyleModel",
            "description_width": "initial",
            "_view_module": "@jupyter-widgets/base",
            "_model_module_version": "1.5.0",
            "_view_count": null,
            "_view_module_version": "1.2.0",
            "bar_color": null,
            "_model_module": "@jupyter-widgets/controls"
          }
        },
        "0db28d1b8171489a963789095750e4a5": {
          "model_module": "@jupyter-widgets/base",
          "model_name": "LayoutModel",
          "state": {
            "_view_name": "LayoutView",
            "grid_template_rows": null,
            "right": null,
            "justify_content": null,
            "_view_module": "@jupyter-widgets/base",
            "overflow": null,
            "_model_module_version": "1.2.0",
            "_view_count": null,
            "flex_flow": null,
            "width": null,
            "min_width": null,
            "border": null,
            "align_items": null,
            "bottom": null,
            "_model_module": "@jupyter-widgets/base",
            "top": null,
            "grid_column": null,
            "overflow_y": null,
            "overflow_x": null,
            "grid_auto_flow": null,
            "grid_area": null,
            "grid_template_columns": null,
            "flex": null,
            "_model_name": "LayoutModel",
            "justify_items": null,
            "grid_row": null,
            "max_height": null,
            "align_content": null,
            "visibility": null,
            "align_self": null,
            "height": null,
            "min_height": null,
            "padding": null,
            "grid_auto_rows": null,
            "grid_gap": null,
            "max_width": null,
            "order": null,
            "_view_module_version": "1.2.0",
            "grid_template_areas": null,
            "object_position": null,
            "object_fit": null,
            "grid_auto_columns": null,
            "margin": null,
            "display": null,
            "left": null
          }
        },
        "e5065d611621457da0ab93302744da08": {
          "model_module": "@jupyter-widgets/controls",
          "model_name": "DescriptionStyleModel",
          "state": {
            "_view_name": "StyleView",
            "_model_name": "DescriptionStyleModel",
            "description_width": "",
            "_view_module": "@jupyter-widgets/base",
            "_model_module_version": "1.5.0",
            "_view_count": null,
            "_view_module_version": "1.2.0",
            "_model_module": "@jupyter-widgets/controls"
          }
        },
        "9f3bde0cb3424134b45fed5116cb1eb7": {
          "model_module": "@jupyter-widgets/base",
          "model_name": "LayoutModel",
          "state": {
            "_view_name": "LayoutView",
            "grid_template_rows": null,
            "right": null,
            "justify_content": null,
            "_view_module": "@jupyter-widgets/base",
            "overflow": null,
            "_model_module_version": "1.2.0",
            "_view_count": null,
            "flex_flow": null,
            "width": null,
            "min_width": null,
            "border": null,
            "align_items": null,
            "bottom": null,
            "_model_module": "@jupyter-widgets/base",
            "top": null,
            "grid_column": null,
            "overflow_y": null,
            "overflow_x": null,
            "grid_auto_flow": null,
            "grid_area": null,
            "grid_template_columns": null,
            "flex": null,
            "_model_name": "LayoutModel",
            "justify_items": null,
            "grid_row": null,
            "max_height": null,
            "align_content": null,
            "visibility": null,
            "align_self": null,
            "height": null,
            "min_height": null,
            "padding": null,
            "grid_auto_rows": null,
            "grid_gap": null,
            "max_width": null,
            "order": null,
            "_view_module_version": "1.2.0",
            "grid_template_areas": null,
            "object_position": null,
            "object_fit": null,
            "grid_auto_columns": null,
            "margin": null,
            "display": null,
            "left": null
          }
        }
      }
    }
  },
  "cells": [
    {
      "cell_type": "markdown",
      "metadata": {
        "id": "view-in-github",
        "colab_type": "text"
      },
      "source": [
        "<a href=\"https://colab.research.google.com/github/nyp-sit/it3103/blob/main/week13/intent_recognition.ipynb\" target=\"_parent\"><img src=\"https://colab.research.google.com/assets/colab-badge.svg\" alt=\"Open In Colab\"/></a>"
      ]
    },
    {
      "cell_type": "markdown",
      "metadata": {
        "id": "FTTt2on1Kdr-"
      },
      "source": [
        "# Practical 4a - Training Our Intent Recognition Network\n",
        "\n",
        "In this practical, we will learn how to apply the HuggingFace Transformers library to our own Intent Recognition task for our chatbot.\n",
        "\n",
        "Before starting, you can try playing around with Zero-Shot text classification with Huggingface's Transformers library.\n",
        "\n",
        "https://colab.research.google.com/drive/1jocViLorbwWIkTXKwxCOV9HLTaDDgCaw?usp=sharing\n",
        "\n",
        "\n",
        "####**NOTE: Be sure to set your runtime to a GPU instance!**"
      ]
    },
    {
      "cell_type": "markdown",
      "metadata": {
        "id": "prPHVBopKx1O"
      },
      "source": [
        "## Section 1 - Install the HuggingFace Transformers Library\n",
        "\n",
        "Run the following cell below to install the transformers library."
      ]
    },
    {
      "cell_type": "code",
      "metadata": {
        "colab": {
          "base_uri": "https://localhost:8080/"
        },
        "id": "IXufUo5E0mfK",
        "outputId": "41a8544c-b9ee-4692-d444-d4a5179f4a20"
      },
      "source": [
        "!pip install transformers"
      ],
      "execution_count": 1,
      "outputs": [
        {
          "output_type": "stream",
          "text": [
            "Collecting transformers\n",
            "\u001b[?25l  Downloading https://files.pythonhosted.org/packages/d5/43/cfe4ee779bbd6a678ac6a97c5a5cdeb03c35f9eaebbb9720b036680f9a2d/transformers-4.6.1-py3-none-any.whl (2.2MB)\n",
            "\r\u001b[K     |▏                               | 10kB 25.0MB/s eta 0:00:01\r\u001b[K     |▎                               | 20kB 29.9MB/s eta 0:00:01\r\u001b[K     |▍                               | 30kB 33.2MB/s eta 0:00:01\r\u001b[K     |▋                               | 40kB 36.6MB/s eta 0:00:01\r\u001b[K     |▊                               | 51kB 31.8MB/s eta 0:00:01\r\u001b[K     |▉                               | 61kB 29.3MB/s eta 0:00:01\r\u001b[K     |█                               | 71kB 26.8MB/s eta 0:00:01\r\u001b[K     |█▏                              | 81kB 28.3MB/s eta 0:00:01\r\u001b[K     |█▎                              | 92kB 29.1MB/s eta 0:00:01\r\u001b[K     |█▌                              | 102kB 30.6MB/s eta 0:00:01\r\u001b[K     |█▋                              | 112kB 30.6MB/s eta 0:00:01\r\u001b[K     |█▊                              | 122kB 30.6MB/s eta 0:00:01\r\u001b[K     |██                              | 133kB 30.6MB/s eta 0:00:01\r\u001b[K     |██                              | 143kB 30.6MB/s eta 0:00:01\r\u001b[K     |██▏                             | 153kB 30.6MB/s eta 0:00:01\r\u001b[K     |██▎                             | 163kB 30.6MB/s eta 0:00:01\r\u001b[K     |██▌                             | 174kB 30.6MB/s eta 0:00:01\r\u001b[K     |██▋                             | 184kB 30.6MB/s eta 0:00:01\r\u001b[K     |██▊                             | 194kB 30.6MB/s eta 0:00:01\r\u001b[K     |███                             | 204kB 30.6MB/s eta 0:00:01\r\u001b[K     |███                             | 215kB 30.6MB/s eta 0:00:01\r\u001b[K     |███▏                            | 225kB 30.6MB/s eta 0:00:01\r\u001b[K     |███▍                            | 235kB 30.6MB/s eta 0:00:01\r\u001b[K     |███▌                            | 245kB 30.6MB/s eta 0:00:01\r\u001b[K     |███▋                            | 256kB 30.6MB/s eta 0:00:01\r\u001b[K     |███▉                            | 266kB 30.6MB/s eta 0:00:01\r\u001b[K     |████                            | 276kB 30.6MB/s eta 0:00:01\r\u001b[K     |████                            | 286kB 30.6MB/s eta 0:00:01\r\u001b[K     |████▎                           | 296kB 30.6MB/s eta 0:00:01\r\u001b[K     |████▍                           | 307kB 30.6MB/s eta 0:00:01\r\u001b[K     |████▌                           | 317kB 30.6MB/s eta 0:00:01\r\u001b[K     |████▋                           | 327kB 30.6MB/s eta 0:00:01\r\u001b[K     |████▉                           | 337kB 30.6MB/s eta 0:00:01\r\u001b[K     |█████                           | 348kB 30.6MB/s eta 0:00:01\r\u001b[K     |█████                           | 358kB 30.6MB/s eta 0:00:01\r\u001b[K     |█████▎                          | 368kB 30.6MB/s eta 0:00:01\r\u001b[K     |█████▍                          | 378kB 30.6MB/s eta 0:00:01\r\u001b[K     |█████▌                          | 389kB 30.6MB/s eta 0:00:01\r\u001b[K     |█████▊                          | 399kB 30.6MB/s eta 0:00:01\r\u001b[K     |█████▉                          | 409kB 30.6MB/s eta 0:00:01\r\u001b[K     |██████                          | 419kB 30.6MB/s eta 0:00:01\r\u001b[K     |██████▏                         | 430kB 30.6MB/s eta 0:00:01\r\u001b[K     |██████▎                         | 440kB 30.6MB/s eta 0:00:01\r\u001b[K     |██████▍                         | 450kB 30.6MB/s eta 0:00:01\r\u001b[K     |██████▌                         | 460kB 30.6MB/s eta 0:00:01\r\u001b[K     |██████▊                         | 471kB 30.6MB/s eta 0:00:01\r\u001b[K     |██████▉                         | 481kB 30.6MB/s eta 0:00:01\r\u001b[K     |███████                         | 491kB 30.6MB/s eta 0:00:01\r\u001b[K     |███████▏                        | 501kB 30.6MB/s eta 0:00:01\r\u001b[K     |███████▎                        | 512kB 30.6MB/s eta 0:00:01\r\u001b[K     |███████▍                        | 522kB 30.6MB/s eta 0:00:01\r\u001b[K     |███████▋                        | 532kB 30.6MB/s eta 0:00:01\r\u001b[K     |███████▊                        | 542kB 30.6MB/s eta 0:00:01\r\u001b[K     |███████▉                        | 552kB 30.6MB/s eta 0:00:01\r\u001b[K     |████████                        | 563kB 30.6MB/s eta 0:00:01\r\u001b[K     |████████▏                       | 573kB 30.6MB/s eta 0:00:01\r\u001b[K     |████████▎                       | 583kB 30.6MB/s eta 0:00:01\r\u001b[K     |████████▌                       | 593kB 30.6MB/s eta 0:00:01\r\u001b[K     |████████▋                       | 604kB 30.6MB/s eta 0:00:01\r\u001b[K     |████████▊                       | 614kB 30.6MB/s eta 0:00:01\r\u001b[K     |████████▉                       | 624kB 30.6MB/s eta 0:00:01\r\u001b[K     |█████████                       | 634kB 30.6MB/s eta 0:00:01\r\u001b[K     |█████████▏                      | 645kB 30.6MB/s eta 0:00:01\r\u001b[K     |█████████▎                      | 655kB 30.6MB/s eta 0:00:01\r\u001b[K     |█████████▌                      | 665kB 30.6MB/s eta 0:00:01\r\u001b[K     |█████████▋                      | 675kB 30.6MB/s eta 0:00:01\r\u001b[K     |█████████▊                      | 686kB 30.6MB/s eta 0:00:01\r\u001b[K     |██████████                      | 696kB 30.6MB/s eta 0:00:01\r\u001b[K     |██████████                      | 706kB 30.6MB/s eta 0:00:01\r\u001b[K     |██████████▏                     | 716kB 30.6MB/s eta 0:00:01\r\u001b[K     |██████████▍                     | 727kB 30.6MB/s eta 0:00:01\r\u001b[K     |██████████▌                     | 737kB 30.6MB/s eta 0:00:01\r\u001b[K     |██████████▋                     | 747kB 30.6MB/s eta 0:00:01\r\u001b[K     |██████████▉                     | 757kB 30.6MB/s eta 0:00:01\r\u001b[K     |███████████                     | 768kB 30.6MB/s eta 0:00:01\r\u001b[K     |███████████                     | 778kB 30.6MB/s eta 0:00:01\r\u001b[K     |███████████▏                    | 788kB 30.6MB/s eta 0:00:01\r\u001b[K     |███████████▍                    | 798kB 30.6MB/s eta 0:00:01\r\u001b[K     |███████████▌                    | 808kB 30.6MB/s eta 0:00:01\r\u001b[K     |███████████▋                    | 819kB 30.6MB/s eta 0:00:01\r\u001b[K     |███████████▉                    | 829kB 30.6MB/s eta 0:00:01\r\u001b[K     |████████████                    | 839kB 30.6MB/s eta 0:00:01\r\u001b[K     |████████████                    | 849kB 30.6MB/s eta 0:00:01\r\u001b[K     |████████████▎                   | 860kB 30.6MB/s eta 0:00:01\r\u001b[K     |████████████▍                   | 870kB 30.6MB/s eta 0:00:01\r\u001b[K     |████████████▌                   | 880kB 30.6MB/s eta 0:00:01\r\u001b[K     |████████████▊                   | 890kB 30.6MB/s eta 0:00:01\r\u001b[K     |████████████▉                   | 901kB 30.6MB/s eta 0:00:01\r\u001b[K     |█████████████                   | 911kB 30.6MB/s eta 0:00:01\r\u001b[K     |█████████████                   | 921kB 30.6MB/s eta 0:00:01\r\u001b[K     |█████████████▎                  | 931kB 30.6MB/s eta 0:00:01\r\u001b[K     |█████████████▍                  | 942kB 30.6MB/s eta 0:00:01\r\u001b[K     |█████████████▌                  | 952kB 30.6MB/s eta 0:00:01\r\u001b[K     |█████████████▊                  | 962kB 30.6MB/s eta 0:00:01\r\u001b[K     |█████████████▉                  | 972kB 30.6MB/s eta 0:00:01\r\u001b[K     |██████████████                  | 983kB 30.6MB/s eta 0:00:01\r\u001b[K     |██████████████▏                 | 993kB 30.6MB/s eta 0:00:01\r\u001b[K     |██████████████▎                 | 1.0MB 30.6MB/s eta 0:00:01\r\u001b[K     |██████████████▍                 | 1.0MB 30.6MB/s eta 0:00:01\r\u001b[K     |██████████████▋                 | 1.0MB 30.6MB/s eta 0:00:01\r\u001b[K     |██████████████▊                 | 1.0MB 30.6MB/s eta 0:00:01\r\u001b[K     |██████████████▉                 | 1.0MB 30.6MB/s eta 0:00:01\r\u001b[K     |███████████████                 | 1.1MB 30.6MB/s eta 0:00:01\r\u001b[K     |███████████████▏                | 1.1MB 30.6MB/s eta 0:00:01\r\u001b[K     |███████████████▎                | 1.1MB 30.6MB/s eta 0:00:01\r\u001b[K     |███████████████▍                | 1.1MB 30.6MB/s eta 0:00:01\r\u001b[K     |███████████████▋                | 1.1MB 30.6MB/s eta 0:00:01\r\u001b[K     |███████████████▊                | 1.1MB 30.6MB/s eta 0:00:01\r\u001b[K     |███████████████▉                | 1.1MB 30.6MB/s eta 0:00:01\r\u001b[K     |████████████████                | 1.1MB 30.6MB/s eta 0:00:01\r\u001b[K     |████████████████▏               | 1.1MB 30.6MB/s eta 0:00:01\r\u001b[K     |████████████████▎               | 1.1MB 30.6MB/s eta 0:00:01\r\u001b[K     |████████████████▌               | 1.2MB 30.6MB/s eta 0:00:01\r\u001b[K     |████████████████▋               | 1.2MB 30.6MB/s eta 0:00:01\r\u001b[K     |████████████████▊               | 1.2MB 30.6MB/s eta 0:00:01\r\u001b[K     |█████████████████               | 1.2MB 30.6MB/s eta 0:00:01\r\u001b[K     |█████████████████               | 1.2MB 30.6MB/s eta 0:00:01\r\u001b[K     |█████████████████▏              | 1.2MB 30.6MB/s eta 0:00:01\r\u001b[K     |█████████████████▎              | 1.2MB 30.6MB/s eta 0:00:01\r\u001b[K     |█████████████████▌              | 1.2MB 30.6MB/s eta 0:00:01\r\u001b[K     |█████████████████▋              | 1.2MB 30.6MB/s eta 0:00:01\r\u001b[K     |█████████████████▊              | 1.2MB 30.6MB/s eta 0:00:01\r\u001b[K     |██████████████████              | 1.3MB 30.6MB/s eta 0:00:01\r\u001b[K     |██████████████████              | 1.3MB 30.6MB/s eta 0:00:01\r\u001b[K     |██████████████████▏             | 1.3MB 30.6MB/s eta 0:00:01\r\u001b[K     |██████████████████▍             | 1.3MB 30.6MB/s eta 0:00:01\r\u001b[K     |██████████████████▌             | 1.3MB 30.6MB/s eta 0:00:01\r\u001b[K     |██████████████████▋             | 1.3MB 30.6MB/s eta 0:00:01\r\u001b[K     |██████████████████▉             | 1.3MB 30.6MB/s eta 0:00:01\r\u001b[K     |███████████████████             | 1.3MB 30.6MB/s eta 0:00:01\r\u001b[K     |███████████████████             | 1.3MB 30.6MB/s eta 0:00:01\r\u001b[K     |███████████████████▎            | 1.4MB 30.6MB/s eta 0:00:01\r\u001b[K     |███████████████████▍            | 1.4MB 30.6MB/s eta 0:00:01\r\u001b[K     |███████████████████▌            | 1.4MB 30.6MB/s eta 0:00:01\r\u001b[K     |███████████████████▋            | 1.4MB 30.6MB/s eta 0:00:01\r\u001b[K     |███████████████████▉            | 1.4MB 30.6MB/s eta 0:00:01\r\u001b[K     |████████████████████            | 1.4MB 30.6MB/s eta 0:00:01\r\u001b[K     |████████████████████            | 1.4MB 30.6MB/s eta 0:00:01\r\u001b[K     |████████████████████▎           | 1.4MB 30.6MB/s eta 0:00:01\r\u001b[K     |████████████████████▍           | 1.4MB 30.6MB/s eta 0:00:01\r\u001b[K     |████████████████████▌           | 1.4MB 30.6MB/s eta 0:00:01\r\u001b[K     |████████████████████▊           | 1.5MB 30.6MB/s eta 0:00:01\r\u001b[K     |████████████████████▉           | 1.5MB 30.6MB/s eta 0:00:01\r\u001b[K     |█████████████████████           | 1.5MB 30.6MB/s eta 0:00:01\r\u001b[K     |█████████████████████▏          | 1.5MB 30.6MB/s eta 0:00:01\r\u001b[K     |█████████████████████▎          | 1.5MB 30.6MB/s eta 0:00:01\r\u001b[K     |█████████████████████▍          | 1.5MB 30.6MB/s eta 0:00:01\r\u001b[K     |█████████████████████▋          | 1.5MB 30.6MB/s eta 0:00:01\r\u001b[K     |█████████████████████▊          | 1.5MB 30.6MB/s eta 0:00:01\r\u001b[K     |█████████████████████▉          | 1.5MB 30.6MB/s eta 0:00:01\r\u001b[K     |██████████████████████          | 1.5MB 30.6MB/s eta 0:00:01\r\u001b[K     |██████████████████████▏         | 1.6MB 30.6MB/s eta 0:00:01\r\u001b[K     |██████████████████████▎         | 1.6MB 30.6MB/s eta 0:00:01\r\u001b[K     |██████████████████████▍         | 1.6MB 30.6MB/s eta 0:00:01\r\u001b[K     |██████████████████████▋         | 1.6MB 30.6MB/s eta 0:00:01\r\u001b[K     |██████████████████████▊         | 1.6MB 30.6MB/s eta 0:00:01\r\u001b[K     |██████████████████████▉         | 1.6MB 30.6MB/s eta 0:00:01\r\u001b[K     |███████████████████████         | 1.6MB 30.6MB/s eta 0:00:01\r\u001b[K     |███████████████████████▏        | 1.6MB 30.6MB/s eta 0:00:01\r\u001b[K     |███████████████████████▎        | 1.6MB 30.6MB/s eta 0:00:01\r\u001b[K     |███████████████████████▌        | 1.6MB 30.6MB/s eta 0:00:01\r\u001b[K     |███████████████████████▋        | 1.7MB 30.6MB/s eta 0:00:01\r\u001b[K     |███████████████████████▊        | 1.7MB 30.6MB/s eta 0:00:01\r\u001b[K     |███████████████████████▉        | 1.7MB 30.6MB/s eta 0:00:01\r\u001b[K     |████████████████████████        | 1.7MB 30.6MB/s eta 0:00:01\r\u001b[K     |████████████████████████▏       | 1.7MB 30.6MB/s eta 0:00:01\r\u001b[K     |████████████████████████▎       | 1.7MB 30.6MB/s eta 0:00:01\r\u001b[K     |████████████████████████▌       | 1.7MB 30.6MB/s eta 0:00:01\r\u001b[K     |████████████████████████▋       | 1.7MB 30.6MB/s eta 0:00:01\r\u001b[K     |████████████████████████▊       | 1.7MB 30.6MB/s eta 0:00:01\r\u001b[K     |█████████████████████████       | 1.8MB 30.6MB/s eta 0:00:01\r\u001b[K     |█████████████████████████       | 1.8MB 30.6MB/s eta 0:00:01\r\u001b[K     |█████████████████████████▏      | 1.8MB 30.6MB/s eta 0:00:01\r\u001b[K     |█████████████████████████▍      | 1.8MB 30.6MB/s eta 0:00:01\r\u001b[K     |█████████████████████████▌      | 1.8MB 30.6MB/s eta 0:00:01\r\u001b[K     |█████████████████████████▋      | 1.8MB 30.6MB/s eta 0:00:01\r\u001b[K     |█████████████████████████▉      | 1.8MB 30.6MB/s eta 0:00:01\r\u001b[K     |██████████████████████████      | 1.8MB 30.6MB/s eta 0:00:01\r\u001b[K     |██████████████████████████      | 1.8MB 30.6MB/s eta 0:00:01\r\u001b[K     |██████████████████████████▏     | 1.8MB 30.6MB/s eta 0:00:01\r\u001b[K     |██████████████████████████▍     | 1.9MB 30.6MB/s eta 0:00:01\r\u001b[K     |██████████████████████████▌     | 1.9MB 30.6MB/s eta 0:00:01\r\u001b[K     |██████████████████████████▋     | 1.9MB 30.6MB/s eta 0:00:01\r\u001b[K     |██████████████████████████▉     | 1.9MB 30.6MB/s eta 0:00:01\r\u001b[K     |███████████████████████████     | 1.9MB 30.6MB/s eta 0:00:01\r\u001b[K     |███████████████████████████     | 1.9MB 30.6MB/s eta 0:00:01\r\u001b[K     |███████████████████████████▎    | 1.9MB 30.6MB/s eta 0:00:01\r\u001b[K     |███████████████████████████▍    | 1.9MB 30.6MB/s eta 0:00:01\r\u001b[K     |███████████████████████████▌    | 1.9MB 30.6MB/s eta 0:00:01\r\u001b[K     |███████████████████████████▊    | 1.9MB 30.6MB/s eta 0:00:01\r\u001b[K     |███████████████████████████▉    | 2.0MB 30.6MB/s eta 0:00:01\r\u001b[K     |████████████████████████████    | 2.0MB 30.6MB/s eta 0:00:01\r\u001b[K     |████████████████████████████▏   | 2.0MB 30.6MB/s eta 0:00:01\r\u001b[K     |████████████████████████████▎   | 2.0MB 30.6MB/s eta 0:00:01\r\u001b[K     |████████████████████████████▍   | 2.0MB 30.6MB/s eta 0:00:01\r\u001b[K     |████████████████████████████▌   | 2.0MB 30.6MB/s eta 0:00:01\r\u001b[K     |████████████████████████████▊   | 2.0MB 30.6MB/s eta 0:00:01\r\u001b[K     |████████████████████████████▉   | 2.0MB 30.6MB/s eta 0:00:01\r\u001b[K     |█████████████████████████████   | 2.0MB 30.6MB/s eta 0:00:01\r\u001b[K     |█████████████████████████████▏  | 2.0MB 30.6MB/s eta 0:00:01\r\u001b[K     |█████████████████████████████▎  | 2.1MB 30.6MB/s eta 0:00:01\r\u001b[K     |█████████████████████████████▍  | 2.1MB 30.6MB/s eta 0:00:01\r\u001b[K     |█████████████████████████████▋  | 2.1MB 30.6MB/s eta 0:00:01\r\u001b[K     |█████████████████████████████▊  | 2.1MB 30.6MB/s eta 0:00:01\r\u001b[K     |█████████████████████████████▉  | 2.1MB 30.6MB/s eta 0:00:01\r\u001b[K     |██████████████████████████████  | 2.1MB 30.6MB/s eta 0:00:01\r\u001b[K     |██████████████████████████████▏ | 2.1MB 30.6MB/s eta 0:00:01\r\u001b[K     |██████████████████████████████▎ | 2.1MB 30.6MB/s eta 0:00:01\r\u001b[K     |██████████████████████████████▍ | 2.1MB 30.6MB/s eta 0:00:01\r\u001b[K     |██████████████████████████████▋ | 2.2MB 30.6MB/s eta 0:00:01\r\u001b[K     |██████████████████████████████▊ | 2.2MB 30.6MB/s eta 0:00:01\r\u001b[K     |██████████████████████████████▉ | 2.2MB 30.6MB/s eta 0:00:01\r\u001b[K     |███████████████████████████████ | 2.2MB 30.6MB/s eta 0:00:01\r\u001b[K     |███████████████████████████████▏| 2.2MB 30.6MB/s eta 0:00:01\r\u001b[K     |███████████████████████████████▎| 2.2MB 30.6MB/s eta 0:00:01\r\u001b[K     |███████████████████████████████▌| 2.2MB 30.6MB/s eta 0:00:01\r\u001b[K     |███████████████████████████████▋| 2.2MB 30.6MB/s eta 0:00:01\r\u001b[K     |███████████████████████████████▊| 2.2MB 30.6MB/s eta 0:00:01\r\u001b[K     |████████████████████████████████| 2.2MB 30.6MB/s eta 0:00:01\r\u001b[K     |████████████████████████████████| 2.3MB 30.6MB/s \n",
            "\u001b[?25hRequirement already satisfied: tqdm>=4.27 in /usr/local/lib/python3.7/dist-packages (from transformers) (4.41.1)\n",
            "Collecting huggingface-hub==0.0.8\n",
            "  Downloading https://files.pythonhosted.org/packages/a1/88/7b1e45720ecf59c6c6737ff332f41c955963090a18e72acbcbeac6b25e86/huggingface_hub-0.0.8-py3-none-any.whl\n",
            "Requirement already satisfied: filelock in /usr/local/lib/python3.7/dist-packages (from transformers) (3.0.12)\n",
            "Collecting tokenizers<0.11,>=0.10.1\n",
            "\u001b[?25l  Downloading https://files.pythonhosted.org/packages/d4/e2/df3543e8ffdab68f5acc73f613de9c2b155ac47f162e725dcac87c521c11/tokenizers-0.10.3-cp37-cp37m-manylinux_2_5_x86_64.manylinux1_x86_64.manylinux_2_12_x86_64.manylinux2010_x86_64.whl (3.3MB)\n",
            "\u001b[K     |████████████████████████████████| 3.3MB 45.8MB/s \n",
            "\u001b[?25hRequirement already satisfied: numpy>=1.17 in /usr/local/lib/python3.7/dist-packages (from transformers) (1.19.5)\n",
            "Requirement already satisfied: importlib-metadata; python_version < \"3.8\" in /usr/local/lib/python3.7/dist-packages (from transformers) (4.5.0)\n",
            "Requirement already satisfied: regex!=2019.12.17 in /usr/local/lib/python3.7/dist-packages (from transformers) (2019.12.20)\n",
            "Requirement already satisfied: requests in /usr/local/lib/python3.7/dist-packages (from transformers) (2.23.0)\n",
            "Requirement already satisfied: packaging in /usr/local/lib/python3.7/dist-packages (from transformers) (20.9)\n",
            "Collecting sacremoses\n",
            "\u001b[?25l  Downloading https://files.pythonhosted.org/packages/75/ee/67241dc87f266093c533a2d4d3d69438e57d7a90abb216fa076e7d475d4a/sacremoses-0.0.45-py3-none-any.whl (895kB)\n",
            "\u001b[K     |████████████████████████████████| 901kB 50.9MB/s \n",
            "\u001b[?25hRequirement already satisfied: zipp>=0.5 in /usr/local/lib/python3.7/dist-packages (from importlib-metadata; python_version < \"3.8\"->transformers) (3.4.1)\n",
            "Requirement already satisfied: typing-extensions>=3.6.4; python_version < \"3.8\" in /usr/local/lib/python3.7/dist-packages (from importlib-metadata; python_version < \"3.8\"->transformers) (3.7.4.3)\n",
            "Requirement already satisfied: urllib3!=1.25.0,!=1.25.1,<1.26,>=1.21.1 in /usr/local/lib/python3.7/dist-packages (from requests->transformers) (1.24.3)\n",
            "Requirement already satisfied: chardet<4,>=3.0.2 in /usr/local/lib/python3.7/dist-packages (from requests->transformers) (3.0.4)\n",
            "Requirement already satisfied: certifi>=2017.4.17 in /usr/local/lib/python3.7/dist-packages (from requests->transformers) (2021.5.30)\n",
            "Requirement already satisfied: idna<3,>=2.5 in /usr/local/lib/python3.7/dist-packages (from requests->transformers) (2.10)\n",
            "Requirement already satisfied: pyparsing>=2.0.2 in /usr/local/lib/python3.7/dist-packages (from packaging->transformers) (2.4.7)\n",
            "Requirement already satisfied: click in /usr/local/lib/python3.7/dist-packages (from sacremoses->transformers) (7.1.2)\n",
            "Requirement already satisfied: six in /usr/local/lib/python3.7/dist-packages (from sacremoses->transformers) (1.15.0)\n",
            "Requirement already satisfied: joblib in /usr/local/lib/python3.7/dist-packages (from sacremoses->transformers) (1.0.1)\n",
            "Installing collected packages: huggingface-hub, tokenizers, sacremoses, transformers\n",
            "Successfully installed huggingface-hub-0.0.8 sacremoses-0.0.45 tokenizers-0.10.3 transformers-4.6.1\n"
          ],
          "name": "stdout"
        }
      ]
    },
    {
      "cell_type": "markdown",
      "metadata": {
        "id": "xVUeRFWeLWr2"
      },
      "source": [
        "## Section 2 - Import, Define Classes and Helper Functions\n",
        "\n",
        "Since we have collected a set of sentences and labelled them, let's just try to use those labels as training and test data. Training or fine-tuning the pre-trained model on our own dataset is likely to provide higher accuracy than zero-shot learning.\n",
        "\n",
        "Run the following cell to import all necessary libraries, define the necessary variables, classes and functions required for our processing.\n"
      ]
    },
    {
      "cell_type": "code",
      "metadata": {
        "id": "703anXdZAYqZ",
        "colab": {
          "base_uri": "https://localhost:8080/",
          "height": 165,
          "referenced_widgets": [
            "7fed6377e3734472af328a7692965bfc",
            "ca42de086edf423db6c27a1b188f9477",
            "c4994d9ffb964070b1b1403bf6960a37",
            "0efad205babd45cd92ea5febce483ab4",
            "f5ef6e86de014d61b886daf447dd28bb",
            "acec52715fb5460ca1cbb708024ab836",
            "0dfc70ba23944c67865a6d10aafd009d",
            "a58b29480747494389233b2c3d15e698",
            "3c050413917543d9810f7cbc2f11de08",
            "7608095f8f8141e6a442a78b50235de3",
            "027de259651944078e8bdd87124c1f45",
            "d246f44c9dfa42faa4150b0a97a21293",
            "9a42c33655f44207a31b8f502fcbafde",
            "1cf5cc3c8cae4c9eabe30d43bf2adcbe",
            "c30d34d598ec43f0bf51f74e4f9cebe7",
            "0b697cfb56fe4357b41faa995acf8418",
            "3764ba9976d249b48aeb4ebc56671273",
            "93e174ab83b641df862445e5896bfa31",
            "918748ecd4f94012b420f22a56fbed5e",
            "836bc1a5327e45d181351d2db52580d6",
            "9818fca6140e4ed88be8ed07347afb3d",
            "5a155253e4664a56b063d8eea8167767",
            "375e51deaac34137a05a13678d2514c3",
            "d98adc0fd909498fa8a651bf5ec87c2a"
          ]
        },
        "outputId": "fe12b179-cd42-4eb3-850d-588b0fd4a96e"
      },
      "source": [
        "# Import libraries\n",
        "#\n",
        "from transformers import DistilBertTokenizerFast, BertConfig, DistilBertTokenizer, DistilBertModel, DistilBertConfig\n",
        "import torch\n",
        "\n",
        "# Initialize our fast DistilBERT tokenizer.\n",
        "# This will be used later on to tokenize our set of data into individual word \n",
        "# indexes.\n",
        "#\n",
        "tokenizer = DistilBertTokenizerFast.from_pretrained('distilbert-base-uncased')\n",
        "\n",
        "# Declare a dataset class that we will use to pass into our model for training.\n",
        "#\n",
        "class SentenceClassificationDataset(torch.utils.data.Dataset):\n",
        "    def __init__(self, encodings, labels):\n",
        "        self.encodings = encodings\n",
        "        self.labels = labels\n",
        "\n",
        "    '''\n",
        "    This function, called during the training, returns the following \n",
        "    dictionary (example):\n",
        "    {\n",
        "       \"input_ids\"     : tensor([  101,  2054,  2003, 21725,  2465,  1039,   102,    0, ... ]),\n",
        "       \"attention_mask\": tensor([    1,     1,     1,     1,     1,     1,     1,    0, ...]),\n",
        "       \"labels\"        : tensor(     1)\n",
        "    }\n",
        "\n",
        "    Imagine this function as the one responsible for 'providing' individual\n",
        "    samples of the training data when asked for.\n",
        "    '''\n",
        "    def __getitem__(self, idx):\n",
        "        # constructs the input Word IDs and the attention mask\n",
        "        # (or whatever data was generated by the tokenizer)\n",
        "        #\n",
        "        item = {key: torch.tensor(val[idx]) for key, val in self.encodings.items()}\n",
        "\n",
        "        # constructs the expected output labels\n",
        "        # (this is just an index to the expected label, and NOT a one-hot encoding)\n",
        "        #\n",
        "        item['labels'] = torch.tensor(self.labels[idx])\n",
        "\n",
        "        return item\n",
        "\n",
        "    # This returns the total number of samples in this dataset.\n",
        "    #\n",
        "    def __len__(self):\n",
        "        return len(self.labels)\n",
        "\n",
        "\n",
        "# This function behaves a little like scikit-learn's train_test_split, \n",
        "# except that it doesn't do a random split. Instead, it creates 2 \n",
        "# sets of data by bunching the data into m (train) + n (test) samples, and\n",
        "# then splitting each bunch individually into train : test samples.\n",
        "#\n",
        "# For example, if the parameters train_samples = 4, and test_samples = 1,\n",
        "# then the entire dataset is broken up into bunches of 5 samples, where\n",
        "# the first 4 samples of each bunch goes into the training set, the last 1 \n",
        "# sample of that bunch goes into the test set:\n",
        "# \n",
        "#   Sample 0 -> Train\n",
        "#   Sample 1 -> Train\n",
        "#   Sample 2 -> Train\n",
        "#   Sample 3 -> Train\n",
        "#   Sample 4 -> Test\n",
        "\n",
        "#   Sample 5 -> Train\n",
        "#   Sample 6 -> Train\n",
        "#   Sample 7 -> Train\n",
        "#   Sample 8 -> Train\n",
        "#   Sample 9 -> Test\n",
        "#   ...\n",
        "#\n",
        "# This is very useful for us to keep a consistent set of train/test split,\n",
        "# and also helps to ensure consistent split of the classes when the original\n",
        "# dataset has the output classes sorted/grouped contiguously.\n",
        "#\n",
        "def train_test_split_alt(x, y, train_samples=4, test_samples=1):\n",
        "\n",
        "    # This is the split train/test x/y\n",
        "    train_x = []\n",
        "    train_y = []\n",
        "    test_x = []\n",
        "    test_y = []\n",
        "\n",
        "    # Loop through every sample and begin to split by bunches\n",
        "    #\n",
        "    for i in range(len(x)):\n",
        "\n",
        "        # The modulo operator (%) is the one that helps \n",
        "        # break up our samples into bunches of (m + n)\n",
        "        #\n",
        "        if i % (train_samples + test_samples) < train_samples:\n",
        "            # The first m samples in our bunch goes into the\n",
        "            # training set\n",
        "            #\n",
        "            train_x.append(x[i])\n",
        "            train_y.append(y[i])\n",
        "\n",
        "        else:\n",
        "            # The next n samples in our bunch goes into the\n",
        "            # test set\n",
        "            #\n",
        "            test_x.append(x[i])\n",
        "            test_y.append(y[i])\n",
        "      \n",
        "    # Finally, return the results in the same form as Scikit-learn's\n",
        "    # train_test_split function\n",
        "    #\n",
        "    return train_x, test_x, train_y, test_y\n",
        "\n",
        "\n",
        "import pandas as pd\n",
        "\n",
        "# The following function reads in a CSV and returns a list of input texts, and\n",
        "# another list of output labels from the column index provided.\n",
        "#\n",
        "def load_csv_into_input_text_and_labels(filepath, input_column, output_column):\n",
        "\n",
        "    # Loads the CSV file \n",
        "    df = pd.read_csv(filepath)\n",
        "\n",
        "    # Create empty lists to hold our input texts and output labels.\n",
        "    #\n",
        "    input = df[input_column]\n",
        "    output = df[output_column]\n",
        "\n",
        "    return input, output\n",
        "\n",
        "\n"
      ],
      "execution_count": 26,
      "outputs": [
        {
          "output_type": "display_data",
          "data": {
            "application/vnd.jupyter.widget-view+json": {
              "model_id": "7fed6377e3734472af328a7692965bfc",
              "version_minor": 0,
              "version_major": 2
            },
            "text/plain": [
              "HBox(children=(FloatProgress(value=0.0, description='Downloading', max=231508.0, style=ProgressStyle(descripti…"
            ]
          },
          "metadata": {
            "tags": []
          }
        },
        {
          "output_type": "stream",
          "text": [
            "\n"
          ],
          "name": "stdout"
        },
        {
          "output_type": "display_data",
          "data": {
            "application/vnd.jupyter.widget-view+json": {
              "model_id": "3c050413917543d9810f7cbc2f11de08",
              "version_minor": 0,
              "version_major": 2
            },
            "text/plain": [
              "HBox(children=(FloatProgress(value=0.0, description='Downloading', max=466062.0, style=ProgressStyle(descripti…"
            ]
          },
          "metadata": {
            "tags": []
          }
        },
        {
          "output_type": "stream",
          "text": [
            "\n"
          ],
          "name": "stdout"
        },
        {
          "output_type": "display_data",
          "data": {
            "application/vnd.jupyter.widget-view+json": {
              "model_id": "3764ba9976d249b48aeb4ebc56671273",
              "version_minor": 0,
              "version_major": 2
            },
            "text/plain": [
              "HBox(children=(FloatProgress(value=0.0, description='Downloading', max=28.0, style=ProgressStyle(description_w…"
            ]
          },
          "metadata": {
            "tags": []
          }
        },
        {
          "output_type": "stream",
          "text": [
            "\n"
          ],
          "name": "stdout"
        }
      ]
    },
    {
      "cell_type": "code",
      "metadata": {
        "colab": {
          "base_uri": "https://localhost:8080/",
          "height": 205
        },
        "id": "MX2EMQRpl5kA",
        "outputId": "db63c914-7d42-4507-ca60-51c547b5bf2d"
      },
      "source": [
        "import pandas as pd\n",
        "\n",
        "df = pd.read_csv('airchat_intents.csv')\n",
        "\n",
        "df.head()"
      ],
      "execution_count": 3,
      "outputs": [
        {
          "output_type": "execute_result",
          "data": {
            "text/html": [
              "<div>\n",
              "<style scoped>\n",
              "    .dataframe tbody tr th:only-of-type {\n",
              "        vertical-align: middle;\n",
              "    }\n",
              "\n",
              "    .dataframe tbody tr th {\n",
              "        vertical-align: top;\n",
              "    }\n",
              "\n",
              "    .dataframe thead th {\n",
              "        text-align: right;\n",
              "    }\n",
              "</style>\n",
              "<table border=\"1\" class=\"dataframe\">\n",
              "  <thead>\n",
              "    <tr style=\"text-align: right;\">\n",
              "      <th></th>\n",
              "      <th>Label</th>\n",
              "      <th>Text</th>\n",
              "    </tr>\n",
              "  </thead>\n",
              "  <tbody>\n",
              "    <tr>\n",
              "      <th>0</th>\n",
              "      <td>atis_abbreviation</td>\n",
              "      <td>what is fare code h</td>\n",
              "    </tr>\n",
              "    <tr>\n",
              "      <th>1</th>\n",
              "      <td>atis_abbreviation</td>\n",
              "      <td>what is booking class c</td>\n",
              "    </tr>\n",
              "    <tr>\n",
              "      <th>2</th>\n",
              "      <td>atis_abbreviation</td>\n",
              "      <td>what does fare code q mean</td>\n",
              "    </tr>\n",
              "    <tr>\n",
              "      <th>3</th>\n",
              "      <td>atis_abbreviation</td>\n",
              "      <td>what is fare code qw</td>\n",
              "    </tr>\n",
              "    <tr>\n",
              "      <th>4</th>\n",
              "      <td>atis_abbreviation</td>\n",
              "      <td>what does the fare code f mean</td>\n",
              "    </tr>\n",
              "  </tbody>\n",
              "</table>\n",
              "</div>"
            ],
            "text/plain": [
              "               Label                             Text\n",
              "0  atis_abbreviation              what is fare code h\n",
              "1  atis_abbreviation          what is booking class c\n",
              "2  atis_abbreviation       what does fare code q mean\n",
              "3  atis_abbreviation             what is fare code qw\n",
              "4  atis_abbreviation   what does the fare code f mean"
            ]
          },
          "metadata": {
            "tags": []
          },
          "execution_count": 3
        }
      ]
    },
    {
      "cell_type": "markdown",
      "metadata": {
        "id": "qr6YP12kwOyD"
      },
      "source": [
        "## Section 3 - Defining Our Classification Labels\n",
        "\n",
        "Run the following cell to declare the sentence classification labels that we will be using.\n",
        " "
      ]
    },
    {
      "cell_type": "code",
      "metadata": {
        "colab": {
          "base_uri": "https://localhost:8080/"
        },
        "id": "WumZrOH3mI5y",
        "outputId": "a2dc3d5d-5379-4492-b7ee-a51d143c96af"
      },
      "source": [
        "df['Label'].value_counts()"
      ],
      "execution_count": 7,
      "outputs": [
        {
          "output_type": "execute_result",
          "data": {
            "text/plain": [
              "atis_flight                                 3666\n",
              "atis_airfare                                 423\n",
              "atis_ground_service                          255\n",
              "atis_airline                                 157\n",
              "atis_abbreviation                            147\n",
              "atis_yes                                      82\n",
              "atis_aircraft                                 81\n",
              "atis_no                                       67\n",
              "atis_flight_time                              54\n",
              "atis_greeting                                 53\n",
              "atis_quantity                                 51\n",
              "atis_flight#atis_airfare                      21\n",
              "atis_distance                                 20\n",
              "atis_airport                                  20\n",
              "atis_city                                     19\n",
              "atis_ground_fare                              18\n",
              "atis_capacity                                 16\n",
              "atis_flight_no                                12\n",
              "atis_meal                                      6\n",
              "atis_restriction                               6\n",
              "atis_airline#atis_flight_no                    2\n",
              "atis_aircraft#atis_flight#atis_flight_no       1\n",
              "atis_ground_service#atis_ground_fare           1\n",
              "atis_airfare#atis_flight_time                  1\n",
              "atis_cheapest                                  1\n",
              "Name: Label, dtype: int64"
            ]
          },
          "metadata": {
            "tags": []
          },
          "execution_count": 7
        }
      ]
    },
    {
      "cell_type": "code",
      "metadata": {
        "id": "OdoYqzUQvnRt"
      },
      "source": [
        "# Create a list of unique labels that we will recognize.\n",
        "#\n",
        "sentence_labels = [\n",
        "              \"others\",\n",
        "              \"atis_abbreviation\",\n",
        "              \"atis_aircraft\",\n",
        "              \"atis_airfare\",\n",
        "              \"atis_airline\",\n",
        "              \"atis_flight\",\n",
        "              \"atis_flight_time\",\n",
        "              \"atis_greeting\",\n",
        "              \"atis_ground_service\",\n",
        "              \"atis_quantity\",\n",
        "              \"atis_yes\",\n",
        "              \"atis_no\"]\n",
        "\n",
        "# This creates a reverse mapping dictionary of \"label\" -> index.\n",
        "# \n",
        "sentence_labels_id_by_label = dict((t, i) for i, t in enumerate(sentence_labels))\n",
        "\n"
      ],
      "execution_count": 8,
      "outputs": []
    },
    {
      "cell_type": "code",
      "metadata": {
        "colab": {
          "base_uri": "https://localhost:8080/"
        },
        "id": "qPgAhRU-no1I",
        "outputId": "6502fa6a-c02d-42f7-bffd-ce5d3f7893b2"
      },
      "source": [
        "sentence_labels_id_by_label"
      ],
      "execution_count": 9,
      "outputs": [
        {
          "output_type": "execute_result",
          "data": {
            "text/plain": [
              "{'atis_abbreviation': 1,\n",
              " 'atis_aircraft': 2,\n",
              " 'atis_airfare': 3,\n",
              " 'atis_airline': 4,\n",
              " 'atis_flight': 5,\n",
              " 'atis_flight_time': 6,\n",
              " 'atis_greeting': 7,\n",
              " 'atis_ground_service': 8,\n",
              " 'atis_no': 11,\n",
              " 'atis_quantity': 9,\n",
              " 'atis_yes': 10,\n",
              " 'others': 0}"
            ]
          },
          "metadata": {
            "tags": []
          },
          "execution_count": 9
        }
      ]
    },
    {
      "cell_type": "code",
      "metadata": {
        "id": "GmQkgwklnQ41"
      },
      "source": [
        "df['new_label'] = df['Label'].map(lambda label: sentence_labels_id_by_label[label] if label in sentence_labels_id_by_label else 0  )"
      ],
      "execution_count": 10,
      "outputs": []
    },
    {
      "cell_type": "code",
      "metadata": {
        "colab": {
          "base_uri": "https://localhost:8080/",
          "height": 1000
        },
        "id": "jH2PYCv6oDt1",
        "outputId": "8f9bd527-f4a0-455a-d54e-3f61764bcc97"
      },
      "source": [
        "df.sample(50)"
      ],
      "execution_count": 12,
      "outputs": [
        {
          "output_type": "execute_result",
          "data": {
            "text/html": [
              "<div>\n",
              "<style scoped>\n",
              "    .dataframe tbody tr th:only-of-type {\n",
              "        vertical-align: middle;\n",
              "    }\n",
              "\n",
              "    .dataframe tbody tr th {\n",
              "        vertical-align: top;\n",
              "    }\n",
              "\n",
              "    .dataframe thead th {\n",
              "        text-align: right;\n",
              "    }\n",
              "</style>\n",
              "<table border=\"1\" class=\"dataframe\">\n",
              "  <thead>\n",
              "    <tr style=\"text-align: right;\">\n",
              "      <th></th>\n",
              "      <th>Label</th>\n",
              "      <th>Text</th>\n",
              "      <th>new_label</th>\n",
              "    </tr>\n",
              "  </thead>\n",
              "  <tbody>\n",
              "    <tr>\n",
              "      <th>3047</th>\n",
              "      <td>atis_flight</td>\n",
              "      <td>i want the flights from denver to pittsburgh</td>\n",
              "      <td>5</td>\n",
              "    </tr>\n",
              "    <tr>\n",
              "      <th>1686</th>\n",
              "      <td>atis_flight</td>\n",
              "      <td>show me boston to oakland flights</td>\n",
              "      <td>5</td>\n",
              "    </tr>\n",
              "    <tr>\n",
              "      <th>2279</th>\n",
              "      <td>atis_flight</td>\n",
              "      <td>does united airline have any flights from dal...</td>\n",
              "      <td>5</td>\n",
              "    </tr>\n",
              "    <tr>\n",
              "      <th>4203</th>\n",
              "      <td>atis_flight</td>\n",
              "      <td>now i need flights leaving from atlanta and a...</td>\n",
              "      <td>5</td>\n",
              "    </tr>\n",
              "    <tr>\n",
              "      <th>2718</th>\n",
              "      <td>atis_flight</td>\n",
              "      <td>show me flights from pittsburgh to philadelphia</td>\n",
              "      <td>5</td>\n",
              "    </tr>\n",
              "    <tr>\n",
              "      <th>1848</th>\n",
              "      <td>atis_flight</td>\n",
              "      <td>all flights from baltimore to philadelphia le...</td>\n",
              "      <td>5</td>\n",
              "    </tr>\n",
              "    <tr>\n",
              "      <th>3968</th>\n",
              "      <td>atis_flight</td>\n",
              "      <td>do you have any flights from boston to dallas...</td>\n",
              "      <td>5</td>\n",
              "    </tr>\n",
              "    <tr>\n",
              "      <th>4152</th>\n",
              "      <td>atis_flight</td>\n",
              "      <td>what flights can i find from pittsburgh to sa...</td>\n",
              "      <td>5</td>\n",
              "    </tr>\n",
              "    <tr>\n",
              "      <th>3029</th>\n",
              "      <td>atis_flight</td>\n",
              "      <td>i'm looking for a flight from pittsburgh to s...</td>\n",
              "      <td>5</td>\n",
              "    </tr>\n",
              "    <tr>\n",
              "      <th>89</th>\n",
              "      <td>atis_abbreviation</td>\n",
              "      <td>what does nw stand for</td>\n",
              "      <td>1</td>\n",
              "    </tr>\n",
              "    <tr>\n",
              "      <th>1012</th>\n",
              "      <td>atis_flight</td>\n",
              "      <td>i need a flight from kansas city to chicago t...</td>\n",
              "      <td>5</td>\n",
              "    </tr>\n",
              "    <tr>\n",
              "      <th>881</th>\n",
              "      <td>atis_distance</td>\n",
              "      <td>how long does it take to get from denver to o...</td>\n",
              "      <td>0</td>\n",
              "    </tr>\n",
              "    <tr>\n",
              "      <th>4845</th>\n",
              "      <td>atis_ground_service</td>\n",
              "      <td>show me ground transportation for dallas</td>\n",
              "      <td>8</td>\n",
              "    </tr>\n",
              "    <tr>\n",
              "      <th>2914</th>\n",
              "      <td>atis_flight</td>\n",
              "      <td>do you have a flight from atlanta to boston</td>\n",
              "      <td>5</td>\n",
              "    </tr>\n",
              "    <tr>\n",
              "      <th>2505</th>\n",
              "      <td>atis_flight</td>\n",
              "      <td>i'm interested in a flight from pittsburgh to...</td>\n",
              "      <td>5</td>\n",
              "    </tr>\n",
              "    <tr>\n",
              "      <th>4615</th>\n",
              "      <td>atis_flight_time</td>\n",
              "      <td>i would like a schedule of flights from denve...</td>\n",
              "      <td>6</td>\n",
              "    </tr>\n",
              "    <tr>\n",
              "      <th>4246</th>\n",
              "      <td>atis_flight</td>\n",
              "      <td>i would like a flight from nashville to st. l...</td>\n",
              "      <td>5</td>\n",
              "    </tr>\n",
              "    <tr>\n",
              "      <th>2882</th>\n",
              "      <td>atis_flight</td>\n",
              "      <td>what are the flights from denver to pittsburgh</td>\n",
              "      <td>5</td>\n",
              "    </tr>\n",
              "    <tr>\n",
              "      <th>1603</th>\n",
              "      <td>atis_flight</td>\n",
              "      <td>give me flights that arrive in baltimore from...</td>\n",
              "      <td>5</td>\n",
              "    </tr>\n",
              "    <tr>\n",
              "      <th>253</th>\n",
              "      <td>atis_airfare</td>\n",
              "      <td>how much is a flight from washington to boston</td>\n",
              "      <td>3</td>\n",
              "    </tr>\n",
              "    <tr>\n",
              "      <th>4312</th>\n",
              "      <td>atis_flight</td>\n",
              "      <td>show me all nationair flights from toronto</td>\n",
              "      <td>5</td>\n",
              "    </tr>\n",
              "    <tr>\n",
              "      <th>4797</th>\n",
              "      <td>atis_ground_service</td>\n",
              "      <td>tell me about ground transportation at toronto</td>\n",
              "      <td>8</td>\n",
              "    </tr>\n",
              "    <tr>\n",
              "      <th>4677</th>\n",
              "      <td>atis_greeting</td>\n",
              "      <td>long time no see</td>\n",
              "      <td>7</td>\n",
              "    </tr>\n",
              "    <tr>\n",
              "      <th>5153</th>\n",
              "      <td>atis_yes</td>\n",
              "      <td>yes right</td>\n",
              "      <td>10</td>\n",
              "    </tr>\n",
              "    <tr>\n",
              "      <th>2494</th>\n",
              "      <td>atis_flight</td>\n",
              "      <td>what flights leave pittsburgh for denver on m...</td>\n",
              "      <td>5</td>\n",
              "    </tr>\n",
              "    <tr>\n",
              "      <th>4644</th>\n",
              "      <td>atis_greeting</td>\n",
              "      <td>hello good evening</td>\n",
              "      <td>7</td>\n",
              "    </tr>\n",
              "    <tr>\n",
              "      <th>3578</th>\n",
              "      <td>atis_flight</td>\n",
              "      <td>what flights leave from chicago to seattle on...</td>\n",
              "      <td>5</td>\n",
              "    </tr>\n",
              "    <tr>\n",
              "      <th>4685</th>\n",
              "      <td>atis_greeting</td>\n",
              "      <td>hi there</td>\n",
              "      <td>7</td>\n",
              "    </tr>\n",
              "    <tr>\n",
              "      <th>3482</th>\n",
              "      <td>atis_flight</td>\n",
              "      <td>what flights has continental from atlanta</td>\n",
              "      <td>5</td>\n",
              "    </tr>\n",
              "    <tr>\n",
              "      <th>4638</th>\n",
              "      <td>atis_flight_time</td>\n",
              "      <td>what time is the last flight from washington ...</td>\n",
              "      <td>6</td>\n",
              "    </tr>\n",
              "    <tr>\n",
              "      <th>887</th>\n",
              "      <td>atis_distance</td>\n",
              "      <td>how long is the flight from atlanta to san fr...</td>\n",
              "      <td>0</td>\n",
              "    </tr>\n",
              "    <tr>\n",
              "      <th>1804</th>\n",
              "      <td>atis_flight</td>\n",
              "      <td>show me flights from philadelphia to baltimore</td>\n",
              "      <td>5</td>\n",
              "    </tr>\n",
              "    <tr>\n",
              "      <th>4609</th>\n",
              "      <td>atis_flight_time</td>\n",
              "      <td>what is the earliest departure time from bost...</td>\n",
              "      <td>6</td>\n",
              "    </tr>\n",
              "    <tr>\n",
              "      <th>355</th>\n",
              "      <td>atis_airfare</td>\n",
              "      <td>what is the cheapest coach fare from dallas t...</td>\n",
              "      <td>3</td>\n",
              "    </tr>\n",
              "    <tr>\n",
              "      <th>3042</th>\n",
              "      <td>atis_flight</td>\n",
              "      <td>list all flights from denver to philadelphia</td>\n",
              "      <td>5</td>\n",
              "    </tr>\n",
              "    <tr>\n",
              "      <th>4631</th>\n",
              "      <td>atis_flight_time</td>\n",
              "      <td>please give me the flight times i would like ...</td>\n",
              "      <td>6</td>\n",
              "    </tr>\n",
              "    <tr>\n",
              "      <th>2796</th>\n",
              "      <td>atis_flight</td>\n",
              "      <td>show me the flights from boston to pittsburgh...</td>\n",
              "      <td>5</td>\n",
              "    </tr>\n",
              "    <tr>\n",
              "      <th>4539</th>\n",
              "      <td>atis_flight</td>\n",
              "      <td>show me the cheapest one way flights from pit...</td>\n",
              "      <td>5</td>\n",
              "    </tr>\n",
              "    <tr>\n",
              "      <th>2953</th>\n",
              "      <td>atis_flight</td>\n",
              "      <td>i'm trying to fly from denver to boston and i...</td>\n",
              "      <td>5</td>\n",
              "    </tr>\n",
              "    <tr>\n",
              "      <th>626</th>\n",
              "      <td>atis_airfare</td>\n",
              "      <td>find the cheapest one way fare from boston to...</td>\n",
              "      <td>3</td>\n",
              "    </tr>\n",
              "    <tr>\n",
              "      <th>4344</th>\n",
              "      <td>atis_flight</td>\n",
              "      <td>i'd like to fly nonstop from atlanta to balti...</td>\n",
              "      <td>5</td>\n",
              "    </tr>\n",
              "    <tr>\n",
              "      <th>1124</th>\n",
              "      <td>atis_flight</td>\n",
              "      <td>show me one way flights from milwaukee to orl...</td>\n",
              "      <td>5</td>\n",
              "    </tr>\n",
              "    <tr>\n",
              "      <th>3338</th>\n",
              "      <td>atis_flight</td>\n",
              "      <td>what flights are there from los angeles to pi...</td>\n",
              "      <td>5</td>\n",
              "    </tr>\n",
              "    <tr>\n",
              "      <th>874</th>\n",
              "      <td>atis_distance</td>\n",
              "      <td>what is the distance between pittsburgh airpo...</td>\n",
              "      <td>0</td>\n",
              "    </tr>\n",
              "    <tr>\n",
              "      <th>1340</th>\n",
              "      <td>atis_flight</td>\n",
              "      <td>show me the latest flight from salt lake city...</td>\n",
              "      <td>5</td>\n",
              "    </tr>\n",
              "    <tr>\n",
              "      <th>2833</th>\n",
              "      <td>atis_flight</td>\n",
              "      <td>i would like the first flight from dallas int...</td>\n",
              "      <td>5</td>\n",
              "    </tr>\n",
              "    <tr>\n",
              "      <th>550</th>\n",
              "      <td>atis_airfare</td>\n",
              "      <td>what is the round trip cost of a first class ...</td>\n",
              "      <td>3</td>\n",
              "    </tr>\n",
              "    <tr>\n",
              "      <th>302</th>\n",
              "      <td>atis_airfare</td>\n",
              "      <td>what are the most expensive first class ticke...</td>\n",
              "      <td>3</td>\n",
              "    </tr>\n",
              "    <tr>\n",
              "      <th>4939</th>\n",
              "      <td>atis_ground_service</td>\n",
              "      <td>show me ground transportation in boston</td>\n",
              "      <td>8</td>\n",
              "    </tr>\n",
              "    <tr>\n",
              "      <th>4046</th>\n",
              "      <td>atis_flight</td>\n",
              "      <td>show me the cheapest flights from dallas to b...</td>\n",
              "      <td>5</td>\n",
              "    </tr>\n",
              "  </tbody>\n",
              "</table>\n",
              "</div>"
            ],
            "text/plain": [
              "                    Label  ... new_label\n",
              "3047          atis_flight  ...         5\n",
              "1686          atis_flight  ...         5\n",
              "2279          atis_flight  ...         5\n",
              "4203          atis_flight  ...         5\n",
              "2718          atis_flight  ...         5\n",
              "1848          atis_flight  ...         5\n",
              "3968          atis_flight  ...         5\n",
              "4152          atis_flight  ...         5\n",
              "3029          atis_flight  ...         5\n",
              "89      atis_abbreviation  ...         1\n",
              "1012          atis_flight  ...         5\n",
              "881         atis_distance  ...         0\n",
              "4845  atis_ground_service  ...         8\n",
              "2914          atis_flight  ...         5\n",
              "2505          atis_flight  ...         5\n",
              "4615     atis_flight_time  ...         6\n",
              "4246          atis_flight  ...         5\n",
              "2882          atis_flight  ...         5\n",
              "1603          atis_flight  ...         5\n",
              "253          atis_airfare  ...         3\n",
              "4312          atis_flight  ...         5\n",
              "4797  atis_ground_service  ...         8\n",
              "4677        atis_greeting  ...         7\n",
              "5153             atis_yes  ...        10\n",
              "2494          atis_flight  ...         5\n",
              "4644        atis_greeting  ...         7\n",
              "3578          atis_flight  ...         5\n",
              "4685        atis_greeting  ...         7\n",
              "3482          atis_flight  ...         5\n",
              "4638     atis_flight_time  ...         6\n",
              "887         atis_distance  ...         0\n",
              "1804          atis_flight  ...         5\n",
              "4609     atis_flight_time  ...         6\n",
              "355          atis_airfare  ...         3\n",
              "3042          atis_flight  ...         5\n",
              "4631     atis_flight_time  ...         6\n",
              "2796          atis_flight  ...         5\n",
              "4539          atis_flight  ...         5\n",
              "2953          atis_flight  ...         5\n",
              "626          atis_airfare  ...         3\n",
              "4344          atis_flight  ...         5\n",
              "1124          atis_flight  ...         5\n",
              "3338          atis_flight  ...         5\n",
              "874         atis_distance  ...         0\n",
              "1340          atis_flight  ...         5\n",
              "2833          atis_flight  ...         5\n",
              "550          atis_airfare  ...         3\n",
              "302          atis_airfare  ...         3\n",
              "4939  atis_ground_service  ...         8\n",
              "4046          atis_flight  ...         5\n",
              "\n",
              "[50 rows x 3 columns]"
            ]
          },
          "metadata": {
            "tags": []
          },
          "execution_count": 12
        }
      ]
    },
    {
      "cell_type": "markdown",
      "metadata": {
        "id": "qXn8KmHAxc1l"
      },
      "source": [
        "## Section 4 - Load and Split Our Data\n",
        "\n",
        "We are now prepared to process our data. \n",
        "\n",
        "Go ahead and upload the airchat_intent.csv file into Colab.\n",
        "\n",
        "Then, fill up the codes below to:\n",
        "\n",
        "1. Load the data from the airchat_intents.csv file. Use the following code to so so:\n",
        "\n",
        "    ```\n",
        "    all_texts, all_labels = load_csv_into_input_text_and_labels(\"airchat_intents.csv\", \"Text\", \"Label\")\n",
        "    ```\n",
        "\n",
        "2. Split the data into training : test (4:1 ratio).\n",
        "\n",
        "   ```\n",
        "   train_texts, val_texts, train_labels, val_labels = train_test_split_alt(all_texts, all_labels, 4, 1)\n",
        "   ```"
      ]
    },
    {
      "cell_type": "code",
      "metadata": {
        "id": "EVyqTUPKxdOR"
      },
      "source": [
        "# TODO:\n",
        "# Load the CSV into the two variables, all_labels and all_texts\n",
        "#...#\n",
        "\n",
        "all_texts = df['Text']\n",
        "all_labels = df['new_label']\n",
        "# TODO:\n",
        "# Split our data into the training and validation dataset in a 4:1 ratio.\n",
        "#...#\n",
        "from sklearn.model_selection import train_test_split\n",
        "\n",
        "train_texts, val_texts, train_labels, val_labels = train_test_split(all_texts, all_labels, test_size=0.2, stratify=all_labels)"
      ],
      "execution_count": 19,
      "outputs": []
    },
    {
      "cell_type": "code",
      "metadata": {
        "colab": {
          "base_uri": "https://localhost:8080/"
        },
        "id": "xgKGYupJo59k",
        "outputId": "38a50797-4b2c-4352-ac23-4eb5f5c1ba85"
      },
      "source": [
        "train_labels.value_counts()/len(train_labels)"
      ],
      "execution_count": 22,
      "outputs": [
        {
          "output_type": "execute_result",
          "data": {
            "text/plain": [
              "5     0.707770\n",
              "3     0.081564\n",
              "8     0.049228\n",
              "4     0.030405\n",
              "1     0.028475\n",
              "0     0.027751\n",
              "10    0.015685\n",
              "2     0.015685\n",
              "11    0.013031\n",
              "6     0.010376\n",
              "7     0.010135\n",
              "9     0.009894\n",
              "Name: new_label, dtype: float64"
            ]
          },
          "metadata": {
            "tags": []
          },
          "execution_count": 22
        }
      ]
    },
    {
      "cell_type": "code",
      "metadata": {
        "colab": {
          "base_uri": "https://localhost:8080/"
        },
        "id": "6UpZf9s2o_Xx",
        "outputId": "769eff8a-9531-444a-e967-53c03d73f557"
      },
      "source": [
        "val_labels.value_counts()/len(val_labels)"
      ],
      "execution_count": 23,
      "outputs": [
        {
          "output_type": "execute_result",
          "data": {
            "text/plain": [
              "5     0.707529\n",
              "3     0.082046\n",
              "8     0.049228\n",
              "4     0.029923\n",
              "1     0.027992\n",
              "0     0.027992\n",
              "10    0.016409\n",
              "2     0.015444\n",
              "11    0.012548\n",
              "7     0.010618\n",
              "6     0.010618\n",
              "9     0.009653\n",
              "Name: new_label, dtype: float64"
            ]
          },
          "metadata": {
            "tags": []
          },
          "execution_count": 23
        }
      ]
    },
    {
      "cell_type": "markdown",
      "metadata": {
        "id": "milh-Q2-yZBe"
      },
      "source": [
        "## Section 5 - Preparing Our Data for Training\n",
        "\n",
        "Modify the following cell to:\n",
        "\n",
        "1. Convert each classification label into the corresponding index from the above cell. If the classification label doesn't exist in the list above, fall-back to \"others\"\n",
        "\n",
        "   ```\n",
        "   train_labels = [sentence_labels_id_by_label[label] if label in sentence_labels_id_by_label else 0 for label in train_labels]\n",
        "   val_labels = [sentence_labels_id_by_label[label] if label in sentence_labels_id_by_label else 0 for label in val_labels]\n",
        "   ```\n",
        "\n",
        "2. Use the tokenizer to convert all our input text sentences into individual word indexes and attention masks\n",
        "\n",
        "   ```\n",
        "   train_encodings = tokenizer(train_texts, truncation=True, padding=True)\n",
        "   val_encodings = tokenizer(val_texts, truncation=True, padding=True)\n",
        "   ```\n",
        "\n",
        "3. Construct the SentenceClassificationDataset in preparation for training. \n",
        "\n",
        "   ```\n",
        "   train_dataset = SentenceClassificationDataset(train_encodings, train_labels)\n",
        "   val_dataset = SentenceClassificationDataset(val_encodings, val_labels)\n",
        "   ```"
      ]
    },
    {
      "cell_type": "code",
      "metadata": {
        "id": "Q_8gIcR8yZJl"
      },
      "source": [
        "# TODO:\n",
        "# Convert each classification label into the corresponding index from the \n",
        "# above cell. If the classification label doesn't exist in the list above,\n",
        "# fall-back to \"others\".\n",
        "#...#\n",
        "train_texts = train_texts.to_list()\n",
        "train_labels = train_labels.to_list()\n",
        "val_texts = val_texts.to_list()\n",
        "val_labels = val_labels.to_list()\n",
        "\n",
        "# TODO:\n",
        "# Now use the tokenizer to convert all our input text sentences into individual\n",
        "# word indexes and attention masks. Assign the output from the tokenizer\n",
        "# to the train_encodings, and val_encodings variables.\n",
        "#...#\n",
        "\n",
        "\n",
        "# TODO: \n",
        "# Then construct the dataset for the training and validation dataset\n",
        "#...#\n"
      ],
      "execution_count": 24,
      "outputs": []
    },
    {
      "cell_type": "code",
      "metadata": {
        "colab": {
          "base_uri": "https://localhost:8080/",
          "height": 66,
          "referenced_widgets": [
            "562720e64ecf4db7a2f697da4ed6f0fe",
            "886589c61c464dbe9fa435f4b8718a2c",
            "0e10c7614a4c49719b47058c2ecead68",
            "45495fbd407847fdb68d17917bd2565b",
            "2fdec67827c94819a7fa15084ead9f98",
            "0db28d1b8171489a963789095750e4a5",
            "e5065d611621457da0ab93302744da08",
            "9f3bde0cb3424134b45fed5116cb1eb7"
          ]
        },
        "id": "xEDfpTUZqGBK",
        "outputId": "5898c1f3-6b97-44ec-c269-8382ed39ff05"
      },
      "source": [
        "from transformers import AutoTokenizer\n",
        "\n",
        "tokenizer = AutoTokenizer.from_pretrained('distilbert-base-uncased')"
      ],
      "execution_count": 28,
      "outputs": [
        {
          "output_type": "display_data",
          "data": {
            "application/vnd.jupyter.widget-view+json": {
              "model_id": "562720e64ecf4db7a2f697da4ed6f0fe",
              "version_minor": 0,
              "version_major": 2
            },
            "text/plain": [
              "HBox(children=(FloatProgress(value=0.0, description='Downloading', max=442.0, style=ProgressStyle(description_…"
            ]
          },
          "metadata": {
            "tags": []
          }
        },
        {
          "output_type": "stream",
          "text": [
            "\n"
          ],
          "name": "stdout"
        }
      ]
    },
    {
      "cell_type": "code",
      "metadata": {
        "id": "CFpKNCpLp5n2"
      },
      "source": [
        "train_encodings = tokenizer(train_texts, padding=True, truncation=True)\n",
        "val_encodings = tokenizer(val_texts, padding=True, truncation=True)"
      ],
      "execution_count": 29,
      "outputs": []
    },
    {
      "cell_type": "code",
      "metadata": {
        "id": "cH9Bv9SKp9e2"
      },
      "source": [
        "import tensorflow as tf\n",
        "\n",
        "train_dataset = tf.data.Dataset.from_tensor_slices((\n",
        "    dict(train_encodings),\n",
        "    train_labels\n",
        "))\n",
        "val_dataset = tf.data.Dataset.from_tensor_slices((\n",
        "    dict(val_encodings),\n",
        "    val_labels\n",
        "))"
      ],
      "execution_count": 31,
      "outputs": []
    },
    {
      "cell_type": "code",
      "metadata": {
        "id": "az1jNndtp9nV"
      },
      "source": [
        ""
      ],
      "execution_count": null,
      "outputs": []
    },
    {
      "cell_type": "markdown",
      "metadata": {
        "id": "ZqVOjk_y88q8"
      },
      "source": [
        "Run the following cell below to see the train_encodings and the train_label variables for the first few lines of text."
      ]
    },
    {
      "cell_type": "code",
      "metadata": {
        "colab": {
          "base_uri": "https://localhost:8080/"
        },
        "id": "oDNtK5dHLGJv",
        "outputId": "04c88870-9aa0-4b8f-d41e-ef1bf9612db0"
      },
      "source": [
        "for i in range(5):\n",
        "\n",
        "    print (train_texts[i])\n",
        "    print (train_encodings[\"input_ids\"][i])\n",
        "    print (train_encodings[\"attention_mask\"][i])\n",
        "    print (train_labels[i])\n",
        "\n",
        "    print (\"---\")\n"
      ],
      "execution_count": 32,
      "outputs": [
        {
          "output_type": "stream",
          "text": [
            " please give grounds transportation at dallas airport\n",
            "[101, 3531, 2507, 5286, 5193, 2012, 5759, 3199, 102, 0, 0, 0, 0, 0, 0, 0, 0, 0, 0, 0, 0, 0, 0, 0, 0, 0, 0, 0, 0, 0, 0, 0, 0, 0, 0, 0, 0, 0, 0, 0, 0, 0, 0, 0, 0, 0, 0, 0, 0, 0, 0, 0]\n",
            "[1, 1, 1, 1, 1, 1, 1, 1, 1, 0, 0, 0, 0, 0, 0, 0, 0, 0, 0, 0, 0, 0, 0, 0, 0, 0, 0, 0, 0, 0, 0, 0, 0, 0, 0, 0, 0, 0, 0, 0, 0, 0, 0, 0, 0, 0, 0, 0, 0, 0, 0, 0]\n",
            "8\n",
            "---\n",
            " okay just on november twenty third i want to fly from atlanta to denver and i need to know what flights are available\n",
            "[101, 3100, 2074, 2006, 2281, 3174, 2353, 1045, 2215, 2000, 4875, 2013, 5865, 2000, 7573, 1998, 1045, 2342, 2000, 2113, 2054, 7599, 2024, 2800, 102, 0, 0, 0, 0, 0, 0, 0, 0, 0, 0, 0, 0, 0, 0, 0, 0, 0, 0, 0, 0, 0, 0, 0, 0, 0, 0, 0]\n",
            "[1, 1, 1, 1, 1, 1, 1, 1, 1, 1, 1, 1, 1, 1, 1, 1, 1, 1, 1, 1, 1, 1, 1, 1, 1, 0, 0, 0, 0, 0, 0, 0, 0, 0, 0, 0, 0, 0, 0, 0, 0, 0, 0, 0, 0, 0, 0, 0, 0, 0, 0, 0]\n",
            "5\n",
            "---\n",
            " what's the latest flight from san francisco to atlanta\n",
            "[101, 2054, 1005, 1055, 1996, 6745, 3462, 2013, 2624, 3799, 2000, 5865, 102, 0, 0, 0, 0, 0, 0, 0, 0, 0, 0, 0, 0, 0, 0, 0, 0, 0, 0, 0, 0, 0, 0, 0, 0, 0, 0, 0, 0, 0, 0, 0, 0, 0, 0, 0, 0, 0, 0, 0]\n",
            "[1, 1, 1, 1, 1, 1, 1, 1, 1, 1, 1, 1, 1, 0, 0, 0, 0, 0, 0, 0, 0, 0, 0, 0, 0, 0, 0, 0, 0, 0, 0, 0, 0, 0, 0, 0, 0, 0, 0, 0, 0, 0, 0, 0, 0, 0, 0, 0, 0, 0, 0, 0]\n",
            "5\n",
            "---\n",
            " are there any american airlines flights flying into pittsburgh between 12 and 4 in the afternoon\n",
            "[101, 2024, 2045, 2151, 2137, 7608, 7599, 3909, 2046, 6278, 2090, 2260, 1998, 1018, 1999, 1996, 5027, 102, 0, 0, 0, 0, 0, 0, 0, 0, 0, 0, 0, 0, 0, 0, 0, 0, 0, 0, 0, 0, 0, 0, 0, 0, 0, 0, 0, 0, 0, 0, 0, 0, 0, 0]\n",
            "[1, 1, 1, 1, 1, 1, 1, 1, 1, 1, 1, 1, 1, 1, 1, 1, 1, 1, 0, 0, 0, 0, 0, 0, 0, 0, 0, 0, 0, 0, 0, 0, 0, 0, 0, 0, 0, 0, 0, 0, 0, 0, 0, 0, 0, 0, 0, 0, 0, 0, 0, 0]\n",
            "5\n",
            "---\n",
            " list flights from pittsburgh to baltimore\n",
            "[101, 2862, 7599, 2013, 6278, 2000, 6222, 102, 0, 0, 0, 0, 0, 0, 0, 0, 0, 0, 0, 0, 0, 0, 0, 0, 0, 0, 0, 0, 0, 0, 0, 0, 0, 0, 0, 0, 0, 0, 0, 0, 0, 0, 0, 0, 0, 0, 0, 0, 0, 0, 0, 0]\n",
            "[1, 1, 1, 1, 1, 1, 1, 1, 0, 0, 0, 0, 0, 0, 0, 0, 0, 0, 0, 0, 0, 0, 0, 0, 0, 0, 0, 0, 0, 0, 0, 0, 0, 0, 0, 0, 0, 0, 0, 0, 0, 0, 0, 0, 0, 0, 0, 0, 0, 0, 0, 0]\n",
            "5\n",
            "---\n"
          ],
          "name": "stdout"
        }
      ]
    },
    {
      "cell_type": "markdown",
      "metadata": {
        "id": "tmAO-RI8y8fX"
      },
      "source": [
        "## Section 6 - Train Your Sentence Classification Model\n",
        "\n",
        "Run the following cell to download the \"distilbert-base-uncased\" and perform fine-tuning training on the dataset that we have above.\n",
        "\n",
        "The following code is based on the sample codes provided at: https://huggingface.co/transformers/training.html \n",
        "\n"
      ]
    },
    {
      "cell_type": "code",
      "metadata": {
        "colab": {
          "base_uri": "https://localhost:8080/"
        },
        "id": "jDUih8mQAb2X",
        "outputId": "19f4fc78-42b4-456d-edf4-5c82d3e576d6"
      },
      "source": [
        "from transformers import TFAutoModelForSequenceClassification, TFTrainer, TFTrainingArguments\n",
        "\n",
        "training_args = TFTrainingArguments(\n",
        "    output_dir='./results',          # output directory\n",
        "    num_train_epochs=5,              # total number of training epochs\n",
        "    per_device_train_batch_size=16,  # batch size per device during training\n",
        "    per_device_eval_batch_size=64,   # batch size for evaluation\n",
        "    warmup_steps=500,                # number of warmup steps for learning rate scheduler\n",
        "    weight_decay=0.01,               # strength of weight decay\n",
        "    logging_dir='./logs',            # directory for storing logs\n",
        "    logging_steps=10,\n",
        ")\n",
        "\n",
        "with training_args.strategy.scope():\n",
        "  intent_classification_model = TFAutoModelForSequenceClassification.from_pretrained(\"distilbert-base-uncased\", num_labels=len(sentence_labels))\n",
        "\n",
        "trainer = TFTrainer(\n",
        "    model=intent_classification_model,   # the instantiated 🤗 Transformers model to be trained\n",
        "    args=training_args,                  # training arguments, defined above\n",
        "    train_dataset=train_dataset,         # training dataset\n",
        "    eval_dataset=val_dataset             # evaluation dataset\n",
        ")\n",
        "\n"
      ],
      "execution_count": 36,
      "outputs": [
        {
          "output_type": "stream",
          "text": [
            "Some layers from the model checkpoint at distilbert-base-uncased were not used when initializing TFDistilBertForSequenceClassification: ['vocab_layer_norm', 'vocab_transform', 'activation_13', 'vocab_projector']\n",
            "- This IS expected if you are initializing TFDistilBertForSequenceClassification from the checkpoint of a model trained on another task or with another architecture (e.g. initializing a BertForSequenceClassification model from a BertForPreTraining model).\n",
            "- This IS NOT expected if you are initializing TFDistilBertForSequenceClassification from the checkpoint of a model that you expect to be exactly identical (initializing a BertForSequenceClassification model from a BertForSequenceClassification model).\n",
            "Some layers of TFDistilBertForSequenceClassification were not initialized from the model checkpoint at distilbert-base-uncased and are newly initialized: ['pre_classifier', 'classifier', 'dropout_39']\n",
            "You should probably TRAIN this model on a down-stream task to be able to use it for predictions and inference.\n"
          ],
          "name": "stderr"
        }
      ]
    },
    {
      "cell_type": "code",
      "metadata": {
        "id": "_T1kDV3zrgfG"
      },
      "source": [
        "trainer.train()"
      ],
      "execution_count": 38,
      "outputs": []
    },
    {
      "cell_type": "markdown",
      "metadata": {
        "id": "LT_ucCQv0FSG"
      },
      "source": [
        "## Section 7 - Saving the Model\n",
        "\n",
        "When you training has completed, run the following cell to save your model.\n",
        "\n",
        "Remember to download the model from Google Colab!"
      ]
    },
    {
      "cell_type": "code",
      "metadata": {
        "id": "1eV7zUC-A1Bu",
        "colab": {
          "base_uri": "https://localhost:8080/"
        },
        "outputId": "e8eb8c4d-7974-440e-96e9-77d2d567d53a"
      },
      "source": [
        "# Save the model\n",
        "#\n",
        "intent_classification_model.save(\"intentclassification_model\")"
      ],
      "execution_count": 40,
      "outputs": [
        {
          "output_type": "stream",
          "text": [
            "WARNING:tensorflow:The parameters `output_attentions`, `output_hidden_states` and `use_cache` cannot be updated when calling a model.They have to be set to True/False in the config object (i.e.: `config=XConfig.from_pretrained('name', output_attentions=True)`).\n",
            "WARNING:tensorflow:The parameter `return_dict` cannot be set in graph mode and will always be set to `True`.\n",
            "WARNING:tensorflow:Skipping full serialization of Keras layer <tensorflow.python.keras.layers.core.Dropout object at 0x7f423b6e7810>, because it is not built.\n",
            "WARNING:tensorflow:Skipping full serialization of Keras layer <tensorflow.python.keras.layers.core.Dropout object at 0x7f42e974c8d0>, because it is not built.\n",
            "WARNING:tensorflow:Skipping full serialization of Keras layer <tensorflow.python.keras.layers.core.Dropout object at 0x7f423d74bc90>, because it is not built.\n",
            "WARNING:tensorflow:Skipping full serialization of Keras layer <tensorflow.python.keras.layers.core.Dropout object at 0x7f423d7221d0>, because it is not built.\n",
            "WARNING:tensorflow:Skipping full serialization of Keras layer <tensorflow.python.keras.layers.core.Dropout object at 0x7f423b6cb4d0>, because it is not built.\n",
            "WARNING:tensorflow:Skipping full serialization of Keras layer <tensorflow.python.keras.layers.core.Dropout object at 0x7f423d6c27d0>, because it is not built.\n",
            "WARNING:tensorflow:The parameters `output_attentions`, `output_hidden_states` and `use_cache` cannot be updated when calling a model.They have to be set to True/False in the config object (i.e.: `config=XConfig.from_pretrained('name', output_attentions=True)`).\n",
            "WARNING:tensorflow:The parameter `return_dict` cannot be set in graph mode and will always be set to `True`.\n",
            "WARNING:tensorflow:The parameters `output_attentions`, `output_hidden_states` and `use_cache` cannot be updated when calling a model.They have to be set to True/False in the config object (i.e.: `config=XConfig.from_pretrained('name', output_attentions=True)`).\n",
            "WARNING:tensorflow:The parameter `return_dict` cannot be set in graph mode and will always be set to `True`.\n",
            "WARNING:tensorflow:The parameters `output_attentions`, `output_hidden_states` and `use_cache` cannot be updated when calling a model.They have to be set to True/False in the config object (i.e.: `config=XConfig.from_pretrained('name', output_attentions=True)`).\n",
            "WARNING:tensorflow:The parameter `return_dict` cannot be set in graph mode and will always be set to `True`.\n",
            "WARNING:tensorflow:The parameters `output_attentions`, `output_hidden_states` and `use_cache` cannot be updated when calling a model.They have to be set to True/False in the config object (i.e.: `config=XConfig.from_pretrained('name', output_attentions=True)`).\n",
            "WARNING:tensorflow:The parameter `return_dict` cannot be set in graph mode and will always be set to `True`.\n",
            "WARNING:tensorflow:The parameters `output_attentions`, `output_hidden_states` and `use_cache` cannot be updated when calling a model.They have to be set to True/False in the config object (i.e.: `config=XConfig.from_pretrained('name', output_attentions=True)`).\n",
            "WARNING:tensorflow:The parameter `return_dict` cannot be set in graph mode and will always be set to `True`.\n",
            "WARNING:tensorflow:The parameters `output_attentions`, `output_hidden_states` and `use_cache` cannot be updated when calling a model.They have to be set to True/False in the config object (i.e.: `config=XConfig.from_pretrained('name', output_attentions=True)`).\n",
            "WARNING:tensorflow:The parameter `return_dict` cannot be set in graph mode and will always be set to `True`.\n",
            "WARNING:tensorflow:The parameters `output_attentions`, `output_hidden_states` and `use_cache` cannot be updated when calling a model.They have to be set to True/False in the config object (i.e.: `config=XConfig.from_pretrained('name', output_attentions=True)`).\n",
            "WARNING:tensorflow:The parameter `return_dict` cannot be set in graph mode and will always be set to `True`.\n"
          ],
          "name": "stdout"
        },
        {
          "output_type": "stream",
          "text": [
            "WARNING:absl:Found untraced functions such as embeddings_layer_call_and_return_conditional_losses, embeddings_layer_call_fn, transformer_layer_call_and_return_conditional_losses, transformer_layer_call_fn, add_1_layer_call_and_return_conditional_losses while saving (showing 5 of 415). These functions will not be directly callable after loading.\n",
            "/usr/local/lib/python3.7/dist-packages/tensorflow/python/keras/utils/generic_utils.py:497: CustomMaskWarning: Custom mask layers require a config and must override get_config. When loading, the custom mask layer must be passed to the custom_objects argument.\n",
            "  category=CustomMaskWarning)\n"
          ],
          "name": "stderr"
        },
        {
          "output_type": "stream",
          "text": [
            "INFO:tensorflow:Assets written to: intentclassification_model/assets\n"
          ],
          "name": "stdout"
        },
        {
          "output_type": "stream",
          "text": [
            "INFO:tensorflow:Assets written to: intentclassification_model/assets\n"
          ],
          "name": "stderr"
        }
      ]
    },
    {
      "cell_type": "markdown",
      "metadata": {
        "id": "6W60-n-I0TNX"
      },
      "source": [
        "## Section 8 - Evaluating the Model\n",
        "\n",
        "Run the following code to perform interference for the entire training and validation data set.\n"
      ]
    },
    {
      "cell_type": "code",
      "metadata": {
        "colab": {
          "base_uri": "https://localhost:8080/"
        },
        "id": "UbLVVeCFuNku",
        "outputId": "b96ea75c-aab8-4c24-e573-6b06024d5c5e"
      },
      "source": [
        "preds = trainer.predict(val_dataset)"
      ],
      "execution_count": 43,
      "outputs": [
        {
          "output_type": "stream",
          "text": [
            "WARNING:tensorflow:The parameters `output_attentions`, `output_hidden_states` and `use_cache` cannot be updated when calling a model.They have to be set to True/False in the config object (i.e.: `config=XConfig.from_pretrained('name', output_attentions=True)`).\n"
          ],
          "name": "stdout"
        },
        {
          "output_type": "stream",
          "text": [
            "WARNING:tensorflow:The parameters `output_attentions`, `output_hidden_states` and `use_cache` cannot be updated when calling a model.They have to be set to True/False in the config object (i.e.: `config=XConfig.from_pretrained('name', output_attentions=True)`).\n"
          ],
          "name": "stderr"
        },
        {
          "output_type": "stream",
          "text": [
            "WARNING:tensorflow:The parameter `return_dict` cannot be set in graph mode and will always be set to `True`.\n"
          ],
          "name": "stdout"
        },
        {
          "output_type": "stream",
          "text": [
            "WARNING:tensorflow:The parameter `return_dict` cannot be set in graph mode and will always be set to `True`.\n"
          ],
          "name": "stderr"
        },
        {
          "output_type": "stream",
          "text": [
            "WARNING:tensorflow:The parameters `output_attentions`, `output_hidden_states` and `use_cache` cannot be updated when calling a model.They have to be set to True/False in the config object (i.e.: `config=XConfig.from_pretrained('name', output_attentions=True)`).\n"
          ],
          "name": "stdout"
        },
        {
          "output_type": "stream",
          "text": [
            "WARNING:tensorflow:The parameters `output_attentions`, `output_hidden_states` and `use_cache` cannot be updated when calling a model.They have to be set to True/False in the config object (i.e.: `config=XConfig.from_pretrained('name', output_attentions=True)`).\n"
          ],
          "name": "stderr"
        },
        {
          "output_type": "stream",
          "text": [
            "WARNING:tensorflow:The parameter `return_dict` cannot be set in graph mode and will always be set to `True`.\n"
          ],
          "name": "stdout"
        },
        {
          "output_type": "stream",
          "text": [
            "WARNING:tensorflow:The parameter `return_dict` cannot be set in graph mode and will always be set to `True`.\n"
          ],
          "name": "stderr"
        }
      ]
    },
    {
      "cell_type": "code",
      "metadata": {
        "id": "pwZw7jZauXLM"
      },
      "source": [
        "tf_predictions = tf.nn.softmax(preds.predictions, axis=-1)"
      ],
      "execution_count": 44,
      "outputs": []
    },
    {
      "cell_type": "code",
      "metadata": {
        "id": "THU580l9ucUg"
      },
      "source": [
        "y_preds = np.argmax(tf_predictions, axis=-1)\n"
      ],
      "execution_count": 45,
      "outputs": []
    },
    {
      "cell_type": "code",
      "metadata": {
        "colab": {
          "base_uri": "https://localhost:8080/"
        },
        "id": "nUt2HCZOufZN",
        "outputId": "1a289346-5fb2-429f-dd14-0725dadd04b0"
      },
      "source": [
        "from sklearn.metrics import classification_report\n",
        "\n",
        "print(classification_report(preds.label_ids, y_preds))"
      ],
      "execution_count": 46,
      "outputs": [
        {
          "output_type": "stream",
          "text": [
            "              precision    recall  f1-score   support\n",
            "\n",
            "           0       0.90      0.97      0.93        29\n",
            "           1       0.97      0.97      0.97        29\n",
            "           2       0.94      1.00      0.97        16\n",
            "           3       0.99      0.95      0.97        85\n",
            "           4       0.97      1.00      0.98        31\n",
            "           5       1.00      0.99      0.99       733\n",
            "           6       0.79      1.00      0.88        11\n",
            "           7       1.00      1.00      1.00        11\n",
            "           8       1.00      0.96      0.98        51\n",
            "           9       0.91      1.00      0.95        10\n",
            "          10       0.94      1.00      0.97        17\n",
            "          11       1.00      1.00      1.00        13\n",
            "\n",
            "    accuracy                           0.99      1036\n",
            "   macro avg       0.95      0.99      0.97      1036\n",
            "weighted avg       0.99      0.99      0.99      1036\n",
            "\n"
          ],
          "name": "stdout"
        }
      ]
    },
    {
      "cell_type": "markdown",
      "metadata": {
        "id": "mxLPyexS29mA"
      },
      "source": [
        "Then, run the following to evaluation the results.\n"
      ]
    },
    {
      "cell_type": "code",
      "metadata": {
        "colab": {
          "base_uri": "https://localhost:8080/",
          "height": 855
        },
        "id": "MgjRHDZ_QbtF",
        "outputId": "1ba33242-b844-4873-a6e8-b296c745347a"
      },
      "source": [
        "import matplotlib.pyplot as plt\n",
        "from sklearn.metrics import confusion_matrix, classification_report\n",
        "import seaborn as sns\n",
        "import numpy as np\n",
        "\n",
        "def display_model_evaluation_results(y_test, pred_y_test, labels):\n",
        "    \n",
        "    plt.figure(figsize=(20,6))  \n",
        "\n",
        "    labels = np.array(labels)\n",
        "\n",
        "    # Print the second Confusion Matrix for the test data\n",
        "    #    \n",
        "    cm = confusion_matrix(y_test, pred_y_test)\n",
        "    \n",
        "    cm_df = pd.DataFrame(cm, labels, labels)          \n",
        "    plt.subplot(1, 2, 2)\n",
        "    plt.title('Confusion Matrix (Test Data)')\n",
        "    sns.heatmap(cm_df, annot=True)\n",
        "    plt.ylabel('Actual')\n",
        "    plt.xlabel('Predicted')        \n",
        "    \n",
        "    plt.show()\n",
        "\n",
        "    # Finally display the classification reports\n",
        "    #\n",
        "  \n",
        "    print (\"Test Data\")\n",
        "    print (\"--------------------------------------------------------\")\n",
        "    print(classification_report(y_test, pred_y_test, target_names=labels))\n",
        "\n",
        "\n",
        "display_model_evaluation_results(val_labels, y_preds, sentence_labels)"
      ],
      "execution_count": 52,
      "outputs": [
        {
          "output_type": "display_data",
          "data": {
            "image/png": "[encoded data removed]",
            "text/plain": [
              "<Figure size 1440x432 with 2 Axes>"
            ]
          },
          "metadata": {
            "tags": [],
            "needs_background": "light"
          }
        },
        {
          "output_type": "stream",
          "text": [
            "Test Data\n",
            "--------------------------------------------------------\n",
            "                     precision    recall  f1-score   support\n",
            "\n",
            "             others       0.90      0.97      0.93        29\n",
            "  atis_abbreviation       0.97      0.97      0.97        29\n",
            "      atis_aircraft       0.94      1.00      0.97        16\n",
            "       atis_airfare       0.99      0.95      0.97        85\n",
            "       atis_airline       0.97      1.00      0.98        31\n",
            "        atis_flight       1.00      0.99      0.99       733\n",
            "   atis_flight_time       0.79      1.00      0.88        11\n",
            "      atis_greeting       1.00      1.00      1.00        11\n",
            "atis_ground_service       1.00      0.96      0.98        51\n",
            "      atis_quantity       0.91      1.00      0.95        10\n",
            "           atis_yes       0.94      1.00      0.97        17\n",
            "            atis_no       1.00      1.00      1.00        13\n",
            "\n",
            "           accuracy                           0.99      1036\n",
            "          macro avg       0.95      0.99      0.97      1036\n",
            "       weighted avg       0.99      0.99      0.99      1036\n",
            "\n"
          ],
          "name": "stdout"
        }
      ]
    },
    {
      "cell_type": "markdown",
      "metadata": {
        "id": "_9T_A7_F3OrR"
      },
      "source": [
        "## Section 9 - Putting Our Model to the Test\n",
        "\n",
        "Run the following cell to create the necessary classes and functions to load our model and perform inference.\n"
      ]
    },
    {
      "cell_type": "code",
      "metadata": {
        "colab": {
          "base_uri": "https://localhost:8080/",
          "height": 1000
        },
        "id": "9Dq45oOFH9Sc",
        "outputId": "b4ffabe2-da90-4b3c-eb7d-922c644dc9fc"
      },
      "source": [
        "# Import the necessary libraries\n",
        "#\n",
        "from transformers import TFBertModel, BertTokenizer, BertConfig, DistilBertTokenizerFast, DistilBertModel, DistilBertConfig\n",
        "import numpy as np\n",
        "import torch\n",
        "\n",
        "\n",
        "# Create the DistilBERT tokenizer\n",
        "#\n",
        "tokenizer = AutoTokenizer.from_pretrained('distilbert-base-uncased')\n",
        "\n",
        "# Define a function to perform inference on a single input text.\n",
        "# \n",
        "def infer_intent(text):\n",
        "    # Passes the text into the tokenizer\n",
        "    #\n",
        "    input = tokenizer(text, truncation=True, padding=True, return_tensors=\"tf\")\n",
        "    print (input)\n",
        "\n",
        "    # Sends the result from the tokenizer into our classification model\n",
        "    #\n",
        "    output = intent_model(**input, return_dict=True)\n",
        "\n",
        "    # Extract the output logits of the one and only input text.\n",
        "    # The logits contains the output from the last layer but without \n",
        "    # softmax applied. \n",
        "    # \n",
        "    output = output.logits[0].numpy()\n",
        "    print(output)\n",
        "    \n",
        "    # Find the classification index with the highest value.\n",
        "    #  \n",
        "    label_index = np.argmax(output)\n",
        "\n",
        "    # Remove all the memory used by CUDA for the inference\n",
        "    #\n",
        "    del input\n",
        "    del output\n",
        "    torch.cuda.empty_cache()\n",
        "\n",
        "    # Return the result to the caller\n",
        "    #\n",
        "    return label_index\n",
        "\n",
        "# Create a list of unique labels that we will recognize.\n",
        "# Obviously this has to match what we trained our model with\n",
        "# earlier.\n",
        "#\n",
        "sentence_labels = [\n",
        "              \"others\",\n",
        "              \"atis_abbreviation\",\n",
        "              \"atis_aircraft\",\n",
        "              \"atis_airfare\",\n",
        "              \"atis_airline\",\n",
        "              \"atis_flight\",\n",
        "              \"atis_flight_time\",\n",
        "              \"atis_greeting\",\n",
        "              \"atis_ground_service\",\n",
        "              \"atis_quantity\",\n",
        "              \"atis_yes\",\n",
        "              \"atis_no\"]\n",
        "\n",
        "# Load the saved model file\n",
        "#\n",
        "intent_model = tf.keras.models.load_model(\"intentclassification_model\")\n",
        "\n",
        "text = input()\n",
        "\n",
        "print (sentence_labels[infer_intent(text)])"
      ],
      "execution_count": 53,
      "outputs": [
        {
          "output_type": "stream",
          "text": [
            "WARNING:tensorflow:No training configuration found in save file, so the model was *not* compiled. Compile it manually.\n"
          ],
          "name": "stdout"
        },
        {
          "output_type": "stream",
          "text": [
            "WARNING:tensorflow:No training configuration found in save file, so the model was *not* compiled. Compile it manually.\n"
          ],
          "name": "stderr"
        },
        {
          "output_type": "stream",
          "text": [
            "I want to change my flight\n",
            "{'input_ids': <tf.Tensor: shape=(1, 8), dtype=int32, numpy=array([[ 101, 1045, 2215, 2000, 2689, 2026, 3462,  102]], dtype=int32)>, 'attention_mask': <tf.Tensor: shape=(1, 8), dtype=int32, numpy=array([[1, 1, 1, 1, 1, 1, 1, 1]], dtype=int32)>}\n"
          ],
          "name": "stdout"
        },
        {
          "output_type": "error",
          "ename": "ValueError",
          "evalue": "ignored",
          "traceback": [
            "\u001b[0;31m---------------------------------------------------------------------------\u001b[0m",
            "\u001b[0;31mValueError\u001b[0m                                Traceback (most recent call last)",
            "\u001b[0;32m<ipython-input-53-ad84bdf1e103>\u001b[0m in \u001b[0;36m<module>\u001b[0;34m()\u001b[0m\n\u001b[1;32m     67\u001b[0m \u001b[0mtext\u001b[0m \u001b[0;34m=\u001b[0m \u001b[0minput\u001b[0m\u001b[0;34m(\u001b[0m\u001b[0;34m)\u001b[0m\u001b[0;34m\u001b[0m\u001b[0;34m\u001b[0m\u001b[0m\n\u001b[1;32m     68\u001b[0m \u001b[0;34m\u001b[0m\u001b[0m\n\u001b[0;32m---> 69\u001b[0;31m \u001b[0mprint\u001b[0m \u001b[0;34m(\u001b[0m\u001b[0msentence_labels\u001b[0m\u001b[0;34m[\u001b[0m\u001b[0minfer_intent\u001b[0m\u001b[0;34m(\u001b[0m\u001b[0mtext\u001b[0m\u001b[0;34m)\u001b[0m\u001b[0;34m]\u001b[0m\u001b[0;34m)\u001b[0m\u001b[0;34m\u001b[0m\u001b[0;34m\u001b[0m\u001b[0m\n\u001b[0m",
            "\u001b[0;32m<ipython-input-53-ad84bdf1e103>\u001b[0m in \u001b[0;36minfer_intent\u001b[0;34m(text)\u001b[0m\n\u001b[1;32m     20\u001b[0m     \u001b[0;31m# Sends the result from the tokenizer into our classification model\u001b[0m\u001b[0;34m\u001b[0m\u001b[0;34m\u001b[0m\u001b[0;34m\u001b[0m\u001b[0m\n\u001b[1;32m     21\u001b[0m     \u001b[0;31m#\u001b[0m\u001b[0;34m\u001b[0m\u001b[0;34m\u001b[0m\u001b[0;34m\u001b[0m\u001b[0m\n\u001b[0;32m---> 22\u001b[0;31m     \u001b[0moutput\u001b[0m \u001b[0;34m=\u001b[0m \u001b[0mintent_model\u001b[0m\u001b[0;34m(\u001b[0m\u001b[0;34m**\u001b[0m\u001b[0minput\u001b[0m\u001b[0;34m,\u001b[0m \u001b[0mreturn_dict\u001b[0m\u001b[0;34m=\u001b[0m\u001b[0;32mTrue\u001b[0m\u001b[0;34m)\u001b[0m\u001b[0;34m\u001b[0m\u001b[0;34m\u001b[0m\u001b[0m\n\u001b[0m\u001b[1;32m     23\u001b[0m \u001b[0;34m\u001b[0m\u001b[0m\n\u001b[1;32m     24\u001b[0m     \u001b[0;31m# Extract the output logits of the one and only input text.\u001b[0m\u001b[0;34m\u001b[0m\u001b[0;34m\u001b[0m\u001b[0;34m\u001b[0m\u001b[0m\n",
            "\u001b[0;32m/usr/local/lib/python3.7/dist-packages/tensorflow/python/keras/engine/base_layer.py\u001b[0m in \u001b[0;36m__call__\u001b[0;34m(self, *args, **kwargs)\u001b[0m\n\u001b[1;32m   1028\u001b[0m         with autocast_variable.enable_auto_cast_variables(\n\u001b[1;32m   1029\u001b[0m             self._compute_dtype_object):\n\u001b[0;32m-> 1030\u001b[0;31m           \u001b[0moutputs\u001b[0m \u001b[0;34m=\u001b[0m \u001b[0mcall_fn\u001b[0m\u001b[0;34m(\u001b[0m\u001b[0minputs\u001b[0m\u001b[0;34m,\u001b[0m \u001b[0;34m*\u001b[0m\u001b[0margs\u001b[0m\u001b[0;34m,\u001b[0m \u001b[0;34m**\u001b[0m\u001b[0mkwargs\u001b[0m\u001b[0;34m)\u001b[0m\u001b[0;34m\u001b[0m\u001b[0;34m\u001b[0m\u001b[0m\n\u001b[0m\u001b[1;32m   1031\u001b[0m \u001b[0;34m\u001b[0m\u001b[0m\n\u001b[1;32m   1032\u001b[0m         \u001b[0;32mif\u001b[0m \u001b[0mself\u001b[0m\u001b[0;34m.\u001b[0m\u001b[0m_activity_regularizer\u001b[0m\u001b[0;34m:\u001b[0m\u001b[0;34m\u001b[0m\u001b[0;34m\u001b[0m\u001b[0m\n",
            "\u001b[0;32m/usr/local/lib/python3.7/dist-packages/tensorflow/python/keras/saving/saved_model/utils.py\u001b[0m in \u001b[0;36mreturn_outputs_and_add_losses\u001b[0;34m(*args, **kwargs)\u001b[0m\n\u001b[1;32m     67\u001b[0m       \u001b[0margs\u001b[0m \u001b[0;34m=\u001b[0m \u001b[0margs\u001b[0m\u001b[0;34m[\u001b[0m\u001b[0;36m1\u001b[0m\u001b[0;34m:\u001b[0m\u001b[0;34m]\u001b[0m\u001b[0;34m\u001b[0m\u001b[0;34m\u001b[0m\u001b[0m\n\u001b[1;32m     68\u001b[0m \u001b[0;34m\u001b[0m\u001b[0m\n\u001b[0;32m---> 69\u001b[0;31m     \u001b[0moutputs\u001b[0m\u001b[0;34m,\u001b[0m \u001b[0mlosses\u001b[0m \u001b[0;34m=\u001b[0m \u001b[0mfn\u001b[0m\u001b[0;34m(\u001b[0m\u001b[0;34m*\u001b[0m\u001b[0margs\u001b[0m\u001b[0;34m,\u001b[0m \u001b[0;34m**\u001b[0m\u001b[0mkwargs\u001b[0m\u001b[0;34m)\u001b[0m\u001b[0;34m\u001b[0m\u001b[0;34m\u001b[0m\u001b[0m\n\u001b[0m\u001b[1;32m     70\u001b[0m     \u001b[0mlayer\u001b[0m\u001b[0;34m.\u001b[0m\u001b[0madd_loss\u001b[0m\u001b[0;34m(\u001b[0m\u001b[0mlosses\u001b[0m\u001b[0;34m,\u001b[0m \u001b[0minputs\u001b[0m\u001b[0;34m=\u001b[0m\u001b[0;32mTrue\u001b[0m\u001b[0;34m)\u001b[0m\u001b[0;34m\u001b[0m\u001b[0;34m\u001b[0m\u001b[0m\n\u001b[1;32m     71\u001b[0m \u001b[0;34m\u001b[0m\u001b[0m\n",
            "\u001b[0;32m/usr/local/lib/python3.7/dist-packages/tensorflow/python/keras/saving/saved_model/utils.py\u001b[0m in \u001b[0;36mwrap_with_training_arg\u001b[0;34m(*args, **kwargs)\u001b[0m\n\u001b[1;32m    165\u001b[0m     return control_flow_util.smart_cond(\n\u001b[1;32m    166\u001b[0m         \u001b[0mtraining\u001b[0m\u001b[0;34m,\u001b[0m \u001b[0;32mlambda\u001b[0m\u001b[0;34m:\u001b[0m \u001b[0mreplace_training_and_call\u001b[0m\u001b[0;34m(\u001b[0m\u001b[0;32mTrue\u001b[0m\u001b[0;34m)\u001b[0m\u001b[0;34m,\u001b[0m\u001b[0;34m\u001b[0m\u001b[0;34m\u001b[0m\u001b[0m\n\u001b[0;32m--> 167\u001b[0;31m         lambda: replace_training_and_call(False))\n\u001b[0m\u001b[1;32m    168\u001b[0m \u001b[0;34m\u001b[0m\u001b[0m\n\u001b[1;32m    169\u001b[0m   \u001b[0;31m# Create arg spec for decorated function. If 'training' is not defined in the\u001b[0m\u001b[0;34m\u001b[0m\u001b[0;34m\u001b[0m\u001b[0;34m\u001b[0m\u001b[0m\n",
            "\u001b[0;32m/usr/local/lib/python3.7/dist-packages/tensorflow/python/keras/utils/control_flow_util.py\u001b[0m in \u001b[0;36msmart_cond\u001b[0;34m(pred, true_fn, false_fn, name)\u001b[0m\n\u001b[1;32m    108\u001b[0m         pred, true_fn=true_fn, false_fn=false_fn, name=name)\n\u001b[1;32m    109\u001b[0m   return smart_module.smart_cond(\n\u001b[0;32m--> 110\u001b[0;31m       pred, true_fn=true_fn, false_fn=false_fn, name=name)\n\u001b[0m\u001b[1;32m    111\u001b[0m \u001b[0;34m\u001b[0m\u001b[0m\n\u001b[1;32m    112\u001b[0m \u001b[0;34m\u001b[0m\u001b[0m\n",
            "\u001b[0;32m/usr/local/lib/python3.7/dist-packages/tensorflow/python/framework/smart_cond.py\u001b[0m in \u001b[0;36msmart_cond\u001b[0;34m(pred, true_fn, false_fn, name)\u001b[0m\n\u001b[1;32m     54\u001b[0m       \u001b[0;32mreturn\u001b[0m \u001b[0mtrue_fn\u001b[0m\u001b[0;34m(\u001b[0m\u001b[0;34m)\u001b[0m\u001b[0;34m\u001b[0m\u001b[0;34m\u001b[0m\u001b[0m\n\u001b[1;32m     55\u001b[0m     \u001b[0;32melse\u001b[0m\u001b[0;34m:\u001b[0m\u001b[0;34m\u001b[0m\u001b[0;34m\u001b[0m\u001b[0m\n\u001b[0;32m---> 56\u001b[0;31m       \u001b[0;32mreturn\u001b[0m \u001b[0mfalse_fn\u001b[0m\u001b[0;34m(\u001b[0m\u001b[0;34m)\u001b[0m\u001b[0;34m\u001b[0m\u001b[0;34m\u001b[0m\u001b[0m\n\u001b[0m\u001b[1;32m     57\u001b[0m   \u001b[0;32melse\u001b[0m\u001b[0;34m:\u001b[0m\u001b[0;34m\u001b[0m\u001b[0;34m\u001b[0m\u001b[0m\n\u001b[1;32m     58\u001b[0m     return control_flow_ops.cond(pred, true_fn=true_fn, false_fn=false_fn,\n",
            "\u001b[0;32m/usr/local/lib/python3.7/dist-packages/tensorflow/python/keras/saving/saved_model/utils.py\u001b[0m in \u001b[0;36m<lambda>\u001b[0;34m()\u001b[0m\n\u001b[1;32m    165\u001b[0m     return control_flow_util.smart_cond(\n\u001b[1;32m    166\u001b[0m         \u001b[0mtraining\u001b[0m\u001b[0;34m,\u001b[0m \u001b[0;32mlambda\u001b[0m\u001b[0;34m:\u001b[0m \u001b[0mreplace_training_and_call\u001b[0m\u001b[0;34m(\u001b[0m\u001b[0;32mTrue\u001b[0m\u001b[0;34m)\u001b[0m\u001b[0;34m,\u001b[0m\u001b[0;34m\u001b[0m\u001b[0;34m\u001b[0m\u001b[0m\n\u001b[0;32m--> 167\u001b[0;31m         lambda: replace_training_and_call(False))\n\u001b[0m\u001b[1;32m    168\u001b[0m \u001b[0;34m\u001b[0m\u001b[0m\n\u001b[1;32m    169\u001b[0m   \u001b[0;31m# Create arg spec for decorated function. If 'training' is not defined in the\u001b[0m\u001b[0;34m\u001b[0m\u001b[0;34m\u001b[0m\u001b[0;34m\u001b[0m\u001b[0m\n",
            "\u001b[0;32m/usr/local/lib/python3.7/dist-packages/tensorflow/python/keras/saving/saved_model/utils.py\u001b[0m in \u001b[0;36mreplace_training_and_call\u001b[0;34m(training)\u001b[0m\n\u001b[1;32m    161\u001b[0m     \u001b[0;32mdef\u001b[0m \u001b[0mreplace_training_and_call\u001b[0m\u001b[0;34m(\u001b[0m\u001b[0mtraining\u001b[0m\u001b[0;34m)\u001b[0m\u001b[0;34m:\u001b[0m\u001b[0;34m\u001b[0m\u001b[0;34m\u001b[0m\u001b[0m\n\u001b[1;32m    162\u001b[0m       \u001b[0mset_training_arg\u001b[0m\u001b[0;34m(\u001b[0m\u001b[0mtraining\u001b[0m\u001b[0;34m,\u001b[0m \u001b[0mtraining_arg_index\u001b[0m\u001b[0;34m,\u001b[0m \u001b[0margs\u001b[0m\u001b[0;34m,\u001b[0m \u001b[0mkwargs\u001b[0m\u001b[0;34m)\u001b[0m\u001b[0;34m\u001b[0m\u001b[0;34m\u001b[0m\u001b[0m\n\u001b[0;32m--> 163\u001b[0;31m       \u001b[0;32mreturn\u001b[0m \u001b[0mwrapped_call\u001b[0m\u001b[0;34m(\u001b[0m\u001b[0;34m*\u001b[0m\u001b[0margs\u001b[0m\u001b[0;34m,\u001b[0m \u001b[0;34m**\u001b[0m\u001b[0mkwargs\u001b[0m\u001b[0;34m)\u001b[0m\u001b[0;34m\u001b[0m\u001b[0;34m\u001b[0m\u001b[0m\n\u001b[0m\u001b[1;32m    164\u001b[0m \u001b[0;34m\u001b[0m\u001b[0m\n\u001b[1;32m    165\u001b[0m     return control_flow_util.smart_cond(\n",
            "\u001b[0;32m/usr/local/lib/python3.7/dist-packages/tensorflow/python/eager/def_function.py\u001b[0m in \u001b[0;36m__call__\u001b[0;34m(self, *args, **kwds)\u001b[0m\n\u001b[1;32m    887\u001b[0m \u001b[0;34m\u001b[0m\u001b[0m\n\u001b[1;32m    888\u001b[0m       \u001b[0;32mwith\u001b[0m \u001b[0mOptionalXlaContext\u001b[0m\u001b[0;34m(\u001b[0m\u001b[0mself\u001b[0m\u001b[0;34m.\u001b[0m\u001b[0m_jit_compile\u001b[0m\u001b[0;34m)\u001b[0m\u001b[0;34m:\u001b[0m\u001b[0;34m\u001b[0m\u001b[0;34m\u001b[0m\u001b[0m\n\u001b[0;32m--> 889\u001b[0;31m         \u001b[0mresult\u001b[0m \u001b[0;34m=\u001b[0m \u001b[0mself\u001b[0m\u001b[0;34m.\u001b[0m\u001b[0m_call\u001b[0m\u001b[0;34m(\u001b[0m\u001b[0;34m*\u001b[0m\u001b[0margs\u001b[0m\u001b[0;34m,\u001b[0m \u001b[0;34m**\u001b[0m\u001b[0mkwds\u001b[0m\u001b[0;34m)\u001b[0m\u001b[0;34m\u001b[0m\u001b[0;34m\u001b[0m\u001b[0m\n\u001b[0m\u001b[1;32m    890\u001b[0m \u001b[0;34m\u001b[0m\u001b[0m\n\u001b[1;32m    891\u001b[0m       \u001b[0mnew_tracing_count\u001b[0m \u001b[0;34m=\u001b[0m \u001b[0mself\u001b[0m\u001b[0;34m.\u001b[0m\u001b[0mexperimental_get_tracing_count\u001b[0m\u001b[0;34m(\u001b[0m\u001b[0;34m)\u001b[0m\u001b[0;34m\u001b[0m\u001b[0;34m\u001b[0m\u001b[0m\n",
            "\u001b[0;32m/usr/local/lib/python3.7/dist-packages/tensorflow/python/eager/def_function.py\u001b[0m in \u001b[0;36m_call\u001b[0;34m(self, *args, **kwds)\u001b[0m\n\u001b[1;32m    931\u001b[0m       \u001b[0;31m# This is the first call of __call__, so we have to initialize.\u001b[0m\u001b[0;34m\u001b[0m\u001b[0;34m\u001b[0m\u001b[0;34m\u001b[0m\u001b[0m\n\u001b[1;32m    932\u001b[0m       \u001b[0minitializers\u001b[0m \u001b[0;34m=\u001b[0m \u001b[0;34m[\u001b[0m\u001b[0;34m]\u001b[0m\u001b[0;34m\u001b[0m\u001b[0;34m\u001b[0m\u001b[0m\n\u001b[0;32m--> 933\u001b[0;31m       \u001b[0mself\u001b[0m\u001b[0;34m.\u001b[0m\u001b[0m_initialize\u001b[0m\u001b[0;34m(\u001b[0m\u001b[0margs\u001b[0m\u001b[0;34m,\u001b[0m \u001b[0mkwds\u001b[0m\u001b[0;34m,\u001b[0m \u001b[0madd_initializers_to\u001b[0m\u001b[0;34m=\u001b[0m\u001b[0minitializers\u001b[0m\u001b[0;34m)\u001b[0m\u001b[0;34m\u001b[0m\u001b[0;34m\u001b[0m\u001b[0m\n\u001b[0m\u001b[1;32m    934\u001b[0m     \u001b[0;32mfinally\u001b[0m\u001b[0;34m:\u001b[0m\u001b[0;34m\u001b[0m\u001b[0;34m\u001b[0m\u001b[0m\n\u001b[1;32m    935\u001b[0m       \u001b[0;31m# At this point we know that the initialization is complete (or less\u001b[0m\u001b[0;34m\u001b[0m\u001b[0;34m\u001b[0m\u001b[0;34m\u001b[0m\u001b[0m\n",
            "\u001b[0;32m/usr/local/lib/python3.7/dist-packages/tensorflow/python/eager/def_function.py\u001b[0m in \u001b[0;36m_initialize\u001b[0;34m(self, args, kwds, add_initializers_to)\u001b[0m\n\u001b[1;32m    762\u001b[0m     self._concrete_stateful_fn = (\n\u001b[1;32m    763\u001b[0m         self._stateful_fn._get_concrete_function_internal_garbage_collected(  # pylint: disable=protected-access\n\u001b[0;32m--> 764\u001b[0;31m             *args, **kwds))\n\u001b[0m\u001b[1;32m    765\u001b[0m \u001b[0;34m\u001b[0m\u001b[0m\n\u001b[1;32m    766\u001b[0m     \u001b[0;32mdef\u001b[0m \u001b[0minvalid_creator_scope\u001b[0m\u001b[0;34m(\u001b[0m\u001b[0;34m*\u001b[0m\u001b[0munused_args\u001b[0m\u001b[0;34m,\u001b[0m \u001b[0;34m**\u001b[0m\u001b[0munused_kwds\u001b[0m\u001b[0;34m)\u001b[0m\u001b[0;34m:\u001b[0m\u001b[0;34m\u001b[0m\u001b[0;34m\u001b[0m\u001b[0m\n",
            "\u001b[0;32m/usr/local/lib/python3.7/dist-packages/tensorflow/python/eager/function.py\u001b[0m in \u001b[0;36m_get_concrete_function_internal_garbage_collected\u001b[0;34m(self, *args, **kwargs)\u001b[0m\n\u001b[1;32m   3048\u001b[0m       \u001b[0margs\u001b[0m\u001b[0;34m,\u001b[0m \u001b[0mkwargs\u001b[0m \u001b[0;34m=\u001b[0m \u001b[0;32mNone\u001b[0m\u001b[0;34m,\u001b[0m \u001b[0;32mNone\u001b[0m\u001b[0;34m\u001b[0m\u001b[0;34m\u001b[0m\u001b[0m\n\u001b[1;32m   3049\u001b[0m     \u001b[0;32mwith\u001b[0m \u001b[0mself\u001b[0m\u001b[0;34m.\u001b[0m\u001b[0m_lock\u001b[0m\u001b[0;34m:\u001b[0m\u001b[0;34m\u001b[0m\u001b[0;34m\u001b[0m\u001b[0m\n\u001b[0;32m-> 3050\u001b[0;31m       \u001b[0mgraph_function\u001b[0m\u001b[0;34m,\u001b[0m \u001b[0m_\u001b[0m \u001b[0;34m=\u001b[0m \u001b[0mself\u001b[0m\u001b[0;34m.\u001b[0m\u001b[0m_maybe_define_function\u001b[0m\u001b[0;34m(\u001b[0m\u001b[0margs\u001b[0m\u001b[0;34m,\u001b[0m \u001b[0mkwargs\u001b[0m\u001b[0;34m)\u001b[0m\u001b[0;34m\u001b[0m\u001b[0;34m\u001b[0m\u001b[0m\n\u001b[0m\u001b[1;32m   3051\u001b[0m     \u001b[0;32mreturn\u001b[0m \u001b[0mgraph_function\u001b[0m\u001b[0;34m\u001b[0m\u001b[0;34m\u001b[0m\u001b[0m\n\u001b[1;32m   3052\u001b[0m \u001b[0;34m\u001b[0m\u001b[0m\n",
            "\u001b[0;32m/usr/local/lib/python3.7/dist-packages/tensorflow/python/eager/function.py\u001b[0m in \u001b[0;36m_maybe_define_function\u001b[0;34m(self, args, kwargs)\u001b[0m\n\u001b[1;32m   3442\u001b[0m \u001b[0;34m\u001b[0m\u001b[0m\n\u001b[1;32m   3443\u001b[0m           \u001b[0mself\u001b[0m\u001b[0;34m.\u001b[0m\u001b[0m_function_cache\u001b[0m\u001b[0;34m.\u001b[0m\u001b[0mmissed\u001b[0m\u001b[0;34m.\u001b[0m\u001b[0madd\u001b[0m\u001b[0;34m(\u001b[0m\u001b[0mcall_context_key\u001b[0m\u001b[0;34m)\u001b[0m\u001b[0;34m\u001b[0m\u001b[0;34m\u001b[0m\u001b[0m\n\u001b[0;32m-> 3444\u001b[0;31m           \u001b[0mgraph_function\u001b[0m \u001b[0;34m=\u001b[0m \u001b[0mself\u001b[0m\u001b[0;34m.\u001b[0m\u001b[0m_create_graph_function\u001b[0m\u001b[0;34m(\u001b[0m\u001b[0margs\u001b[0m\u001b[0;34m,\u001b[0m \u001b[0mkwargs\u001b[0m\u001b[0;34m)\u001b[0m\u001b[0;34m\u001b[0m\u001b[0;34m\u001b[0m\u001b[0m\n\u001b[0m\u001b[1;32m   3445\u001b[0m           \u001b[0mself\u001b[0m\u001b[0;34m.\u001b[0m\u001b[0m_function_cache\u001b[0m\u001b[0;34m.\u001b[0m\u001b[0mprimary\u001b[0m\u001b[0;34m[\u001b[0m\u001b[0mcache_key\u001b[0m\u001b[0;34m]\u001b[0m \u001b[0;34m=\u001b[0m \u001b[0mgraph_function\u001b[0m\u001b[0;34m\u001b[0m\u001b[0;34m\u001b[0m\u001b[0m\n\u001b[1;32m   3446\u001b[0m \u001b[0;34m\u001b[0m\u001b[0m\n",
            "\u001b[0;32m/usr/local/lib/python3.7/dist-packages/tensorflow/python/eager/function.py\u001b[0m in \u001b[0;36m_create_graph_function\u001b[0;34m(self, args, kwargs, override_flat_arg_shapes)\u001b[0m\n\u001b[1;32m   3287\u001b[0m             \u001b[0marg_names\u001b[0m\u001b[0;34m=\u001b[0m\u001b[0marg_names\u001b[0m\u001b[0;34m,\u001b[0m\u001b[0;34m\u001b[0m\u001b[0;34m\u001b[0m\u001b[0m\n\u001b[1;32m   3288\u001b[0m             \u001b[0moverride_flat_arg_shapes\u001b[0m\u001b[0;34m=\u001b[0m\u001b[0moverride_flat_arg_shapes\u001b[0m\u001b[0;34m,\u001b[0m\u001b[0;34m\u001b[0m\u001b[0;34m\u001b[0m\u001b[0m\n\u001b[0;32m-> 3289\u001b[0;31m             capture_by_value=self._capture_by_value),\n\u001b[0m\u001b[1;32m   3290\u001b[0m         \u001b[0mself\u001b[0m\u001b[0;34m.\u001b[0m\u001b[0m_function_attributes\u001b[0m\u001b[0;34m,\u001b[0m\u001b[0;34m\u001b[0m\u001b[0;34m\u001b[0m\u001b[0m\n\u001b[1;32m   3291\u001b[0m         \u001b[0mfunction_spec\u001b[0m\u001b[0;34m=\u001b[0m\u001b[0mself\u001b[0m\u001b[0;34m.\u001b[0m\u001b[0mfunction_spec\u001b[0m\u001b[0;34m,\u001b[0m\u001b[0;34m\u001b[0m\u001b[0;34m\u001b[0m\u001b[0m\n",
            "\u001b[0;32m/usr/local/lib/python3.7/dist-packages/tensorflow/python/framework/func_graph.py\u001b[0m in \u001b[0;36mfunc_graph_from_py_func\u001b[0;34m(name, python_func, args, kwargs, signature, func_graph, autograph, autograph_options, add_control_dependencies, arg_names, op_return_value, collections, capture_by_value, override_flat_arg_shapes)\u001b[0m\n\u001b[1;32m    997\u001b[0m         \u001b[0m_\u001b[0m\u001b[0;34m,\u001b[0m \u001b[0moriginal_func\u001b[0m \u001b[0;34m=\u001b[0m \u001b[0mtf_decorator\u001b[0m\u001b[0;34m.\u001b[0m\u001b[0munwrap\u001b[0m\u001b[0;34m(\u001b[0m\u001b[0mpython_func\u001b[0m\u001b[0;34m)\u001b[0m\u001b[0;34m\u001b[0m\u001b[0;34m\u001b[0m\u001b[0m\n\u001b[1;32m    998\u001b[0m \u001b[0;34m\u001b[0m\u001b[0m\n\u001b[0;32m--> 999\u001b[0;31m       \u001b[0mfunc_outputs\u001b[0m \u001b[0;34m=\u001b[0m \u001b[0mpython_func\u001b[0m\u001b[0;34m(\u001b[0m\u001b[0;34m*\u001b[0m\u001b[0mfunc_args\u001b[0m\u001b[0;34m,\u001b[0m \u001b[0;34m**\u001b[0m\u001b[0mfunc_kwargs\u001b[0m\u001b[0;34m)\u001b[0m\u001b[0;34m\u001b[0m\u001b[0;34m\u001b[0m\u001b[0m\n\u001b[0m\u001b[1;32m   1000\u001b[0m \u001b[0;34m\u001b[0m\u001b[0m\n\u001b[1;32m   1001\u001b[0m       \u001b[0;31m# invariant: `func_outputs` contains only Tensors, CompositeTensors,\u001b[0m\u001b[0;34m\u001b[0m\u001b[0;34m\u001b[0m\u001b[0;34m\u001b[0m\u001b[0m\n",
            "\u001b[0;32m/usr/local/lib/python3.7/dist-packages/tensorflow/python/eager/def_function.py\u001b[0m in \u001b[0;36mwrapped_fn\u001b[0;34m(*args, **kwds)\u001b[0m\n\u001b[1;32m    670\u001b[0m         \u001b[0;31m# the function a weak reference to itself to avoid a reference cycle.\u001b[0m\u001b[0;34m\u001b[0m\u001b[0;34m\u001b[0m\u001b[0;34m\u001b[0m\u001b[0m\n\u001b[1;32m    671\u001b[0m         \u001b[0;32mwith\u001b[0m \u001b[0mOptionalXlaContext\u001b[0m\u001b[0;34m(\u001b[0m\u001b[0mcompile_with_xla\u001b[0m\u001b[0;34m)\u001b[0m\u001b[0;34m:\u001b[0m\u001b[0;34m\u001b[0m\u001b[0;34m\u001b[0m\u001b[0m\n\u001b[0;32m--> 672\u001b[0;31m           \u001b[0mout\u001b[0m \u001b[0;34m=\u001b[0m \u001b[0mweak_wrapped_fn\u001b[0m\u001b[0;34m(\u001b[0m\u001b[0;34m)\u001b[0m\u001b[0;34m.\u001b[0m\u001b[0m__wrapped__\u001b[0m\u001b[0;34m(\u001b[0m\u001b[0;34m*\u001b[0m\u001b[0margs\u001b[0m\u001b[0;34m,\u001b[0m \u001b[0;34m**\u001b[0m\u001b[0mkwds\u001b[0m\u001b[0;34m)\u001b[0m\u001b[0;34m\u001b[0m\u001b[0;34m\u001b[0m\u001b[0m\n\u001b[0m\u001b[1;32m    673\u001b[0m         \u001b[0;32mreturn\u001b[0m \u001b[0mout\u001b[0m\u001b[0;34m\u001b[0m\u001b[0;34m\u001b[0m\u001b[0m\n\u001b[1;32m    674\u001b[0m \u001b[0;34m\u001b[0m\u001b[0m\n",
            "\u001b[0;32m/usr/local/lib/python3.7/dist-packages/tensorflow/python/saved_model/function_deserialization.py\u001b[0m in \u001b[0;36mrestored_function_body\u001b[0;34m(*args, **kwargs)\u001b[0m\n\u001b[1;32m    289\u001b[0m         .format(_pretty_format_positional(args), kwargs,\n\u001b[1;32m    290\u001b[0m                 \u001b[0mlen\u001b[0m\u001b[0;34m(\u001b[0m\u001b[0msaved_function\u001b[0m\u001b[0;34m.\u001b[0m\u001b[0mconcrete_functions\u001b[0m\u001b[0;34m)\u001b[0m\u001b[0;34m,\u001b[0m\u001b[0;34m\u001b[0m\u001b[0;34m\u001b[0m\u001b[0m\n\u001b[0;32m--> 291\u001b[0;31m                 \"\\n\\n\".join(signature_descriptions)))\n\u001b[0m\u001b[1;32m    292\u001b[0m \u001b[0;34m\u001b[0m\u001b[0m\n\u001b[1;32m    293\u001b[0m   \u001b[0mconcrete_function_objects\u001b[0m \u001b[0;34m=\u001b[0m \u001b[0;34m[\u001b[0m\u001b[0;34m]\u001b[0m\u001b[0;34m\u001b[0m\u001b[0;34m\u001b[0m\u001b[0m\n",
            "\u001b[0;31mValueError\u001b[0m: Could not find matching function to call loaded from the SavedModel. Got:\n  Positional arguments (9 total):\n    * Tensor(\"input_ids:0\", shape=(1, 8), dtype=int32)\n    * Tensor(\"attention_mask:0\", shape=(1, 8), dtype=int32)\n    * None\n    * None\n    * None\n    * None\n    * True\n    * None\n    * False\n  Keyword arguments: {}\n\nExpected these arguments to match one of the following 2 option(s):\n\nOption 1:\n  Positional arguments (9 total):\n    * {'input_ids': TensorSpec(shape=(None, 5), dtype=tf.int32, name='input_ids/input_ids')}\n    * None\n    * None\n    * None\n    * None\n    * None\n    * None\n    * None\n    * False\n  Keyword arguments: {}\n\nOption 2:\n  Positional arguments (9 total):\n    * {'input_ids': TensorSpec(shape=(None, 5), dtype=tf.int32, name='input_ids/input_ids')}\n    * None\n    * None\n    * None\n    * None\n    * None\n    * None\n    * None\n    * True\n  Keyword arguments: {}"
          ]
        }
      ]
    },
    {
      "cell_type": "markdown",
      "metadata": {
        "id": "wGL1cCan7RjL"
      },
      "source": [
        "## Section 10 - Having Fun with a Zero-Shot Text Classifier\n",
        "\n",
        "This whole section below is independent of the above.\n",
        "\n",
        "We really just want to see how a zero-shot text classifier works, and if it is any better than what we have trained above. Remember, a zero-shot classifier instantiated here is a totally independent model and has not gone through any training with the dataset we used above.\n",
        "\n",
        "Run the following cell to initialize the HuggingFace transformer's zero-shot-classification pipeline. "
      ]
    },
    {
      "cell_type": "code",
      "metadata": {
        "id": "MKJUwXwy7MyZ"
      },
      "source": [
        "from transformers import pipeline\n",
        "classifier = pipeline(\"zero-shot-classification\", device=0)"
      ],
      "execution_count": null,
      "outputs": []
    },
    {
      "cell_type": "markdown",
      "metadata": {
        "id": "YMoGKSTH79FX"
      },
      "source": [
        "Next, let's update the code to prompt for an input sentence, and a few target labels that we want our classifier to classify. These labels should ideally be an English word or sentence. \n",
        "\n",
        "Use the following code as an example:\n",
        "\n",
        "```\n",
        "sequence = input()\n",
        "candidate_labels = [\"abbreviation\", \"airfare\", \"aircraft\", \"airline\", \"flight\", \"flight time\", \"greeting\", \"ground service\", \"quantity\", \"yes\", \"no\", \"others\"]\n",
        "```\n",
        "\n",
        "Can you potentially see how quickly zero-shot learning can get your Machine Learning / Deep Learning projects up and running?\n"
      ]
    },
    {
      "cell_type": "code",
      "metadata": {
        "id": "pAEo-gmK7Uns"
      },
      "source": [
        "# TODO:\n",
        "# Set up the input sentence and the candidate or target labels that\n",
        "# you want the zero-shot classifier to identify.\n",
        "#...#\n",
        "\n",
        "\n",
        "\n",
        "\n",
        "result = classifier(sequence, candidate_labels)\n",
        "print (\"Recognized label: \" + result[\"labels\"][0])\n",
        "\n",
        "#print (result)"
      ],
      "execution_count": null,
      "outputs": []
    },
    {
      "cell_type": "markdown",
      "metadata": {
        "id": "SuLY2Gqjwc5_"
      },
      "source": [
        "As an optional exercise, you can try to see if you can measure the accuracy of the zero-shot text classifier compared with the one that we have trained with our own dataset.\n",
        "\n"
      ]
    }
  ]
}