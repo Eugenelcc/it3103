{
  "nbformat": 4,
  "nbformat_minor": 0,
  "metadata": {
    "accelerator": "GPU",
    "colab": {
      "name": "practical_4b_colab_token_classification.ipynb",
      "provenance": [],
      "collapsed_sections": [],
      "include_colab_link": true
    },
    "kernelspec": {
      "display_name": "Python 3",
      "language": "python",
      "name": "python3"
    },
    "language_info": {
      "codemirror_mode": {
        "name": "ipython",
        "version": 3
      },
      "file_extension": ".py",
      "mimetype": "text/x-python",
      "name": "python",
      "nbconvert_exporter": "python",
      "pygments_lexer": "ipython3",
      "version": "3.7.6"
    },
    "widgets": {
      "application/vnd.jupyter.widget-state+json": {
        "7cdf3af3d7654e49af6595f06609b0bf": {
          "model_module": "@jupyter-widgets/controls",
          "model_name": "HBoxModel",
          "state": {
            "_view_name": "HBoxView",
            "_dom_classes": [],
            "_model_name": "HBoxModel",
            "_view_module": "@jupyter-widgets/controls",
            "_model_module_version": "1.5.0",
            "_view_count": null,
            "_view_module_version": "1.5.0",
            "box_style": "",
            "layout": "IPY_MODEL_95db80df2ccc4b5ba3be22633a4bbac7",
            "_model_module": "@jupyter-widgets/controls",
            "children": [
              "IPY_MODEL_0984bbbf36064551a2f6a7850143d49b",
              "IPY_MODEL_25f821acadd14968a2166977628d5915"
            ]
          }
        },
        "95db80df2ccc4b5ba3be22633a4bbac7": {
          "model_module": "@jupyter-widgets/base",
          "model_name": "LayoutModel",
          "state": {
            "_view_name": "LayoutView",
            "grid_template_rows": null,
            "right": null,
            "justify_content": null,
            "_view_module": "@jupyter-widgets/base",
            "overflow": null,
            "_model_module_version": "1.2.0",
            "_view_count": null,
            "flex_flow": null,
            "width": null,
            "min_width": null,
            "border": null,
            "align_items": null,
            "bottom": null,
            "_model_module": "@jupyter-widgets/base",
            "top": null,
            "grid_column": null,
            "overflow_y": null,
            "overflow_x": null,
            "grid_auto_flow": null,
            "grid_area": null,
            "grid_template_columns": null,
            "flex": null,
            "_model_name": "LayoutModel",
            "justify_items": null,
            "grid_row": null,
            "max_height": null,
            "align_content": null,
            "visibility": null,
            "align_self": null,
            "height": null,
            "min_height": null,
            "padding": null,
            "grid_auto_rows": null,
            "grid_gap": null,
            "max_width": null,
            "order": null,
            "_view_module_version": "1.2.0",
            "grid_template_areas": null,
            "object_position": null,
            "object_fit": null,
            "grid_auto_columns": null,
            "margin": null,
            "display": null,
            "left": null
          }
        },
        "0984bbbf36064551a2f6a7850143d49b": {
          "model_module": "@jupyter-widgets/controls",
          "model_name": "FloatProgressModel",
          "state": {
            "_view_name": "ProgressView",
            "style": "IPY_MODEL_96fc7a76258648d280f79eacb0cd9603",
            "_dom_classes": [],
            "description": "Downloading: 100%",
            "_model_name": "FloatProgressModel",
            "bar_style": "success",
            "max": 442,
            "_view_module": "@jupyter-widgets/controls",
            "_model_module_version": "1.5.0",
            "value": 442,
            "_view_count": null,
            "_view_module_version": "1.5.0",
            "orientation": "horizontal",
            "min": 0,
            "description_tooltip": null,
            "_model_module": "@jupyter-widgets/controls",
            "layout": "IPY_MODEL_d86ca148876246e79aaedad5587c09be"
          }
        },
        "25f821acadd14968a2166977628d5915": {
          "model_module": "@jupyter-widgets/controls",
          "model_name": "HTMLModel",
          "state": {
            "_view_name": "HTMLView",
            "style": "IPY_MODEL_97d5f1ca47834b40b5afc7014a1bd3a7",
            "_dom_classes": [],
            "description": "",
            "_model_name": "HTMLModel",
            "placeholder": "​",
            "_view_module": "@jupyter-widgets/controls",
            "_model_module_version": "1.5.0",
            "value": " 442/442 [00:08&lt;00:00, 53.7B/s]",
            "_view_count": null,
            "_view_module_version": "1.5.0",
            "description_tooltip": null,
            "_model_module": "@jupyter-widgets/controls",
            "layout": "IPY_MODEL_e7b2553158cd4d5d90c5f1cdc65e0c58"
          }
        },
        "96fc7a76258648d280f79eacb0cd9603": {
          "model_module": "@jupyter-widgets/controls",
          "model_name": "ProgressStyleModel",
          "state": {
            "_view_name": "StyleView",
            "_model_name": "ProgressStyleModel",
            "description_width": "initial",
            "_view_module": "@jupyter-widgets/base",
            "_model_module_version": "1.5.0",
            "_view_count": null,
            "_view_module_version": "1.2.0",
            "bar_color": null,
            "_model_module": "@jupyter-widgets/controls"
          }
        },
        "d86ca148876246e79aaedad5587c09be": {
          "model_module": "@jupyter-widgets/base",
          "model_name": "LayoutModel",
          "state": {
            "_view_name": "LayoutView",
            "grid_template_rows": null,
            "right": null,
            "justify_content": null,
            "_view_module": "@jupyter-widgets/base",
            "overflow": null,
            "_model_module_version": "1.2.0",
            "_view_count": null,
            "flex_flow": null,
            "width": null,
            "min_width": null,
            "border": null,
            "align_items": null,
            "bottom": null,
            "_model_module": "@jupyter-widgets/base",
            "top": null,
            "grid_column": null,
            "overflow_y": null,
            "overflow_x": null,
            "grid_auto_flow": null,
            "grid_area": null,
            "grid_template_columns": null,
            "flex": null,
            "_model_name": "LayoutModel",
            "justify_items": null,
            "grid_row": null,
            "max_height": null,
            "align_content": null,
            "visibility": null,
            "align_self": null,
            "height": null,
            "min_height": null,
            "padding": null,
            "grid_auto_rows": null,
            "grid_gap": null,
            "max_width": null,
            "order": null,
            "_view_module_version": "1.2.0",
            "grid_template_areas": null,
            "object_position": null,
            "object_fit": null,
            "grid_auto_columns": null,
            "margin": null,
            "display": null,
            "left": null
          }
        },
        "97d5f1ca47834b40b5afc7014a1bd3a7": {
          "model_module": "@jupyter-widgets/controls",
          "model_name": "DescriptionStyleModel",
          "state": {
            "_view_name": "StyleView",
            "_model_name": "DescriptionStyleModel",
            "description_width": "",
            "_view_module": "@jupyter-widgets/base",
            "_model_module_version": "1.5.0",
            "_view_count": null,
            "_view_module_version": "1.2.0",
            "_model_module": "@jupyter-widgets/controls"
          }
        },
        "e7b2553158cd4d5d90c5f1cdc65e0c58": {
          "model_module": "@jupyter-widgets/base",
          "model_name": "LayoutModel",
          "state": {
            "_view_name": "LayoutView",
            "grid_template_rows": null,
            "right": null,
            "justify_content": null,
            "_view_module": "@jupyter-widgets/base",
            "overflow": null,
            "_model_module_version": "1.2.0",
            "_view_count": null,
            "flex_flow": null,
            "width": null,
            "min_width": null,
            "border": null,
            "align_items": null,
            "bottom": null,
            "_model_module": "@jupyter-widgets/base",
            "top": null,
            "grid_column": null,
            "overflow_y": null,
            "overflow_x": null,
            "grid_auto_flow": null,
            "grid_area": null,
            "grid_template_columns": null,
            "flex": null,
            "_model_name": "LayoutModel",
            "justify_items": null,
            "grid_row": null,
            "max_height": null,
            "align_content": null,
            "visibility": null,
            "align_self": null,
            "height": null,
            "min_height": null,
            "padding": null,
            "grid_auto_rows": null,
            "grid_gap": null,
            "max_width": null,
            "order": null,
            "_view_module_version": "1.2.0",
            "grid_template_areas": null,
            "object_position": null,
            "object_fit": null,
            "grid_auto_columns": null,
            "margin": null,
            "display": null,
            "left": null
          }
        },
        "803f3911842649c28195fb60c5f5eab5": {
          "model_module": "@jupyter-widgets/controls",
          "model_name": "HBoxModel",
          "state": {
            "_view_name": "HBoxView",
            "_dom_classes": [],
            "_model_name": "HBoxModel",
            "_view_module": "@jupyter-widgets/controls",
            "_model_module_version": "1.5.0",
            "_view_count": null,
            "_view_module_version": "1.5.0",
            "box_style": "",
            "layout": "IPY_MODEL_d4b2e078e79b446080e92067010446b5",
            "_model_module": "@jupyter-widgets/controls",
            "children": [
              "IPY_MODEL_282d32964ee14156ae7da7a47f0ae9f2",
              "IPY_MODEL_a978368adfef467190de8d4f092c0028"
            ]
          }
        },
        "d4b2e078e79b446080e92067010446b5": {
          "model_module": "@jupyter-widgets/base",
          "model_name": "LayoutModel",
          "state": {
            "_view_name": "LayoutView",
            "grid_template_rows": null,
            "right": null,
            "justify_content": null,
            "_view_module": "@jupyter-widgets/base",
            "overflow": null,
            "_model_module_version": "1.2.0",
            "_view_count": null,
            "flex_flow": null,
            "width": null,
            "min_width": null,
            "border": null,
            "align_items": null,
            "bottom": null,
            "_model_module": "@jupyter-widgets/base",
            "top": null,
            "grid_column": null,
            "overflow_y": null,
            "overflow_x": null,
            "grid_auto_flow": null,
            "grid_area": null,
            "grid_template_columns": null,
            "flex": null,
            "_model_name": "LayoutModel",
            "justify_items": null,
            "grid_row": null,
            "max_height": null,
            "align_content": null,
            "visibility": null,
            "align_self": null,
            "height": null,
            "min_height": null,
            "padding": null,
            "grid_auto_rows": null,
            "grid_gap": null,
            "max_width": null,
            "order": null,
            "_view_module_version": "1.2.0",
            "grid_template_areas": null,
            "object_position": null,
            "object_fit": null,
            "grid_auto_columns": null,
            "margin": null,
            "display": null,
            "left": null
          }
        },
        "282d32964ee14156ae7da7a47f0ae9f2": {
          "model_module": "@jupyter-widgets/controls",
          "model_name": "FloatProgressModel",
          "state": {
            "_view_name": "ProgressView",
            "style": "IPY_MODEL_dd12eb33008a481db4cf85ef7a58ab6f",
            "_dom_classes": [],
            "description": "Downloading: 100%",
            "_model_name": "FloatProgressModel",
            "bar_style": "success",
            "max": 363423424,
            "_view_module": "@jupyter-widgets/controls",
            "_model_module_version": "1.5.0",
            "value": 363423424,
            "_view_count": null,
            "_view_module_version": "1.5.0",
            "orientation": "horizontal",
            "min": 0,
            "description_tooltip": null,
            "_model_module": "@jupyter-widgets/controls",
            "layout": "IPY_MODEL_bd4bf4e8e6a44721bb39ce68df32f6d4"
          }
        },
        "a978368adfef467190de8d4f092c0028": {
          "model_module": "@jupyter-widgets/controls",
          "model_name": "HTMLModel",
          "state": {
            "_view_name": "HTMLView",
            "style": "IPY_MODEL_c56a901a922c45b7be5c87c5f159cc95",
            "_dom_classes": [],
            "description": "",
            "_model_name": "HTMLModel",
            "placeholder": "​",
            "_view_module": "@jupyter-widgets/controls",
            "_model_module_version": "1.5.0",
            "value": " 363M/363M [00:07&lt;00:00, 49.5MB/s]",
            "_view_count": null,
            "_view_module_version": "1.5.0",
            "description_tooltip": null,
            "_model_module": "@jupyter-widgets/controls",
            "layout": "IPY_MODEL_f1678923976d4cf4a2cc4511164f2c8c"
          }
        },
        "dd12eb33008a481db4cf85ef7a58ab6f": {
          "model_module": "@jupyter-widgets/controls",
          "model_name": "ProgressStyleModel",
          "state": {
            "_view_name": "StyleView",
            "_model_name": "ProgressStyleModel",
            "description_width": "initial",
            "_view_module": "@jupyter-widgets/base",
            "_model_module_version": "1.5.0",
            "_view_count": null,
            "_view_module_version": "1.2.0",
            "bar_color": null,
            "_model_module": "@jupyter-widgets/controls"
          }
        },
        "bd4bf4e8e6a44721bb39ce68df32f6d4": {
          "model_module": "@jupyter-widgets/base",
          "model_name": "LayoutModel",
          "state": {
            "_view_name": "LayoutView",
            "grid_template_rows": null,
            "right": null,
            "justify_content": null,
            "_view_module": "@jupyter-widgets/base",
            "overflow": null,
            "_model_module_version": "1.2.0",
            "_view_count": null,
            "flex_flow": null,
            "width": null,
            "min_width": null,
            "border": null,
            "align_items": null,
            "bottom": null,
            "_model_module": "@jupyter-widgets/base",
            "top": null,
            "grid_column": null,
            "overflow_y": null,
            "overflow_x": null,
            "grid_auto_flow": null,
            "grid_area": null,
            "grid_template_columns": null,
            "flex": null,
            "_model_name": "LayoutModel",
            "justify_items": null,
            "grid_row": null,
            "max_height": null,
            "align_content": null,
            "visibility": null,
            "align_self": null,
            "height": null,
            "min_height": null,
            "padding": null,
            "grid_auto_rows": null,
            "grid_gap": null,
            "max_width": null,
            "order": null,
            "_view_module_version": "1.2.0",
            "grid_template_areas": null,
            "object_position": null,
            "object_fit": null,
            "grid_auto_columns": null,
            "margin": null,
            "display": null,
            "left": null
          }
        },
        "c56a901a922c45b7be5c87c5f159cc95": {
          "model_module": "@jupyter-widgets/controls",
          "model_name": "DescriptionStyleModel",
          "state": {
            "_view_name": "StyleView",
            "_model_name": "DescriptionStyleModel",
            "description_width": "",
            "_view_module": "@jupyter-widgets/base",
            "_model_module_version": "1.5.0",
            "_view_count": null,
            "_view_module_version": "1.2.0",
            "_model_module": "@jupyter-widgets/controls"
          }
        },
        "f1678923976d4cf4a2cc4511164f2c8c": {
          "model_module": "@jupyter-widgets/base",
          "model_name": "LayoutModel",
          "state": {
            "_view_name": "LayoutView",
            "grid_template_rows": null,
            "right": null,
            "justify_content": null,
            "_view_module": "@jupyter-widgets/base",
            "overflow": null,
            "_model_module_version": "1.2.0",
            "_view_count": null,
            "flex_flow": null,
            "width": null,
            "min_width": null,
            "border": null,
            "align_items": null,
            "bottom": null,
            "_model_module": "@jupyter-widgets/base",
            "top": null,
            "grid_column": null,
            "overflow_y": null,
            "overflow_x": null,
            "grid_auto_flow": null,
            "grid_area": null,
            "grid_template_columns": null,
            "flex": null,
            "_model_name": "LayoutModel",
            "justify_items": null,
            "grid_row": null,
            "max_height": null,
            "align_content": null,
            "visibility": null,
            "align_self": null,
            "height": null,
            "min_height": null,
            "padding": null,
            "grid_auto_rows": null,
            "grid_gap": null,
            "max_width": null,
            "order": null,
            "_view_module_version": "1.2.0",
            "grid_template_areas": null,
            "object_position": null,
            "object_fit": null,
            "grid_auto_columns": null,
            "margin": null,
            "display": null,
            "left": null
          }
        }
      }
    }
  },
  "cells": [
    {
      "cell_type": "markdown",
      "metadata": {
        "id": "view-in-github",
        "colab_type": "text"
      },
      "source": [
        "<a href=\"https://colab.research.google.com/github/nyp-sit/it3103/blob/main/week13/token_classification.ipynb\" target=\"_parent\"><img src=\"https://colab.research.google.com/assets/colab-badge.svg\" alt=\"Open In Colab\"/></a>"
      ]
    },
    {
      "cell_type": "markdown",
      "metadata": {
        "id": "VtXdc1O6Gm-a"
      },
      "source": [
        "# Practical 4b - Token Classification\n",
        "\n",
        "In this practical we will learn how to use the HuggingFace Transformers library to perform token classification.\n",
        "\n",
        "Just like what we did in Practical 3a, we will use the DistiBERT transformer architecture, which also allows us to classify each and every word in a sentence.\n",
        "\n",
        "####**NOTE: Be sure to set your runtime to a GPU instance!**"
      ]
    },
    {
      "cell_type": "markdown",
      "metadata": {
        "id": "XJy827DuG3b7"
      },
      "source": [
        "## Section 1 - Install Transformers\n",
        "\n",
        "Run the following cell to install the HuggingFace Transformers library."
      ]
    },
    {
      "cell_type": "code",
      "metadata": {
        "colab": {
          "base_uri": "https://localhost:8080/"
        },
        "id": "3-D3yf5P0rWz",
        "outputId": "c014dcfb-a0f9-44bb-ae57-8a60c282fb78"
      },
      "source": [
        "!pip install transformers"
      ],
      "execution_count": 1,
      "outputs": [
        {
          "output_type": "stream",
          "text": [
            "Collecting transformers\n",
            "\u001b[?25l  Downloading https://files.pythonhosted.org/packages/d5/43/cfe4ee779bbd6a678ac6a97c5a5cdeb03c35f9eaebbb9720b036680f9a2d/transformers-4.6.1-py3-none-any.whl (2.2MB)\n",
            "\u001b[K     |████████████████████████████████| 2.3MB 7.4MB/s \n",
            "\u001b[?25hRequirement already satisfied: regex!=2019.12.17 in /usr/local/lib/python3.7/dist-packages (from transformers) (2019.12.20)\n",
            "Requirement already satisfied: importlib-metadata; python_version < \"3.8\" in /usr/local/lib/python3.7/dist-packages (from transformers) (4.5.0)\n",
            "Requirement already satisfied: requests in /usr/local/lib/python3.7/dist-packages (from transformers) (2.23.0)\n",
            "Collecting sacremoses\n",
            "\u001b[?25l  Downloading https://files.pythonhosted.org/packages/75/ee/67241dc87f266093c533a2d4d3d69438e57d7a90abb216fa076e7d475d4a/sacremoses-0.0.45-py3-none-any.whl (895kB)\n",
            "\u001b[K     |████████████████████████████████| 901kB 49.3MB/s \n",
            "\u001b[?25hCollecting huggingface-hub==0.0.8\n",
            "  Downloading https://files.pythonhosted.org/packages/a1/88/7b1e45720ecf59c6c6737ff332f41c955963090a18e72acbcbeac6b25e86/huggingface_hub-0.0.8-py3-none-any.whl\n",
            "Requirement already satisfied: numpy>=1.17 in /usr/local/lib/python3.7/dist-packages (from transformers) (1.19.5)\n",
            "Requirement already satisfied: packaging in /usr/local/lib/python3.7/dist-packages (from transformers) (20.9)\n",
            "Requirement already satisfied: filelock in /usr/local/lib/python3.7/dist-packages (from transformers) (3.0.12)\n",
            "Requirement already satisfied: tqdm>=4.27 in /usr/local/lib/python3.7/dist-packages (from transformers) (4.41.1)\n",
            "Collecting tokenizers<0.11,>=0.10.1\n",
            "\u001b[?25l  Downloading https://files.pythonhosted.org/packages/d4/e2/df3543e8ffdab68f5acc73f613de9c2b155ac47f162e725dcac87c521c11/tokenizers-0.10.3-cp37-cp37m-manylinux_2_5_x86_64.manylinux1_x86_64.manylinux_2_12_x86_64.manylinux2010_x86_64.whl (3.3MB)\n",
            "\u001b[K     |████████████████████████████████| 3.3MB 48.6MB/s \n",
            "\u001b[?25hRequirement already satisfied: typing-extensions>=3.6.4; python_version < \"3.8\" in /usr/local/lib/python3.7/dist-packages (from importlib-metadata; python_version < \"3.8\"->transformers) (3.7.4.3)\n",
            "Requirement already satisfied: zipp>=0.5 in /usr/local/lib/python3.7/dist-packages (from importlib-metadata; python_version < \"3.8\"->transformers) (3.4.1)\n",
            "Requirement already satisfied: chardet<4,>=3.0.2 in /usr/local/lib/python3.7/dist-packages (from requests->transformers) (3.0.4)\n",
            "Requirement already satisfied: certifi>=2017.4.17 in /usr/local/lib/python3.7/dist-packages (from requests->transformers) (2021.5.30)\n",
            "Requirement already satisfied: idna<3,>=2.5 in /usr/local/lib/python3.7/dist-packages (from requests->transformers) (2.10)\n",
            "Requirement already satisfied: urllib3!=1.25.0,!=1.25.1,<1.26,>=1.21.1 in /usr/local/lib/python3.7/dist-packages (from requests->transformers) (1.24.3)\n",
            "Requirement already satisfied: joblib in /usr/local/lib/python3.7/dist-packages (from sacremoses->transformers) (1.0.1)\n",
            "Requirement already satisfied: six in /usr/local/lib/python3.7/dist-packages (from sacremoses->transformers) (1.15.0)\n",
            "Requirement already satisfied: click in /usr/local/lib/python3.7/dist-packages (from sacremoses->transformers) (7.1.2)\n",
            "Requirement already satisfied: pyparsing>=2.0.2 in /usr/local/lib/python3.7/dist-packages (from packaging->transformers) (2.4.7)\n",
            "Installing collected packages: sacremoses, huggingface-hub, tokenizers, transformers\n",
            "Successfully installed huggingface-hub-0.0.8 sacremoses-0.0.45 tokenizers-0.10.3 transformers-4.6.1\n"
          ],
          "name": "stdout"
        }
      ]
    },
    {
      "cell_type": "markdown",
      "metadata": {
        "id": "f8paYUgs38H5"
      },
      "source": [
        "## Section 2 - Import, Define Classes and Helper Functions\n",
        "\n",
        "Run the following cell to import all necessary libraries, define the necessary variables, classes and functions required for our processing.\n"
      ]
    },
    {
      "cell_type": "code",
      "metadata": {
        "colab": {
          "base_uri": "https://localhost:8080/",
          "height": 66,
          "referenced_widgets": [
            "7cdf3af3d7654e49af6595f06609b0bf",
            "95db80df2ccc4b5ba3be22633a4bbac7",
            "0984bbbf36064551a2f6a7850143d49b",
            "25f821acadd14968a2166977628d5915",
            "96fc7a76258648d280f79eacb0cd9603",
            "d86ca148876246e79aaedad5587c09be",
            "97d5f1ca47834b40b5afc7014a1bd3a7",
            "e7b2553158cd4d5d90c5f1cdc65e0c58"
          ]
        },
        "id": "cT5Wu4sFYorz",
        "outputId": "5d5383b8-e9d0-4e82-b948-6e89b9bfec94"
      },
      "source": [
        "import pandas as pd\n",
        "import numpy as np\n",
        "import torch\n",
        "from transformers import DistilBertTokenizerFast\n",
        "from transformers import AutoTokenizer\n",
        "\n",
        "# Initialize the DistilBERT tokenizer.\n",
        "#\n",
        "#tokenizer = DistilBertTokenizerFast.from_pretrained('distilbert-base-uncased')\n",
        "tokenizer = AutoTokenizer.from_pretrained('distilbert-base-uncased')\n",
        "# Define a function that loads up a space-, comma-, tab-separated file\n",
        "# and extracts the input word and label for each word.\n",
        "# \n",
        "# It is assumed that the file is in the CONLL format:\n",
        "#\n",
        "#      sentence1-word1, ..., label1-1\n",
        "#      sentence1-word2, ..., label1-2\n",
        "#      sentence1-word3, ..., label1-3\n",
        "#      <empty line>\n",
        "#      sentence2-word1, ..., label2-1\n",
        "#      sentence2-word2, ..., label2-2\n",
        "#      ...\n",
        "#      sentence2-wordn, ..., label2-n\n",
        "#      <empty line>\n",
        "#      ...\n",
        "#\n",
        "# This function returns a 2D list of words and a 2D list of labels\n",
        "# corresponding to each word.\n",
        "#\n",
        "def load_conll(filepath, delimiter=' ', word_column_index=0, label_column_index=3):\n",
        "    all_texts = []\n",
        "    all_tags = []\n",
        "\n",
        "    texts = []\n",
        "    tags = []\n",
        "\n",
        "    # Opens the file.\n",
        "    #\n",
        "    with open(filepath, \"r\") as f:\n",
        "\n",
        "        # Loops through each line \n",
        "        for line in f:\n",
        "\n",
        "            # Split each line by its delimiter (default is a space)\n",
        "            tokens = line.split(delimiter)\n",
        "\n",
        "            # If the line is empty, treat it as the end of the\n",
        "            # previous sentence, and construct a new sentence\n",
        "            #\n",
        "            if len(tokens) == 1:\n",
        "                # Append the sentence\n",
        "                # \n",
        "                all_texts.append(texts)\n",
        "                all_tags.append(tags)\n",
        "\n",
        "                # Create a new sentence\n",
        "                #\n",
        "                texts = []\n",
        "                tags = []\n",
        "            else:\n",
        "                # Not yet end of the sentence, continue to add\n",
        "                # words into the current sentence\n",
        "                #\n",
        "                thistext = tokens[word_column_index].replace('\\n', '')\n",
        "                thistag = tokens[label_column_index].replace('\\n', '')\n",
        "\n",
        "                texts.append(thistext)\n",
        "                tags.append(thistag)\n",
        "\n",
        "    # Insert the last sentence if it contains at least 1 word.\n",
        "    #\n",
        "    if len(texts) > 0:\n",
        "        all_texts.append(texts)\n",
        "        all_tags.append(tags)\n",
        "\n",
        "    # Return the result to the caller\n",
        "    #\n",
        "    return all_texts, all_tags\n",
        "\n",
        "\n",
        "# This function is taken from HuggingFace's documentation at:\n",
        "# https://huggingface.co/transformers/custom_datasets.html\n",
        "#\n",
        "# This function simply converts the string classification tags for each\n",
        "# word into their index using the token_labels_id_by_label dictionary.\n",
        "#\n",
        "# Also, it uses the offset_mapping to determine which words are [CLS],\n",
        "# [SEP] and sub-words so that we can leave the tag as a -100 value \n",
        "# (ignored).\n",
        "# \n",
        "def encode_tags(tags, encodings):\n",
        "    labels = [[token_labels_id_by_label[tag] for tag in doc] for doc in tags]\n",
        "    encoded_labels = []\n",
        "    for doc_labels, doc_offset in zip(labels, encodings.offset_mapping):\n",
        "        # create an empty array of -100\n",
        "        doc_enc_labels = np.ones(len(doc_offset),dtype=int) * -100\n",
        "        arr_offset = np.array(doc_offset)\n",
        "\n",
        "        # set labels whose first offset position is 0 and the second is not 0\n",
        "        doc_enc_labels[(arr_offset[:,0] == 0) & (arr_offset[:,1] != 0)] = doc_labels\n",
        "        encoded_labels.append(doc_enc_labels.tolist())\n",
        "\n",
        "    return encoded_labels\n",
        "\n",
        "# This class is used to send data into the model for training\n",
        "#\n",
        "class TokenClassificationDataset(torch.utils.data.Dataset):\n",
        "    def __init__(self, encodings, labels):\n",
        "        self.encodings = encodings\n",
        "        self.labels = labels\n",
        "\n",
        "    # This function is called during the model training to feed data\n",
        "    # for the training.\n",
        "    #\n",
        "    # It returns a single data sample with the following dictionary:\n",
        "    # {\n",
        "    #    \"input_ids\":       tensor([  101,  7327, 19164,  2446,  2655,  2000, 17757,  2329, 12559,  1012,   102,     0,     0, ...]),\n",
        "    #    \"attention_mask\":  tensor([    1,     1,     1,     1,     1,     1,     1,     1,     1,     1,     1,     0,     0, ...]),\n",
        "    #    \"labels\":          tensor([ -100,     3,     0,     7,     0,     0,     0,     7,     0,     0,  -100,  -100,  -100, ...]),\n",
        "    # }\n",
        "    #\n",
        "    def __getitem__(self, idx):\n",
        "        # Retrieves\n",
        "        item = {key: torch.tensor(val[idx]) for key, val in self.encodings.items()}\n",
        "        item['labels'] = torch.tensor(self.labels[idx])\n",
        "        return item\n",
        "\n",
        "    # Returns the number of samples in this dataset.\n",
        "    #\n",
        "    def __len__(self):\n",
        "        return len(self.labels)\n",
        "\n",
        "\n"
      ],
      "execution_count": 8,
      "outputs": [
        {
          "output_type": "display_data",
          "data": {
            "application/vnd.jupyter.widget-view+json": {
              "model_id": "7cdf3af3d7654e49af6595f06609b0bf",
              "version_minor": 0,
              "version_major": 2
            },
            "text/plain": [
              "HBox(children=(FloatProgress(value=0.0, description='Downloading', max=442.0, style=ProgressStyle(description_…"
            ]
          },
          "metadata": {
            "tags": []
          }
        },
        {
          "output_type": "stream",
          "text": [
            "\n"
          ],
          "name": "stdout"
        }
      ]
    },
    {
      "cell_type": "markdown",
      "metadata": {
        "id": "IDg6sNNC4Dq5"
      },
      "source": [
        "## Section 3 - Defining Our Classification Labels\n",
        "\n",
        "Run the following cell to declare the token classification labels that we will be using.\n",
        " "
      ]
    },
    {
      "cell_type": "code",
      "metadata": {
        "id": "6qOghzNYqE5v"
      },
      "source": [
        "\n",
        "# Define a list of unique token labels that we will recognize\n",
        "#\n",
        "token_labels = ['O', 'B-PER', 'I-PER', 'B-ORG', 'I-ORG', 'B-LOC', 'I-LOC', 'B-MISC', 'I-MISC']\n",
        "\n",
        "# Create a reverse-mapping dictionary of the label -> index.\n",
        "#\n",
        "token_labels_id_by_label = {tag: id for id, tag in enumerate(token_labels)}\n",
        "\n"
      ],
      "execution_count": 9,
      "outputs": []
    },
    {
      "cell_type": "markdown",
      "metadata": {
        "id": "1SN5j-9-4n8I"
      },
      "source": [
        "## Section 4 - Load and Split Our Data\n",
        "\n",
        "We are now prepared to process our data. \n",
        "\n",
        "Go ahead and upload the token_train.txt, token_test.txt file into Colab.\n",
        "\n",
        "Then, fill up the codes below to load the data from the token_train.txt, token_test.txt file.\n",
        "   ```\n",
        "   train_texts, train_tags = load_conll(\"token_train.txt\")\n",
        "   val_texts, val_tags = load_conll(\"token_test.txt\")\n",
        "   ```\n",
        "\n"
      ]
    },
    {
      "cell_type": "code",
      "metadata": {
        "colab": {
          "base_uri": "https://localhost:8080/"
        },
        "id": "KpUOQu9kqGiP",
        "outputId": "54783f49-f963-4519-8f5e-bb4d6bd1a94a"
      },
      "source": [
        "# TODO:\n",
        "# Loads the training and test text files.\n",
        "#...#\n",
        "\n",
        "train_texts, train_tags = load_conll(\"token_train.txt\")\n",
        "val_texts, val_tags = load_conll(\"token_test.txt\")\n",
        "\n",
        "\n",
        "print (train_texts[0:5])\n",
        "print (train_tags[0:5])\n",
        "print (len(train_texts))\n",
        "print (len(val_texts))\n"
      ],
      "execution_count": 10,
      "outputs": [
        {
          "output_type": "stream",
          "text": [
            "[['-DOCSTART-'], ['EU', 'rejects', 'German', 'call', 'to', 'boycott', 'British', 'lamb', '.'], ['Peter', 'Blackburn'], ['BRUSSELS', '1996-08-22'], ['The', 'European', 'Commission', 'said', 'on', 'Thursday', 'it', 'disagreed', 'with', 'German', 'advice', 'to', 'consumers', 'to', 'shun', 'British', 'lamb', 'until', 'scientists', 'determine', 'whether', 'mad', 'cow', 'disease', 'can', 'be', 'transmitted', 'to', 'sheep', '.']]\n",
            "[['O'], ['B-ORG', 'O', 'B-MISC', 'O', 'O', 'O', 'B-MISC', 'O', 'O'], ['B-PER', 'I-PER'], ['B-LOC', 'O'], ['O', 'B-ORG', 'I-ORG', 'O', 'O', 'O', 'O', 'O', 'O', 'B-MISC', 'O', 'O', 'O', 'O', 'O', 'B-MISC', 'O', 'O', 'O', 'O', 'O', 'O', 'O', 'O', 'O', 'O', 'O', 'O', 'O', 'O']]\n",
            "14987\n",
            "3684\n"
          ],
          "name": "stdout"
        }
      ]
    },
    {
      "cell_type": "markdown",
      "metadata": {
        "id": "hAonFBXU5EWX"
      },
      "source": [
        "## Section 5 - Preparing Our Data for Training\n",
        "\n",
        "Modify the following cell to:\n",
        "\n",
        "1. Tokenize all the training and validation input texts into individual word indexes and attention masks.\n",
        "   ```\n",
        "   train_encodings = tokenizer(train_texts, is_split_into_words=True, return_offsets_mapping=True, padding=True, truncation=True)\n",
        "val_encodings = tokenizer(val_texts, is_split_into_words=True, return_offsets_mapping=True, padding=True, truncation=True)\n",
        "   ```\n",
        "\n",
        "2. Convert the individual word tags into their corresponding indexes. \n",
        "   ```\n",
        "   train_labels = encode_tags(train_tags, train_encodings)\n",
        "val_labels = encode_tags(val_tags, val_encodings)\n",
        "   ```\n",
        "\n",
        "3. Remove the 'offset_mapping' since we do not require that for training.\n",
        "   ```\n",
        "   train_encodings.pop(\"offset_mapping\") # we don't want to pass this to the model\n",
        "val_encodings.pop(\"offset_mapping\")\n",
        "   ```\n",
        "\n",
        "3. Construct the TokenClassificationDataset in preparation for training.\n",
        "   ```\n",
        "   train_dataset = TokenClassificationDataset(train_encodings, train_labels)\n",
        "val_dataset = TokenClassificationDataset(val_encodings, val_labels)\n",
        "   ```"
      ]
    },
    {
      "cell_type": "code",
      "metadata": {
        "id": "r-hLeAus5DgZ"
      },
      "source": [
        "# TODO:\n",
        "# Call the tokenizer to assign word indexes to each word.\n",
        "#\n",
        "# NOTE: When loading up the data from the train.txt and test.txt (CONLL format),\n",
        "# the words have already been split up. \n",
        "#...#\n",
        "train_encodings = tokenizer(train_texts, is_split_into_words=True, return_offsets_mapping=True, padding=True, truncation=True)\n",
        "val_encodings = tokenizer(val_texts, is_split_into_words=True, return_offsets_mapping=True, padding=True, truncation=True)\n",
        "\n",
        "\n",
        "# TODO:\n",
        "# Call the encode_tags function to convert the string-based tag per word\n",
        "# into numeric indexes.\n",
        "#...#\n",
        "train_labels = encode_tags(train_tags, train_encodings)\n",
        "val_labels = encode_tags(val_tags, val_encodings)\n",
        "\n",
        "\n",
        "\n",
        "# TODO:\n",
        "# Remove the offset_mapping list as we don't need it for training.\n",
        "#...#\n",
        "\n",
        "train_encodings.pop(\"offset_mapping\") # we don't want to pass this to the model\n",
        "val_encodings.pop(\"offset_mapping\")\n",
        "\n",
        "\n",
        "# TODO:\n",
        "# Construct the data set to be used for training.\n",
        "#...#\n",
        "\n",
        "\n",
        "\n"
      ],
      "execution_count": 11,
      "outputs": []
    },
    {
      "cell_type": "code",
      "metadata": {
        "colab": {
          "base_uri": "https://localhost:8080/"
        },
        "id": "jq5pmMxMrQqT",
        "outputId": "5431cf0e-07b5-42c6-ed99-128bc82f449b"
      },
      "source": [
        "len(train_encodings['input_ids'])"
      ],
      "execution_count": 30,
      "outputs": [
        {
          "output_type": "execute_result",
          "data": {
            "text/plain": [
              "14987"
            ]
          },
          "metadata": {
            "tags": []
          },
          "execution_count": 30
        }
      ]
    },
    {
      "cell_type": "code",
      "metadata": {
        "id": "FpwVcZEGpnv9"
      },
      "source": [
        "import tensorflow as tf\n",
        "\n",
        "# train_dataset = TokenClassificationDataset(train_encodings, train_labels)\n",
        "# val_dataset = TokenClassificationDataset(val_encodings, val_labels)\n",
        "\n",
        "train_dataset = tf.data.Dataset.from_tensor_slices((\n",
        "    dict(train_encodings),\n",
        "    train_labels\n",
        "))\n",
        "val_dataset = tf.data.Dataset.from_tensor_slices((\n",
        "    dict(val_encodings),\n",
        "    val_labels\n",
        "))"
      ],
      "execution_count": 31,
      "outputs": []
    },
    {
      "cell_type": "markdown",
      "metadata": {
        "id": "zxisdqSj36C-"
      },
      "source": [
        "Run the following cell below to see the train_texts and individual samples in the dataset for the first few lines of text."
      ]
    },
    {
      "cell_type": "code",
      "metadata": {
        "colab": {
          "base_uri": "https://localhost:8080/"
        },
        "id": "Nu7FKTq7mEbo",
        "outputId": "441c97f0-b0c4-408a-b602-d46e146a3551"
      },
      "source": [
        "print (len(train_texts))\n",
        "print (len(val_texts))\n",
        "\n",
        "iterator = iter(train_dataset)\n",
        "for i in range(3):\n",
        "    print (train_texts[i])\n",
        "    #print (train_dataset.__getitem__(i))\n",
        "    print(iterator.get_next())\n",
        "    print (\"---\")\n",
        "    \n"
      ],
      "execution_count": 37,
      "outputs": [
        {
          "output_type": "stream",
          "text": [
            "14987\n",
            "3684\n",
            "['-DOCSTART-']\n",
            "({'input_ids': <tf.Tensor: shape=(164,), dtype=int32, numpy=\n",
            "array([  101,  1011,  9986, 14117,  2102,  1011,   102,     0,     0,\n",
            "           0,     0,     0,     0,     0,     0,     0,     0,     0,\n",
            "           0,     0,     0,     0,     0,     0,     0,     0,     0,\n",
            "           0,     0,     0,     0,     0,     0,     0,     0,     0,\n",
            "           0,     0,     0,     0,     0,     0,     0,     0,     0,\n",
            "           0,     0,     0,     0,     0,     0,     0,     0,     0,\n",
            "           0,     0,     0,     0,     0,     0,     0,     0,     0,\n",
            "           0,     0,     0,     0,     0,     0,     0,     0,     0,\n",
            "           0,     0,     0,     0,     0,     0,     0,     0,     0,\n",
            "           0,     0,     0,     0,     0,     0,     0,     0,     0,\n",
            "           0,     0,     0,     0,     0,     0,     0,     0,     0,\n",
            "           0,     0,     0,     0,     0,     0,     0,     0,     0,\n",
            "           0,     0,     0,     0,     0,     0,     0,     0,     0,\n",
            "           0,     0,     0,     0,     0,     0,     0,     0,     0,\n",
            "           0,     0,     0,     0,     0,     0,     0,     0,     0,\n",
            "           0,     0,     0,     0,     0,     0,     0,     0,     0,\n",
            "           0,     0,     0,     0,     0,     0,     0,     0,     0,\n",
            "           0,     0,     0,     0,     0,     0,     0,     0,     0,\n",
            "           0,     0], dtype=int32)>, 'attention_mask': <tf.Tensor: shape=(164,), dtype=int32, numpy=\n",
            "array([1, 1, 1, 1, 1, 1, 1, 0, 0, 0, 0, 0, 0, 0, 0, 0, 0, 0, 0, 0, 0, 0,\n",
            "       0, 0, 0, 0, 0, 0, 0, 0, 0, 0, 0, 0, 0, 0, 0, 0, 0, 0, 0, 0, 0, 0,\n",
            "       0, 0, 0, 0, 0, 0, 0, 0, 0, 0, 0, 0, 0, 0, 0, 0, 0, 0, 0, 0, 0, 0,\n",
            "       0, 0, 0, 0, 0, 0, 0, 0, 0, 0, 0, 0, 0, 0, 0, 0, 0, 0, 0, 0, 0, 0,\n",
            "       0, 0, 0, 0, 0, 0, 0, 0, 0, 0, 0, 0, 0, 0, 0, 0, 0, 0, 0, 0, 0, 0,\n",
            "       0, 0, 0, 0, 0, 0, 0, 0, 0, 0, 0, 0, 0, 0, 0, 0, 0, 0, 0, 0, 0, 0,\n",
            "       0, 0, 0, 0, 0, 0, 0, 0, 0, 0, 0, 0, 0, 0, 0, 0, 0, 0, 0, 0, 0, 0,\n",
            "       0, 0, 0, 0, 0, 0, 0, 0, 0, 0], dtype=int32)>}, <tf.Tensor: shape=(164,), dtype=int32, numpy=\n",
            "array([-100,    0, -100, -100, -100, -100, -100, -100, -100, -100, -100,\n",
            "       -100, -100, -100, -100, -100, -100, -100, -100, -100, -100, -100,\n",
            "       -100, -100, -100, -100, -100, -100, -100, -100, -100, -100, -100,\n",
            "       -100, -100, -100, -100, -100, -100, -100, -100, -100, -100, -100,\n",
            "       -100, -100, -100, -100, -100, -100, -100, -100, -100, -100, -100,\n",
            "       -100, -100, -100, -100, -100, -100, -100, -100, -100, -100, -100,\n",
            "       -100, -100, -100, -100, -100, -100, -100, -100, -100, -100, -100,\n",
            "       -100, -100, -100, -100, -100, -100, -100, -100, -100, -100, -100,\n",
            "       -100, -100, -100, -100, -100, -100, -100, -100, -100, -100, -100,\n",
            "       -100, -100, -100, -100, -100, -100, -100, -100, -100, -100, -100,\n",
            "       -100, -100, -100, -100, -100, -100, -100, -100, -100, -100, -100,\n",
            "       -100, -100, -100, -100, -100, -100, -100, -100, -100, -100, -100,\n",
            "       -100, -100, -100, -100, -100, -100, -100, -100, -100, -100, -100,\n",
            "       -100, -100, -100, -100, -100, -100, -100, -100, -100, -100, -100,\n",
            "       -100, -100, -100, -100, -100, -100, -100, -100, -100, -100],\n",
            "      dtype=int32)>)\n",
            "---\n",
            "['EU', 'rejects', 'German', 'call', 'to', 'boycott', 'British', 'lamb', '.']\n",
            "({'input_ids': <tf.Tensor: shape=(164,), dtype=int32, numpy=\n",
            "array([  101,  7327, 19164,  2446,  2655,  2000, 17757,  2329, 12559,\n",
            "        1012,   102,     0,     0,     0,     0,     0,     0,     0,\n",
            "           0,     0,     0,     0,     0,     0,     0,     0,     0,\n",
            "           0,     0,     0,     0,     0,     0,     0,     0,     0,\n",
            "           0,     0,     0,     0,     0,     0,     0,     0,     0,\n",
            "           0,     0,     0,     0,     0,     0,     0,     0,     0,\n",
            "           0,     0,     0,     0,     0,     0,     0,     0,     0,\n",
            "           0,     0,     0,     0,     0,     0,     0,     0,     0,\n",
            "           0,     0,     0,     0,     0,     0,     0,     0,     0,\n",
            "           0,     0,     0,     0,     0,     0,     0,     0,     0,\n",
            "           0,     0,     0,     0,     0,     0,     0,     0,     0,\n",
            "           0,     0,     0,     0,     0,     0,     0,     0,     0,\n",
            "           0,     0,     0,     0,     0,     0,     0,     0,     0,\n",
            "           0,     0,     0,     0,     0,     0,     0,     0,     0,\n",
            "           0,     0,     0,     0,     0,     0,     0,     0,     0,\n",
            "           0,     0,     0,     0,     0,     0,     0,     0,     0,\n",
            "           0,     0,     0,     0,     0,     0,     0,     0,     0,\n",
            "           0,     0,     0,     0,     0,     0,     0,     0,     0,\n",
            "           0,     0], dtype=int32)>, 'attention_mask': <tf.Tensor: shape=(164,), dtype=int32, numpy=\n",
            "array([1, 1, 1, 1, 1, 1, 1, 1, 1, 1, 1, 0, 0, 0, 0, 0, 0, 0, 0, 0, 0, 0,\n",
            "       0, 0, 0, 0, 0, 0, 0, 0, 0, 0, 0, 0, 0, 0, 0, 0, 0, 0, 0, 0, 0, 0,\n",
            "       0, 0, 0, 0, 0, 0, 0, 0, 0, 0, 0, 0, 0, 0, 0, 0, 0, 0, 0, 0, 0, 0,\n",
            "       0, 0, 0, 0, 0, 0, 0, 0, 0, 0, 0, 0, 0, 0, 0, 0, 0, 0, 0, 0, 0, 0,\n",
            "       0, 0, 0, 0, 0, 0, 0, 0, 0, 0, 0, 0, 0, 0, 0, 0, 0, 0, 0, 0, 0, 0,\n",
            "       0, 0, 0, 0, 0, 0, 0, 0, 0, 0, 0, 0, 0, 0, 0, 0, 0, 0, 0, 0, 0, 0,\n",
            "       0, 0, 0, 0, 0, 0, 0, 0, 0, 0, 0, 0, 0, 0, 0, 0, 0, 0, 0, 0, 0, 0,\n",
            "       0, 0, 0, 0, 0, 0, 0, 0, 0, 0], dtype=int32)>}, <tf.Tensor: shape=(164,), dtype=int32, numpy=\n",
            "array([-100,    3,    0,    7,    0,    0,    0,    7,    0,    0, -100,\n",
            "       -100, -100, -100, -100, -100, -100, -100, -100, -100, -100, -100,\n",
            "       -100, -100, -100, -100, -100, -100, -100, -100, -100, -100, -100,\n",
            "       -100, -100, -100, -100, -100, -100, -100, -100, -100, -100, -100,\n",
            "       -100, -100, -100, -100, -100, -100, -100, -100, -100, -100, -100,\n",
            "       -100, -100, -100, -100, -100, -100, -100, -100, -100, -100, -100,\n",
            "       -100, -100, -100, -100, -100, -100, -100, -100, -100, -100, -100,\n",
            "       -100, -100, -100, -100, -100, -100, -100, -100, -100, -100, -100,\n",
            "       -100, -100, -100, -100, -100, -100, -100, -100, -100, -100, -100,\n",
            "       -100, -100, -100, -100, -100, -100, -100, -100, -100, -100, -100,\n",
            "       -100, -100, -100, -100, -100, -100, -100, -100, -100, -100, -100,\n",
            "       -100, -100, -100, -100, -100, -100, -100, -100, -100, -100, -100,\n",
            "       -100, -100, -100, -100, -100, -100, -100, -100, -100, -100, -100,\n",
            "       -100, -100, -100, -100, -100, -100, -100, -100, -100, -100, -100,\n",
            "       -100, -100, -100, -100, -100, -100, -100, -100, -100, -100],\n",
            "      dtype=int32)>)\n",
            "---\n",
            "['Peter', 'Blackburn']\n",
            "({'input_ids': <tf.Tensor: shape=(164,), dtype=int32, numpy=\n",
            "array([  101,  2848, 13934,   102,     0,     0,     0,     0,     0,\n",
            "           0,     0,     0,     0,     0,     0,     0,     0,     0,\n",
            "           0,     0,     0,     0,     0,     0,     0,     0,     0,\n",
            "           0,     0,     0,     0,     0,     0,     0,     0,     0,\n",
            "           0,     0,     0,     0,     0,     0,     0,     0,     0,\n",
            "           0,     0,     0,     0,     0,     0,     0,     0,     0,\n",
            "           0,     0,     0,     0,     0,     0,     0,     0,     0,\n",
            "           0,     0,     0,     0,     0,     0,     0,     0,     0,\n",
            "           0,     0,     0,     0,     0,     0,     0,     0,     0,\n",
            "           0,     0,     0,     0,     0,     0,     0,     0,     0,\n",
            "           0,     0,     0,     0,     0,     0,     0,     0,     0,\n",
            "           0,     0,     0,     0,     0,     0,     0,     0,     0,\n",
            "           0,     0,     0,     0,     0,     0,     0,     0,     0,\n",
            "           0,     0,     0,     0,     0,     0,     0,     0,     0,\n",
            "           0,     0,     0,     0,     0,     0,     0,     0,     0,\n",
            "           0,     0,     0,     0,     0,     0,     0,     0,     0,\n",
            "           0,     0,     0,     0,     0,     0,     0,     0,     0,\n",
            "           0,     0,     0,     0,     0,     0,     0,     0,     0,\n",
            "           0,     0], dtype=int32)>, 'attention_mask': <tf.Tensor: shape=(164,), dtype=int32, numpy=\n",
            "array([1, 1, 1, 1, 0, 0, 0, 0, 0, 0, 0, 0, 0, 0, 0, 0, 0, 0, 0, 0, 0, 0,\n",
            "       0, 0, 0, 0, 0, 0, 0, 0, 0, 0, 0, 0, 0, 0, 0, 0, 0, 0, 0, 0, 0, 0,\n",
            "       0, 0, 0, 0, 0, 0, 0, 0, 0, 0, 0, 0, 0, 0, 0, 0, 0, 0, 0, 0, 0, 0,\n",
            "       0, 0, 0, 0, 0, 0, 0, 0, 0, 0, 0, 0, 0, 0, 0, 0, 0, 0, 0, 0, 0, 0,\n",
            "       0, 0, 0, 0, 0, 0, 0, 0, 0, 0, 0, 0, 0, 0, 0, 0, 0, 0, 0, 0, 0, 0,\n",
            "       0, 0, 0, 0, 0, 0, 0, 0, 0, 0, 0, 0, 0, 0, 0, 0, 0, 0, 0, 0, 0, 0,\n",
            "       0, 0, 0, 0, 0, 0, 0, 0, 0, 0, 0, 0, 0, 0, 0, 0, 0, 0, 0, 0, 0, 0,\n",
            "       0, 0, 0, 0, 0, 0, 0, 0, 0, 0], dtype=int32)>}, <tf.Tensor: shape=(164,), dtype=int32, numpy=\n",
            "array([-100,    1,    2, -100, -100, -100, -100, -100, -100, -100, -100,\n",
            "       -100, -100, -100, -100, -100, -100, -100, -100, -100, -100, -100,\n",
            "       -100, -100, -100, -100, -100, -100, -100, -100, -100, -100, -100,\n",
            "       -100, -100, -100, -100, -100, -100, -100, -100, -100, -100, -100,\n",
            "       -100, -100, -100, -100, -100, -100, -100, -100, -100, -100, -100,\n",
            "       -100, -100, -100, -100, -100, -100, -100, -100, -100, -100, -100,\n",
            "       -100, -100, -100, -100, -100, -100, -100, -100, -100, -100, -100,\n",
            "       -100, -100, -100, -100, -100, -100, -100, -100, -100, -100, -100,\n",
            "       -100, -100, -100, -100, -100, -100, -100, -100, -100, -100, -100,\n",
            "       -100, -100, -100, -100, -100, -100, -100, -100, -100, -100, -100,\n",
            "       -100, -100, -100, -100, -100, -100, -100, -100, -100, -100, -100,\n",
            "       -100, -100, -100, -100, -100, -100, -100, -100, -100, -100, -100,\n",
            "       -100, -100, -100, -100, -100, -100, -100, -100, -100, -100, -100,\n",
            "       -100, -100, -100, -100, -100, -100, -100, -100, -100, -100, -100,\n",
            "       -100, -100, -100, -100, -100, -100, -100, -100, -100, -100],\n",
            "      dtype=int32)>)\n",
            "---\n"
          ],
          "name": "stdout"
        }
      ]
    },
    {
      "cell_type": "markdown",
      "metadata": {
        "id": "sIDGUmBIPfp4"
      },
      "source": [
        "## Section 6 - Train our Token Classification Model\n",
        "\n",
        "Run the following cell below to train the token classification model.\n",
        "\n",
        "Now, this training per epoch will take up a while complete. If it takes too long, ensure that you updated your runtime to use a GPU instance. If it still takes too long, we'll leave it running for 5 minutes, and use a saved model that I've already trained with this same dataset.\n"
      ]
    },
    {
      "cell_type": "code",
      "metadata": {
        "colab": {
          "base_uri": "https://localhost:8080/",
          "height": 570,
          "referenced_widgets": [
            "803f3911842649c28195fb60c5f5eab5",
            "d4b2e078e79b446080e92067010446b5",
            "282d32964ee14156ae7da7a47f0ae9f2",
            "a978368adfef467190de8d4f092c0028",
            "dd12eb33008a481db4cf85ef7a58ab6f",
            "bd4bf4e8e6a44721bb39ce68df32f6d4",
            "c56a901a922c45b7be5c87c5f159cc95",
            "f1678923976d4cf4a2cc4511164f2c8c"
          ]
        },
        "id": "wOcCiXN-06lx",
        "outputId": "1ab8fa8d-291c-4e1d-a1e1-b70234602c75"
      },
      "source": [
        "from transformers import (\n",
        "    TFAutoModelForTokenClassification, \n",
        "    TFTrainer, \n",
        "    TFTrainingArguments\n",
        ")\n",
        "\n",
        "training_args = TFTrainingArguments(\n",
        "    output_dir='./results',          # output directory\n",
        "    num_train_epochs=2,              # total number of training epochs\n",
        "    per_device_train_batch_size=16,  # batch size per device during training\n",
        "    per_device_eval_batch_size=64,   # batch size for evaluation\n",
        "    warmup_steps=500,                # number of warmup steps for learning rate scheduler\n",
        "    weight_decay=0.01,               # strength of weight decay\n",
        "    logging_dir='./logs',            # directory for storing logs\n",
        "    logging_steps=10,\n",
        "    evaluation_strategy = 'epoch'\n",
        ")\n",
        "with training_args.strategy.scope():\n",
        "    token_model = TFAutoModelForTokenClassification.from_pretrained('distilbert-base-uncased', num_labels=len(token_labels))\n",
        "\n",
        "trainer = TFTrainer(\n",
        "    model=token_model,                   # the instantiated Token Classification 🤗 Transformers model to be trained\n",
        "    args=training_args,                  # training arguments, defined above\n",
        "    train_dataset=train_dataset,         # training dataset\n",
        "    eval_dataset=val_dataset             # evaluation dataset\n",
        ")\n",
        "\n",
        "trainer.train()"
      ],
      "execution_count": 42,
      "outputs": [
        {
          "output_type": "display_data",
          "data": {
            "application/vnd.jupyter.widget-view+json": {
              "model_id": "803f3911842649c28195fb60c5f5eab5",
              "version_minor": 0,
              "version_major": 2
            },
            "text/plain": [
              "HBox(children=(FloatProgress(value=0.0, description='Downloading', max=363423424.0, style=ProgressStyle(descri…"
            ]
          },
          "metadata": {
            "tags": []
          }
        },
        {
          "output_type": "stream",
          "text": [
            "\n"
          ],
          "name": "stdout"
        },
        {
          "output_type": "stream",
          "text": [
            "Some layers from the model checkpoint at distilbert-base-uncased were not used when initializing TFDistilBertForTokenClassification: ['vocab_layer_norm', 'vocab_transform', 'activation_13', 'vocab_projector']\n",
            "- This IS expected if you are initializing TFDistilBertForTokenClassification from the checkpoint of a model trained on another task or with another architecture (e.g. initializing a BertForSequenceClassification model from a BertForPreTraining model).\n",
            "- This IS NOT expected if you are initializing TFDistilBertForTokenClassification from the checkpoint of a model that you expect to be exactly identical (initializing a BertForSequenceClassification model from a BertForSequenceClassification model).\n",
            "Some layers of TFDistilBertForTokenClassification were not initialized from the model checkpoint at distilbert-base-uncased and are newly initialized: ['dropout_19', 'classifier']\n",
            "You should probably TRAIN this model on a down-stream task to be able to use it for predictions and inference.\n"
          ],
          "name": "stderr"
        },
        {
          "output_type": "stream",
          "text": [
            "WARNING:tensorflow:The parameters `output_attentions`, `output_hidden_states` and `use_cache` cannot be updated when calling a model.They have to be set to True/False in the config object (i.e.: `config=XConfig.from_pretrained('name', output_attentions=True)`).\n",
            "WARNING:tensorflow:AutoGraph could not transform <bound method Socket.send of <zmq.sugar.socket.Socket object at 0x7f2f893bfde0>> and will run it as-is.\n",
            "Please report this to the TensorFlow team. When filing the bug, set the verbosity to 10 (on Linux, `export AUTOGRAPH_VERBOSITY=10`) and attach the full output.\n",
            "Cause: module, class, method, function, traceback, frame, or code object was expected, got cython_function_or_method\n",
            "To silence this warning, decorate the function with @tf.autograph.experimental.do_not_convert\n",
            "WARNING: AutoGraph could not transform <bound method Socket.send of <zmq.sugar.socket.Socket object at 0x7f2f893bfde0>> and will run it as-is.\n",
            "Please report this to the TensorFlow team. When filing the bug, set the verbosity to 10 (on Linux, `export AUTOGRAPH_VERBOSITY=10`) and attach the full output.\n",
            "Cause: module, class, method, function, traceback, frame, or code object was expected, got cython_function_or_method\n",
            "To silence this warning, decorate the function with @tf.autograph.experimental.do_not_convert\n",
            "WARNING:tensorflow:AutoGraph could not transform <function wrap at 0x7f2fa4c68dd0> and will run it as-is.\n",
            "Cause: while/else statement not yet supported\n",
            "To silence this warning, decorate the function with @tf.autograph.experimental.do_not_convert\n",
            "WARNING: AutoGraph could not transform <function wrap at 0x7f2fa4c68dd0> and will run it as-is.\n",
            "Cause: while/else statement not yet supported\n",
            "To silence this warning, decorate the function with @tf.autograph.experimental.do_not_convert\n",
            "WARNING:tensorflow:The parameter `return_dict` cannot be set in graph mode and will always be set to `True`.\n",
            "WARNING:tensorflow:From /usr/local/lib/python3.7/dist-packages/tensorflow/python/ops/array_ops.py:5049: calling gather (from tensorflow.python.ops.array_ops) with validate_indices is deprecated and will be removed in a future version.\n",
            "Instructions for updating:\n",
            "The `validate_indices` argument has no effect. Indices are always validated on CPU and never validated on GPU.\n"
          ],
          "name": "stdout"
        },
        {
          "output_type": "stream",
          "text": [
            "/usr/local/lib/python3.7/dist-packages/tensorflow/python/autograph/impl/api.py:376: UserWarning: Using `-1` to mask the loss for the token is deprecated. Please use `-100` instead.\n",
            "  return py_builtins.overload_of(f)(*args)\n"
          ],
          "name": "stderr"
        },
        {
          "output_type": "stream",
          "text": [
            "WARNING:tensorflow:The parameters `output_attentions`, `output_hidden_states` and `use_cache` cannot be updated when calling a model.They have to be set to True/False in the config object (i.e.: `config=XConfig.from_pretrained('name', output_attentions=True)`).\n",
            "WARNING:tensorflow:The parameter `return_dict` cannot be set in graph mode and will always be set to `True`.\n"
          ],
          "name": "stdout"
        }
      ]
    },
    {
      "cell_type": "code",
      "metadata": {
        "colab": {
          "base_uri": "https://localhost:8080/"
        },
        "id": "lWbxOOsaypZJ",
        "outputId": "9243ae09-d03c-4449-d254-b635bdba6298"
      },
      "source": [
        "preds = trainer.predict(val_dataset)"
      ],
      "execution_count": 44,
      "outputs": [
        {
          "output_type": "stream",
          "text": [
            "WARNING:tensorflow:The parameters `output_attentions`, `output_hidden_states` and `use_cache` cannot be updated when calling a model.They have to be set to True/False in the config object (i.e.: `config=XConfig.from_pretrained('name', output_attentions=True)`).\n",
            "WARNING:tensorflow:The parameter `return_dict` cannot be set in graph mode and will always be set to `True`.\n"
          ],
          "name": "stdout"
        },
        {
          "output_type": "stream",
          "text": [
            "/usr/local/lib/python3.7/dist-packages/tensorflow/python/autograph/impl/api.py:376: UserWarning: Using `-1` to mask the loss for the token is deprecated. Please use `-100` instead.\n",
            "  return py_builtins.overload_of(f)(*args)\n"
          ],
          "name": "stderr"
        },
        {
          "output_type": "stream",
          "text": [
            "WARNING:tensorflow:The parameters `output_attentions`, `output_hidden_states` and `use_cache` cannot be updated when calling a model.They have to be set to True/False in the config object (i.e.: `config=XConfig.from_pretrained('name', output_attentions=True)`).\n",
            "WARNING:tensorflow:The parameter `return_dict` cannot be set in graph mode and will always be set to `True`.\n"
          ],
          "name": "stdout"
        }
      ]
    },
    {
      "cell_type": "markdown",
      "metadata": {
        "id": "12Vqmv0VAfBB"
      },
      "source": [
        "## Section 7 - Save our Token Classification Model\n",
        "\n",
        "Once your training is complete, save the model and download it to your own computer before the session expires!\n",
        "\n",
        "Alternatively, you can connect to and push your model to Google Drive once your training has completed."
      ]
    },
    {
      "cell_type": "code",
      "metadata": {
        "id": "RytLNyj-zJND"
      },
      "source": [
        "preds = trainer.predict(val_dataset)"
      ],
      "execution_count": 46,
      "outputs": []
    },
    {
      "cell_type": "code",
      "metadata": {
        "colab": {
          "base_uri": "https://localhost:8080/"
        },
        "id": "dyzPzKphz6hQ",
        "outputId": "19f14ec3-ef92-4cf5-d84b-6b6714c80849"
      },
      "source": [
        "len(preds[2])"
      ],
      "execution_count": 53,
      "outputs": [
        {
          "output_type": "execute_result",
          "data": {
            "text/plain": [
              "1"
            ]
          },
          "metadata": {
            "tags": []
          },
          "execution_count": 53
        }
      ]
    },
    {
      "cell_type": "code",
      "metadata": {
        "id": "tkYk0B5NKAGP"
      },
      "source": [
        "token_model.save_pretrained('tokenclassification_model')"
      ],
      "execution_count": 43,
      "outputs": []
    },
    {
      "cell_type": "markdown",
      "metadata": {
        "id": "7i9pUdf68qHn"
      },
      "source": [
        "## Section 8 - Evaluate the Model\n",
        "\n",
        "Run the following cells below to evaluate your model performance.\n",
        "\n",
        "Obviously, you can only do this AFTER your training is completed. "
      ]
    },
    {
      "cell_type": "code",
      "metadata": {
        "id": "gqobMwQOGiYP"
      },
      "source": [
        "import numpy as np\n",
        "\n",
        "from transformers import AutoTokenizer\n",
        "\n",
        "# Initialize the DistilBERT tokenizer.\n",
        "#\n",
        "tokenizer = AutoTokenizer.from_pretrained('distilbert-base-uncased')\n",
        "\n",
        "# Define a list of unique labels that we will recognized\n",
        "#\n",
        "token_labels = ['O', 'B-PER', 'I-PER', 'B-ORG', 'I-ORG', 'B-LOC', 'I-LOC', 'B-MISC', 'I-MISC']\n",
        "\n",
        "# Define the function to infer the individual tokens\n",
        "#\n",
        "def infer_tokens(text):\n",
        "    encodings = tokenizer([text], is_split_into_words=True, padding=True, truncation=True, return_offsets_mapping=True, return_tensors=\"tf\")\n",
        "\n",
        "    label_mapping = [0] * len(encodings.offset_mapping[0])\n",
        "    for i, offset in enumerate(encodings.offset_mapping[0]):\n",
        "        if encodings.offset_mapping[0][i][0] == 0 and encodings.offset_mapping[0][i][1] != 0:\n",
        "            label_mapping[i] = 1\n",
        "\n",
        "    encodings.pop(\"offset_mapping\")\n",
        "    #encodings = encodings.to(\"cuda\")\n",
        "\n",
        "    # Use the token classification model to predict the labels\n",
        "    # for each word.\n",
        "    #\n",
        "    output = token_model(encodings)[0]\n",
        "\n",
        "    result = []\n",
        "\n",
        "    for i in range(output.shape[1]):\n",
        "        if label_mapping[i] == 1:\n",
        "            result.append(np.argmax(output[0][i]).item())\n",
        "\n",
        "    return result\n",
        "\n"
      ],
      "execution_count": 56,
      "outputs": []
    },
    {
      "cell_type": "code",
      "metadata": {
        "colab": {
          "base_uri": "https://localhost:8080/"
        },
        "id": "jmI5r-tY-4y0",
        "outputId": "af3b2cce-6ced-422a-c379-16458a0c7746"
      },
      "source": [
        "from tqdm import tqdm\n",
        "\n",
        "# This function takes in a list of sentences (texts) and passes them into the\n",
        "# infer_tokens method to tokenize and predict each word's label.\n",
        "# \n",
        "# It will then convert the list of labels into their numeric index, and\n",
        "# return both actual label and predicted label to the caller.\n",
        "#\n",
        "def get_actual_pred_y(texts, labels):\n",
        "    all_actual_y = []\n",
        "    all_pred_y = []\n",
        "\n",
        "    for i in tqdm(range(len(texts))):\n",
        "        x = texts[i]\n",
        "\n",
        "        actual_y = list(filter(lambda x: x != -100, labels[i]))\n",
        "        pred_y = infer_tokens(x)\n",
        "\n",
        "        if (len(actual_y) == len(pred_y)):\n",
        "            all_actual_y += actual_y\n",
        "            all_pred_y += pred_y\n",
        "        else:\n",
        "            print (\"Error: %d, %d, %d, %s \" % (i, len(actual_y), len(pred_y), x ))\n",
        "\n",
        "    return all_actual_y, all_pred_y\n",
        "\n",
        "# Get the actual and predicted labels for all words in all sentences\n",
        "# for both the training and the test set.\n",
        "# \n",
        "actual_y_train, pred_y_train = get_actual_pred_y(train_texts, train_labels)\n",
        "actual_y_test, pred_y_test = get_actual_pred_y(val_texts, val_labels)\n",
        "\n"
      ],
      "execution_count": 57,
      "outputs": [
        {
          "output_type": "stream",
          "text": [
            "100%|██████████| 14987/14987 [21:37<00:00, 11.55it/s]\n",
            "100%|██████████| 3684/3684 [05:22<00:00, 11.41it/s]\n"
          ],
          "name": "stderr"
        }
      ]
    },
    {
      "cell_type": "code",
      "metadata": {
        "colab": {
          "base_uri": "https://localhost:8080/",
          "height": 1000
        },
        "id": "U5jUinaajcsh",
        "outputId": "e6ae4d15-2f0e-4ad4-e75d-b808a119861f"
      },
      "source": [
        "import matplotlib.pyplot as plt\n",
        "from sklearn.metrics import confusion_matrix, classification_report\n",
        "import seaborn as sns\n",
        "\n",
        "def display_model_evaluation_results(y_train, pred_y_train, y_test, pred_y_test, labels):\n",
        "    \n",
        "    plt.figure(figsize=(20,6))  \n",
        "\n",
        "    labels = np.array(labels)\n",
        "\n",
        "    # Print the first Confusion Matrix for the training data\n",
        "    #\n",
        "    cm = confusion_matrix(y_train, pred_y_train)\n",
        "    print (cm.shape)\n",
        "\n",
        "    cm_df = pd.DataFrame(cm, labels, labels)\n",
        "    plt.subplot(1, 2, 1)\n",
        "    plt.title('Confusion Matrix (Train Data)')\n",
        "    sns.heatmap(cm_df, annot=True)\n",
        "    plt.ylabel('Actual')\n",
        "    plt.xlabel('Predicted')        \n",
        "    \n",
        "    # Print the second Confusion Matrix for the test data\n",
        "    #    \n",
        "    cm = confusion_matrix(y_test, pred_y_test)\n",
        "    \n",
        "    cm_df = pd.DataFrame(cm, labels, labels)          \n",
        "    plt.subplot(1, 2, 2)\n",
        "    plt.title('Confusion Matrix (Test Data)')\n",
        "    sns.heatmap(cm_df, annot=True)\n",
        "    plt.ylabel('Actual')\n",
        "    plt.xlabel('Predicted')        \n",
        "    \n",
        "    plt.show()\n",
        "\n",
        "    # Finally display the classification reports\n",
        "    #\n",
        "    print (\"Train Data\")\n",
        "    print (\"--------------------------------------------------------\")\n",
        "    print(classification_report(y_train, pred_y_train, target_names=labels))\n",
        "    print (\"\")\n",
        "    print (\"Test Data\")\n",
        "    print (\"--------------------------------------------------------\")\n",
        "    print(classification_report(y_test, pred_y_test, target_names=labels))\n",
        "\n",
        "\n",
        "display_model_evaluation_results(actual_y_train, pred_y_train, actual_y_test, pred_y_test, token_labels)"
      ],
      "execution_count": 58,
      "outputs": [
        {
          "output_type": "stream",
          "text": [
            "(9, 9)\n"
          ],
          "name": "stdout"
        },
        {
          "output_type": "display_data",
          "data": {
            "image/png": "[encoded data removed]",
            "text/plain": [
              "<Figure size 1440x432 with 4 Axes>"
            ]
          },
          "metadata": {
            "tags": [],
            "needs_background": "light"
          }
        },
        {
          "output_type": "stream",
          "text": [
            "Train Data\n",
            "--------------------------------------------------------\n",
            "              precision    recall  f1-score   support\n",
            "\n",
            "           O       1.00      1.00      1.00    170524\n",
            "       B-PER       0.99      0.99      0.99      6600\n",
            "       I-PER       0.99      1.00      1.00      4528\n",
            "       B-ORG       0.98      0.98      0.98      6321\n",
            "       I-ORG       0.95      0.97      0.96      3704\n",
            "       B-LOC       0.99      0.99      0.99      7140\n",
            "       I-LOC       0.97      0.96      0.96      1157\n",
            "      B-MISC       0.96      0.96      0.96      3438\n",
            "      I-MISC       0.93      0.93      0.93      1155\n",
            "\n",
            "    accuracy                           1.00    204567\n",
            "   macro avg       0.97      0.97      0.97    204567\n",
            "weighted avg       1.00      1.00      1.00    204567\n",
            "\n",
            "\n",
            "Test Data\n",
            "--------------------------------------------------------\n",
            "              precision    recall  f1-score   support\n",
            "\n",
            "           O       0.99      0.99      0.99     38554\n",
            "       B-PER       0.97      0.96      0.97      1617\n",
            "       I-PER       0.98      0.99      0.98      1156\n",
            "       B-ORG       0.92      0.88      0.90      1661\n",
            "       I-ORG       0.85      0.86      0.85       835\n",
            "       B-LOC       0.91      0.94      0.93      1668\n",
            "       I-LOC       0.79      0.93      0.85       257\n",
            "      B-MISC       0.80      0.82      0.81       702\n",
            "      I-MISC       0.60      0.71      0.65       216\n",
            "\n",
            "    accuracy                           0.98     46666\n",
            "   macro avg       0.87      0.90      0.88     46666\n",
            "weighted avg       0.98      0.98      0.98     46666\n",
            "\n"
          ],
          "name": "stdout"
        }
      ]
    }
  ]
}